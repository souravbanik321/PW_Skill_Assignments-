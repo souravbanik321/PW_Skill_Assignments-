{
 "cells": [
  {
   "cell_type": "code",
   "execution_count": 1,
   "id": "baf663e3-dd0c-47d2-afe4-b93cff2ea10c",
   "metadata": {},
   "outputs": [],
   "source": [
    "# Consider the below code to answer further questions:\n",
    "# import numpy as np\n",
    "# list_ = [ ‘1’ , ’2’ , ‘3’ , ‘4’ , ‘5’ ]\n",
    "# array_list = np.array(object = list_)\n",
    "\n",
    "# Q1. Is there any difference in the data type of variables list_ and array_list? If there is then write a code\n",
    "# to print the data types of both the variables."
   ]
  },
  {
   "cell_type": "markdown",
   "id": "d108f3c5-67e6-4b5d-9e33-8d8afa6b1f8c",
   "metadata": {},
   "source": [
    "## Q1. Is there any difference in the data type of variables list_ and array_list? If there is then write a code to print the data types of both the variables."
   ]
  },
  {
   "cell_type": "markdown",
   "id": "cc52416d-fe43-4d4c-a732-e88a3b8a8b96",
   "metadata": {},
   "source": [
    "Yes, there is a difference in the data type of the variables list_ and array_list.\n",
    "\n",
    "list_ is a Python list that contains string objects, while array_list is a NumPy array that also contains string objects. However, the data type of the objects in array_list is different from the data type of objects in list_.\n",
    "\n",
    "The objects in list_ are of type str, while the objects in array_list are of type numpy.str_."
   ]
  },
  {
   "cell_type": "code",
   "execution_count": 2,
   "id": "c221333b-609f-4a8c-95d5-2180fef63956",
   "metadata": {},
   "outputs": [
    {
     "name": "stdout",
     "output_type": "stream",
     "text": [
      "Data type of list_: <class 'list'>\n",
      "Data type of array_list: <class 'numpy.ndarray'>\n"
     ]
    }
   ],
   "source": [
    "import numpy as np\n",
    "\n",
    "# Define a list\n",
    "list_ = [1, 2, 3]\n",
    "\n",
    "# Define an array using NumPy\n",
    "array_list = np.array([1, 2, 3])\n",
    "\n",
    "# Print the data types\n",
    "print(\"Data type of list_:\", type(list_))\n",
    "print(\"Data type of array_list:\", type(array_list))\n"
   ]
  },
  {
   "cell_type": "markdown",
   "id": "4d35ec62-7756-4e0a-9533-72f8512b773d",
   "metadata": {},
   "source": [
    "## Q2. Write a code to print the data type of each and every element of both the variables list_ and arra_list."
   ]
  },
  {
   "cell_type": "code",
   "execution_count": 4,
   "id": "211d168b-0271-4143-927c-e9b74641ce8b",
   "metadata": {},
   "outputs": [
    {
     "name": "stdout",
     "output_type": "stream",
     "text": [
      "Data type of element in list_: <class 'int'>\n",
      "Data type of element in list_: <class 'str'>\n",
      "Data type of element in list_: <class 'float'>\n",
      "Data type of element in array_list: <class 'numpy.float32'>\n",
      "Data type of element in array_list: <class 'numpy.float32'>\n",
      "Data type of element in array_list: <class 'numpy.float32'>\n"
     ]
    }
   ],
   "source": [
    "import numpy as np\n",
    "\n",
    "# Define a list\n",
    "list_ = [1, 'two', 3.0]\n",
    "\n",
    "# Define an array using NumPy\n",
    "array_list = np.array([1, 2, 3], dtype=np.float32)\n",
    "\n",
    "# Print the data types of each element in the list\n",
    "for element in list_:\n",
    "    print(\"Data type of element in list_:\", type(element))\n",
    "\n",
    "# Print the data types of each element in the array\n",
    "for element in array_list:\n",
    "    print(\"Data type of element in array_list:\", type(element))\n"
   ]
  },
  {
   "cell_type": "code",
   "execution_count": 5,
   "id": "73d447ad-5045-43e4-9484-d9a4c5909004",
   "metadata": {},
   "outputs": [],
   "source": [
    "### Q3. Considering the following changes in the variable, array_list:"
   ]
  },
  {
   "cell_type": "markdown",
   "id": "45d6b5e9-c945-4818-b092-f75a04523b1e",
   "metadata": {},
   "source": [
    "array_list = np.array(object = list_, dtype = int)"
   ]
  },
  {
   "cell_type": "markdown",
   "id": "64e61cc6-02f5-44cf-90cf-be68207fc122",
   "metadata": {},
   "source": [
    "Will there be any difference in the data type of the elements present in both the variables, list_ and\n",
    "arra_list? If so then print the data types of each and every element present in both the variables, list_\n",
    "and arra_list.\n",
    " "
   ]
  },
  {
   "cell_type": "markdown",
   "id": "a45634ae-eecb-47b1-9bc0-f077e1f1eced",
   "metadata": {},
   "source": [
    "Yes, there will be a difference in the data type of the elements present in the variables list_ and array_list.\n",
    "\n",
    "The dtype=int parameter in np.array(object=list_, dtype=int) specifies that the data type of the elements in the resulting NumPy array should be integers. Since the input sequence (list_) contains strings, NumPy will try to convert each string element to an integer. If any element in the input sequence cannot be converted to an integer, a ValueError will be raised."
   ]
  },
  {
   "cell_type": "code",
   "execution_count": 7,
   "id": "c1a0168f-638e-4939-b1c3-5af250ad208f",
   "metadata": {},
   "outputs": [
    {
     "name": "stdout",
     "output_type": "stream",
     "text": [
      "Data type of 1 in _list is <class 'str'>\n",
      "Data type of 2 in _list is <class 'str'>\n",
      "Data type of 3 in _list is <class 'str'>\n",
      "Data type of 4 in _list is <class 'str'>\n",
      "Data type of 5 in _list is <class 'str'>\n",
      "\n",
      "Data type of 1 in array_list is <class 'numpy.int64'>\n",
      "Data type of 2 in array_list is <class 'numpy.int64'>\n",
      "Data type of 3 in array_list is <class 'numpy.int64'>\n",
      "Data type of 4 in array_list is <class 'numpy.int64'>\n",
      "Data type of 5 in array_list is <class 'numpy.int64'>\n"
     ]
    }
   ],
   "source": [
    "#code to print the data types of each and every element present in both the variables, list_ and array_list after the change:\n",
    "import numpy as np\n",
    "\n",
    "list_ = ['1', '2', '3', '4', '5']\n",
    "array_list = np.array(object = list_, dtype = int)\n",
    "\n",
    "#Printing data types of all element in list_\n",
    "for ele in list_:\n",
    "    print(f\"Data type of {ele} in _list is {type(ele)}\")\n",
    "    \n",
    "print()\n",
    "\n",
    "#Printing data types of all element in array_list\n",
    "for ele in array_list:\n",
    "     print(f\"Data type of {ele} in array_list is {type(ele)}\")"
   ]
  },
  {
   "cell_type": "code",
   "execution_count": 8,
   "id": "58cb88b1-69c5-4a81-bf56-c4c5de094f28",
   "metadata": {},
   "outputs": [],
   "source": [
    "#Consider the below code to answer further questions:\n",
    "#import numpy as np\n",
    "#num_list = [ [ 1 , 2 , 3 ] , [ 4 , 5 , 6 ] ]\n",
    "#num_array = np.array(object = num_list)"
   ]
  },
  {
   "cell_type": "markdown",
   "id": "31384323-9a31-4ad5-8633-36eaa601991e",
   "metadata": {},
   "source": [
    "## Q4. Write a code to find the following characteristics of variable, num_array:\n",
    "<Ol>\n",
    "<li>shape</li>\n",
    "<li> size</li>\n",
    "</Ol>"
   ]
  },
  {
   "cell_type": "code",
   "execution_count": 9,
   "id": "797e8e60-d06e-4bb4-8a7d-d135574eae7a",
   "metadata": {},
   "outputs": [
    {
     "name": "stdout",
     "output_type": "stream",
     "text": [
      "Shape of num_array: (2, 3)\n",
      "Size of num_array: 6\n"
     ]
    }
   ],
   "source": [
    "import numpy as np\n",
    "\n",
    "num_list = [[1, 2, 3], [4, 5, 6]]\n",
    "num_array = np.array(object=num_list)\n",
    "\n",
    "# Find the shape of num_array\n",
    "print(\"Shape of num_array:\", num_array.shape)\n",
    "\n",
    "# Find the size of num_array\n",
    "print(\"Size of num_array:\", num_array.size)"
   ]
  },
  {
   "cell_type": "markdown",
   "id": "fda40006-8fb5-480e-89fa-d1d2da5e9e57",
   "metadata": {},
   "source": [
    "## Q5. Write a code to create numpy array of 3*3 matrix containing zeros only, using a numpy array creation function. [Hint: The size of the array will be 9 and the shape will be (3,3).]"
   ]
  },
  {
   "cell_type": "code",
   "execution_count": 10,
   "id": "ef077da2-2b35-4e29-a96e-d58ca7af8b41",
   "metadata": {},
   "outputs": [
    {
     "name": "stdout",
     "output_type": "stream",
     "text": [
      "[[0. 0. 0.]\n",
      " [0. 0. 0.]\n",
      " [0. 0. 0.]]\n"
     ]
    }
   ],
   "source": [
    "import numpy as np\n",
    "\n",
    "# Create a 3x3 NumPy array containing zeros only\n",
    "zeros_array = np.zeros((3, 3))\n",
    "\n",
    "# Print the array\n",
    "print(zeros_array)\n"
   ]
  },
  {
   "cell_type": "markdown",
   "id": "37869c33-d083-41a2-a001-3d3835009cf6",
   "metadata": {},
   "source": [
    "## Q6. Create an identity matrix of shape (5,5) using numpy functions? [Hint: An identity matrix is a matrix containing 1 diagonally and other elements will be 0.]"
   ]
  },
  {
   "cell_type": "code",
   "execution_count": 11,
   "id": "1787f243-07b6-43b2-a4ce-807a5a15bb20",
   "metadata": {},
   "outputs": [
    {
     "name": "stdout",
     "output_type": "stream",
     "text": [
      "[[1. 0. 0. 0. 0.]\n",
      " [0. 1. 0. 0. 0.]\n",
      " [0. 0. 1. 0. 0.]\n",
      " [0. 0. 0. 1. 0.]\n",
      " [0. 0. 0. 0. 1.]]\n"
     ]
    }
   ],
   "source": [
    "import numpy as np\n",
    "\n",
    "# Create an identity matrix of shape (5, 5)\n",
    "identity_matrix = np.eye(5)\n",
    "\n",
    "# Print the matrix\n",
    "print(identity_matrix)"
   ]
  },
  {
   "cell_type": "code",
   "execution_count": null,
   "id": "f3b6990c-0c62-4457-9c71-b66ee4bacd59",
   "metadata": {},
   "outputs": [],
   "source": []
  }
 ],
 "metadata": {
  "kernelspec": {
   "display_name": "Python 3 (ipykernel)",
   "language": "python",
   "name": "python3"
  },
  "language_info": {
   "codemirror_mode": {
    "name": "ipython",
    "version": 3
   },
   "file_extension": ".py",
   "mimetype": "text/x-python",
   "name": "python",
   "nbconvert_exporter": "python",
   "pygments_lexer": "ipython3",
   "version": "3.10.8"
  }
 },
 "nbformat": 4,
 "nbformat_minor": 5
}
