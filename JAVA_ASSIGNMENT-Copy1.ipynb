{
 "cells": [
  {
   "cell_type": "markdown",
   "id": "cb196a71-c320-41f7-b016-374c842f4099",
   "metadata": {},
   "source": [
    "## Q1.What is Collection in Java?"
   ]
  },
  {
   "cell_type": "markdown",
   "id": "dda38f4e-cc12-4eca-946e-e90406530649",
   "metadata": {},
   "source": [
    "The Collection in Java is a framework that provides an architecture to store and manipulate the group of objects.\n",
    "\n",
    "Java Collections can achieve all the operations that you perform on a data such as searching, sorting, insertion, manipulation, and deletion.\n",
    "\n",
    "Java Collection means a single unit of objects. Java Collection framework provides many interfaces (Set, List, Queue, Deque) and classes (ArrayList, Vector, LinkedList, PriorityQueue, HashSet, LinkedHashSet, TreeSet)."
   ]
  },
  {
   "cell_type": "markdown",
   "id": "b970cff2-3341-4dbd-b063-47da0fcea9fd",
   "metadata": {},
   "source": [
    "## Q2. Differentiate between Collection and collections in the context of Java."
   ]
  },
  {
   "cell_type": "markdown",
   "id": "ab242123-22ad-4d18-a2b5-dab522ce7a27",
   "metadata": {},
   "source": [
    "Java collection framework is used to manipulate the collection of the object. Collection framework contains multiple wrapper classes , convenience class , classes for legacy implementation like vector and Hashtable, collection interfaces and etc.    \n",
    "\n",
    "Collection is an interface in the java collection framework. It is divided into two parts −\n",
    "\n",
    "Java util collection - It contains classes such as Set , queue , List and etc.\n",
    "Java util map - It contains classes such as Map , sortedMap and etc.\n",
    "On the other hand , Collections is the one the utility class. Main purpose of this class is to provide convenience method to the developers. This class has only static methods that operate on and return collection. The methods of this class all throw a NullPointerException if the collections or class objects provided to them are null."
   ]
  },
  {
   "cell_type": "markdown",
   "id": "0a44245e-66d4-456b-a2ef-a73e48795a42",
   "metadata": {},
   "source": [
    "## Q3. What are the advantages of the Collection framework?"
   ]
  },
  {
   "cell_type": "markdown",
   "id": "7ca3689c-6da1-4630-986f-dd09bd2da118",
   "metadata": {},
   "source": [
    "The main advantage of Collection Framework are Collections are grow-able in nature, hence based on our requirement we can increase or decrease the size. The main benefits are we can store the heterogeneous data in single variable and also has the size of collection is unlimited we no need to worry about how much data can store and also easy to access. If you need material on collection with better understand ping your mail id on comment. Some others advantage are given below;\n",
    "\n",
    "Collection is re-sizable or dynamically draw-able memory.\n",
    "Provides useful data structures in the form of predefined classes that reduces programming affords.\n",
    "It support to store heterogeneous elements or object.\n",
    "Collections accept both Homogeneous and Heterogeneous objects.\n",
    "It provides higher performance.\n",
    "If you want to store the group of individual objects into a single entity then we should go for collections.\n",
    "We no need to provide fixed size to store data into the collections means collections are resizable in nature.\n",
    "Every collection class having particular underlying data structure which is useful to delete, insert, and retrieve elements present in collections without providing any external code.\n",
    "By using the concept of generics we can avoid typesafe problem.\n",
    "It provides Extendability (depends on incoming flow of data,if the size of collection framework variable is increasing than the collection framework variable is containing Extendability feature).\n",
    "It provides adaptability facility( The process of adding the content of one collection framework variable to another collection framework either in the beginning or in the ending or in the middle in known as adaptability).\n",
    "It is one of the algorithmic oriented.\n",
    "It provides in-built sorting technique.\n",
    "It provides in-built searching technique.\n",
    "It provides higher preliminary concepts of Data Structure such as:- Stack,Queue,LinkedList,Trees ..etc.\n",
    "Reduces programming effort\n",
    "Increases program speed and quality\n",
    "Allows interoperability among unrelated APIs\n",
    "Reduces effort to learn and to use new APIs\n",
    "Reduces effort to design new APIs\n",
    "Fosters software reuse"
   ]
  },
  {
   "cell_type": "markdown",
   "id": "1c1db002-5708-4c05-8e2b-dd7a63106874",
   "metadata": {},
   "source": [
    "## Q4.Explain the various interfaces used in the Collection framework."
   ]
  },
  {
   "cell_type": "markdown",
   "id": "6be18a9b-8d4c-4af9-95a9-184d75ab2111",
   "metadata": {},
   "source": [
    "What are the Core collection interfaces in Java\n",
    "The Java Collection framework offers a comprehensive set of interfaces and class implementations that facilitate efficient and meaningful data manipulation. At the apex of the collection hierarchy is the Collection Interface, which serves as a fundamental contract for implementing collection-related operations.\n",
    "\n",
    "While Java does not provide a direct implementation of the Collection framework, the Collection Interface itself is implemented by two important classes: List and Set.\n",
    "\n",
    "The core collection interfaces within the Java Collection framework are as follows:\n",
    "\n",
    "List: The List interface extends the Collection interface and represents an ordered collection of elements. Lists allow duplicate elements and maintain the insertion order. Common implementations of List include ArrayList, LinkedList, and Vector.\n",
    "Set: The Set interface, also an extension of the Collection interface, represents a collection that does not allow duplicate elements. Sets typically do not maintain a specific order of elements. Notable implementations of Set are HashSet, TreeSet, and LinkedHashSet.\n",
    "Queue: The Queue interface defines a collection that represents a waiting area, where elements are inserted at one end and removed from the other. Queues follow the First-In-First-Out (FIFO) principle. Notable implementations of Queue include LinkedList and PriorityQueue.\n",
    "Deque: The Deque interface extends the Queue interface and represents a double-ended queue, allowing elements to be inserted and removed from both ends. Deques support operations at both ends, enabling flexibility in data handling. Common implementations of Deque include ArrayDeque and LinkedList.\n",
    "Map: The Map interface represents a mapping between unique keys and corresponding values. It does not extend the Collection interface but is an important part of the Java Collection framework. Maps do not allow duplicate keys and are commonly used for key-value pair associations. Notable implementations of Map include HashMap, TreeMap, and LinkedHashMap.\n",
    "These core collection interfaces provide a standardized and consistent approach to handling and manipulating collections of data in Java."
   ]
  },
  {
   "cell_type": "markdown",
   "id": "d54bf6d5-f87e-42b7-8550-a6bfcd78035d",
   "metadata": {},
   "source": [
    "## Q5.Differentiate between List and Set in Java."
   ]
  },
  {
   "cell_type": "markdown",
   "id": "968f9a4c-6435-4b09-bf2a-cf2c0c1a4028",
   "metadata": {},
   "source": [
    "In JDK 2.0, we used to use Vectors, Arrays, and Hashtable to group the objects into a single unit. In JDK 8, Collection framework come in to existence that provides several interfaces to work with a collection of data. List and Set interfaces are one of them that are used to group the object. Both interfaces extend the Collection interface. The main difference between List and Set is that Set is unordered and contains different elements, whereas the list is ordered and can contain the same elements in it. Let's discuss in detail.\n",
    "\n",
    "List Interface\n",
    "The java.util package provides the List interface for maintaining the ordered collection. A List can contain the null and duplicate values. The methods of the List are based on the index, so all the operations like insert, delete, update, and search is based on the index. ArrayList, LinkedList, Stack, and Vector are the implementation classes available in the List interface. In Java, we mostly used the ArrayList and LinkedList implementation classes to design a list."
   ]
  },
  {
   "cell_type": "markdown",
   "id": "91e4a3b7-6e19-4d0c-ad69-9618eb0c4946",
   "metadata": {},
   "source": [
    "## Q6.What is the Differentiate between Iterator and ListIterator in Java."
   ]
  },
  {
   "cell_type": "markdown",
   "id": "48063665-1805-4186-8eda-436ed9457678",
   "metadata": {},
   "source": [
    "Iterator\n",
    "It helps traverse through a map, list and a set.\n",
    "\n",
    "Index can’t be obtained with the help of an iterator.\n",
    "\n",
    "The iterator can’t modify or replace elements of a Collection.\n",
    "\n",
    "It traverses through elements present in Collection.\n",
    "\n",
    "This iteration can be done in the forward direction only.\n",
    "\n",
    "Elements can’t be added, since it would throw ConcurrentModificationException.\n",
    "\n",
    "Methods of the iterator are ‘next()’, ‘remove()’, ‘hasNext()’.\n",
    "\n",
    "ListIterator\n",
    "It helps traverse through a list only.\n",
    "\n",
    "It can’t traverse through a map and a set.\n",
    "\n",
    "It can traverse through the elements present in Collection.\n",
    "\n",
    "The traversal can be done in both forward and backward directions.\n",
    "\n",
    "Some of the methods of listiterator are ‘nextIndex()’, ‘previousIndex()’, ‘previous()’, ‘next()’.\n",
    "\n",
    "The elements can be modified or replaced.\n",
    "\n",
    "Elements can be added to a collection anytime."
   ]
  },
  {
   "cell_type": "markdown",
   "id": "55697a9c-2cfa-47e8-863d-6b884a0d0015",
   "metadata": {},
   "source": [
    "## Q7.What is the Differentiate between Comparable and Comparator"
   ]
  },
  {
   "cell_type": "markdown",
   "id": "3b8082a3-c156-4ff4-a9c4-2cd3e16d538f",
   "metadata": {},
   "source": [
    "\n",
    "Key Difference between Comparable and Comparator in Java\n",
    "Comparable in Java is an object to compare itself with another object, whereas Comparator is an object for comparing different objects of different classes.\n",
    "Comparable provides the compareTo() method to sort elements in Java, whereas Comparator provides compare() method to sort elements in Java.\n",
    "A comparable interface is present in java.lang package, whereas the Comparator interface is present in java.util package.\n",
    "Comparable provides a single sorting sequence, while Comparator provides multiple sorting sequences.\n",
    "Comparable affects the original class, whereas comparator doesn’t affect the original class."
   ]
  },
  {
   "cell_type": "markdown",
   "id": "c428afaa-7e94-4827-bda4-d3875c661a39",
   "metadata": {},
   "source": [
    "## Q8.What is collision in HashMap?"
   ]
  },
  {
   "cell_type": "markdown",
   "id": "0cf33006-f1bf-43eb-910e-f6a67fbbbb2c",
   "metadata": {},
   "source": [
    "In this article, we are going to explore the most popular implementation of Map interface from the Java Collections Framework in more detail, picking up where our intro article left off.\n",
    "\n",
    "Before we get started with the implementation, it's important to point out that the primary List and Set collection interfaces extend Collection but Map does not.\n",
    "\n",
    "Simply put, the HashMap stores values by key and provides APIs for adding, retrieving and manipulating stored data in various ways. The implementation is based on the the principles of a hashtable, which sounds a little complex at first but is actually very easy to understand.\n",
    "\n",
    "Key-value pairs are stored in what is known as buckets which together make up what is called a table, which is actually an internal array.\n",
    "\n",
    "Once we know the key under which an object is stored or is to be stored, storage and retrieval operations occur in constant time, O(1) in a well-dimensioned hash map.\n",
    "\n",
    "To understand how hash maps work under the hood, one needs to understand the storage and retrieval mechanism employed by the HashMap. We'll focus a lot on these.\n",
    "\n",
    "Finally, HashMap related questions are quite common in interviews, so this is a solid way to either prepare an interview or prepare for it."
   ]
  },
  {
   "cell_type": "markdown",
   "id": "f72e153c-3c8e-4cc7-9d8a-6ac77a880cda",
   "metadata": {},
   "source": [
    "## Q9.Distinguish between a hashmap and a Treemap."
   ]
  },
  {
   "cell_type": "markdown",
   "id": "67194dbe-e6ab-4d0c-987e-50c11d8a8cbe",
   "metadata": {},
   "source": [
    "All offer a key->value map and a way to iterate through the keys. The most important distinction between these classes is the time guarantees and the ordering of the keys.\n",
    "All three classes HashMap, TreeMap and LinkedHashMap implements java.util.Map interface, and represents mapping from unique key to values.\n",
    " \n",
    "Key Points\n",
    " \n",
    "\n",
    "HashMap: HashMap offers 0(1) lookup and insertion. If you iterate through the keys, though, the ordering of the keys is essentially arbitrary. It is implemented by an array of linked lists. \n",
    "Syntax: \n",
    " \n",
    "public class HashMap extends AbstractMap \n",
    "implements Map,Cloneable, Serializable\n",
    " \n",
    "\n",
    "A HashMap contains values based on the key.\n",
    "It contains only unique elements.\n",
    "It may have one null key and multiple null values.\n",
    "It maintains no order.\n",
    "2. LinkedHashMap: LinkedHashMap offers 0(1) lookup and insertion. Keys are ordered by their insertion order. It is implemented by doubly-linked buckets. \n",
    "Syntax: \n",
    " \n",
    "\n",
    "public class LinkedHashMap extends HashMap \n",
    "implements Map\n",
    " \n",
    "\n",
    "A LinkedHashMap contains values based on the key.\n",
    "It contains only unique elements.\n",
    "It may have one null key and multiple null values.\n",
    "It is same as HashMap instead maintains insertion order.\n",
    "3.TreeMap: TreeMap offers O(log N) lookup and insertion. Keys are ordered, so if you need to iterate through the keys in sorted order, you can. This means that keys must implement the Comparable interface. TreeMap is implemented by a Red-Black Tree. \n",
    "Syntax: \n",
    " \n",
    "\n",
    "public class TreeMap extends AbstractMap implements\n",
    "NavigableMap, Cloneable, Serializable\n",
    " \n",
    "\n",
    "A TreeMap contains values based on the key. It implements the NavigableMap interface and extends AbstractMap class.\n",
    "It contains only unique elements.\n",
    "It cannot have null key but can have multiple null values.\n",
    "It is same as HashMap instead maintains ascending order(Sorted using the natural order of its key).\n",
    "4. Hashtable: “Hashtable” is the generic name for hash-based maps. \n",
    "Syntax: \n",
    "\n",
    "public class Hashtable extends Dictionary implements\n",
    "Map, Cloneable, Serializable\n",
    " \n",
    "\n",
    "A Hashtable is an array of list. Each list is known as a bucket. The position of bucket is identified by calling the hashcode() method. A Hashtable contains values based on the key.\n",
    "It contains only unique elements.\n",
    "It may have not have any null key or value.\n",
    "It is synchronized.\n",
    "It is a legacy class.\n",
    " "
   ]
  },
  {
   "cell_type": "markdown",
   "id": "958bde74-bc0a-47c0-a89c-abc862c69d1f",
   "metadata": {},
   "source": [
    "## Q10.Define LinkedHashMap in Java."
   ]
  },
  {
   "cell_type": "markdown",
   "id": "8acd3c07-7f77-4142-9ef8-23777466cfc8",
   "metadata": {},
   "source": [
    "The LinkedHashMap Class is just like HashMap with an additional feature of maintaining an order of elements inserted into it. HashMap provided the advantage of quick insertion, search, and deletion but it never maintained the track and order of insertion, which the LinkedHashMap provides where the elements can be accessed in their insertion order. \n",
    "\n",
    "Important Features of a LinkedHashMap are listed as follows:\n",
    "\n",
    "A LinkedHashMap contains values based on the key. It implements the Map interface and extends the HashMap class.\n",
    "It contains only unique elements.\n",
    "It may have one null key and multiple null values.\n",
    "It is non-synchronized.\n",
    "It is the same as HashMap with an additional feature that it maintains insertion order. For example, when we run the code with a HashMap, we get a different order of elements.\n",
    "Declaration:\n",
    "\n",
    "public class LinkedHashMap<K,​V> extends HashMap<K,​V> implements Map<K,​V>\n",
    "Here, K is the key Object type and V is the value Object type\n",
    "\n",
    "K – The type of the keys in the map.\n",
    "V – The type of values mapped in the map."
   ]
  },
  {
   "cell_type": "code",
   "execution_count": null,
   "id": "2d888096-1db1-4a59-8e14-aa7c4660f542",
   "metadata": {},
   "outputs": [],
   "source": []
  }
 ],
 "metadata": {
  "kernelspec": {
   "display_name": "Python 3 (ipykernel)",
   "language": "python",
   "name": "python3"
  },
  "language_info": {
   "codemirror_mode": {
    "name": "ipython",
    "version": 3
   },
   "file_extension": ".py",
   "mimetype": "text/x-python",
   "name": "python",
   "nbconvert_exporter": "python",
   "pygments_lexer": "ipython3",
   "version": "3.10.8"
  }
 },
 "nbformat": 4,
 "nbformat_minor": 5
}
