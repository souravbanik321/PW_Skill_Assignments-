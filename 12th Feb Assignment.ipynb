{
 "cells": [
  {
   "cell_type": "markdown",
   "id": "8b806ced-d485-437a-8048-1d3d39e0b890",
   "metadata": {},
   "source": [
    "Q1. What is an Exception in python ? Write the difference between Exceptions and syntext error."
   ]
  },
  {
   "cell_type": "markdown",
   "id": "ea295f0f-ba46-4b20-8512-b4e1d5734599",
   "metadata": {},
   "source": [
    "In Python, an exception is an error that occurs during the execution of a program. When an exception occurs, the normal flow of the program is interrupted, and the interpreter raises an exception object. This object contains information about the type of exception that occurred, as well as a traceback that shows the line of code that caused the exception.\n",
    "\n",
    "The main difference between exceptions and syntax errors is that exceptions occur during program execution, while syntax errors occur before the program is executed. Exceptions can occur even in well-written code, while syntax errors are always due to a mistake in the code itself.\n"
   ]
  },
  {
   "cell_type": "markdown",
   "id": "1d0efebc-efe2-44ff-af4a-c66a10666a64",
   "metadata": {},
   "source": [
    "Q2. What happens when an exception is not handeling? explain with an example?"
   ]
  },
  {
   "cell_type": "markdown",
   "id": "967ab9ae-af86-477a-af41-2fd9d0f35fc5",
   "metadata": {},
   "source": [
    "When an exception is not handled in Python, the program will terminate with an error message that displays information about the exception that was raised. This error message can be useful for debugging purposes, but it does not provide a way to recover from the error and continue executing the program.\n",
    "\n",
    "Here's an example that illustrates what happens when an exception is not handled:"
   ]
  },
  {
   "cell_type": "code",
   "execution_count": 3,
   "id": "dfba3bec-8b02-42d0-8ccd-504f60251b58",
   "metadata": {},
   "outputs": [
    {
     "ename": "ZeroDivisionError",
     "evalue": "division by zero",
     "output_type": "error",
     "traceback": [
      "\u001b[0;31m---------------------------------------------------------------------------\u001b[0m",
      "\u001b[0;31mZeroDivisionError\u001b[0m                         Traceback (most recent call last)",
      "Cell \u001b[0;32mIn[3], line 4\u001b[0m\n\u001b[1;32m      1\u001b[0m \u001b[38;5;28;01mdef\u001b[39;00m \u001b[38;5;21mdivide\u001b[39m(x, y):\n\u001b[1;32m      2\u001b[0m     \u001b[38;5;28;01mreturn\u001b[39;00m x \u001b[38;5;241m/\u001b[39m y\n\u001b[0;32m----> 4\u001b[0m result \u001b[38;5;241m=\u001b[39m \u001b[43mdivide\u001b[49m\u001b[43m(\u001b[49m\u001b[38;5;241;43m10\u001b[39;49m\u001b[43m,\u001b[49m\u001b[43m \u001b[49m\u001b[38;5;241;43m0\u001b[39;49m\u001b[43m)\u001b[49m\n\u001b[1;32m      5\u001b[0m \u001b[38;5;28mprint\u001b[39m(result)\n",
      "Cell \u001b[0;32mIn[3], line 2\u001b[0m, in \u001b[0;36mdivide\u001b[0;34m(x, y)\u001b[0m\n\u001b[1;32m      1\u001b[0m \u001b[38;5;28;01mdef\u001b[39;00m \u001b[38;5;21mdivide\u001b[39m(x, y):\n\u001b[0;32m----> 2\u001b[0m     \u001b[38;5;28;01mreturn\u001b[39;00m \u001b[43mx\u001b[49m\u001b[43m \u001b[49m\u001b[38;5;241;43m/\u001b[39;49m\u001b[43m \u001b[49m\u001b[43my\u001b[49m\n",
      "\u001b[0;31mZeroDivisionError\u001b[0m: division by zero"
     ]
    }
   ],
   "source": [
    "def divide(x, y):\n",
    "    return x / y\n",
    "\n",
    "result = divide(10, 0)\n",
    "print(result)\n"
   ]
  },
  {
   "cell_type": "markdown",
   "id": "52d2575d-5404-4e5c-881c-1bf9d7b5340a",
   "metadata": {},
   "source": [
    "Q3. Which python statements are used catch and handles exceptions? Explain with an example."
   ]
  },
  {
   "cell_type": "markdown",
   "id": "0466988d-621d-4134-b020-75195e3db2cb",
   "metadata": {},
   "source": [
    "In Python, exceptions can be caught and handled using the try and except statements. The try statement is used to enclose a block of code that might raise an exception, while the except statement is used to specify the code that should be executed if an exception is raised.\n",
    "Here's the basic syntax of a try-except block:\n",
    "\n",
    "try:\n",
    "    # code that might raise an exception\n",
    "except ExceptionType:\n",
    "    # code to handle the exception\n",
    "\n",
    "Here's an example that illustrates how to catch and handle an exception:"
   ]
  },
  {
   "cell_type": "code",
   "execution_count": 5,
   "id": "6c4e5cba-32f4-481e-b96e-101ba810c314",
   "metadata": {},
   "outputs": [
    {
     "name": "stdin",
     "output_type": "stream",
     "text": [
      "Enter a number:  100\n"
     ]
    },
    {
     "name": "stdout",
     "output_type": "stream",
     "text": [
      "0.1\n"
     ]
    }
   ],
   "source": [
    "try:\n",
    "    x = int(input(\"Enter a number: \"))\n",
    "    result = 10 / x\n",
    "    print(result)\n",
    "except ValueError:\n",
    "    print(\"Error: invalid input\")\n",
    "except ZeroDivisionError:\n",
    "    print(\"Error: cannot divide by zero\")\n"
   ]
  },
  {
   "cell_type": "markdown",
   "id": "893edf76-ec47-4ad5-a931-74a13dbb6ae5",
   "metadata": {},
   "source": [
    "Q4. Explain with an example:\n",
    "    \n",
    "    a) try and else\n",
    "        \n",
    "    b) finally\n",
    "        \n",
    "    c) raise\n",
    "   "
   ]
  },
  {
   "cell_type": "markdown",
   "id": "29531b72-8fc6-40aa-9b99-417a301d3edc",
   "metadata": {},
   "source": [
    "a) try and else\n",
    "\n",
    "In Python, the try statement can be combined with an else statement to specify code that should be executed if no exceptions are raised in the try block. Here's an example:"
   ]
  },
  {
   "cell_type": "code",
   "execution_count": 7,
   "id": "f5a3fc35-1da1-4ffe-8f10-983042f81902",
   "metadata": {},
   "outputs": [
    {
     "name": "stdin",
     "output_type": "stream",
     "text": [
      "Enter a number:  200\n"
     ]
    },
    {
     "name": "stdout",
     "output_type": "stream",
     "text": [
      "0.05\n"
     ]
    }
   ],
   "source": [
    "try:\n",
    "    x = int(input(\"Enter a number: \"))\n",
    "except ValueError:\n",
    "    print(\"Error: invalid input\")\n",
    "else:\n",
    "    result = 10 / x\n",
    "    print(result)\n"
   ]
  },
  {
   "cell_type": "markdown",
   "id": "dc9b45c5-faab-4df2-bccc-f86eb6edb21a",
   "metadata": {},
   "source": [
    "In this example, the try block attempts to convert user input to an integer, and if it succeeds, it calculates the result of dividing 10 by the number and prints the result to the console. If a ValueError is raised, the except block is executed, which prints an error message to the console. If no exceptions are raised, the else block is executed, which calculates and prints the result."
   ]
  },
  {
   "cell_type": "markdown",
   "id": "a3396622-f9b9-410c-ab31-42c7ec4a03b4",
   "metadata": {},
   "source": [
    "b) finally\n",
    "\n",
    "In Python, the finally statement can be used to specify code that should be executed regardless of whether an exception is raised in a try block. Here's an example:"
   ]
  },
  {
   "cell_type": "code",
   "execution_count": 9,
   "id": "af24194d-f45e-47b9-9bb0-e8154d8c6701",
   "metadata": {},
   "outputs": [
    {
     "name": "stdout",
     "output_type": "stream",
     "text": [
      "\n"
     ]
    }
   ],
   "source": [
    "try:\n",
    "    file = open(\"example.txt\", \"r\")\n",
    "    data = file.read()\n",
    "    print(data)\n",
    "except FileNotFoundError:\n",
    "    print(\"Error: file not found\")\n",
    "finally:\n",
    "    file.close()\n"
   ]
  },
  {
   "cell_type": "markdown",
   "id": "136973a7-271a-4435-86bc-0483a34b3292",
   "metadata": {},
   "source": [
    "In this example, the try block attempts to open a file named example.txt, read its contents, and print them to the console. If a FileNotFoundError is raised (e.g., if the file doesn't exist), the except block is executed, which prints an error message to the console. Regardless of whether an exception is raised, the finally block is executed, which closes the file to ensure that it is properly released."
   ]
  },
  {
   "cell_type": "markdown",
   "id": "86e1efe6-e9a5-4429-ac15-5a4a5aca2399",
   "metadata": {},
   "source": [
    "c) raise\n",
    "\n",
    "In Python, the raise statement can be used to explicitly raise an exception. Here's an example:"
   ]
  },
  {
   "cell_type": "code",
   "execution_count": 10,
   "id": "e159d73e-af07-4e7f-a5e7-274797aa811a",
   "metadata": {},
   "outputs": [
    {
     "name": "stdout",
     "output_type": "stream",
     "text": [
      "2.0\n"
     ]
    }
   ],
   "source": [
    "def divide(x, y):\n",
    "    if y == 0:\n",
    "        raise ZeroDivisionError(\"Cannot divide by zero\")\n",
    "    else:\n",
    "        return x / y\n",
    "\n",
    "result = divide(10, 5)\n",
    "print(result)\n"
   ]
  },
  {
   "cell_type": "markdown",
   "id": "1d2fb81a-27a2-450d-b866-60044e1ca38b",
   "metadata": {},
   "source": [
    "In this example, the divide() function checks if the second argument is 0, and if it is, it raises a ZeroDivisionError with a custom error message. If the second argument is not 0, the function calculates and returns the result of dividing the first argument by the second argument. When calling the function with arguments 10 and 5, the result will be 2.0. If the function is called with arguments 10 and 0, a ZeroDivisionError will be raised with the custom error message."
   ]
  },
  {
   "cell_type": "markdown",
   "id": "d28e06fc-c53c-4bd0-8663-996ece10e414",
   "metadata": {},
   "source": [
    "Q5. What are custom exception in python?Why do we need Custom Exceptions? Explain with an exmple."
   ]
  },
  {
   "cell_type": "markdown",
   "id": "248f468a-41da-44d0-aa09-26a50a1d0265",
   "metadata": {},
   "source": [
    "In Python, custom exceptions are user-defined exceptions that allow programmers to create their own exception types for specific error conditions. Custom exceptions are defined by creating a new class that inherits from the built-in Exception class or one of its subclasses.\n",
    "\n",
    "Custom exceptions can be useful when you want to provide more specific information about an error condition that isn't available through the built-in exceptions. For example, if you're building a web application that makes API requests, you might define a custom APIError exception to represent errors that occur when communicating with the API.\n",
    "\n",
    "Here's an example of defining a custom exception in Python:"
   ]
  },
  {
   "cell_type": "code",
   "execution_count": 12,
   "id": "9325e06c-4cf1-43d9-91b0-5bb8e2c72068",
   "metadata": {},
   "outputs": [
    {
     "ename": "IndentationError",
     "evalue": "expected an indented block after 'try' statement on line 6 (449579955.py, line 8)",
     "output_type": "error",
     "traceback": [
      "\u001b[0;36m  Cell \u001b[0;32mIn[12], line 8\u001b[0;36m\u001b[0m\n\u001b[0;31m    except Exception as e:\u001b[0m\n\u001b[0m    ^\u001b[0m\n\u001b[0;31mIndentationError\u001b[0m\u001b[0;31m:\u001b[0m expected an indented block after 'try' statement on line 6\n"
     ]
    }
   ],
   "source": [
    "class APIError(Exception):\n",
    "    def __init__(self, message, status_code):\n",
    "        super().__init__(message)\n",
    "        self.status_code = status_code\n",
    "\n",
    "try:\n",
    "    # code that makes API request\n",
    "except Exception as e:\n",
    "    raise APIError(\"Error communicating with API\", 500) from e\n"
   ]
  },
  {
   "cell_type": "markdown",
   "id": "05b6b1a4-d495-4675-a94b-1758e87f2d37",
   "metadata": {},
   "source": [
    "In this example, the APIError class is defined to take two arguments: a message that describes the error condition, and a status code that indicates the HTTP status code of the API response. When an error occurs while making an API request, the except block raises an instance of the APIError class with a custom error message and status code.\n",
    "\n",
    "By defining a custom exception, you can provide more specific information about an error condition and handle it in a more tailored way. For example, you could catch only APIError exceptions and handle them differently from other exceptions that might be raised in your program."
   ]
  },
  {
   "cell_type": "markdown",
   "id": "587a9de7-bed1-4f9b-93e2-e64f58f0dd64",
   "metadata": {},
   "source": [
    "Q6. Create a custom exception class. Use this class to handle an exception."
   ]
  },
  {
   "cell_type": "markdown",
   "id": "f7c0ef76-6d4c-4bb2-a401-961ff62f2c25",
   "metadata": {},
   "source": [
    "Example of creating a custom exception class and using it to handle an exception:\n",
    "    "
   ]
  },
  {
   "cell_type": "code",
   "execution_count": 13,
   "id": "f516a4ed-fd54-4a4a-8638-0712c8df1b56",
   "metadata": {},
   "outputs": [
    {
     "name": "stdin",
     "output_type": "stream",
     "text": [
      "Enter a positive number:  150\n"
     ]
    },
    {
     "name": "stdout",
     "output_type": "stream",
     "text": [
      "Number entered: 150\n"
     ]
    }
   ],
   "source": [
    "class NegativeNumberError(Exception):\n",
    "    def __init__(self, number):\n",
    "        self.number = number\n",
    "        self.message = \"Error: Negative number not allowed\"\n",
    "        super().__init__(self.message)\n",
    "\n",
    "try:\n",
    "    x = int(input(\"Enter a positive number: \"))\n",
    "    if x < 0:\n",
    "        raise NegativeNumberError(x)\n",
    "    else:\n",
    "        print(\"Number entered:\", x)\n",
    "except NegativeNumberError as e:\n",
    "    print(e.message, \"- You entered:\", e.number)\n",
    "except ValueError:\n",
    "    print(\"Error: Invalid input - Please enter a positive number\")\n"
   ]
  },
  {
   "cell_type": "markdown",
   "id": "0f7feab7-8fa6-430e-bfb4-eba243b580f4",
   "metadata": {},
   "source": [
    "In this example, we define a custom exception class called NegativeNumberError that inherits from the built-in Exception class. The NegativeNumberError class takes a single argument number which is the negative number that was passed as input.\n",
    "\n",
    "In the try block, we prompt the user to enter a positive number and check whether the number entered is negative. If it is negative, we raise an instance of the NegativeNumberError class with the number as an argument. If it's positive, we print the number to the console.\n",
    "\n",
    "In the except block, we catch instances of the NegativeNumberError class and print a custom error message along with the negative number that was entered. We also catch instances of the ValueError class, which can occur if the user enters something other than a number."
   ]
  },
  {
   "cell_type": "code",
   "execution_count": null,
   "id": "ae8141da-069f-4379-8457-063ee906123e",
   "metadata": {},
   "outputs": [],
   "source": []
  }
 ],
 "metadata": {
  "kernelspec": {
   "display_name": "Python 3 (ipykernel)",
   "language": "python",
   "name": "python3"
  },
  "language_info": {
   "codemirror_mode": {
    "name": "ipython",
    "version": 3
   },
   "file_extension": ".py",
   "mimetype": "text/x-python",
   "name": "python",
   "nbconvert_exporter": "python",
   "pygments_lexer": "ipython3",
   "version": "3.10.8"
  }
 },
 "nbformat": 4,
 "nbformat_minor": 5
}
