{
 "cells": [
  {
   "cell_type": "markdown",
   "id": "8f8300a7-31ef-40e9-8e36-7aa032d82f28",
   "metadata": {},
   "source": [
    "## Q1. What is the Probability density function?"
   ]
  },
  {
   "cell_type": "markdown",
   "id": "dffd301a-d067-4d7e-bb39-3750afb331bf",
   "metadata": {},
   "source": [
    "The probability density function (PDF) is a function that describes the relative likelihood or probability of a continuous random variable taking on a specific value or falling within a particular range of values.\n",
    "\n",
    "Unlike the probability mass function (PMF), which is used for discrete random variables, the PDF is used for continuous random variables. The PDF is defined as the derivative of the cumulative distribution function (CDF) with respect to the variable of interest.\n",
    "\n",
    "Mathematically, the PDF is denoted by f(x) and satisfies the following properties:\n",
    "\n",
    "The probability of a random variable taking on any particular value is zero, i.e., P(X = x) = 0 for all x.\n",
    "\n",
    "The total area under the PDF curve is equal to 1, i.e., ∫f(x)dx = 1, where the integral is taken over the entire range of the random variable.\n",
    "\n",
    "The probability of a random variable falling within a particular range of values is given by the area under the PDF curve between those values.\n",
    "\n",
    "The PDF is an essential concept in probability theory and statistics, as it allows us to calculate probabilities and make inferences about continuous random variables."
   ]
  },
  {
   "cell_type": "markdown",
   "id": "f80ccf33-194a-47b9-86ff-b799755c4b60",
   "metadata": {},
   "source": [
    "## Q2. What are the types of Probability distribution?"
   ]
  },
  {
   "cell_type": "markdown",
   "id": "b9517acd-fff9-4082-8968-fc49f04aeae0",
   "metadata": {},
   "source": [
    "There are several types of probability distributions, each with its own characteristics and applications. Some of the most common types of probability distributions are:\n",
    "\n",
    "- Bernoulli distribution: A discrete distribution that models the probability of a binary outcome (e.g., success/failure, yes/no) in a single trial.\n",
    "\n",
    "\n",
    "- Binomial distribution: A discrete distribution that models the number of successes in a fixed number of independent Bernoulli trials.\n",
    "\n",
    "\n",
    "- Poisson distribution: A discrete distribution that models the probability of a certain number of events occurring in a fixed time or space interval.\n",
    "\n",
    "\n",
    "- Uniform distribution: A continuous distribution where all values in a given range have equal probability of occurring.\n",
    "\n",
    "\n",
    "- Normal distribution: A continuous distribution that is symmetrical, bell-shaped, and describes many natural phenomena.\n",
    "\n",
    "\n",
    "- Exponential distribution: A continuous distribution that models the time between events occurring in a Poisson process.\n",
    "\n",
    "\n",
    "- Gamma distribution: A continuous distribution that is often used to model waiting times and the sum of independent exponential distributions.\n",
    "\n",
    "\n",
    "- Chi-squared distribution: A continuous distribution that is often used in hypothesis testing and confidence interval calculations.\n",
    "\n",
    "These are just a few examples of the many types of probability distributions that exist. Each distribution has its own set of properties and applications, and the choice of distribution will depend on the nature of the data and the problem being studied."
   ]
  },
  {
   "cell_type": "markdown",
   "id": "839af970-fffd-43ce-bbc1-02a5919a3a92",
   "metadata": {},
   "source": [
    "## Q3. Write a Python function to calculate the probability density function of a normal distribution with  given mean and standard deviation at a given point."
   ]
  },
  {
   "cell_type": "code",
   "execution_count": 2,
   "id": "ee534ef0-a936-428a-96dd-707ea2350443",
   "metadata": {},
   "outputs": [
    {
     "name": "stdout",
     "output_type": "stream",
     "text": [
      "0.12098536225957168\n"
     ]
    }
   ],
   "source": [
    "import math\n",
    "\n",
    "def normal_pdf(x, mean, std_dev):\n",
    "    \"\"\"\n",
    "    Calculates the probability density function of a normal distribution at a given point.\n",
    "    \n",
    "    Args:\n",
    "    x (float): The point at which to calculate the PDF.\n",
    "    mean (float): The mean of the normal distribution.\n",
    "    std_dev (float): The standard deviation of the normal distribution.\n",
    "    \n",
    "    Returns:\n",
    "    float: The PDF of the normal distribution at the given point.\n",
    "    \"\"\"\n",
    "    coefficient = 1 / (std_dev * math.sqrt(2 * math.pi))\n",
    "    exponent = -((x - mean)**2) / (2 * std_dev**2)\n",
    "    pdf = coefficient * math.exp(exponent)\n",
    "    return pdf\n",
    "\n",
    "\n",
    "pdf = normal_pdf(7, 5, 2)\n",
    "print(pdf)  # Output: 0.12098536225957168"
   ]
  },
  {
   "cell_type": "markdown",
   "id": "9aef5776-8f06-4178-ab94-b48067b8a452",
   "metadata": {},
   "source": [
    "# Q4. What are the properties of Binomial distribution? Give two examples of events where binomial  distribution can be applied."
   ]
  },
  {
   "cell_type": "markdown",
   "id": "31a78b0a-d98d-416a-9c2f-d87550f9e6ad",
   "metadata": {},
   "source": [
    "The binomial distribution is a probability distribution that describes the number of successes in a fixed number of independent and identical trials, where each trial has only two possible outcomes (success or failure). The properties of the binomial distribution are:\n",
    "\n",
    "The distribution is discrete, meaning that the random variable can only take on integer values.\n",
    "The distribution is characterized by two parameters: n, the number of trials, and p, the probability of success on each trial.\n",
    "The mean of the distribution is np, and the variance is np(1-p).\n",
    "The shape of the distribution is symmetric for values of p=0.5, and becomes increasingly skewed as p moves away from 0.5.\n",
    "\n",
    "Two examples of events where the binomial distribution can be applied are:\n",
    "\n",
    "1. Tossing a coin: Suppose we toss a fair coin (where the probability of getting heads is p=0.5) 10 times. The number of heads we get in this experiment follows a binomial distribution with parameters n=10 and p=0.5.\n",
    "\n",
    "\n",
    "2. Quality control: A manufacturer wants to check the quality of a batch of 1000 products, and decides to inspect 10% of the items at random. Let's assume that each product has a probability p=0.95 of passing the inspection. The number of products that pass the inspection follows a binomial distribution with parameters n=100 and p=0.95."
   ]
  },
  {
   "cell_type": "markdown",
   "id": "29f2b5ed-ad61-4f9b-9994-11af5808af88",
   "metadata": {},
   "source": [
    "## Q5. Generate a random sample of size 1000 from a binomial distribution with probability of success 0.4 and plot a histogram of the results using matplotlib."
   ]
  },
  {
   "cell_type": "code",
   "execution_count": 5,
   "id": "b7624f6f-f4ec-4289-b9fb-ca527420e0c2",
   "metadata": {},
   "outputs": [
    {
     "data": {
      "image/png": "[encoded data removed]",
      "text/plain": [
       "<Figure size 640x480 with 1 Axes>"
      ]
     },
     "metadata": {},
     "output_type": "display_data"
    }
   ],
   "source": [
    "import numpy as np\n",
    "import matplotlib.pyplot as plt\n",
    "\n",
    "# Set the parameters\n",
    "n = 1000  # number of trials\n",
    "p = 0.4   # probability of success\n",
    "\n",
    "# Generate the random sample\n",
    "sample = np.random.binomial(n, p, size=1000)\n",
    "\n",
    "# Plot the histogram\n",
    "plt.hist(sample, bins=30, density=True, alpha=0.5)\n",
    "plt.xlabel('Number of successes')\n",
    "plt.ylabel('Probability density')\n",
    "plt.title('Binomial distribution with n=1000, p=0.4')\n",
    "plt.show()"
   ]
  },
  {
   "cell_type": "markdown",
   "id": "918890fb-b2ef-41c8-a824-7893ab201b22",
   "metadata": {},
   "source": [
    "## Q6. Write a Python function to calculate the cumulative distribution function of a Poisson distribution with given mean at a given point."
   ]
  },
  {
   "cell_type": "code",
   "execution_count": 6,
   "id": "7bce1f21-bfaa-4c31-ad0f-76ff1929bd9f",
   "metadata": {},
   "outputs": [],
   "source": [
    "import math\n",
    "\n",
    "def poisson_cdf(mu, k):\n",
    "    \"\"\"\n",
    "    Calculate the cumulative distribution function (CDF) of a Poisson distribution with mean mu at point k.\n",
    "    \"\"\"\n",
    "    cdf = 0.0\n",
    "    for i in range(k+1):\n",
    "        cdf += math.exp(-mu) * (mu ** i) / math.factorial(i)\n",
    "    return cdf"
   ]
  },
  {
   "cell_type": "markdown",
   "id": "55e5a8c5-fb75-48d6-b29e-5e7b0fb7a3b8",
   "metadata": {},
   "source": [
    "This function uses the formula for the Poisson CDF, which is the sum of the probabilities of all Poisson events up to and including the given point k. The formula is:\n",
    "\n",
    "CDF(k) = P(X <= k) = sum(i=0 to k) [e^(-mu) * (mu^i / i!)]\n",
    "\n",
    "where X is the random variable representing the Poisson distribution with mean mu.\n",
    "\n",
    "The function poisson_cdf(mu, k) takes two arguments: mu is the mean of the Poisson distribution, and k is the point at which we want to calculate the CDF. It returns the Poisson CDF at that point.\n",
    "\n",
    "Here's an example of how to use this function:"
   ]
  },
  {
   "cell_type": "code",
   "execution_count": 7,
   "id": "7c537bec-1d41-412b-ae50-40d7df4a31df",
   "metadata": {},
   "outputs": [
    {
     "name": "stdout",
     "output_type": "stream",
     "text": [
      "0.7575761331330659\n"
     ]
    }
   ],
   "source": [
    "# Calculate the Poisson CDF at k=3 with mean mu=2.5\n",
    "result = poisson_cdf(2.5, 3)\n",
    "print(result)"
   ]
  },
  {
   "cell_type": "markdown",
   "id": "f4561474-afeb-43dd-ba2f-4a78612d4926",
   "metadata": {},
   "source": [
    "## Q7. How Binomial distribution different from Poisson distribution?"
   ]
  },
  {
   "cell_type": "markdown",
   "id": "b739e4be-d1f3-433b-9731-e3851bc544c4",
   "metadata": {},
   "source": [
    "Binomial and Poisson distributions are both probability distributions used in statistical inference and modeling, but they differ in several important ways:\n",
    "\n",
    "Nature of Events: The Binomial distribution is used to model the number of successes in a fixed number of independent Bernoulli trials, where each trial has only two possible outcomes (success or failure). On the other hand, the Poisson distribution is used to model the number of rare events that occur over a fixed interval of time or space.\n",
    "\n",
    "Assumptions: The Binomial distribution assumes a fixed number of trials and that the probability of success is constant across all trials. The Poisson distribution assumes that the rare events occur randomly and independently in time or space.\n",
    "\n",
    "Parameterization: The Binomial distribution is parameterized by the number of trials (n) and the probability of success on each trial (p), while the Poisson distribution is parameterized by the rate parameter (λ) which represents the average number of rare events per unit of time or space.\n",
    "\n",
    "Range of Values: The Binomial distribution is a discrete distribution and can take on integer values between 0 and n, while the Poisson distribution is also a discrete distribution but can take on any non-negative integer value.\n",
    "\n",
    "Relationship: The Poisson distribution can be derived from the Binomial distribution in the limit as the number of trials becomes large and the probability of success becomes small, while holding the expected number of successes fixed.\n",
    "\n",
    "In summary, while both the Binomial and Poisson distributions are discrete probability distributions, they are used to model different types of events and have different assumptions and parameterizations."
   ]
  },
  {
   "cell_type": "markdown",
   "id": "b396e34f-6bb1-4405-84f1-9c741ffaf14f",
   "metadata": {},
   "source": [
    "## Q8. Generate a random sample of size 1000 from a Poisson distribution with mean 5 and calculate the sample mean and variance."
   ]
  },
  {
   "cell_type": "code",
   "execution_count": 8,
   "id": "738f85b9-4e67-4ecd-b002-673d2876c9cc",
   "metadata": {},
   "outputs": [
    {
     "name": "stdout",
     "output_type": "stream",
     "text": [
      "Sample mean:  4.909\n",
      "Sample variance:  4.894719\n"
     ]
    }
   ],
   "source": [
    "import numpy as np\n",
    "\n",
    "# Set the parameters\n",
    "mean = 5\n",
    "\n",
    "# Generate the random sample\n",
    "sample = np.random.poisson(mean, size=1000)\n",
    "\n",
    "# Calculate the sample mean and variance\n",
    "sample_mean = np.mean(sample)\n",
    "sample_variance = np.var(sample)\n",
    "\n",
    "print(\"Sample mean: \", sample_mean)\n",
    "print(\"Sample variance: \", sample_variance)\n"
   ]
  },
  {
   "cell_type": "markdown",
   "id": "7ff20452-b21f-4473-aada-0293624d4fdf",
   "metadata": {},
   "source": [
    "This code generates a random sample of size 1000 from a Poisson distribution with mean 5 using NumPy's np.random.poisson function. It then calculates the sample mean and variance using NumPy's np.mean and np.var functions, respectively.\n",
    "\n",
    "The output will be two numbers, the sample mean and variance, which will vary slightly each time you run the code due to the randomness of the sampling process."
   ]
  },
  {
   "cell_type": "markdown",
   "id": "4482a25f-38ba-491a-944e-e604148ca141",
   "metadata": {},
   "source": [
    "## Q9. How mean and variance are related in Binomial distribution and Poisson distribution?"
   ]
  },
  {
   "cell_type": "markdown",
   "id": "bbe02fcf-a4b2-4ccc-8f61-335a16c11405",
   "metadata": {},
   "source": [
    "In both the Binomial and Poisson distributions, the mean and variance are related, but the nature of the relationship is different for each distribution.\n",
    "\n",
    "For the Binomial distribution with parameters n (number of trials) and p (probability of success on each trial), the mean (μ) and variance (σ^2) are given by:\n",
    "μ = n * p\n",
    "\n",
    "σ^2 = n * p * (1 - p)\n",
    "\n",
    "Here, the variance is directly proportional to both the number of trials n and the probability of success on each trial p. As p gets closer to 0 or 1, the variance becomes smaller, and as n gets larger, the variance also gets larger.\n",
    "\n",
    "For the Poisson distribution with parameter λ (the rate parameter), the mean (μ) and variance (σ^2) are both equal to λ:\n",
    "μ = λ\n",
    "\n",
    "σ^2 = λ\n",
    "\n",
    "Here, the mean and variance are both equal to the rate parameter λ. The variance is proportional to the mean, and as the mean gets larger, the variance also gets larger.\n",
    "\n",
    "In summary, for the Binomial distribution, the variance is proportional to both the number of trials and the probability of success, while for the Poisson distribution, the variance is proportional to the mean."
   ]
  },
  {
   "cell_type": "markdown",
   "id": "481eec61-1764-4cbd-ba50-712d646433e7",
   "metadata": {},
   "source": [
    "## Q10. In normal distribution with respect to mean position, where does the least frequent data appear?"
   ]
  },
  {
   "cell_type": "markdown",
   "id": "37c21bad-4361-4cc6-9fe9-8e6b927ad6cf",
   "metadata": {},
   "source": [
    "In a normal distribution, also known as a Gaussian distribution, the least frequent data points occur in the tails of the distribution, which are the areas farthest away from the mean. The normal distribution is a bell-shaped curve with a symmetric shape, and the majority of the data points are clustered around the mean value. As we move away from the mean in either direction, the frequency of the data points decreases, and the curve approaches zero at infinity.\n",
    "\n",
    "In fact, in a standard normal distribution (where the mean is 0 and the standard deviation is 1), the least frequent data points are located at the extreme ends of the curve, which are 3 or more standard deviations away from the mean. These data points represent the outliers of the distribution and are generally considered unusual or rare events."
   ]
  },
  {
   "cell_type": "code",
   "execution_count": null,
   "id": "a255016f-347b-43a9-b6d8-a3a9c8aaec65",
   "metadata": {},
   "outputs": [],
   "source": []
  }
 ],
 "metadata": {
  "kernelspec": {
   "display_name": "Python 3 (ipykernel)",
   "language": "python",
   "name": "python3"
  },
  "language_info": {
   "codemirror_mode": {
    "name": "ipython",
    "version": 3
   },
   "file_extension": ".py",
   "mimetype": "text/x-python",
   "name": "python",
   "nbconvert_exporter": "python",
   "pygments_lexer": "ipython3",
   "version": "3.10.8"
  }
 },
 "nbformat": 4,
 "nbformat_minor": 5
}
