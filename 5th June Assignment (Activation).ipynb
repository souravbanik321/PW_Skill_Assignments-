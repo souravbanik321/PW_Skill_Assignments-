{
 "cells": [
  {
   "cell_type": "markdown",
   "id": "17cd4bfe-128f-435e-833a-8d8d760a808a",
   "metadata": {},
   "source": [
    "## Q1. What is an activation function in the context of artificial neural networks?"
   ]
  },
  {
   "cell_type": "markdown",
   "id": "a2765370-c43a-46e3-b44f-fe3641a03c01",
   "metadata": {},
   "source": [
    "In the context of artificial neural networks, an activation function is a mathematical function applied to the output of a neuron or a layer of neurons. It introduces non-linearity into the network, allowing it to model and learn complex patterns and relationships in the data.\n",
    "\n",
    "Each neuron in a neural network takes in weighted inputs from the previous layer or directly from the input data and computes a weighted sum. The activation function then processes this sum and determines the output or activation of the neuron.\n",
    "\n",
    "`The activation function serves two primary purposes:`\n",
    "\n",
    "1. `Introduce non-linearity:` Without non-linear activation functions, neural networks would behave like a linear regression model, no matter how many layers are present. By applying non-linear functions such as sigmoid, tanh, ReLU (Rectified Linear Unit), or others, the network can learn and approximate non-linear mappings between inputs and outputs.\n",
    "\n",
    "2. `Enable the network to learn complex representations:` Activation functions transform the output of a neuron to a specific range or form. This allows the network to learn and represent complex features and patterns in the data. Different activation functions have different properties and are suitable for different types of problems.\n",
    "\n",
    "`Commonly used activation functions include:`\n",
    "\n",
    "- `Sigmoid:` Maps the input to a value between 0 and 1, which can be interpreted as a probability. It smoothens extreme inputs but suffers from the vanishing gradient problem.\n",
    "- `Tanh:` Similar to sigmoid, but maps the input to a value between -1 and 1. It is symmetric around the origin and handles negative inputs better.\n",
    "- `ReLU (Rectified Linear Unit):` Sets all negative values to zero and keeps positive values unchanged. It is computationally efficient and helps with sparse representations.\n",
    "Leaky ReLU: Similar to ReLU but allows small negative values, preventing dead neurons.\n",
    "- `Softmax:` Used in the output layer for multi-class classification problems. It normalizes the outputs to represent class probabilities.\n",
    "The choice of activation function depends on the problem at hand, the network architecture, and the characteristics of the data. Different activation functions can have a significant impact on the learning dynamics, convergence, and overall performance of a neural network."
   ]
  },
  {
   "cell_type": "markdown",
   "id": "3684c98e-8893-4e3c-8e49-771b7dd9ab82",
   "metadata": {},
   "source": [
    "## Q2. What are some common types of activation functions used in neural networks?"
   ]
  },
  {
   "cell_type": "markdown",
   "id": "dd385549-7e38-4029-b7d8-4209b919d744",
   "metadata": {},
   "source": [
    "There are several common types of activation functions used in neural networks. Here are some of them:\n",
    "\n",
    "1. `Sigmoid Activation Function:`\n",
    "The sigmoid function is defined as f(x) = 1 / (1 + e^-x). It maps the input to a value between 0 and 1, which can be interpreted as a probability. Sigmoid functions are smooth and have a non-linear shape, but they suffer from the vanishing gradient problem, which can make training deep networks challenging.\n",
    "\n",
    "2. `Hyperbolic Tangent (tanh) Activation Function:`\n",
    "The tanh function is defined as f(x) = (e^x - e^-x) / (e^x + e^-x). It maps the input to a value between -1 and 1. Like the sigmoid function, tanh is smooth and non-linear, but it is symmetric around the origin and handles negative inputs better.\n",
    "\n",
    "3. `Rectified Linear Unit (ReLU) Activation Function:`\n",
    "The ReLU function is defined as f(x) = max(0, x). It sets all negative values to zero and keeps positive values unchanged. ReLU is computationally efficient and helps with sparse representations. However, it suffers from a drawback called \"dying ReLU\" where some neurons may become inactive and never recover during training.\n",
    "\n",
    "4. `Leaky ReLU Activation Function:`\n",
    "Leaky ReLU is an extension of the ReLU function that allows small negative values instead of setting them to zero. It is defined as f(x) = max(a * x, x), where 'a' is a small positive constant. Leaky ReLU helps mitigate the dying ReLU problem by allowing gradients to flow through the negative range.\n",
    "\n",
    "5. `Softmax Activation Function:`\n",
    "The softmax function is commonly used in the output layer for multi-class classification problems. It takes a vector of real numbers as input and normalizes them into a probability distribution, where the sum of the probabilities adds up to 1. Softmax is used to represent the class probabilities of the different output classes.\n",
    "\n",
    "These are just a few examples of activation functions used in neural networks. There are also other variants and specialized activation functions like the ELU (Exponential Linear Unit), SELU (Scaled Exponential Linear Unit), and more. The choice of activation function depends on the specific problem, the network architecture, and the characteristics of the data being processed."
   ]
  },
  {
   "cell_type": "markdown",
   "id": "600f3a35-f57c-4500-86ad-43788131cee4",
   "metadata": {},
   "source": [
    "## Q3. How do activation functions affect the training process and performance of a neural network?"
   ]
  },
  {
   "cell_type": "markdown",
   "id": "134c3c97-b0e2-429f-b518-fd8eb6f89579",
   "metadata": {},
   "source": [
    "Activation functions play a crucial role in the training process and performance of a neural network. Here are some key ways in which activation functions can impact neural network training:\n",
    "\n",
    "`Non-linearity and Representation Learning:`\n",
    "Activation functions introduce non-linearity into the network, allowing it to learn and approximate complex patterns and relationships in the data. Without non-linear activation functions, neural networks would behave like a linear regression model, severely limiting their expressive power. Non-linear activation functions enable the network to learn hierarchical representations and capture intricate features in the data.\n",
    "\n",
    "`Gradient Flow and Vanishing/Exploding Gradients:`\n",
    "During backpropagation, gradients are propagated through the network to update the weights. Activation functions affect the flow of gradients through the network. One common issue is the vanishing gradient problem, where gradients become very small, leading to slow convergence or even stalling of training. Activation functions like sigmoid and tanh are prone to this problem. On the other hand, activation functions like ReLU can suffer from exploding gradients. Proper selection of activation functions can help mitigate these problems and facilitate smoother gradient flow.\n",
    "\n",
    "`Network Capacity and Expressiveness:`\n",
    "Different activation functions have different capacities to represent complex functions. Activation functions with more expressive power can enable the network to learn more intricate and sophisticated mappings. For example, ReLU-based activation functions have been shown to provide higher capacity than sigmoid or tanh functions, allowing networks to learn deeper representations.\n",
    "\n",
    "`Computation and Efficiency:`\n",
    "Activation functions can significantly impact the computational efficiency of training and inference. Some activation functions, such as ReLU and its variants, are computationally efficient, as they involve simple thresholding operations. On the other hand, functions like sigmoid and tanh involve exponentials and can be computationally more expensive. Efficient activation functions can speed up training and make the network more suitable for real-time or resource-constrained applications.\n",
    "\n",
    "`Avoiding Dead Neurons:`\n",
    "Activation functions can help prevent the problem of \"dead neurons,\" which are neurons that stop learning and remain inactive. Functions like Leaky ReLU introduce small negative values, allowing gradients to flow even for negative inputs and helping to keep more neurons active during training.\n",
    "\n",
    "Overall, the choice of activation functions is a critical design decision in neural network architecture. The selection should be based on the specific problem domain, the characteristics of the data, and considerations such as non-linearity, gradient flow, computational efficiency, and network capacity. Experimentation with different activation functions is often necessary to find the most suitable one for a given task, striking a balance between expressive power, training stability, and computational efficiency."
   ]
  },
  {
   "cell_type": "markdown",
   "id": "9bad22ed-5764-46db-a5ad-c3cc12cef795",
   "metadata": {},
   "source": [
    "## Q4. How does the sigmoid activation function work? What are its advantages and disadvantages?"
   ]
  },
  {
   "cell_type": "markdown",
   "id": "8295a5eb-8f8a-4c95-b141-a1f30028c4fa",
   "metadata": {},
   "source": [
    "The sigmoid activation function is a commonly used activation function in neural networks. It takes an input value and maps it to a value between 0 and 1. The sigmoid function is defined as:\n",
    "\n",
    "f(x) = 1 / (1 + e^(-x))\n",
    "\n",
    "Here's how the sigmoid activation function works:\n",
    "\n",
    "`Range and Interpretation:`\n",
    "The sigmoid function maps any real number to a value between 0 and 1. This property makes it suitable for problems where the output needs to be interpreted as a probability or where the desired output lies within a specific range.\n",
    "\n",
    "`Non-linearity:`\n",
    "The sigmoid function introduces non-linearity into the network. It allows the network to model complex patterns and relationships in the data by transforming the input space into a non-linear representation. This non-linearity is crucial for learning and approximating non-linear mappings between inputs and outputs.\n",
    "\n",
    "`Advantages of the sigmoid activation function:`\n",
    "\n",
    "1. `Smoothness:`\n",
    "The sigmoid function is a smooth and continuous function. It provides a differentiable activation that allows for gradient-based optimization algorithms, such as backpropagation, to be used during network training. The smoothness can contribute to the stability of the learning process.\n",
    "\n",
    "2. `Probabilistic Interpretation:`\n",
    "The sigmoid function can be interpreted as a probability. It maps the input to a value between 0 and 1, which can be interpreted as the probability of the input belonging to a certain class or category. This property makes it useful in binary classification problems where the goal is to estimate class probabilities.\n",
    "\n",
    "`Disadvantages of the sigmoid activation function:`\n",
    "\n",
    "1. `Vanishing Gradient:`\n",
    "The sigmoid function is susceptible to the vanishing gradient problem. In deep neural networks, gradients can diminish rapidly during backpropagation, especially for high or low input values. This issue can make it difficult for deep networks with many layers to learn effectively.\n",
    "\n",
    "2. `Output Saturation:`\n",
    "As the input moves away from zero in either direction, the output of the sigmoid function approaches either 0 or 1. This saturation of the output limits the ability of the network to distinguish between strongly positive or negative inputs. In other words, the network may have difficulty capturing and representing large variations in the input space.\n",
    "\n",
    "3. `Computational Efficiency:`\n",
    "Computing the exponential function in the sigmoid formula can be computationally expensive, especially when dealing with large-scale neural networks or real-time applications. Other activation functions like ReLU are computationally more efficient.\n",
    "\n",
    "Due to the disadvantages mentioned above, the sigmoid activation function has been largely replaced by alternative activation functions such as ReLU, Leaky ReLU, and their variants in many modern neural network architectures. These alternatives address some of the limitations of the sigmoid function and have proven to be more effective in training deep networks."
   ]
  },
  {
   "cell_type": "markdown",
   "id": "9ca22729-1e02-411b-828c-7afdb4a80ef5",
   "metadata": {},
   "source": [
    "## Q5.What is the rectified linear unit (ReLU) activation function? How does it differ from the sigmoid function?"
   ]
  },
  {
   "cell_type": "markdown",
   "id": "f43084cf-9166-4310-8472-2bdd381de146",
   "metadata": {},
   "source": [
    "The rectified linear unit (ReLU) activation function is a non-linear activation function commonly used in neural networks. Unlike the sigmoid function, which operates on the entire range of real numbers, ReLU is a piecewise linear function that only activates for positive input values.\n",
    "\n",
    "`The ReLU function is defined as follows:`\n",
    "\n",
    "f(x) = max(0, x)\n",
    "\n",
    "In other words, if the input value is greater than zero, the output of ReLU is equal to the input value. If the input value is less than or equal to zero, the output is zero. This simple thresholding operation effectively removes negative values, resulting in sparsity and non-linearity.\n",
    "\n",
    "Here are the key differences between ReLU and the sigmoid function:\n",
    "\n",
    "`Range:`\n",
    "The sigmoid function maps inputs to the range [0, 1], providing a smooth, sigmoidal curve. ReLU, on the other hand, maps inputs to the range [0, +∞] by setting all negative values to zero. This piecewise linear behavior makes ReLU a non-smooth function.\n",
    "\n",
    "`Non-linearity:`\n",
    "While both sigmoid and ReLU introduce non-linearity into the network, ReLU is a piecewise linear activation function. It behaves linearly for positive values and is non-linear for negative values. This linearity for positive inputs has advantages, including the ability to approximate complex functions and the ease of computation during both forward and backward passes.\n",
    "\n",
    "`Sparse Activation:`\n",
    "ReLU promotes sparsity in neural networks. By setting negative values to zero, it allows only a subset of neurons to be activated, resulting in sparse representations. This can lead to more efficient computation and better generalization in certain scenarios.\n",
    "\n",
    "`Gradient Flow:`\n",
    "ReLU helps alleviate the vanishing gradient problem, which can occur when gradients become too small during backpropagation. The derivative of ReLU is either 0 or 1, and the gradient does not saturate for positive inputs, allowing for more effective gradient flow. However, the gradient for negative inputs is 0, which can cause dead neurons that do not update their weights.\n",
    "\n",
    "`Computation Efficiency:`\n",
    "ReLU is computationally efficient since it involves a simple thresholding operation without complex mathematical computations like exponentials. This efficiency makes it suitable for deep neural networks with millions of parameters and accelerates training and inference.\n",
    "\n",
    "The choice between sigmoid and ReLU depends on the problem domain, the network architecture, and the characteristics of the data. ReLU and its variants (such as Leaky ReLU, Parametric ReLU, and Exponential Linear Units) have become popular choices due to their ability to address the limitations of the sigmoid function, enable efficient training of deep networks, and achieve state-of-the-art performance in various tasks such as image recognition and natural language processing."
   ]
  },
  {
   "cell_type": "markdown",
   "id": "647e1787-e3aa-4a5d-a1f8-b390757279bf",
   "metadata": {},
   "source": [
    "## Q6. What are the benefits of using the ReLU activation function over the sigmoid function?"
   ]
  },
  {
   "cell_type": "markdown",
   "id": "b7d573b1-6e62-4222-b8f0-88b602b25b17",
   "metadata": {},
   "source": [
    "Using the rectified linear unit (ReLU) activation function instead of the sigmoid function offers several benefits in neural networks. Here are some of the key advantages of ReLU:\n",
    "\n",
    "`Improved Training Speed:`\n",
    "ReLU can significantly accelerate the training process compared to sigmoid. The derivative of ReLU is either 0 or 1, except for the point of origin where it is undefined. This means that during backpropagation, the gradient can flow more easily through the network, reducing the likelihood of vanishing gradients. Faster convergence speeds up the training process, allowing neural networks to learn more efficiently.\n",
    "\n",
    "`Addressing Vanishing Gradient Problem:`\n",
    "The vanishing gradient problem, where gradients become very small, can hinder the training of deep neural networks. ReLU helps mitigate this issue by providing non-saturating gradients for positive inputs. Since ReLU has a constant derivative of 1 for positive values, it allows the gradients to flow more consistently through the network, facilitating learning in deeper layers.\n",
    "\n",
    "`Sparse Activation and Feature Representation:`\n",
    "ReLU promotes sparsity in the network by setting negative values to zero. This sparsity means that only a subset of neurons is activated, resulting in sparse feature representations. Sparse activation can enhance the network's ability to learn and represent important features in the data, leading to more efficient memory utilization and better generalization.\n",
    "\n",
    "`Computational Efficiency:`\n",
    "ReLU is computationally efficient. It involves a simple thresholding operation, which is faster to compute than the sigmoid function's exponential operation. This efficiency is especially beneficial in training large-scale neural networks and enables real-time or resource-constrained applications.\n",
    "\n",
    "`Reduced Saturation:`\n",
    "Sigmoid activation can suffer from saturation when the input values are too large or too small, causing the gradient to become very small. ReLU avoids this saturation problem by providing a linear response for positive inputs. This property allows ReLU to capture larger variations in the input space and retain discriminative information more effectively.\n",
    "\n",
    "`Simplicity:`\n",
    "ReLU is a simple and straightforward activation function, making it easy to implement and interpret. Its piecewise linear nature and clear thresholding behavior make it intuitive to understand and visualize the activation patterns of neurons.\n",
    "\n",
    "Due to these advantages, ReLU and its variants have become the default choice for activation functions in many deep learning architectures. They have proven effective in various tasks such as image classification, object detection, and natural language processing, achieving state-of-the-art performance and enabling the training of deeper and more complex neural networks."
   ]
  },
  {
   "cell_type": "markdown",
   "id": "9be9a1a7-519b-435d-8a49-17bdec3abde4",
   "metadata": {},
   "source": [
    "## Q7. Explain the concept of \"leaky ReLU\" and how it addresses the vanishing gradient problem."
   ]
  },
  {
   "cell_type": "markdown",
   "id": "b54ce5b9-6ccb-4d07-b06d-3bdff3039b73",
   "metadata": {},
   "source": [
    "Leaky ReLU is a variation of the rectified linear unit (ReLU) activation function that addresses the vanishing gradient problem encountered in deep neural networks. The vanishing gradient problem occurs when gradients become very small during backpropagation, making it difficult for deep networks to learn effectively.\n",
    "\n",
    "`In standard ReLU, the activation is defined as:`\n",
    "\n",
    "f(x) = max(0, x)\n",
    "\n",
    "Leaky ReLU introduces a small slope for negative input values, allowing a small non-zero gradient to flow through the network. The function is defined as:\n",
    "\n",
    "f(x) = max(a * x, x)\n",
    "\n",
    "where 'a' is a small positive constant, typically set to a small value like 0.01.\n",
    "\n",
    "By introducing a non-zero slope for negative inputs, leaky ReLU addresses the issue of \"dead neurons,\" which are neurons that stop learning and remain inactive. In standard ReLU, if a neuron's input becomes negative during training, the gradient becomes zero, and the neuron does not update its weights, effectively rendering it inactive. This can limit the expressive power of the network and hinder learning.\n",
    "\n",
    "With leaky ReLU, even if the input is negative, a small gradient can still flow through the neuron, preventing it from becoming completely inactive. This small slope allows the neuron to update its weights and continue learning, even for negative inputs. By avoiding the complete \"death\" of neurons, leaky ReLU helps mitigate the vanishing gradient problem and promotes more effective training in deep networks.\n",
    "\n",
    "The choice of the slope 'a' in leaky ReLU is important. Setting 'a' to a small positive value ensures that the slope is gentle enough to prevent dead neurons, yet not too large to introduce significant bias or distort the representation. Common choices for 'a' range from 0.01 to 0.2, but it can vary depending on the specific problem and network architecture.\n",
    "\n",
    "Leaky ReLU is just one of the variants of ReLU that addresses the vanishing gradient problem. Other variants, such as Parametric ReLU (PReLU), Exponential Linear Units (ELU), and Randomized Leaky ReLU, introduce more flexibility in the slope or shape of the activation function, offering additional benefits in terms of convergence speed and representation capacity."
   ]
  },
  {
   "cell_type": "markdown",
   "id": "053fad83-ca6d-42ac-8b25-26a0c2ef4b29",
   "metadata": {},
   "source": [
    "## Q8. What is the purpose of the softmax activation function? When is it commonly used?"
   ]
  },
  {
   "cell_type": "markdown",
   "id": "f2e14838-e2cd-4712-aed5-8b0bc3469ca8",
   "metadata": {},
   "source": [
    "The softmax activation function is commonly used in neural networks for multi-class classification problems. Its purpose is to convert a vector of real-valued numbers into a probability distribution over multiple classes.\n",
    "\n",
    "The softmax function takes an input vector and performs the following computation for each element:\n",
    "\n",
    "softmax(x_i) = exp(x_i) / sum(exp(x_j))\n",
    "\n",
    "Here, exp() denotes the exponential function, and the sum is taken over all elements in the input vector x.\n",
    "\n",
    "The softmax function normalizes the values in the input vector, ensuring that the resulting probabilities sum up to 1. It amplifies larger values and suppresses smaller values, effectively emphasizing the most confident prediction and reducing the impact of less confident predictions.\n",
    "\n",
    "The softmax activation function is commonly used in the output layer of a neural network for multi-class classification tasks. It allows the network to provide class probabilities for each possible class label. The class with the highest probability is typically chosen as the predicted class.\n",
    "\n",
    "The softmax function is often used in conjunction with the categorical cross-entropy loss function. During training, the predicted probabilities from the softmax activation are compared to the true class labels to compute the loss. The network then adjusts its weights and biases through backpropagation and gradient descent to minimize this loss, improving the accuracy of the predictions.\n",
    "\n",
    "In addition to multi-class classification, softmax can also be used in other scenarios where converting a vector of values into a probability distribution is required. For example, it can be used in language modeling tasks to generate the probabilities of different words in a vocabulary given a certain context.\n",
    "\n",
    "It's worth noting that softmax is not suitable for binary classification problems, as it assumes mutually exclusive classes. In binary classification, a sigmoid activation function is typically used in the output layer to produce a single probability value indicating the likelihood of the positive class.\n",
    "\n",
    "\n",
    "\n",
    "\n",
    "\n",
    "\n",
    "\n",
    "\n",
    "\n",
    "\n",
    "\n",
    "\n"
   ]
  },
  {
   "cell_type": "markdown",
   "id": "f5367120-7648-498d-99c2-c549cc1aae25",
   "metadata": {},
   "source": [
    "## Q9. What is the hyperbolic tangent (tanh) activation function? How does it compare to the sigmoid function?"
   ]
  },
  {
   "cell_type": "markdown",
   "id": "bdea17b4-5a0a-4784-8acb-0b542231f3a1",
   "metadata": {},
   "source": [
    "The hyperbolic tangent (tanh) activation function is a commonly used activation function in neural networks. It is a variation of the sigmoid function that rescales the output to the range [-1, 1].\n",
    "\n",
    "The tanh activation function is defined as follows:\n",
    "\n",
    "tanh(x) = (e^x - e^(-x)) / (e^x + e^(-x))\n",
    "\n",
    "Here's how the tanh activation function compares to the sigmoid function:\n",
    "\n",
    "`Output Range:`\n",
    "The sigmoid function maps inputs to the range [0, 1], while the tanh function maps inputs to the range [-1, 1]. The tanh function produces both positive and negative values, allowing it to represent a wider range of data.\n",
    "\n",
    "`Symmetry:`\n",
    "The sigmoid function is asymmetric, with its output skewed towards positive values. In contrast, the tanh function is symmetric around the origin, with its output balanced between positive and negative values. This symmetry can be advantageous in certain scenarios where data exhibits symmetric properties.\n",
    "\n",
    "`Non-linearity:`\n",
    "Both sigmoid and tanh functions introduce non-linearity into the network, allowing it to capture complex patterns and relationships in the data. However, the tanh function has a steeper slope than the sigmoid function, especially around the origin. This steeper slope can result in more pronounced non-linear transformations.\n",
    "\n",
    "`Output Sensitivity:`\n",
    "The tanh function is more sensitive to changes in the input compared to the sigmoid function. As the input moves towards the extremes of the range (-1 or 1), the derivative of the tanh function becomes smaller, reducing the gradient flow. This sensitivity can make training more challenging, especially when gradients become small during backpropagation.\n",
    "\n",
    "`Zero-Centered Output:`\n",
    "One advantage of the tanh function over the sigmoid function is that its output is zero-centered. This means that, on average, the output of the tanh function has a mean value close to zero. This zero-centered property can simplify optimization, as it helps alleviate the issue of biased updates during weight updates in the network.\n",
    "\n",
    "`Similarities:`\n",
    "The sigmoid and tanh functions share some similarities. Both functions are sigmoidal in shape, and they both saturate as the input becomes very large or very small. This saturation can lead to vanishing gradients, particularly for the tanh function, making it less suitable for deep networks.\n",
    "\n",
    "In practice, the choice between the sigmoid and tanh functions depends on the specific problem and the desired properties of the network. The tanh function can be more suitable when the data has negative values or when zero-centered outputs are desired. However, the use of the tanh function may require careful initialization and regularization techniques to mitigate the vanishing gradient problem. In some cases, the sigmoid function or other activation functions like ReLU may be preferred due to their computational efficiency and ability to address certain issues in deep network training."
   ]
  },
  {
   "cell_type": "code",
   "execution_count": null,
   "id": "349bdb70-dcdc-41a4-a01c-33cc232fceaa",
   "metadata": {},
   "outputs": [],
   "source": []
  }
 ],
 "metadata": {
  "kernelspec": {
   "display_name": "Python 3 (ipykernel)",
   "language": "python",
   "name": "python3"
  },
  "language_info": {
   "codemirror_mode": {
    "name": "ipython",
    "version": 3
   },
   "file_extension": ".py",
   "mimetype": "text/x-python",
   "name": "python",
   "nbconvert_exporter": "python",
   "pygments_lexer": "ipython3",
   "version": "3.10.8"
  }
 },
 "nbformat": 4,
 "nbformat_minor": 5
}
