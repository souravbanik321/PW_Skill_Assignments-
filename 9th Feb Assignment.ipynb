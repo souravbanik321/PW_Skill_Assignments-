{
 "cells": [
  {
   "cell_type": "markdown",
   "id": "45492682-42c5-47db-9806-517289451010",
   "metadata": {},
   "source": [
    "Q1, Create a vehicle class with an init method having instance variables as name_of_vehicle, max_speed\n",
    "and average_of_vehicle."
   ]
  },
  {
   "cell_type": "code",
   "execution_count": 12,
   "id": "ed9a5241-4edd-4f87-a8a8-d83c97285ad4",
   "metadata": {},
   "outputs": [
    {
     "name": "stdout",
     "output_type": "stream",
     "text": [
      "Name_of_vehicle: Toyota Camry\n",
      "max_speed: 120\n",
      "average_of_vehicle: 60\n"
     ]
    }
   ],
   "source": [
    "class Vehicle:\n",
    "    def __init__(self, name_of_vehicle, max_speed, average_of_vehicle):\n",
    "        self.name_of_vehicle = name_of_vehicle\n",
    "        self.max_speed = max_speed\n",
    "        self.average_of_vehicle = average_of_vehicle\n",
    "        \n",
    "# Example usage\n",
    "car = Vehicle(\"Toyota Camry\", 120, 60)\n",
    "print(\"Name_of_vehicle:\",car.name_of_vehicle) # Output: Toyota Camry\n",
    "print(\"max_speed:\",car.max_speed) # Output: 120\n",
    "print(\"average_of_vehicle:\",car.average_of_vehicle) # Output: 60\n"
   ]
  },
  {
   "cell_type": "markdown",
   "id": "9cb3dfa9-4b16-4f55-904d-3681dccd5ddb",
   "metadata": {},
   "source": [
    "Q2.Create a child class car from the vehicle class created in Question 1, which will inherit the vehicle class.\n",
    "Create a method named seating_capacity which takes capacity as an argument and returns the name of\n",
    "the vehicle and its seating capacity."
   ]
  },
  {
   "cell_type": "code",
   "execution_count": 8,
   "id": "a78e7b53-2373-4663-b761-2c89216cf57d",
   "metadata": {},
   "outputs": [
    {
     "name": "stdout",
     "output_type": "stream",
     "text": [
      "XUV500 has a seating capacity of 5 people.\n"
     ]
    }
   ],
   "source": [
    "class Car(Vehicle):\n",
    "    def seating_capacity(self, capacity):\n",
    "        return f\"{self.name_of_vehicle} has a seating capacity of {capacity} people.\"\n",
    "car = Car(\"XUV500\", 120, 60)\n",
    "print(car.seating_capacity(5)) # Output: Toyota Cam\n"
   ]
  },
  {
   "cell_type": "markdown",
   "id": "95285b28-ba48-4749-b891-54e76946438b",
   "metadata": {},
   "source": [
    "Q3. What is multiple inheritance? Write a python code to demonstrate multiple inheritance."
   ]
  },
  {
   "cell_type": "markdown",
   "id": "9db1227a-a34e-4bb2-9690-6c15c654d039",
   "metadata": {},
   "source": [
    "Multiple inheritance is a feature of some object-oriented programming languages, including Python, that allows a class to inherit from more than one parent class.\n",
    "\n",
    "\n",
    "In Python, to create a class with multiple inheritance, you simply list the parent classes in the parentheses after the class name."
   ]
  },
  {
   "cell_type": "code",
   "execution_count": 13,
   "id": "d0a227f1-b46d-4cea-8938-7efbb89c40c1",
   "metadata": {},
   "outputs": [
    {
     "name": "stdout",
     "output_type": "stream",
     "text": [
      "Animal constructor called.\n",
      "Bird constructor called.\n",
      "Eagle constructor called.\n",
      "Animal is moving.\n",
      "Bird is flying.\n",
      "Eagle is hunting.\n"
     ]
    }
   ],
   "source": [
    "# Define the parent classes\n",
    "class Animal:\n",
    "    def __init__(self):\n",
    "        print('Animal constructor called.')\n",
    "    def move(self):\n",
    "        print('Animal is moving.')\n",
    "    \n",
    "class Bird:\n",
    "    def __init__(self):\n",
    "        print('Bird constructor called.')\n",
    "    def fly(self):\n",
    "        print('Bird is flying.')\n",
    "\n",
    "# Define the child class that inherits from both Animal and Bird\n",
    "class Eagle(Animal, Bird):\n",
    "    def __init__(self):\n",
    "        Animal.__init__(self)\n",
    "        Bird.__init__(self)\n",
    "        print('Eagle constructor called.')\n",
    "    \n",
    "    def hunt(self):\n",
    "        print('Eagle is hunting.')\n",
    "        \n",
    "# Create an instance of Eagle and call its methods\n",
    "eagle = Eagle()\n",
    "eagle.move()\n",
    "eagle.fly()\n",
    "eagle.hunt()"
   ]
  },
  {
   "cell_type": "markdown",
   "id": "5b28c8c4-e7db-4a68-b3a1-fd26f8513c71",
   "metadata": {},
   "source": [
    "Q4. What are getter and setter in python? Create a class and create a getter and a setter method in this\n",
    "class."
   ]
  },
  {
   "cell_type": "markdown",
   "id": "f124a87e-53b3-4e03-bef3-261f69787e39",
   "metadata": {},
   "source": [
    "In Python, getters and setters are methods that are used to access and modify the private attributes of a class respectively. By using getters and setters, we can control how the private attributes of a class are accessed and modified from outside the class.\n",
    "\n",
    "Here's an example of a class with a private attribute name, and its corresponding getter and setter methods:"
   ]
  },
  {
   "cell_type": "code",
   "execution_count": 15,
   "id": "69c85c0d-2708-4175-85ea-1363f4e7fd25",
   "metadata": {},
   "outputs": [],
   "source": [
    "class Person:\n",
    "    def __init__(self, name):\n",
    "        self.__name = name\n",
    "\n",
    "    def get_name(self):\n",
    "        return self.__name\n",
    "\n",
    "    def set_name(self, new_name):\n",
    "        self.__name = new_name\n"
   ]
  },
  {
   "cell_type": "markdown",
   "id": "6dc2175c-d9ac-4abe-9d9b-c12c2b3f8971",
   "metadata": {},
   "source": [
    "using the getter and setter methods, we can create an instance of the Person class and call its methods as shown below:"
   ]
  },
  {
   "cell_type": "code",
   "execution_count": 17,
   "id": "b3a3bb92-d2af-4fe8-8ad9-0fc257b6386c",
   "metadata": {},
   "outputs": [
    {
     "name": "stdout",
     "output_type": "stream",
     "text": [
      "John\n",
      "Mike\n"
     ]
    }
   ],
   "source": [
    "person = Person(\"John\")\n",
    "print(person.get_name())  # Output: John\n",
    "person.set_name(\"Mike\")\n",
    "print(person.get_name())  # Output: Mike\n"
   ]
  },
  {
   "cell_type": "markdown",
   "id": "818cc91f-d440-4af5-820a-5a48235c8ac5",
   "metadata": {},
   "source": [
    "Q5.What is method overriding in python? Write a python code to demonstrate method overriding."
   ]
  },
  {
   "cell_type": "markdown",
   "id": "11a11b9e-7c97-4d1a-84bb-5c0dc806555d",
   "metadata": {},
   "source": [
    "Method overriding is a feature of object-oriented programming that allows a subclass to provide its own implementation of a method that is already defined in its parent class. The overridden method in the subclass has the same name, same parameters and same return type as the method in the parent class.\n",
    "\n",
    "Here's an example to demonstrate method overriding."
   ]
  },
  {
   "cell_type": "code",
   "execution_count": 19,
   "id": "f61f2a64-87d5-4a3f-a4ee-3ee7774c69ef",
   "metadata": {},
   "outputs": [
    {
     "name": "stdout",
     "output_type": "stream",
     "text": [
      "The dog is barking.\n"
     ]
    }
   ],
   "source": [
    "class Animal:\n",
    "    def make_sound(self):\n",
    "        print(\"The animal is making a sound.\")\n",
    "\n",
    "class Dog(Animal):\n",
    "    def make_sound(self):\n",
    "        print(\"The dog is barking.\")\n",
    "dog = Dog()\n",
    "dog.make_sound()  # Output: The dog is barking.\n"
   ]
  }
 ],
 "metadata": {
  "kernelspec": {
   "display_name": "Python 3 (ipykernel)",
   "language": "python",
   "name": "python3"
  },
  "language_info": {
   "codemirror_mode": {
    "name": "ipython",
    "version": 3
   },
   "file_extension": ".py",
   "mimetype": "text/x-python",
   "name": "python",
   "nbconvert_exporter": "python",
   "pygments_lexer": "ipython3",
   "version": "3.10.8"
  }
 },
 "nbformat": 4,
 "nbformat_minor": 5
}
