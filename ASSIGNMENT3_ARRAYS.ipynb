{
 "cells": [
  {
   "cell_type": "markdown",
   "id": "e6ad0827-f0d9-477e-ad93-7475189a544c",
   "metadata": {},
   "source": [
    "Question 1\n",
    "Given an integer array nums of length n and an integer target, find three integers\n",
    "in nums such that the sum is closest to the target.\n",
    "Return the sum of the three integers.\n",
    "\n",
    "You may assume that each input would have exactly one solution.\n",
    "\n",
    "Example 1:\n",
    "Input: nums = [-1,2,1,-4], target = 1\n",
    "Output: 2\n",
    "\n",
    "Explanation: The sum that is closest to the target is 2. (-1 + 2 + 1 = 2)."
   ]
  },
  {
   "cell_type": "code",
   "execution_count": 1,
   "id": "0c3ad874-8663-424d-b2b8-ea64d58412bb",
   "metadata": {},
   "outputs": [
    {
     "name": "stdout",
     "output_type": "stream",
     "text": [
      "2\n"
     ]
    }
   ],
   "source": [
    "def threeSumClosest(nums, target):\n",
    "    nums.sort()  # Step 1: Sort the array\n",
    "\n",
    "    closest_sum = float('inf')  # Step 2: Initialize closest_sum to a large value\n",
    "\n",
    "    for i in range(len(nums) - 2):  # Step 3: Iterate over each num1\n",
    "        left = i + 1\n",
    "        right = len(nums) - 1\n",
    "\n",
    "        while left < right:  # Step 3: Two-pointer approach\n",
    "            current_sum = nums[i] + nums[left] + nums[right]\n",
    "\n",
    "            if abs(current_sum - target) < abs(closest_sum - target):  # Update closest_sum\n",
    "                closest_sum = current_sum\n",
    "\n",
    "            if current_sum < target:  # Move left pointer\n",
    "                left += 1\n",
    "            elif current_sum > target:  # Move right pointer\n",
    "                right -= 1\n",
    "            else:  # Found exact sum\n",
    "                return current_sum\n",
    "\n",
    "    return closest_sum  # Step 4: Return closest_sum\n",
    "nums = [-1, 2, 1, -4]\n",
    "target = 1\n",
    "result = threeSumClosest(nums, target)\n",
    "print(result)  # Output: 2\n"
   ]
  },
  {
   "cell_type": "markdown",
   "id": "492c5cb6-640c-470e-bd7e-e6a42ae96ce6",
   "metadata": {},
   "source": [
    "<aside>\n",
    "💡 **Question 3**\n",
    "A permutation of an array of integers is an arrangement of its members into a\n",
    "sequence or linear order.\n",
    "\n",
    "For example, for arr = [1,2,3], the following are all the permutations of arr:\n",
    "[1,2,3], [1,3,2], [2, 1, 3], [2, 3, 1], [3,1,2], [3,2,1].\n",
    "\n",
    "The next permutation of an array of integers is the next lexicographically greater\n",
    "permutation of its integer. More formally, if all the permutations of the array are\n",
    "sorted in one container according to their lexicographical order, then the next\n",
    "permutation of that array is the permutation that follows it in the sorted container.\n",
    "\n",
    "If such an arrangement is not possible, the array must be rearranged as the\n",
    "lowest possible order (i.e., sorted in ascending order).\n",
    "\n",
    "● For example, the next permutation of arr = [1,2,3] is [1,3,2].\n",
    "● Similarly, the next permutation of arr = [2,3,1] is [3,1,2].\n",
    "● While the next permutation of arr = [3,2,1] is [1,2,3] because [3,2,1] does not\n",
    "have a lexicographical larger rearrangement.\n",
    "\n",
    "Given an array of integers nums, find the next permutation of nums.\n",
    "The replacement must be in place and use only constant extra memory.\n",
    "\n",
    "**Example 1:**\n",
    "Input: nums = [1,2,3]\n",
    "Output: [1,3,2]\n",
    "\n",
    "</aside>"
   ]
  },
  {
   "cell_type": "code",
   "execution_count": 3,
   "id": "2e2bd0f8-5a4c-47af-a7f2-98b7b190a283",
   "metadata": {},
   "outputs": [
    {
     "name": "stdout",
     "output_type": "stream",
     "text": [
      "[1, 3, 2]\n"
     ]
    }
   ],
   "source": [
    "def nextPermutation(nums):\n",
    "    n = len(nums)\n",
    "    i = n - 2\n",
    "\n",
    "    while i >= 0 and nums[i] >= nums[i + 1]:  # Step 1\n",
    "        i -= 1\n",
    "\n",
    "    if i >= 0:\n",
    "        j = n - 1\n",
    "        while j >= 0 and nums[j] <= nums[i]:  # Step 3\n",
    "            j -= 1\n",
    "        nums[i], nums[j] = nums[j], nums[i]  # Swap elements\n",
    "\n",
    "    left = i + 1\n",
    "    right = n - 1\n",
    "    while left < right:  # Step 4\n",
    "        nums[left], nums[right] = nums[right], nums[left]\n",
    "        left += 1\n",
    "        right -= 1\n",
    "nums = [1, 2, 3]\n",
    "nextPermutation(nums)\n",
    "print(nums)  # Output: [1, 3, 2]\n"
   ]
  },
  {
   "cell_type": "markdown",
   "id": "43120606-46e1-40f4-8af5-e260afa490b8",
   "metadata": {},
   "source": [
    "Question 4\n",
    "Given a sorted array of distinct integers and a target value, return the index if the\n",
    "target is found. If not, return the index where it would be if it were inserted in\n",
    "order.\n",
    "\n",
    "You must write an algorithm with O(log n) runtime complexity.\n",
    "\n",
    "Example 1:\n",
    "Input: nums = [1,3,5,6], target = 5\n",
    "Output: 2"
   ]
  },
  {
   "cell_type": "code",
   "execution_count": 4,
   "id": "42f82219-7116-47ed-9ba8-b0f6ff3c8f38",
   "metadata": {},
   "outputs": [
    {
     "name": "stdout",
     "output_type": "stream",
     "text": [
      "2\n"
     ]
    }
   ],
   "source": [
    "def searchInsert(nums, target):\n",
    "    left = 0  # Step 1: Initialize left pointer\n",
    "    right = len(nums) - 1  # Step 1: Initialize right pointer\n",
    "\n",
    "    while left <= right:  # Step 2: Binary search\n",
    "        mid = (left + right) // 2  # Calculate middle index\n",
    "\n",
    "        if nums[mid] == target:  # Target found\n",
    "            return mid\n",
    "        elif nums[mid] > target:  # Search in the left half\n",
    "            right = mid - 1\n",
    "        else:  # Search in the right half\n",
    "            left = mid + 1\n",
    "\n",
    "    return left  # Step 3: Return left as the index where target would be inserted\n",
    "nums = [1, 3, 5, 6]\n",
    "target = 5\n",
    "result = searchInsert(nums, target)\n",
    "print(result)  # Output: 2\n"
   ]
  },
  {
   "cell_type": "markdown",
   "id": "e5e8aae0-18ca-40aa-a53a-8d140b7e6284",
   "metadata": {},
   "source": [
    "<aside>\n",
    "💡 **Question 5**\n",
    "You are given a large integer represented as an integer array digits, where each\n",
    "digits[i] is the ith digit of the integer. The digits are ordered from most significant\n",
    "to least significant in left-to-right order. The large integer does not contain any\n",
    "leading 0's.\n",
    "\n",
    "Increment the large integer by one and return the resulting array of digits.\n",
    "\n",
    "**Example 1:**\n",
    "Input: digits = [1,2,3]\n",
    "Output: [1,2,4]\n",
    "\n",
    "**Explanation:** The array represents the integer 123.\n",
    "Incrementing by one gives 123 + 1 = 124.\n",
    "Thus, the result should be [1,2,4].\n",
    "\n",
    "</aside>"
   ]
  },
  {
   "cell_type": "code",
   "execution_count": 5,
   "id": "718ac9f6-02a0-4a69-963b-cb09a1ecca76",
   "metadata": {},
   "outputs": [
    {
     "name": "stdout",
     "output_type": "stream",
     "text": [
      "[1, 2, 4]\n"
     ]
    }
   ],
   "source": [
    "def plusOne(digits):\n",
    "    n = len(digits)\n",
    "    \n",
    "    for i in range(n - 1, -1, -1):  # Step 1: Iterate from right to left\n",
    "        digits[i] += 1  # Step 2: Increment digit\n",
    "\n",
    "        if digits[i] <= 9:  # Step 3: No carry over\n",
    "            return digits\n",
    "\n",
    "        digits[i] = 0  # Step 4: Set digit to 0, carry over\n",
    "\n",
    "    digits.insert(0, 1)  # Step 6: Insert new digit 1\n",
    "\n",
    "    return digits\n",
    "digits = [1, 2, 3]\n",
    "result = plusOne(digits)\n",
    "print(result)  # Output: [1, 2, 4]\n"
   ]
  },
  {
   "cell_type": "markdown",
   "id": "f617faec-f659-49f7-bebb-0a6b8cfde0ac",
   "metadata": {},
   "source": [
    "Question 6\n",
    "Given a non-empty array of integers nums, every element appears twice except\n",
    "for one. Find that single one.\n",
    "\n",
    "You must implement a solution with a linear runtime complexity and use only\n",
    "constant extra space.\n",
    "\n",
    "Example 1:\n",
    "Input: nums = [2,2,1]\n",
    "Output: 1"
   ]
  },
  {
   "cell_type": "code",
   "execution_count": 7,
   "id": "66f5026c-32e7-4fe1-86f2-faccbf1eb6a9",
   "metadata": {},
   "outputs": [
    {
     "name": "stdout",
     "output_type": "stream",
     "text": [
      "1\n"
     ]
    }
   ],
   "source": [
    "def singleNumber(nums):\n",
    "    result = 0  # Step 1: Initialize result to 0\n",
    "\n",
    "    for num in nums:  # Step 2: Perform bitwise XOR\n",
    "        result ^= num\n",
    "\n",
    "    return result  # Step 4: Return single element\n",
    "nums = [2, 2, 1]\n",
    "result = singleNumber(nums)\n",
    "print(result)  # Output: 1\n"
   ]
  },
  {
   "cell_type": "markdown",
   "id": "28f805d5-c98a-4ac4-a718-636de832b289",
   "metadata": {},
   "source": [
    "Question 7\n",
    "You are given an inclusive range [lower, upper] and a sorted unique integer array\n",
    "nums, where all elements are within the inclusive range.\n",
    "\n",
    "A number x is considered missing if x is in the range [lower, upper] and x is not in\n",
    "nums.\n",
    "\n",
    "Return the shortest sorted list of ranges that exactly covers all the missing\n",
    "numbers. That is, no element of nums is included in any of the ranges, and each\n",
    "missing number is covered by one of the ranges.\n",
    "\n",
    "Example 1:\n",
    "Input: nums = [0,1,3,50,75], lower = 0, upper = 99\n",
    "Output: [[2,2],[4,49],[51,74],[76,99]]\n",
    "\n",
    "Explanation: The ranges are:\n",
    "[2,2]\n",
    "[4,49]\n",
    "[51,74]\n",
    "[76,99]"
   ]
  },
  {
   "cell_type": "code",
   "execution_count": 10,
   "id": "12137678-dc60-4aa6-bb46-78251b8ff3e4",
   "metadata": {},
   "outputs": [
    {
     "name": "stdout",
     "output_type": "stream",
     "text": [
      "[[0, 1], [49, 50], [52, 51], [53, 52], [54, 53], [55, 54], [56, 55], [57, 56], [58, 57], [59, 58], [60, 59], [61, 60], [62, 61], [63, 62], [64, 63], [65, 64], [66, 65], [67, 66], [68, 67], [69, 68], [70, 69], [71, 70], [72, 71], [73, 72], [74, 73], [99, 99]]\n"
     ]
    }
   ],
   "source": [
    "def findMissingRanges(nums, lower, upper):\n",
    "    result = []  # Step 1: Initialize result list\n",
    "    start = lower  # Step 2: Initialize start of range\n",
    "\n",
    "    for num in range(lower, upper + 1):  # Step 3: Iterate over the range\n",
    "        if num not in nums:  # Number is missing\n",
    "            if num == start + 1:  # Part of current range\n",
    "                start = num\n",
    "            else:  # New range\n",
    "                result.append([start, num - 1])\n",
    "                start = num + 1\n",
    "\n",
    "    if start <= upper:  # Step 4: Add last range\n",
    "        result.append([start, upper])\n",
    "\n",
    "    return result  # Step 5: Return result list\n",
    "nums = [0, 1, 3, 50, 75]\n",
    "lower = 0\n",
    "upper = 99\n",
    "result = findMissingRanges(nums, lower, upper)\n",
    "print(result) \n",
    "\n"
   ]
  },
  {
   "cell_type": "markdown",
   "id": "6f98940f-24e5-4abf-ac1c-8ffad145dab3",
   "metadata": {},
   "source": [
    "Question 8\n",
    "Given an array of meeting time intervals where intervals[i] = [starti, endi],\n",
    "determine if a person could attend all meetings.\n",
    "\n",
    "Example 1:\n",
    "Input: intervals = [[0,30],[5,10],[15,20]]\n",
    "Output: false"
   ]
  },
  {
   "cell_type": "code",
   "execution_count": 11,
   "id": "a4bdf593-2ae7-44cb-9c20-9c0576df50bb",
   "metadata": {},
   "outputs": [
    {
     "name": "stdout",
     "output_type": "stream",
     "text": [
      "False\n"
     ]
    }
   ],
   "source": [
    "def canAttendMeetings(intervals):\n",
    "    intervals.sort(key=lambda x: x[0])  # Step 1: Sort intervals by start time\n",
    "\n",
    "    for i in range(1, len(intervals)):  # Step 2: Check for overlaps\n",
    "        if intervals[i][0] < intervals[i-1][1]:\n",
    "            return False\n",
    "\n",
    "    return True  # Step 3: No overlaps, can attend all meetings\n",
    "intervals = [[0, 30], [5, 10], [15, 20]]\n",
    "result = canAttendMeetings(intervals)\n",
    "print(result)  # Output: False\n"
   ]
  },
  {
   "cell_type": "code",
   "execution_count": null,
   "id": "439eaf8a-28ac-4d7b-92cd-542ce06ca25a",
   "metadata": {},
   "outputs": [],
   "source": []
  }
 ],
 "metadata": {
  "kernelspec": {
   "display_name": "Python 3 (ipykernel)",
   "language": "python",
   "name": "python3"
  },
  "language_info": {
   "codemirror_mode": {
    "name": "ipython",
    "version": 3
   },
   "file_extension": ".py",
   "mimetype": "text/x-python",
   "name": "python",
   "nbconvert_exporter": "python",
   "pygments_lexer": "ipython3",
   "version": "3.10.8"
  }
 },
 "nbformat": 4,
 "nbformat_minor": 5
}
