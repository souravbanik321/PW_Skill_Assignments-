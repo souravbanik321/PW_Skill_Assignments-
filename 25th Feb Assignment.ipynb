{
 "cells": [
  {
   "cell_type": "markdown",
   "id": "6dbb4dd8-0d2b-4637-b3aa-be2c62242852",
   "metadata": {},
   "source": [
    "Consider following code to answer further questions:\n"
   ]
  },
  {
   "cell_type": "code",
   "execution_count": 4,
   "id": "95b54eab-b88b-4e5f-8bcf-f332750fb76d",
   "metadata": {},
   "outputs": [],
   "source": [
    "# Consider following code to answer further questions:\n",
    "# import pandas as pd\n",
    "# course_name = [‘Data Science’, ‘Machine Learning’, ‘Big Data’, ‘Data Engineer’]\n",
    "# duration = [2,3,6,4]\n",
    "# df = pd.DataFrame(data = {‘course_name’ : course_name, ‘duration’ : duration})"
   ]
  },
  {
   "cell_type": "markdown",
   "id": "5fa313c6-cd56-4ed8-84a6-e10cbbf604ab",
   "metadata": {},
   "source": [
    " ## Q1. Write a code to print the data present in the second row of the dataframe, df."
   ]
  },
  {
   "cell_type": "code",
   "execution_count": 5,
   "id": "0f13b0c3-524c-4293-97c3-f13fb66045e5",
   "metadata": {},
   "outputs": [
    {
     "name": "stdout",
     "output_type": "stream",
     "text": [
      "course_name    Machine Learning\n",
      "duration                      3\n",
      "Name: 1, dtype: object\n"
     ]
    }
   ],
   "source": [
    "import pandas as pd\n",
    "\n",
    "# Create the DataFrame\n",
    "course_name = ['Data Science', 'Machine Learning', 'Big Data', 'Data Engineer']\n",
    "duration = [2,3,6,4]\n",
    "df = pd.DataFrame(data = {'course_name' : course_name, 'duration' : duration})\n",
    "\n",
    "# Print the second row of the DataFrame\n",
    "print(df.iloc[1])"
   ]
  },
  {
   "cell_type": "markdown",
   "id": "fd61474d-0fc1-464a-b980-c0e3c13950b5",
   "metadata": {},
   "source": [
    "## Q2. What is the difference between the functions loc and iloc in pandas.DataFrame?"
   ]
  },
  {
   "cell_type": "markdown",
   "id": "ec9933f5-b942-4c5d-ad37-c49a31d1f710",
   "metadata": {},
   "source": [
    "`loc` and `iloc` are both used for indexing and selecting data in a pandas DataFrame, but they work differently:\n",
    "\n",
    "`loc`: This function is used to select data from a DataFrame using labels (i.e. row and column names). It takes the form `df.loc[row_label, column_label]` and returns the data at the specified row and column. You can also pass in a boolean array or a conditional statement to filter rows or columns.\n",
    "\n",
    "`iloc`: This function is used to select data from a DataFrame using integer-based indexing (i.e. position). It takes the form `df.iloc[row_index, column_index]` and returns the data at the specified row and column position. You can also pass in a slice object or a list of integer positions to select multiple rows or columns.\n",
    "\n",
    "example to illustrate the difference between `loc` and `iloc`:"
   ]
  },
  {
   "cell_type": "code",
   "execution_count": 7,
   "id": "f7a45211-bc05-45f8-b69e-f93bc4efaec4",
   "metadata": {},
   "outputs": [
    {
     "name": "stdout",
     "output_type": "stream",
     "text": [
      "1\n",
      "\n",
      "      A  B\n",
      "row1  1  4\n",
      "row2  2  5\n"
     ]
    }
   ],
   "source": [
    "import pandas as pd\n",
    "\n",
    "# Create a sample DataFrame\n",
    "df = pd.DataFrame({'A': [1, 2, 3], 'B': [4, 5, 6], 'C': [7, 8, 9]}, index=['row1', 'row2', 'row3'])\n",
    "\n",
    "# Access data using loc function\n",
    "print(df.loc['row1', 'A'])\n",
    "# Output: 1\n",
    "\n",
    "print()\n",
    "\n",
    "\n",
    "print(df.loc[['row1', 'row2'], ['A', 'B']])  \n",
    "#Output \n",
    "#    A  B\n",
    "# row1  1  4\n",
    "# row2  2  5\n"
   ]
  },
  {
   "cell_type": "markdown",
   "id": "bfe5422d-d82c-4d1d-8ec4-2adae69c15db",
   "metadata": {},
   "source": [
    "## Q3. Reindex the given dataframe using a variable, reindex = [3,0,1,2] and store it in the variable, new_df then find the output for both new_df.loc[2] and new_df.iloc[2].Did you observe any difference in both the outputs? If so then explain it.\n"
   ]
  },
  {
   "cell_type": "markdown",
   "id": "0d3f4ad7-2a5a-4655-84d1-1d42e95ed660",
   "metadata": {},
   "source": [
    "Consider the below code to answer further questions:"
   ]
  },
  {
   "cell_type": "code",
   "execution_count": 9,
   "id": "4361ab2f-8e1c-4851-9352-9c6c56fb75d9",
   "metadata": {},
   "outputs": [],
   "source": [
    "#import pandas as pd\n",
    "#import numpy as np\n",
    "#columns = ['column_1', 'column_2', 'column_3', 'column_4', 'column_5', 'column_6']\n",
    "#indices = [1,2,3,4,5,6]\n",
    "  #Creating a dataframe:\n",
    "#df1 = pd.DataFrame(np.random.rand(6,6), columns = columns, index = indices)"
   ]
  },
  {
   "cell_type": "code",
   "execution_count": 10,
   "id": "667e7707-c250-4375-b91c-7458a65c3e31",
   "metadata": {},
   "outputs": [
    {
     "name": "stdout",
     "output_type": "stream",
     "text": [
      "        course_name  duration\n",
      "0      Data Science         2\n",
      "1  Machine Learning         3\n",
      "2          Big Data         6\n",
      "3     Data Engineer         4\n"
     ]
    }
   ],
   "source": [
    "import pandas as pd\n",
    "\n",
    "# Create the DataFrame\n",
    "course_name = ['Data Science', 'Machine Learning', 'Big Data', 'Data Engineer']\n",
    "duration = [2,3,6,4]\n",
    "df = pd.DataFrame(data = {'course_name' : course_name, 'duration' : duration})\n",
    "\n",
    "#Printing original dataframe\n",
    "print(df)"
   ]
  },
  {
   "cell_type": "code",
   "execution_count": 11,
   "id": "28bf49fa-8e9e-447e-b5c4-83550752b37c",
   "metadata": {},
   "outputs": [
    {
     "name": "stdout",
     "output_type": "stream",
     "text": [
      "        course_name  duration\n",
      "3     Data Engineer         4\n",
      "0      Data Science         2\n",
      "1  Machine Learning         3\n",
      "2          Big Data         6\n",
      "--+----+----+----+----+----+----+----+--\n",
      "course_name    Big Data\n",
      "duration              6\n",
      "Name: 2, dtype: object\n",
      "--+----+----+----+----+----+----+----+--\n",
      "course_name    Machine Learning\n",
      "duration                      3\n",
      "Name: 1, dtype: object\n"
     ]
    }
   ],
   "source": [
    "reindex = [3,0,1,2]\n",
    "\n",
    "#Reindexing\n",
    "new_df = df.reindex(reindex)\n",
    "\n",
    "\n",
    "print(new_df)\n",
    "print(\"--+--\"*8)\n",
    "\n",
    "#prints output for both new_df.loc[2]\n",
    "print(new_df.loc[2])\n",
    "\n",
    "print(\"--+--\"*8)\n",
    "\n",
    "#prints output for both new_df.iloc[2]\n",
    "print(new_df.iloc[2])"
   ]
  },
  {
   "cell_type": "markdown",
   "id": "8dccb8d0-eaf7-44ee-bfe6-7157dcbc939c",
   "metadata": {},
   "source": [
    "## Q4. Write a code to find the following statistical measurements for the above dataframe df1:\n",
    "\n",
    "### (i) mean of each and every column present in the dataframe.\n",
    "### (ii) standard deviation of column, ‘column_2’"
   ]
  },
  {
   "cell_type": "code",
   "execution_count": 12,
   "id": "dbcca8f6-5b54-4160-b61f-937c3f2599fa",
   "metadata": {},
   "outputs": [
    {
     "name": "stdout",
     "output_type": "stream",
     "text": [
      "Column Means:\n",
      " column_1    0.540661\n",
      "column_2    0.396957\n",
      "column_3    0.428289\n",
      "column_4    0.496992\n",
      "column_5    0.541206\n",
      "column_6    0.282715\n",
      "dtype: float64\n",
      "\n",
      "----+--------+--------+--------+--------+----\n",
      "\n",
      "Standard Deviation of Column 2: 0.34679893654486305\n"
     ]
    }
   ],
   "source": [
    "import pandas as pd\n",
    "import numpy as np\n",
    "\n",
    "columns = ['column_1', 'column_2', 'column_3', 'column_4', 'column_5', 'column_6']\n",
    "indices = [1, 2, 3, 4, 5, 6]\n",
    "\n",
    "# Creating a dataframe\n",
    "df1 = pd.DataFrame(np.random.rand(6, 6), columns=columns, index=indices)\n",
    "\n",
    "# (i) Mean of each and every column present in the dataframe\n",
    "column_means = df1.mean()\n",
    "print('Column Means:\\n', column_means)\n",
    "\n",
    "print(\"\\n\"+ \"----+----\"*5 + \"\\n\")\n",
    "\n",
    "# (ii) Standard deviation of column, ‘column_2’\n",
    "column_std = df1['column_2'].std()\n",
    "print('Standard Deviation of Column 2:', column_std)"
   ]
  },
  {
   "cell_type": "markdown",
   "id": "998af856-44aa-462d-86cb-d70f2c60efe7",
   "metadata": {},
   "source": [
    "## Q5. Replace the data present in the second row of column, ‘column_2’ by a string variable then find the mean of column, column_2.If you are getting errors in executing it then explain why.\n",
    "## Hint: To replace the data use df1.loc[] and equate this to string data of your choice.]"
   ]
  },
  {
   "cell_type": "code",
   "execution_count": 14,
   "id": "1a51011a-ea11-47ba-a82f-06d8f334cd02",
   "metadata": {},
   "outputs": [
    {
     "name": "stdout",
     "output_type": "stream",
     "text": [
      "   column_1  column_2  column_3  column_4  column_5  column_6\n",
      "1  0.467656  0.193297  0.953668  0.089264  0.633374  0.647800\n",
      "2  0.876356  0.138467  0.138069  0.250945  0.727503  0.834664\n",
      "3  0.413163  0.850313  0.706391  0.872549  0.509026  0.774466\n",
      "4  0.929090  0.488378  0.943966  0.573688  0.094432  0.814228\n",
      "5  0.928848  0.965996  0.222883  0.198538  0.365171  0.292038\n",
      "6  0.193785  0.020403  0.226212  0.637177  0.275686  0.876970\n",
      "   column_1            column_2  column_3  column_4  column_5  column_6\n",
      "1  0.467656            0.193297  0.953668  0.089264  0.633374  0.647800\n",
      "2  0.876356  replacement_string  0.138069  0.250945  0.727503  0.834664\n",
      "3  0.413163            0.850313  0.706391  0.872549  0.509026  0.774466\n",
      "4  0.929090            0.488378  0.943966  0.573688  0.094432  0.814228\n",
      "5  0.928848            0.965996  0.222883  0.198538  0.365171  0.292038\n",
      "6  0.193785            0.020403  0.226212  0.637177  0.275686  0.876970\n"
     ]
    },
    {
     "ename": "TypeError",
     "evalue": "unsupported operand type(s) for +: 'float' and 'str'",
     "output_type": "error",
     "traceback": [
      "\u001b[0;31m---------------------------------------------------------------------------\u001b[0m",
      "\u001b[0;31mTypeError\u001b[0m                                 Traceback (most recent call last)",
      "Cell \u001b[0;32mIn[14], line 16\u001b[0m\n\u001b[1;32m     13\u001b[0m \u001b[38;5;28mprint\u001b[39m(df1)\n\u001b[1;32m     15\u001b[0m \u001b[38;5;66;03m# find the mean of column_2\u001b[39;00m\n\u001b[0;32m---> 16\u001b[0m mean_column_2 \u001b[38;5;241m=\u001b[39m \u001b[43mdf1\u001b[49m\u001b[43m[\u001b[49m\u001b[38;5;124;43m'\u001b[39;49m\u001b[38;5;124;43mcolumn_2\u001b[39;49m\u001b[38;5;124;43m'\u001b[39;49m\u001b[43m]\u001b[49m\u001b[38;5;241;43m.\u001b[39;49m\u001b[43mmean\u001b[49m\u001b[43m(\u001b[49m\u001b[43m)\u001b[49m\n\u001b[1;32m     18\u001b[0m \u001b[38;5;28mprint\u001b[39m(mean_column_2)\n",
      "File \u001b[0;32m/opt/conda/lib/python3.10/site-packages/pandas/core/generic.py:11847\u001b[0m, in \u001b[0;36mNDFrame._add_numeric_operations.<locals>.mean\u001b[0;34m(self, axis, skipna, level, numeric_only, **kwargs)\u001b[0m\n\u001b[1;32m  11829\u001b[0m \u001b[38;5;129m@doc\u001b[39m(\n\u001b[1;32m  11830\u001b[0m     _num_doc,\n\u001b[1;32m  11831\u001b[0m     desc\u001b[38;5;241m=\u001b[39m\u001b[38;5;124m\"\u001b[39m\u001b[38;5;124mReturn the mean of the values over the requested axis.\u001b[39m\u001b[38;5;124m\"\u001b[39m,\n\u001b[0;32m   (...)\u001b[0m\n\u001b[1;32m  11845\u001b[0m     \u001b[38;5;241m*\u001b[39m\u001b[38;5;241m*\u001b[39mkwargs,\n\u001b[1;32m  11846\u001b[0m ):\n\u001b[0;32m> 11847\u001b[0m     \u001b[38;5;28;01mreturn\u001b[39;00m \u001b[43mNDFrame\u001b[49m\u001b[38;5;241;43m.\u001b[39;49m\u001b[43mmean\u001b[49m\u001b[43m(\u001b[49m\u001b[38;5;28;43mself\u001b[39;49m\u001b[43m,\u001b[49m\u001b[43m \u001b[49m\u001b[43maxis\u001b[49m\u001b[43m,\u001b[49m\u001b[43m \u001b[49m\u001b[43mskipna\u001b[49m\u001b[43m,\u001b[49m\u001b[43m \u001b[49m\u001b[43mlevel\u001b[49m\u001b[43m,\u001b[49m\u001b[43m \u001b[49m\u001b[43mnumeric_only\u001b[49m\u001b[43m,\u001b[49m\u001b[43m \u001b[49m\u001b[38;5;241;43m*\u001b[39;49m\u001b[38;5;241;43m*\u001b[39;49m\u001b[43mkwargs\u001b[49m\u001b[43m)\u001b[49m\n",
      "File \u001b[0;32m/opt/conda/lib/python3.10/site-packages/pandas/core/generic.py:11401\u001b[0m, in \u001b[0;36mNDFrame.mean\u001b[0;34m(self, axis, skipna, level, numeric_only, **kwargs)\u001b[0m\n\u001b[1;32m  11393\u001b[0m \u001b[38;5;28;01mdef\u001b[39;00m \u001b[38;5;21mmean\u001b[39m(\n\u001b[1;32m  11394\u001b[0m     \u001b[38;5;28mself\u001b[39m,\n\u001b[1;32m  11395\u001b[0m     axis: Axis \u001b[38;5;241m|\u001b[39m \u001b[38;5;28;01mNone\u001b[39;00m \u001b[38;5;241m|\u001b[39m lib\u001b[38;5;241m.\u001b[39mNoDefault \u001b[38;5;241m=\u001b[39m lib\u001b[38;5;241m.\u001b[39mno_default,\n\u001b[0;32m   (...)\u001b[0m\n\u001b[1;32m  11399\u001b[0m     \u001b[38;5;241m*\u001b[39m\u001b[38;5;241m*\u001b[39mkwargs,\n\u001b[1;32m  11400\u001b[0m ) \u001b[38;5;241m-\u001b[39m\u001b[38;5;241m>\u001b[39m Series \u001b[38;5;241m|\u001b[39m \u001b[38;5;28mfloat\u001b[39m:\n\u001b[0;32m> 11401\u001b[0m     \u001b[38;5;28;01mreturn\u001b[39;00m \u001b[38;5;28;43mself\u001b[39;49m\u001b[38;5;241;43m.\u001b[39;49m\u001b[43m_stat_function\u001b[49m\u001b[43m(\u001b[49m\n\u001b[1;32m  11402\u001b[0m \u001b[43m        \u001b[49m\u001b[38;5;124;43m\"\u001b[39;49m\u001b[38;5;124;43mmean\u001b[39;49m\u001b[38;5;124;43m\"\u001b[39;49m\u001b[43m,\u001b[49m\u001b[43m \u001b[49m\u001b[43mnanops\u001b[49m\u001b[38;5;241;43m.\u001b[39;49m\u001b[43mnanmean\u001b[49m\u001b[43m,\u001b[49m\u001b[43m \u001b[49m\u001b[43maxis\u001b[49m\u001b[43m,\u001b[49m\u001b[43m \u001b[49m\u001b[43mskipna\u001b[49m\u001b[43m,\u001b[49m\u001b[43m \u001b[49m\u001b[43mlevel\u001b[49m\u001b[43m,\u001b[49m\u001b[43m \u001b[49m\u001b[43mnumeric_only\u001b[49m\u001b[43m,\u001b[49m\u001b[43m \u001b[49m\u001b[38;5;241;43m*\u001b[39;49m\u001b[38;5;241;43m*\u001b[39;49m\u001b[43mkwargs\u001b[49m\n\u001b[1;32m  11403\u001b[0m \u001b[43m    \u001b[49m\u001b[43m)\u001b[49m\n",
      "File \u001b[0;32m/opt/conda/lib/python3.10/site-packages/pandas/core/generic.py:11353\u001b[0m, in \u001b[0;36mNDFrame._stat_function\u001b[0;34m(self, name, func, axis, skipna, level, numeric_only, **kwargs)\u001b[0m\n\u001b[1;32m  11343\u001b[0m     warnings\u001b[38;5;241m.\u001b[39mwarn(\n\u001b[1;32m  11344\u001b[0m         \u001b[38;5;124m\"\u001b[39m\u001b[38;5;124mUsing the level keyword in DataFrame and Series aggregations is \u001b[39m\u001b[38;5;124m\"\u001b[39m\n\u001b[1;32m  11345\u001b[0m         \u001b[38;5;124m\"\u001b[39m\u001b[38;5;124mdeprecated and will be removed in a future version. Use groupby \u001b[39m\u001b[38;5;124m\"\u001b[39m\n\u001b[0;32m   (...)\u001b[0m\n\u001b[1;32m  11348\u001b[0m         stacklevel\u001b[38;5;241m=\u001b[39mfind_stack_level(),\n\u001b[1;32m  11349\u001b[0m     )\n\u001b[1;32m  11350\u001b[0m     \u001b[38;5;28;01mreturn\u001b[39;00m \u001b[38;5;28mself\u001b[39m\u001b[38;5;241m.\u001b[39m_agg_by_level(\n\u001b[1;32m  11351\u001b[0m         name, axis\u001b[38;5;241m=\u001b[39maxis, level\u001b[38;5;241m=\u001b[39mlevel, skipna\u001b[38;5;241m=\u001b[39mskipna, numeric_only\u001b[38;5;241m=\u001b[39mnumeric_only\n\u001b[1;32m  11352\u001b[0m     )\n\u001b[0;32m> 11353\u001b[0m \u001b[38;5;28;01mreturn\u001b[39;00m \u001b[38;5;28;43mself\u001b[39;49m\u001b[38;5;241;43m.\u001b[39;49m\u001b[43m_reduce\u001b[49m\u001b[43m(\u001b[49m\n\u001b[1;32m  11354\u001b[0m \u001b[43m    \u001b[49m\u001b[43mfunc\u001b[49m\u001b[43m,\u001b[49m\u001b[43m \u001b[49m\u001b[43mname\u001b[49m\u001b[38;5;241;43m=\u001b[39;49m\u001b[43mname\u001b[49m\u001b[43m,\u001b[49m\u001b[43m \u001b[49m\u001b[43maxis\u001b[49m\u001b[38;5;241;43m=\u001b[39;49m\u001b[43maxis\u001b[49m\u001b[43m,\u001b[49m\u001b[43m \u001b[49m\u001b[43mskipna\u001b[49m\u001b[38;5;241;43m=\u001b[39;49m\u001b[43mskipna\u001b[49m\u001b[43m,\u001b[49m\u001b[43m \u001b[49m\u001b[43mnumeric_only\u001b[49m\u001b[38;5;241;43m=\u001b[39;49m\u001b[43mnumeric_only\u001b[49m\n\u001b[1;32m  11355\u001b[0m \u001b[43m\u001b[49m\u001b[43m)\u001b[49m\n",
      "File \u001b[0;32m/opt/conda/lib/python3.10/site-packages/pandas/core/series.py:4816\u001b[0m, in \u001b[0;36mSeries._reduce\u001b[0;34m(self, op, name, axis, skipna, numeric_only, filter_type, **kwds)\u001b[0m\n\u001b[1;32m   4812\u001b[0m     \u001b[38;5;28;01mraise\u001b[39;00m \u001b[38;5;167;01mNotImplementedError\u001b[39;00m(\n\u001b[1;32m   4813\u001b[0m         \u001b[38;5;124mf\u001b[39m\u001b[38;5;124m\"\u001b[39m\u001b[38;5;124mSeries.\u001b[39m\u001b[38;5;132;01m{\u001b[39;00mname\u001b[38;5;132;01m}\u001b[39;00m\u001b[38;5;124m does not implement \u001b[39m\u001b[38;5;132;01m{\u001b[39;00mkwd_name\u001b[38;5;132;01m}\u001b[39;00m\u001b[38;5;124m.\u001b[39m\u001b[38;5;124m\"\u001b[39m\n\u001b[1;32m   4814\u001b[0m     )\n\u001b[1;32m   4815\u001b[0m \u001b[38;5;28;01mwith\u001b[39;00m np\u001b[38;5;241m.\u001b[39merrstate(\u001b[38;5;28mall\u001b[39m\u001b[38;5;241m=\u001b[39m\u001b[38;5;124m\"\u001b[39m\u001b[38;5;124mignore\u001b[39m\u001b[38;5;124m\"\u001b[39m):\n\u001b[0;32m-> 4816\u001b[0m     \u001b[38;5;28;01mreturn\u001b[39;00m \u001b[43mop\u001b[49m\u001b[43m(\u001b[49m\u001b[43mdelegate\u001b[49m\u001b[43m,\u001b[49m\u001b[43m \u001b[49m\u001b[43mskipna\u001b[49m\u001b[38;5;241;43m=\u001b[39;49m\u001b[43mskipna\u001b[49m\u001b[43m,\u001b[49m\u001b[43m \u001b[49m\u001b[38;5;241;43m*\u001b[39;49m\u001b[38;5;241;43m*\u001b[39;49m\u001b[43mkwds\u001b[49m\u001b[43m)\u001b[49m\n",
      "File \u001b[0;32m/opt/conda/lib/python3.10/site-packages/pandas/core/nanops.py:93\u001b[0m, in \u001b[0;36mdisallow.__call__.<locals>._f\u001b[0;34m(*args, **kwargs)\u001b[0m\n\u001b[1;32m     91\u001b[0m \u001b[38;5;28;01mtry\u001b[39;00m:\n\u001b[1;32m     92\u001b[0m     \u001b[38;5;28;01mwith\u001b[39;00m np\u001b[38;5;241m.\u001b[39merrstate(invalid\u001b[38;5;241m=\u001b[39m\u001b[38;5;124m\"\u001b[39m\u001b[38;5;124mignore\u001b[39m\u001b[38;5;124m\"\u001b[39m):\n\u001b[0;32m---> 93\u001b[0m         \u001b[38;5;28;01mreturn\u001b[39;00m \u001b[43mf\u001b[49m\u001b[43m(\u001b[49m\u001b[38;5;241;43m*\u001b[39;49m\u001b[43margs\u001b[49m\u001b[43m,\u001b[49m\u001b[43m \u001b[49m\u001b[38;5;241;43m*\u001b[39;49m\u001b[38;5;241;43m*\u001b[39;49m\u001b[43mkwargs\u001b[49m\u001b[43m)\u001b[49m\n\u001b[1;32m     94\u001b[0m \u001b[38;5;28;01mexcept\u001b[39;00m \u001b[38;5;167;01mValueError\u001b[39;00m \u001b[38;5;28;01mas\u001b[39;00m e:\n\u001b[1;32m     95\u001b[0m     \u001b[38;5;66;03m# we want to transform an object array\u001b[39;00m\n\u001b[1;32m     96\u001b[0m     \u001b[38;5;66;03m# ValueError message to the more typical TypeError\u001b[39;00m\n\u001b[1;32m     97\u001b[0m     \u001b[38;5;66;03m# e.g. this is normally a disallowed function on\u001b[39;00m\n\u001b[1;32m     98\u001b[0m     \u001b[38;5;66;03m# object arrays that contain strings\u001b[39;00m\n\u001b[1;32m     99\u001b[0m     \u001b[38;5;28;01mif\u001b[39;00m is_object_dtype(args[\u001b[38;5;241m0\u001b[39m]):\n",
      "File \u001b[0;32m/opt/conda/lib/python3.10/site-packages/pandas/core/nanops.py:155\u001b[0m, in \u001b[0;36mbottleneck_switch.__call__.<locals>.f\u001b[0;34m(values, axis, skipna, **kwds)\u001b[0m\n\u001b[1;32m    153\u001b[0m         result \u001b[38;5;241m=\u001b[39m alt(values, axis\u001b[38;5;241m=\u001b[39maxis, skipna\u001b[38;5;241m=\u001b[39mskipna, \u001b[38;5;241m*\u001b[39m\u001b[38;5;241m*\u001b[39mkwds)\n\u001b[1;32m    154\u001b[0m \u001b[38;5;28;01melse\u001b[39;00m:\n\u001b[0;32m--> 155\u001b[0m     result \u001b[38;5;241m=\u001b[39m \u001b[43malt\u001b[49m\u001b[43m(\u001b[49m\u001b[43mvalues\u001b[49m\u001b[43m,\u001b[49m\u001b[43m \u001b[49m\u001b[43maxis\u001b[49m\u001b[38;5;241;43m=\u001b[39;49m\u001b[43maxis\u001b[49m\u001b[43m,\u001b[49m\u001b[43m \u001b[49m\u001b[43mskipna\u001b[49m\u001b[38;5;241;43m=\u001b[39;49m\u001b[43mskipna\u001b[49m\u001b[43m,\u001b[49m\u001b[43m \u001b[49m\u001b[38;5;241;43m*\u001b[39;49m\u001b[38;5;241;43m*\u001b[39;49m\u001b[43mkwds\u001b[49m\u001b[43m)\u001b[49m\n\u001b[1;32m    157\u001b[0m \u001b[38;5;28;01mreturn\u001b[39;00m result\n",
      "File \u001b[0;32m/opt/conda/lib/python3.10/site-packages/pandas/core/nanops.py:418\u001b[0m, in \u001b[0;36m_datetimelike_compat.<locals>.new_func\u001b[0;34m(values, axis, skipna, mask, **kwargs)\u001b[0m\n\u001b[1;32m    415\u001b[0m \u001b[38;5;28;01mif\u001b[39;00m datetimelike \u001b[38;5;129;01mand\u001b[39;00m mask \u001b[38;5;129;01mis\u001b[39;00m \u001b[38;5;28;01mNone\u001b[39;00m:\n\u001b[1;32m    416\u001b[0m     mask \u001b[38;5;241m=\u001b[39m isna(values)\n\u001b[0;32m--> 418\u001b[0m result \u001b[38;5;241m=\u001b[39m \u001b[43mfunc\u001b[49m\u001b[43m(\u001b[49m\u001b[43mvalues\u001b[49m\u001b[43m,\u001b[49m\u001b[43m \u001b[49m\u001b[43maxis\u001b[49m\u001b[38;5;241;43m=\u001b[39;49m\u001b[43maxis\u001b[49m\u001b[43m,\u001b[49m\u001b[43m \u001b[49m\u001b[43mskipna\u001b[49m\u001b[38;5;241;43m=\u001b[39;49m\u001b[43mskipna\u001b[49m\u001b[43m,\u001b[49m\u001b[43m \u001b[49m\u001b[43mmask\u001b[49m\u001b[38;5;241;43m=\u001b[39;49m\u001b[43mmask\u001b[49m\u001b[43m,\u001b[49m\u001b[43m \u001b[49m\u001b[38;5;241;43m*\u001b[39;49m\u001b[38;5;241;43m*\u001b[39;49m\u001b[43mkwargs\u001b[49m\u001b[43m)\u001b[49m\n\u001b[1;32m    420\u001b[0m \u001b[38;5;28;01mif\u001b[39;00m datetimelike:\n\u001b[1;32m    421\u001b[0m     result \u001b[38;5;241m=\u001b[39m _wrap_results(result, orig_values\u001b[38;5;241m.\u001b[39mdtype, fill_value\u001b[38;5;241m=\u001b[39miNaT)\n",
      "File \u001b[0;32m/opt/conda/lib/python3.10/site-packages/pandas/core/nanops.py:706\u001b[0m, in \u001b[0;36mnanmean\u001b[0;34m(values, axis, skipna, mask)\u001b[0m\n\u001b[1;32m    703\u001b[0m     dtype_count \u001b[38;5;241m=\u001b[39m dtype\n\u001b[1;32m    705\u001b[0m count \u001b[38;5;241m=\u001b[39m _get_counts(values\u001b[38;5;241m.\u001b[39mshape, mask, axis, dtype\u001b[38;5;241m=\u001b[39mdtype_count)\n\u001b[0;32m--> 706\u001b[0m the_sum \u001b[38;5;241m=\u001b[39m _ensure_numeric(\u001b[43mvalues\u001b[49m\u001b[38;5;241;43m.\u001b[39;49m\u001b[43msum\u001b[49m\u001b[43m(\u001b[49m\u001b[43maxis\u001b[49m\u001b[43m,\u001b[49m\u001b[43m \u001b[49m\u001b[43mdtype\u001b[49m\u001b[38;5;241;43m=\u001b[39;49m\u001b[43mdtype_sum\u001b[49m\u001b[43m)\u001b[49m)\n\u001b[1;32m    708\u001b[0m \u001b[38;5;28;01mif\u001b[39;00m axis \u001b[38;5;129;01mis\u001b[39;00m \u001b[38;5;129;01mnot\u001b[39;00m \u001b[38;5;28;01mNone\u001b[39;00m \u001b[38;5;129;01mand\u001b[39;00m \u001b[38;5;28mgetattr\u001b[39m(the_sum, \u001b[38;5;124m\"\u001b[39m\u001b[38;5;124mndim\u001b[39m\u001b[38;5;124m\"\u001b[39m, \u001b[38;5;28;01mFalse\u001b[39;00m):\n\u001b[1;32m    709\u001b[0m     count \u001b[38;5;241m=\u001b[39m cast(np\u001b[38;5;241m.\u001b[39mndarray, count)\n",
      "File \u001b[0;32m/opt/conda/lib/python3.10/site-packages/numpy/core/_methods.py:48\u001b[0m, in \u001b[0;36m_sum\u001b[0;34m(a, axis, dtype, out, keepdims, initial, where)\u001b[0m\n\u001b[1;32m     46\u001b[0m \u001b[38;5;28;01mdef\u001b[39;00m \u001b[38;5;21m_sum\u001b[39m(a, axis\u001b[38;5;241m=\u001b[39m\u001b[38;5;28;01mNone\u001b[39;00m, dtype\u001b[38;5;241m=\u001b[39m\u001b[38;5;28;01mNone\u001b[39;00m, out\u001b[38;5;241m=\u001b[39m\u001b[38;5;28;01mNone\u001b[39;00m, keepdims\u001b[38;5;241m=\u001b[39m\u001b[38;5;28;01mFalse\u001b[39;00m,\n\u001b[1;32m     47\u001b[0m          initial\u001b[38;5;241m=\u001b[39m_NoValue, where\u001b[38;5;241m=\u001b[39m\u001b[38;5;28;01mTrue\u001b[39;00m):\n\u001b[0;32m---> 48\u001b[0m     \u001b[38;5;28;01mreturn\u001b[39;00m \u001b[43mumr_sum\u001b[49m\u001b[43m(\u001b[49m\u001b[43ma\u001b[49m\u001b[43m,\u001b[49m\u001b[43m \u001b[49m\u001b[43maxis\u001b[49m\u001b[43m,\u001b[49m\u001b[43m \u001b[49m\u001b[43mdtype\u001b[49m\u001b[43m,\u001b[49m\u001b[43m \u001b[49m\u001b[43mout\u001b[49m\u001b[43m,\u001b[49m\u001b[43m \u001b[49m\u001b[43mkeepdims\u001b[49m\u001b[43m,\u001b[49m\u001b[43m \u001b[49m\u001b[43minitial\u001b[49m\u001b[43m,\u001b[49m\u001b[43m \u001b[49m\u001b[43mwhere\u001b[49m\u001b[43m)\u001b[49m\n",
      "\u001b[0;31mTypeError\u001b[0m: unsupported operand type(s) for +: 'float' and 'str'"
     ]
    }
   ],
   "source": [
    "import pandas as pd\n",
    "import numpy as np\n",
    "\n",
    "columns = ['column_1', 'column_2', 'column_3', 'column_4', 'column_5', 'column_6']\n",
    "indices = [1,2,3,4,5,6]\n",
    "\n",
    "#Creating a dataframe:\n",
    "df1 = pd.DataFrame(np.random.rand(6,6), columns = columns, index = indices)\n",
    "print(df1)\n",
    "\n",
    "# replace the data in the second row of column_2 by a string variable\n",
    "df1.loc[2, 'column_2'] = 'replacement_string'\n",
    "print(df1)\n",
    "\n",
    "# find the mean of column_2\n",
    "mean_column_2 = df1['column_2'].mean()\n",
    "\n",
    "print(mean_column_2)"
   ]
  },
  {
   "cell_type": "markdown",
   "id": "2e42aef8-3abb-456a-98b1-588def56b78e",
   "metadata": {},
   "source": [
    "Yes, we will get a TypeError: unsupported operand type(s) for +: 'float' and 'str' . This error occurs because Python doesn't know how to add a string and a float together while calculating the mean."
   ]
  },
  {
   "cell_type": "markdown",
   "id": "b3d05b0c-225f-4ae6-882a-e781bafb2123",
   "metadata": {},
   "source": [
    "## Q6. What do you understand about the windows function in pandas and list the types of windows functions?"
   ]
  },
  {
   "cell_type": "markdown",
   "id": "51de0042-755e-46db-ae0d-815541758a78",
   "metadata": {},
   "source": [
    "In pandas, a window function is a function that operates on a sliding window of data, which is defined by a window size and an optional window offset. Window functions are used to calculate aggregate statistics and other operations over a rolling or expanding window of data, rather than over the entire dataset.\n",
    "\n",
    "There are several types of window functions in pandas, including:\n",
    "\n",
    "1)`Rolling window functions`: These functions operate on a fixed-size window of data that slides over the data frame. Examples of rolling window functions include rolling, expanding, rolling_apply, and rolling_corr.\n",
    "\n"
   ]
  },
  {
   "cell_type": "code",
   "execution_count": 17,
   "id": "79df9a81-fb61-4a9e-9440-0d1e696257d8",
   "metadata": {},
   "outputs": [
    {
     "name": "stdout",
     "output_type": "stream",
     "text": [
      "   value\n",
      "0    NaN\n",
      "1    3.0\n",
      "2    5.0\n",
      "3    7.0\n",
      "4    9.0\n"
     ]
    }
   ],
   "source": [
    "import pandas as pd\n",
    "\n",
    "# Create a data frame\n",
    "df = pd.DataFrame({'value': [1, 2, 3, 4, 5]})\n",
    "\n",
    "# Calculate the rolling sum over a window of size 2\n",
    "rolling_sum = df.rolling(window=2).sum()\n",
    "\n",
    "print(rolling_sum)"
   ]
  },
  {
   "cell_type": "markdown",
   "id": "77128af3-544f-4410-952a-04079b708409",
   "metadata": {},
   "source": [
    "2)`Expanding window functions`: These functions operate on a growing window of data that starts at the beginning of the data frame and expands until it encompasses the entire dataset. Examples of expanding window functions include expanding, expanding_apply, and expanding_sum.\n"
   ]
  },
  {
   "cell_type": "code",
   "execution_count": 18,
   "id": "2cc35e5e-8a00-4d32-ae49-c094da3f8bd9",
   "metadata": {},
   "outputs": [
    {
     "name": "stdout",
     "output_type": "stream",
     "text": [
      "   value\n",
      "0    1.0\n",
      "1    3.0\n",
      "2    6.0\n",
      "3   10.0\n",
      "4   15.0\n"
     ]
    }
   ],
   "source": [
    "import pandas as pd\n",
    "\n",
    "# Create a data frame\n",
    "df = pd.DataFrame({'value': [1, 2, 3, 4, 5]})\n",
    "\n",
    "# Calculate the expanding sum of the data\n",
    "expanding_sum = df.expanding().sum()\n",
    "\n",
    "print(expanding_sum)"
   ]
  },
  {
   "cell_type": "markdown",
   "id": "c0f4f97d-371a-4690-bfd0-cf44cf7ad58a",
   "metadata": {},
   "source": [
    "\n",
    "3)`Exponential weighted window functions`: These functions apply weights that decrease exponentially as the distance from the current point increases. Examples of exponential weighted window functions include ewm and ewmcorr.\n"
   ]
  },
  {
   "cell_type": "code",
   "execution_count": 19,
   "id": "8866d5e2-cad8-4c58-b39a-156e53baff40",
   "metadata": {},
   "outputs": [
    {
     "name": "stdout",
     "output_type": "stream",
     "text": [
      "      value\n",
      "0  1.000000\n",
      "1  1.750000\n",
      "2  2.615385\n",
      "3  3.550000\n",
      "4  4.520661\n"
     ]
    }
   ],
   "source": [
    "import pandas as pd\n",
    "\n",
    "# Create a data frame\n",
    "df = pd.DataFrame({'value': [1, 2, 3, 4, 5]})\n",
    "\n",
    "# Calculate the exponential moving average of the data with a span of 2\n",
    "ewma = df.ewm(span=2).mean()\n",
    "\n",
    "print(ewma)"
   ]
  },
  {
   "cell_type": "markdown",
   "id": "2d850fff-52c2-40ad-a6aa-9d9ec5e8e3fa",
   "metadata": {},
   "source": [
    "\n",
    "4)`Aggregation functions`: These functions are used to calculate summary statistics over a window of data, such as mean, median, sum, and standard deviation. Examples of aggregation functions include mean, sum, median, and std.\n"
   ]
  },
  {
   "cell_type": "code",
   "execution_count": 20,
   "id": "6376598b-f2d6-418d-9c86-cec64ba929dc",
   "metadata": {},
   "outputs": [
    {
     "name": "stdout",
     "output_type": "stream",
     "text": [
      "   value\n",
      "0    NaN\n",
      "1    1.5\n",
      "2    2.5\n",
      "3    3.5\n",
      "4    4.5\n"
     ]
    }
   ],
   "source": [
    "import pandas as pd\n",
    "\n",
    "# Create a data frame\n",
    "df = pd.DataFrame({'value': [1, 2, 3, 4, 5]})\n",
    "\n",
    "# Calculate the rolling mean over a window of size 2\n",
    "rolling_mean = df.rolling(window=2).mean()\n",
    "\n",
    "print(rolling_mean)"
   ]
  },
  {
   "cell_type": "markdown",
   "id": "b44da4b0-a725-47ad-888c-92d25c2bb005",
   "metadata": {},
   "source": [
    "\n",
    "5)`Transformation functions`: These functions are used to transform the data in a window, such as by applying a function to each element in the window or scaling the data to have a mean of zero and a standard deviation of one. Examples of transformation functions include apply and transform.\n",
    "\n",
    "Overall, window functions are a powerful tool for analyzing time series data and other sequential data in pandas, and they can be used to calculate a wide range of aggregate statistics and other operations over a rolling or expanding window of data."
   ]
  },
  {
   "cell_type": "code",
   "execution_count": 21,
   "id": "56c175a7-6fdc-4e3a-9aa0-bd8da978e70d",
   "metadata": {},
   "outputs": [
    {
     "name": "stdout",
     "output_type": "stream",
     "text": [
      "0   -1.264911\n",
      "1   -0.632456\n",
      "2    0.000000\n",
      "3    0.632456\n",
      "4    1.264911\n",
      "Name: value, dtype: float64\n"
     ]
    },
    {
     "data": {
      "text/plain": [
       "-1.264911"
      ]
     },
     "execution_count": 21,
     "metadata": {},
     "output_type": "execute_result"
    }
   ],
   "source": [
    "import pandas as pd\n",
    "\n",
    "# Create a data frame\n",
    "df = pd.DataFrame({'value': [1, 2, 3, 4, 5]})\n",
    "\n",
    "# Scale the data to have a mean of zero and a standard deviation of one\n",
    "z_score = df['value'].transform(lambda x: (x - x.mean()) / x.std())\n",
    "\n",
    "print(z_score)\n",
    "0   -1.264911"
   ]
  },
  {
   "cell_type": "markdown",
   "id": "4422081a-78f8-4876-8fd7-93ef0d629867",
   "metadata": {},
   "source": [
    "## Q7. Write a code to print only the current month and year at the time of answering this question.\n",
    "## [Hint: Use pandas.datetime function]"
   ]
  },
  {
   "cell_type": "code",
   "execution_count": 22,
   "id": "5396de00-635d-46d0-a712-4522c403e4b8",
   "metadata": {},
   "outputs": [
    {
     "name": "stdout",
     "output_type": "stream",
     "text": [
      "The current month and year are: 3 2023\n"
     ]
    }
   ],
   "source": [
    "import pandas as pd\n",
    "from datetime import datetime\n",
    "\n",
    "# Create a pandas Timestamp object for the current date and time\n",
    "\n",
    "current_time = pd.Timestamp(datetime.now())\n",
    "\n",
    "# Get the current month and year from the Timestamp object\n",
    "current_month = current_time.month\n",
    "current_year = current_time.year\n",
    "\n",
    "# Print the current month and year\n",
    "print(\"The current month and year are: {} {}\".format(current_month, current_year))"
   ]
  },
  {
   "cell_type": "markdown",
   "id": "3e893c0e-6ac4-41ab-9fbd-10e4b40007d3",
   "metadata": {},
   "source": [
    "## Q8. Write a Python program that takes in two dates as input (in the format YYYY-MM-DD) and  calculates the difference between them in days, hours, and minutes using Pandas time delta. The program should prompt the user to enter the dates and display the result."
   ]
  },
  {
   "cell_type": "code",
   "execution_count": null,
   "id": "bbdd1ec1-3933-4cd4-9b18-6c78521b616e",
   "metadata": {},
   "outputs": [],
   "source": [
    "import pandas as pd\n",
    "\n",
    "# Prompt the user to enter the dates\n",
    "date1 = input(\"Enter the first date in the format YYYY-MM-DD: \")\n",
    "date2 = input(\"Enter the second date in the format YYYY-MM-DD: \")\n",
    "\n",
    "# Convert the input strings to datetime objects\n",
    "date1 = pd.to_datetime(date1)\n",
    "date2 = pd.to_datetime(date2)\n",
    "\n",
    "# Calculate the difference between the dates\n",
    "delta = date2 - date1\n",
    "\n",
    "# Extract the number of days, hours, and minutes from the timedelta object\n",
    "days = delta.days\n",
    "hours = delta.seconds // 3600\n",
    "minutes = (delta.seconds // 60) % 60\n",
    "\n",
    "# Display the result\n",
    "print(f\"The difference between {date1} and {date2} is {days} days, {hours} hours, and {minutes} minutes.\")"
   ]
  },
  {
   "cell_type": "markdown",
   "id": "1f87212c-d2d6-4c88-9648-efd9eb5c0d22",
   "metadata": {},
   "source": [
    "## Q9. Write a Python program that reads a CSV file containing categorical data and converts a specified  column to a categorical data type. The program should prompt the user to enter the file path, columnname, and category order, and then display the sorted data."
   ]
  },
  {
   "cell_type": "code",
   "execution_count": 9,
   "id": "aa6abc12-03ce-44c0-8830-a1d349fc8db7",
   "metadata": {},
   "outputs": [
    {
     "name": "stdin",
     "output_type": "stream",
     "text": [
      "Enter the file path:  sales_data.csv\n",
      "Enter the column name to convert to categorical data:  Category\n",
      "Enter the category order (comma-separated):  1\n"
     ]
    },
    {
     "name": "stdout",
     "output_type": "stream",
     "text": [
      "  Category      Date\n",
      "0      NaN  1-Jan-23\n",
      "1      NaN  2-Jan-23\n",
      "2      NaN  3-Jan-23\n",
      "3      NaN  4-Jan-23\n",
      "4      NaN  5-Jan-23\n"
     ]
    }
   ],
   "source": [
    "import pandas as pd\n",
    "\n",
    "# Prompt the user to enter the file path\n",
    "file_path = input(\"Enter the file path: \")\n",
    "\n",
    "# Read the CSV file into a Pandas DataFrame\n",
    "df = pd.read_csv(file_path)\n",
    "\n",
    "# Prompt the user to enter the column name and category order\n",
    "col_name = input(\"Enter the column name to convert to categorical data: \")\n",
    "cat_order = input(\"Enter the category order (comma-separated): \").split(\",\")\n",
    "\n",
    "# Convert the specified column to categorical data type with the specified category order\n",
    "df[col_name] = pd.Categorical(df[col_name], categories=cat_order, ordered=True)\n",
    "\n",
    "# Sort the DataFrame by the specified column\n",
    "df = df.sort_values(col_name)\n",
    "\n",
    "# Display the sorted data\n",
    "print(df)\n"
   ]
  },
  {
   "cell_type": "markdown",
   "id": "a042ca0b-597c-46a1-87af-b4a41ef55759",
   "metadata": {},
   "source": [
    "## Q10. Write a Python program that reads a CSV file containing sales data for different products and visualizes the data using a stacked bar chart to show the sales of each product category over time. Theprogram should prompt the user to enter the file path and display the chart."
   ]
  },
  {
   "cell_type": "code",
   "execution_count": 12,
   "id": "e59403a0-cc5e-4988-b53f-f92e8cc9caa9",
   "metadata": {},
   "outputs": [
    {
     "name": "stdin",
     "output_type": "stream",
     "text": [
      "Enter the file path:  sales_data.csv\n"
     ]
    },
    {
     "data": {
      "image/png": "[encoded data removed]",
      "text/plain": [
       "<Figure size 640x480 with 1 Axes>"
      ]
     },
     "metadata": {},
     "output_type": "display_data"
    }
   ],
   "source": [
    "\n",
    "import pandas as pd\n",
    "import matplotlib.pyplot as plt\n",
    "\n",
    "# Prompt user for file path\n",
    "file_path = input(\"Enter the file path: \")\n",
    "\n",
    "# Read CSV file into a pandas dataframe\n",
    "sales_df = pd.read_csv(file_path)\n",
    "\n",
    "# Convert date column to datetime format\n",
    "sales_df['date'] = pd.to_datetime(sales_df['date'])\n",
    "\n",
    "# Group sales by product category and date\n",
    "grouped_sales = sales_df.groupby(['category', 'date'])['sales'].sum().unstack()\n",
    "\n",
    "# Create stacked bar chart\n",
    "grouped_sales.plot(kind='bar', stacked=True)\n",
    "\n",
    "# Set chart title and axis labels\n",
    "plt.title('Sales by Product Category over Time')\n",
    "plt.xlabel('Date')\n",
    "plt.ylabel('Sales')\n",
    "\n",
    "# Display chart\n",
    "plt.show()\n"
   ]
  },
  {
   "cell_type": "markdown",
   "id": "599965eb-9f6f-4aca-8ad3-fc3c15f032bf",
   "metadata": {},
   "source": [
    "In this program, we first prompt the user to enter the file path for the CSV file. We then use pandas to read the CSV file into a DataFrame. We convert the date column to a datetime format using pandas' to_datetime function.\n",
    "\n",
    "Next, we group the DataFrame by date and product category, and sum the sales for each group. We then use pandas' unstack function to reshape the data into a format suitable for a stacked bar chart.\n",
    "\n",
    "Finally, we use matplotlib to plot the stacked bar chart, set the chart title and axis labels, and display the chart."
   ]
  },
  {
   "cell_type": "markdown",
   "id": "c7d0e576-3097-4c54-8307-9e2876e8e19a",
   "metadata": {},
   "source": [
    "### Q11. You are given a CSV file containing student data that includes the student ID and their test score. Write a Python program that reads the CSV file, calculates the mean, median, and mode of the test scores, and displays the results in a table.\n",
    "\n",
    "#### The program should do the following:\n",
    "\n",
    "- Prompt the user to enter the file path of the CSV file containing the student data\n",
    "- Read the CSV file into a Pandas DataFrame\n",
    "- Calculate the mean, median, and mode of the test scores using Pandas tools\n",
    "- Display the mean, median, and mode in a table.\n",
    "\n",
    "#### Assume the CSV file contains the following columns:\n",
    "\n",
    "- Student ID: The ID of the student\n",
    "- Test Score: The score of the student's test.\n",
    "\n",
    "#### Example usage of the program:\n",
    "\n",
    "Enter the file path of the CSV file containing the student data: student_data.csv\n",
    "\n",
    "| Statistic | Value  |\n",
    "| --------- | ------ |\n",
    "| Mean      | 79.6   |\n",
    "| Median    | 82     |\n",
    "| Mode      | 85, 90 |\n",
    "\n",
    "#### Assume that the CSV file student_data.csv contains the following data:\n",
    "\n",
    "| Student ID | Test Score |\n",
    "| :--------: | :--------: |\n",
    "|     1      |     85     |\n",
    "|     2      |     90     |\n",
    "|     3      |     80     |\n",
    "|     4      |     75     |\n",
    "|     5      |     85     |\n",
    "|     6      |     82     |\n",
    "|     7      |     78     |\n",
    "|     8      |     85     |\n",
    "|     9      |     90     |\n",
    "|     10     |     85     |\n",
    "\n",
    "##### The program should calculate the mean, median, and mode of the test scores and display the results in a table."
   ]
  },
  {
   "cell_type": "code",
   "execution_count": 61,
   "id": "45ac8e22-e37c-4107-912b-88f6c8345918",
   "metadata": {},
   "outputs": [
    {
     "name": "stdout",
     "output_type": "stream",
     "text": [
      "Enter the file path of the CSV file containing the student data: student_data.csv\n",
      "\n",
      "\tOriginal Data\n",
      "\n",
      "   Student ID  Test Score\n",
      "0           1          85\n",
      "1           2          90\n",
      "2           3          80\n",
      "3           4          75\n",
      "4           5          85\n",
      "---+------+------+------+------+------+------+---\n",
      "Statistic  Value\n",
      "     Mean   83.5\n",
      "   Median   85.0\n",
      "     Mode   85.0\n"
     ]
    }
   ],
   "source": [
    "import pandas as pd\n",
    "\n",
    "# Prompt user to enter file path\n",
    "file_path = input(\"Enter the file path of the CSV file containing the student data: \")\n",
    "\n",
    "# Read CSV file into a Pandas DataFrame\n",
    "data = pd.read_csv(file_path)\n",
    "\n",
    "\n",
    "print(\"\\n\\tOriginal Data\\n\")\n",
    "print(data.head())\n",
    "print(\"---+---\"*7)\n",
    "\n",
    "# Calculate mean, median, and mode of test scores\n",
    "mean_score = data['Test Score'].mean()\n",
    "median_score = data['Test Score'].median()\n",
    "mode_score = students['Test Score'].mode().tolist()\n",
    "\n",
    "\n",
    "# Create a DataFrame with the statistics\n",
    "df = pd.DataFrame({'Statistic': ['Mean', 'Median', 'Mode'], 'Value': [mean_score, median_score, *mode_score]})\n",
    "\n",
    "# Print the DataFrame\n",
    "print(df.to_string(index=False))\n"
   ]
  }
 ],
 "metadata": {
  "kernelspec": {
   "display_name": "Python 3 (ipykernel)",
   "language": "python",
   "name": "python3"
  },
  "language_info": {
   "codemirror_mode": {
    "name": "ipython",
    "version": 3
   },
   "file_extension": ".py",
   "mimetype": "text/x-python",
   "name": "python",
   "nbconvert_exporter": "python",
   "pygments_lexer": "ipython3",
   "version": "3.10.8"
  }
 },
 "nbformat": 4,
 "nbformat_minor": 5
}
