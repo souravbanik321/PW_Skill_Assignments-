{
 "cells": [
  {
   "cell_type": "markdown",
   "id": "4e80a31d-c0fe-40ec-aa7d-2201183f4bce",
   "metadata": {},
   "source": [
    "## Q1. List any five functions of the pandas library with execution."
   ]
  },
  {
   "cell_type": "markdown",
   "id": "66a36c46-1d22-4721-89c4-dbfdd53b13b4",
   "metadata": {},
   "source": [
    "Here are five functions of the Pandas library with example code:\n",
    "\n",
    "1. `The DataFrame()` function creates a pandas DataFrame, which is a 2-dimensional labeled data structure with columns of potentially different types. The DataFrame can be created from a variety of sources, such as a dictionary, a NumPy array, or a CSV file.\n",
    "Example"
   ]
  },
  {
   "cell_type": "code",
   "execution_count": 2,
   "id": "6991d38b-2c8f-42bd-a0c2-76a54c667646",
   "metadata": {},
   "outputs": [
    {
     "data": {
      "text/html": [
       "<div>\n",
       "<style scoped>\n",
       "    .dataframe tbody tr th:only-of-type {\n",
       "        vertical-align: middle;\n",
       "    }\n",
       "\n",
       "    .dataframe tbody tr th {\n",
       "        vertical-align: top;\n",
       "    }\n",
       "\n",
       "    .dataframe thead th {\n",
       "        text-align: right;\n",
       "    }\n",
       "</style>\n",
       "<table border=\"1\" class=\"dataframe\">\n",
       "  <thead>\n",
       "    <tr style=\"text-align: right;\">\n",
       "      <th></th>\n",
       "      <th>Name</th>\n",
       "      <th>Age</th>\n",
       "    </tr>\n",
       "  </thead>\n",
       "  <tbody>\n",
       "    <tr>\n",
       "      <th>0</th>\n",
       "      <td>Alice</td>\n",
       "      <td>25</td>\n",
       "    </tr>\n",
       "    <tr>\n",
       "      <th>1</th>\n",
       "      <td>Bob</td>\n",
       "      <td>30</td>\n",
       "    </tr>\n",
       "    <tr>\n",
       "      <th>2</th>\n",
       "      <td>Charlie</td>\n",
       "      <td>35</td>\n",
       "    </tr>\n",
       "  </tbody>\n",
       "</table>\n",
       "</div>"
      ],
      "text/plain": [
       "      Name  Age\n",
       "0    Alice   25\n",
       "1      Bob   30\n",
       "2  Charlie   35"
      ]
     },
     "execution_count": 2,
     "metadata": {},
     "output_type": "execute_result"
    }
   ],
   "source": [
    "import pandas as pd\n",
    "\n",
    "# Creating a DataFrame from a dictionary\n",
    "data = {\"Name\": [\"Alice\", \"Bob\", \"Charlie\"], \"Age\": [25, 30, 35]}\n",
    "df = pd.DataFrame(data)\n",
    "df"
   ]
  },
  {
   "cell_type": "markdown",
   "id": "32f148f1-3f56-4740-b2b5-af10b9059f46",
   "metadata": {},
   "source": [
    "2. `describe()`: The describe() function generates descriptive statistics of a pandas DataFrame, such as count, mean, standard deviation, and more. This function is useful for quickly understanding the distribution and range of values in a dataset.\n",
    "Example:"
   ]
  },
  {
   "cell_type": "code",
   "execution_count": 3,
   "id": "f975c352-fe37-4aaf-8170-69f744ce5cf5",
   "metadata": {},
   "outputs": [
    {
     "data": {
      "text/html": [
       "<div>\n",
       "<style scoped>\n",
       "    .dataframe tbody tr th:only-of-type {\n",
       "        vertical-align: middle;\n",
       "    }\n",
       "\n",
       "    .dataframe tbody tr th {\n",
       "        vertical-align: top;\n",
       "    }\n",
       "\n",
       "    .dataframe thead th {\n",
       "        text-align: right;\n",
       "    }\n",
       "</style>\n",
       "<table border=\"1\" class=\"dataframe\">\n",
       "  <thead>\n",
       "    <tr style=\"text-align: right;\">\n",
       "      <th></th>\n",
       "      <th>Age</th>\n",
       "    </tr>\n",
       "  </thead>\n",
       "  <tbody>\n",
       "    <tr>\n",
       "      <th>count</th>\n",
       "      <td>3.0</td>\n",
       "    </tr>\n",
       "    <tr>\n",
       "      <th>mean</th>\n",
       "      <td>30.0</td>\n",
       "    </tr>\n",
       "    <tr>\n",
       "      <th>std</th>\n",
       "      <td>5.0</td>\n",
       "    </tr>\n",
       "    <tr>\n",
       "      <th>min</th>\n",
       "      <td>25.0</td>\n",
       "    </tr>\n",
       "    <tr>\n",
       "      <th>25%</th>\n",
       "      <td>27.5</td>\n",
       "    </tr>\n",
       "    <tr>\n",
       "      <th>50%</th>\n",
       "      <td>30.0</td>\n",
       "    </tr>\n",
       "    <tr>\n",
       "      <th>75%</th>\n",
       "      <td>32.5</td>\n",
       "    </tr>\n",
       "    <tr>\n",
       "      <th>max</th>\n",
       "      <td>35.0</td>\n",
       "    </tr>\n",
       "  </tbody>\n",
       "</table>\n",
       "</div>"
      ],
      "text/plain": [
       "        Age\n",
       "count   3.0\n",
       "mean   30.0\n",
       "std     5.0\n",
       "min    25.0\n",
       "25%    27.5\n",
       "50%    30.0\n",
       "75%    32.5\n",
       "max    35.0"
      ]
     },
     "execution_count": 3,
     "metadata": {},
     "output_type": "execute_result"
    }
   ],
   "source": [
    "import pandas as pd\n",
    "\n",
    "# Creating a DataFrame\n",
    "data = {\"Name\": [\"Alice\", \"Bob\", \"Charlie\"], \"Age\": [25, 30, 35]}\n",
    "df = pd.DataFrame(data)\n",
    "\n",
    "# Generating descriptive statistics of a DataFrame\n",
    "df.describe()"
   ]
  },
  {
   "cell_type": "markdown",
   "id": "98013f97-21d8-494f-8e1b-4c519585ca77",
   "metadata": {},
   "source": [
    "3. `pivot_table()`: This function is used to create a spreadsheet-style pivot table based on a Pandas DataFrame, which is useful for summarizing and aggregating data.\n",
    "\n",
    "Example"
   ]
  },
  {
   "cell_type": "code",
   "execution_count": 4,
   "id": "89683fc1-da1a-4670-a6ce-5b5ab4cbdf0b",
   "metadata": {},
   "outputs": [
    {
     "data": {
      "text/html": [
       "<div>\n",
       "<style scoped>\n",
       "    .dataframe tbody tr th:only-of-type {\n",
       "        vertical-align: middle;\n",
       "    }\n",
       "\n",
       "    .dataframe tbody tr th {\n",
       "        vertical-align: top;\n",
       "    }\n",
       "\n",
       "    .dataframe thead th {\n",
       "        text-align: right;\n",
       "    }\n",
       "</style>\n",
       "<table border=\"1\" class=\"dataframe\">\n",
       "  <thead>\n",
       "    <tr style=\"text-align: right;\">\n",
       "      <th></th>\n",
       "      <th></th>\n",
       "      <th>Salary</th>\n",
       "    </tr>\n",
       "    <tr>\n",
       "      <th>Sex</th>\n",
       "      <th>Age</th>\n",
       "      <th></th>\n",
       "    </tr>\n",
       "  </thead>\n",
       "  <tbody>\n",
       "    <tr>\n",
       "      <th>F</th>\n",
       "      <th>25</th>\n",
       "      <td>52500</td>\n",
       "    </tr>\n",
       "    <tr>\n",
       "      <th rowspan=\"3\" valign=\"top\">M</th>\n",
       "      <th>30</th>\n",
       "      <td>62500</td>\n",
       "    </tr>\n",
       "    <tr>\n",
       "      <th>35</th>\n",
       "      <td>70000</td>\n",
       "    </tr>\n",
       "    <tr>\n",
       "      <th>40</th>\n",
       "      <td>80000</td>\n",
       "    </tr>\n",
       "  </tbody>\n",
       "</table>\n",
       "</div>"
      ],
      "text/plain": [
       "         Salary\n",
       "Sex Age        \n",
       "F   25    52500\n",
       "M   30    62500\n",
       "    35    70000\n",
       "    40    80000"
      ]
     },
     "execution_count": 4,
     "metadata": {},
     "output_type": "execute_result"
    }
   ],
   "source": [
    "import pandas as pd\n",
    "\n",
    "# Creating a DataFrame\n",
    "data = {\"Name\": [\"Alice\", \"Bob\", \"Charlie\", \"David\", \"Ella\", \"Frank\"],\n",
    "        \"Sex\": [\"F\", \"M\", \"M\", \"M\", \"F\", \"M\"],\n",
    "        \"Age\": [25, 30, 35, 40, 25, 30],\n",
    "        \"Salary\": [50000, 60000, 70000, 80000, 55000, 65000]}\n",
    "df = pd.DataFrame(data)\n",
    "\n",
    "# Creating a pivot table\n",
    "pivot_df = pd.pivot_table(df, index=[\"Sex\", \"Age\"], values=\"Salary\", aggfunc=\"mean\")\n",
    "\n",
    "pivot_df"
   ]
  },
  {
   "cell_type": "markdown",
   "id": "6e4a8d03-cb05-47a6-b037-17fff2692fe8",
   "metadata": {},
   "source": [
    "4. `merge()`: The merge() function merges two pandas DataFrames based on one or more common columns. This function is useful for combining data from multiple sources based on a shared key.\n",
    "\n",
    "Example:"
   ]
  },
  {
   "cell_type": "code",
   "execution_count": 6,
   "id": "47692378-91c7-42da-a98a-47a1ce5f0082",
   "metadata": {},
   "outputs": [
    {
     "data": {
      "text/html": [
       "<div>\n",
       "<style scoped>\n",
       "    .dataframe tbody tr th:only-of-type {\n",
       "        vertical-align: middle;\n",
       "    }\n",
       "\n",
       "    .dataframe tbody tr th {\n",
       "        vertical-align: top;\n",
       "    }\n",
       "\n",
       "    .dataframe thead th {\n",
       "        text-align: right;\n",
       "    }\n",
       "</style>\n",
       "<table border=\"1\" class=\"dataframe\">\n",
       "  <thead>\n",
       "    <tr style=\"text-align: right;\">\n",
       "      <th></th>\n",
       "      <th>Name</th>\n",
       "      <th>Age</th>\n",
       "      <th>Salary</th>\n",
       "    </tr>\n",
       "  </thead>\n",
       "  <tbody>\n",
       "    <tr>\n",
       "      <th>0</th>\n",
       "      <td>Bob</td>\n",
       "      <td>30</td>\n",
       "      <td>50000</td>\n",
       "    </tr>\n",
       "  </tbody>\n",
       "</table>\n",
       "</div>"
      ],
      "text/plain": [
       "  Name  Age  Salary\n",
       "0  Bob   30   50000"
      ]
     },
     "execution_count": 6,
     "metadata": {},
     "output_type": "execute_result"
    }
   ],
   "source": [
    "import pandas as pd\n",
    "\n",
    "# Creating two DataFrames\n",
    "df1 = pd.DataFrame({\"Name\": [\"Alice\", \"Bob\"], \"Age\": [25, 30]})\n",
    "df2 = pd.DataFrame({\"Name\": [\"Bob\", \"Charlie\"], \"Salary\": [50000, 60000]})\n",
    "\n",
    "# Merging two DataFrames based on a common column\n",
    "merged_df = pd.merge(df1, df2, on=\"Name\")\n",
    "merged_df"
   ]
  },
  {
   "cell_type": "markdown",
   "id": "635a26c1-7a12-4bdb-8c62-b71fd0dc6f3c",
   "metadata": {},
   "source": [
    "5. `apply()`: The apply() function applies a given function to each element of a pandas DataFrame or Series. This function is useful for transforming data in a DataFrame or Series according to a specified operation."
   ]
  },
  {
   "cell_type": "code",
   "execution_count": 7,
   "id": "1a5a9d64-0a9b-46a6-9878-62e9c7ba8a7c",
   "metadata": {},
   "outputs": [
    {
     "data": {
      "text/html": [
       "<div>\n",
       "<style scoped>\n",
       "    .dataframe tbody tr th:only-of-type {\n",
       "        vertical-align: middle;\n",
       "    }\n",
       "\n",
       "    .dataframe tbody tr th {\n",
       "        vertical-align: top;\n",
       "    }\n",
       "\n",
       "    .dataframe thead th {\n",
       "        text-align: right;\n",
       "    }\n",
       "</style>\n",
       "<table border=\"1\" class=\"dataframe\">\n",
       "  <thead>\n",
       "    <tr style=\"text-align: right;\">\n",
       "      <th></th>\n",
       "      <th>Name</th>\n",
       "      <th>Age</th>\n",
       "    </tr>\n",
       "  </thead>\n",
       "  <tbody>\n",
       "    <tr>\n",
       "      <th>0</th>\n",
       "      <td>Alice</td>\n",
       "      <td>35</td>\n",
       "    </tr>\n",
       "    <tr>\n",
       "      <th>1</th>\n",
       "      <td>Bob</td>\n",
       "      <td>40</td>\n",
       "    </tr>\n",
       "    <tr>\n",
       "      <th>2</th>\n",
       "      <td>Charlie</td>\n",
       "      <td>45</td>\n",
       "    </tr>\n",
       "  </tbody>\n",
       "</table>\n",
       "</div>"
      ],
      "text/plain": [
       "      Name  Age\n",
       "0    Alice   35\n",
       "1      Bob   40\n",
       "2  Charlie   45"
      ]
     },
     "execution_count": 7,
     "metadata": {},
     "output_type": "execute_result"
    }
   ],
   "source": [
    "import pandas as pd\n",
    "\n",
    "# Creating a DataFrame\n",
    "data = {\"Name\": [\"Alice\", \"Bob\", \"Charlie\"],\n",
    "        \"Age\": [25, 30, 35]}\n",
    "df = pd.DataFrame(data)\n",
    "\n",
    "# Defining a function to add 10 to each age\n",
    "def add_10(age):\n",
    "    return age + 10\n",
    "\n",
    "# Applying the function to the \"Age\" column of the DataFrame\n",
    "df[\"Age\"] = df[\"Age\"].apply(add_10)\n",
    "df"
   ]
  },
  {
   "cell_type": "markdown",
   "id": "7c4ae7e9-d0b6-4757-8a6d-aa7e214ceecd",
   "metadata": {
    "tags": []
   },
   "source": [
    "## Q2. Given a Pandas DataFrame df with columns 'A', 'B', and 'C', write a Python function to re-index the DataFrame with a new index that starts from 1 and increments by 2 for each row."
   ]
  },
  {
   "cell_type": "markdown",
   "id": "a38540a8-3bcf-4b82-99fd-93fb3d7b0de1",
   "metadata": {},
   "source": [
    "Here's a Python function that re-indexes the DataFrame df with a new index that starts from 1 and increments by 2 for each row:"
   ]
  },
  {
   "cell_type": "code",
   "execution_count": 10,
   "id": "49cddd71-8f0f-4071-8a7e-2ae45b2109ce",
   "metadata": {},
   "outputs": [
    {
     "name": "stdout",
     "output_type": "stream",
     "text": [
      "    A   B    C\n",
      "1  10  50   90\n",
      "3  20  60  100\n",
      "5  30  70  110\n",
      "7  40  80  120\n"
     ]
    }
   ],
   "source": [
    "import pandas as pd\n",
    "\n",
    "# Re-indexing the DataFrame using the reindex_df() function\n",
    "def reindex_df(df):\n",
    "    new_index = range(1, 2*len(df)+1, 2)\n",
    "    df = df.set_index(pd.Index(new_index))\n",
    "    return df\n",
    "\n",
    "#Driver Code\n",
    "# Creating a sample DataFrame\n",
    "df = pd.DataFrame({'A': [10, 20, 30, 40],\n",
    "                   'B': [50, 60, 70, 80],\n",
    "                   'C': [90, 100, 110, 120]})\n",
    "df = reindex_df(df)\n",
    "print(df)"
   ]
  },
  {
   "cell_type": "markdown",
   "id": "65c09edd-7100-4f57-8d12-84ffed46748d",
   "metadata": {},
   "source": [
    "## Q3. You have a Pandas DataFrame df with a column named 'Values'. Write a Python function that iterates over the DataFrame and calculates the sum of the first three values in the 'Values' column. The function should print the sum to the console. \n",
    "\n",
    "### For example, if the 'Values' column of df contains the values [10, 20, 30, 40, 50], your function should calculate and print the sum of the first three values, which is 60."
   ]
  },
  {
   "cell_type": "code",
   "execution_count": 12,
   "id": "0aa21671-b2f0-4c07-90be-944eda0734c9",
   "metadata": {},
   "outputs": [
    {
     "name": "stdout",
     "output_type": "stream",
     "text": [
      "The sum of the first three values in the 'Values' column is 60.\n"
     ]
    }
   ],
   "source": [
    "import pandas as pd\n",
    "\n",
    "#Functin for priting the sum\n",
    "def sum_first_three_values(df):\n",
    "    values_col = df['Values']\n",
    "    first_three_values = values_col.iloc[:3]\n",
    "    sum_first_three = sum(first_three_values)\n",
    "    print(f\"The sum of the first three values in the 'Values' column is {sum_first_three}.\")\n",
    "    \n",
    "#Driver Code\n",
    "# Creating a sample DataFrame\n",
    "df = pd.DataFrame({'Values': [10, 20, 30, 40, 50]})\n",
    "\n",
    "# Calculating the sum of the first three values in the 'Values' column using the sum_first_three_values() function\n",
    "sum_first_three_values(df)"
   ]
  },
  {
   "cell_type": "markdown",
   "id": "6ac25aec-e059-4a23-a826-ca4fbe9d7aee",
   "metadata": {},
   "source": [
    "## Q4. Given a Pandas DataFrame df with a column 'Text', write a Python function to create a new column 'Word_Count' that contains the number of words in each row of the 'Text' column."
   ]
  },
  {
   "cell_type": "code",
   "execution_count": 13,
   "id": "6257f8b3-6d9b-4f74-a85f-237b7919b7f7",
   "metadata": {},
   "outputs": [
    {
     "name": "stdout",
     "output_type": "stream",
     "text": [
      "                                Text  Word_Count\n",
      "0          This is a sample sentence           5\n",
      "1           Here is another sentence           4\n",
      "2  One more sentence for the example           6\n"
     ]
    }
   ],
   "source": [
    "import pandas as pd\n",
    "\n",
    "# Function to add 'Word_Count' column to the DataFrame\n",
    "def add_word_count_column(df):\n",
    "    # Split the 'Text' column on whitespace characters and count the resulting list\n",
    "    word_count = df['Text'].str.split().apply(len)\n",
    "\n",
    "    # Add the new 'Word_Count' column to the DataFrame\n",
    "    df['Word_Count'] = word_count\n",
    "    return df\n",
    "\n",
    "#Driver code\n",
    "# Creating a sample DataFrame\n",
    "df = pd.DataFrame({'Text': ['This is a sample sentence',\n",
    "                            'Here is another sentence',\n",
    "                            'One more sentence for the example']})\n",
    "\n",
    "# Adding 'Word_Count' column to the DataFrame\n",
    "df = add_word_count_column(df)\n",
    "\n",
    "# Displaying the updated DataFrame\n",
    "print(df)"
   ]
  },
  {
   "cell_type": "markdown",
   "id": "065643c0-7ee9-4b5c-8091-7f4fed43b02b",
   "metadata": {},
   "source": [
    "## Q5. How are DataFrame.size() and DataFrame.shape() different?"
   ]
  },
  {
   "cell_type": "markdown",
   "id": "082f0d4a-2a28-4ec2-8de9-2e827218bf83",
   "metadata": {},
   "source": [
    "`DataFrame.size` and `DataFrame.shape` are both attributes of the pandas DataFrame object but they represent different aspects of the DataFrame:\n",
    "\n",
    "`DataFrame.size`: This attribute represents the total number of elements in the DataFrame, which is equal to the number of rows multiplied by the number of columns.\n",
    "`DataFrame.shape`: This attribute returns a tuple representing the dimensions of the DataFrame, with the first element representing the number of rows and the second element representing the number of columns.\n",
    " "
   ]
  },
  {
   "cell_type": "markdown",
   "id": "08f27dbd-0752-4767-9310-672a80cb8065",
   "metadata": {},
   "source": [
    "Here's an example to illustrate the difference:"
   ]
  },
  {
   "cell_type": "code",
   "execution_count": 16,
   "id": "5844ee12-e679-49a6-b765-5cd4a8345ef9",
   "metadata": {},
   "outputs": [
    {
     "name": "stdout",
     "output_type": "stream",
     "text": [
      "Size of the DataFrame: 9\n",
      "Shape of the DataFrame: (3, 3)\n"
     ]
    }
   ],
   "source": [
    "import pandas as pd\n",
    "\n",
    "# create a sample DataFrame\n",
    "df = pd.DataFrame({'A': [1, 2, 3], 'B': [4, 5, 6], 'C': [7, 8, 9]})\n",
    "\n",
    "# get the size of the DataFrame\n",
    "size = df.size\n",
    "\n",
    "# get the shape of the DataFrame\n",
    "shape = df.shape\n",
    "\n",
    "print(\"Size of the DataFrame:\", size)\n",
    "print(\"Shape of the DataFrame:\", shape)\n"
   ]
  },
  {
   "cell_type": "markdown",
   "id": "5a1f3601-a300-43ba-927e-f75b00caa730",
   "metadata": {},
   "source": [
    "## Q6. Which function of pandas do we use to read an excel file?"
   ]
  },
  {
   "cell_type": "markdown",
   "id": "ab6feca0-d96c-4020-b297-90e277ba3b80",
   "metadata": {},
   "source": [
    "To read an Excel file into a pandas DataFrame, we use the `read_excel()` function provided by pandas.\n",
    "\n",
    "Here's an example of how to use `read_excel()` function:"
   ]
  },
  {
   "cell_type": "code",
   "execution_count": null,
   "id": "e185b8b3-c3d0-4e65-99db-9f78ae4b7a1f",
   "metadata": {},
   "outputs": [],
   "source": [
    "import pandas as pd\n",
    "\n",
    "# read an Excel file into a DataFrame\n",
    "df = pd.read_excel('file_name.xlsx', sheet_name='Sheet1')\n",
    "# display the first five rows of the DataFrame\n",
    "print(df.head())\n"
   ]
  },
  {
   "cell_type": "markdown",
   "id": "fc896efa-ba4c-472e-85d4-33fbcb6666dc",
   "metadata": {},
   "source": [
    "## Q7. You have a Pandas DataFrame df that contains a column named 'Email' that contains emailaddresses in the format 'username@domain.com'. Write a Python function that creates a new column'Username' in df that contains only the username part of each email address."
   ]
  },
  {
   "cell_type": "code",
   "execution_count": 18,
   "id": "ac951f5a-4c01-44fb-ac09-7c0ca044c744",
   "metadata": {},
   "outputs": [
    {
     "name": "stdout",
     "output_type": "stream",
     "text": [
      "                     Email     Username\n",
      "0     john.doe@example.com     john.doe\n",
      "1     jane.doe@example.com     jane.doe\n",
      "2  jimmy.smith@example.com  jimmy.smith\n"
     ]
    }
   ],
   "source": [
    "import pandas as pd\n",
    "\n",
    "# Function to extract username from email address\n",
    "def extract_username(email):\n",
    "    return email.split('@')[0]\n",
    "\n",
    "#Driver Code\n",
    "# Creating a sample DataFrame\n",
    "df = pd.DataFrame({'Email': ['john.doe@example.com', 'jane.doe@example.com', 'jimmy.smith@example.com']})\n",
    "\n",
    "# Creating a new 'Username' column by applying the 'extract_username' function to the 'Email' column\n",
    "df['Username'] = df['Email'].apply(extract_username)\n",
    "\n",
    "print(df)"
   ]
  },
  {
   "cell_type": "markdown",
   "id": "977c8ac0-d8c3-4a14-96f1-23936bd12b75",
   "metadata": {},
   "source": [
    "## Q8. You have a Pandas DataFrame df with columns 'A', 'B', and 'C'. Write a Python function that selects all rows where the value in column 'A' is greater than 5 and the value in column 'B' is less than 10. The function should return a new DataFrame that contains only the selected rows."
   ]
  },
  {
   "cell_type": "markdown",
   "id": "91a4606a-57f2-474d-8b76-5bcfa4035bd6",
   "metadata": {},
   "source": [
    "For example, if df contains the following values:"
   ]
  },
  {
   "attachments": {
    "c16ab302-a806-480d-a99e-a0123a568231.png": {
     "image/png": "[encoded data removed]"
    },
    "e2651f7d-61b5-4fd1-88c7-88b858af35fc.png": {
     "image/png": "[encoded data removed]"
    }
   },
   "cell_type": "markdown",
   "id": "c33410d4-da9b-49b1-910f-d77e8c69e930",
   "metadata": {},
   "source": [
    "\n",
    "![image.png](attachment:c16ab302-a806-480d-a99e-a0123a568231.png)\n",
    "<br>\n",
    "![image.png](attachment:e2651f7d-61b5-4fd1-88c7-88b858af35fc.png)"
   ]
  },
  {
   "cell_type": "code",
   "execution_count": 19,
   "id": "42c1153a-3cc7-4ec4-9950-d849cb234229",
   "metadata": {},
   "outputs": [
    {
     "name": "stdout",
     "output_type": "stream",
     "text": [
      "   A  B  C\n",
      "1  8  2  7\n",
      "2  6  9  4\n",
      "4  9  1  2\n"
     ]
    }
   ],
   "source": [
    "import pandas as pd\n",
    "\n",
    "#Function for returing the new dataFrame of selected rows\n",
    "def select_rows(df):\n",
    "    selected_rows = df[(df['A'] > 5) & (df['B'] < 10)]\n",
    "    return selected_rows\n",
    "\n",
    "\n",
    "#Driver code\n",
    "# Creating a sample DataFrame\n",
    "df = pd.DataFrame({'A': [3, 8, 6, 2, 9],\n",
    "                   'B': [5, 2, 9, 3, 1],\n",
    "                   'C': [1, 7, 4, 5, 2]})\n",
    "\n",
    "new_df = select_rows(df)\n",
    "\n",
    "print(new_df)"
   ]
  },
  {
   "cell_type": "markdown",
   "id": "3c4dd713-a42c-4f9e-a684-ec143585fa7f",
   "metadata": {},
   "source": [
    "## Q9. Given a Pandas DataFrame df with a column 'Values', write a Python function to calculate the mean,median, and standard deviation of the values in the 'Values' column."
   ]
  },
  {
   "cell_type": "code",
   "execution_count": 20,
   "id": "21da829a-2d82-40b5-a648-b6e22f31bc96",
   "metadata": {},
   "outputs": [
    {
     "name": "stdout",
     "output_type": "stream",
     "text": [
      "Mean: 30.0, Median: 30.0, Standard Deviation: 14.142135623730951\n"
     ]
    }
   ],
   "source": [
    "import pandas as pd\n",
    "import numpy as np\n",
    "\n",
    "#Function to create mean, median, std\n",
    "def calculate_stats(df):\n",
    "    values_col = df['Values']\n",
    "    mean = np.mean(values_col)\n",
    "    median = np.median(values_col)\n",
    "    std_dev = np.std(values_col)\n",
    "    print(f\"Mean: {mean}, Median: {median}, Standard Deviation: {std_dev}\")\n",
    "    \n",
    "#Driver Code   \n",
    "\n",
    "# Creating a sample DataFrame\n",
    "df = pd.DataFrame({'Values': [10, 20, 30, 40, 50]})\n",
    "\n",
    "# Calculating mean, median, and standard deviation of the values in the 'Values' column using the calculate_stats() function\n",
    "calculate_stats(df)"
   ]
  },
  {
   "cell_type": "markdown",
   "id": "f628fc7c-f754-4bef-a988-3068c584c870",
   "metadata": {},
   "source": [
    "## Q10. Given a Pandas DataFrame df with a column 'Sales' and a column 'Date', write a Python function to create a new column 'MovingAverage' that contains the moving average of the sales for the past 7 days for each row in the DataFrame. The moving average should be calculated using a window of size 7 and should include the current day."
   ]
  },
  {
   "cell_type": "code",
   "execution_count": 22,
   "id": "10877c45-4af3-414c-a4bb-b5cb59ef02c5",
   "metadata": {},
   "outputs": [
    {
     "name": "stdout",
     "output_type": "stream",
     "text": [
      "   Sales       Date  MovingAverage\n",
      "0     10 2022-01-01           10.0\n",
      "1     15 2022-01-02           12.5\n",
      "2     20 2022-01-03           15.0\n",
      "3     25 2022-01-04           17.5\n",
      "4     30 2022-01-05           20.0\n",
      "5     35 2022-01-06           22.5\n",
      "6     40 2022-01-07           25.0\n",
      "7     45 2022-01-08           30.0\n",
      "8     50 2022-01-09           35.0\n"
     ]
    }
   ],
   "source": [
    "import pandas as pd\n",
    "\n",
    "def moving_average(df):\n",
    "    # Sort the DataFrame by date\n",
    "    df = df.sort_values(by='Date')\n",
    "    \n",
    "    # Calculate the rolling mean with window size 7\n",
    "    df['MovingAverage'] = df['Sales'].rolling(window=7, min_periods=1).mean()\n",
    "    \n",
    "    return df\n",
    "\n",
    "\n",
    "#Driver Code\n",
    "# Create a sample DataFrame\n",
    "df = pd.DataFrame({'Sales': [10, 15, 20, 25, 30, 35, 40, 45, 50],\n",
    "                   'Date': pd.date_range('2022-01-01', periods=9)})\n",
    "\n",
    "# Calculate the moving average\n",
    "df = moving_average(df)\n",
    "\n",
    "# Print the result\n",
    "print(df)"
   ]
  },
  {
   "attachments": {
    "81236e2c-5d4b-449b-8696-e2cc14f9a718.png": {
     "image/png": "[encoded data removed]"
    }
   },
   "cell_type": "markdown",
   "id": "21175612-9ae6-4b63-ab89-942b7edb8f4d",
   "metadata": {},
   "source": [
    "## Q11. You have a Pandas DataFrame df with a column 'Date'. Write a Python function that creates a new column 'Weekday' in the DataFrame. The 'Weekday' column should contain the weekday name (e.g. Monday, Tuesday) corresponding to each date in the 'Date' column.\n",
    "![image.png](attachment:81236e2c-5d4b-449b-8696-e2cc14f9a718.png)"
   ]
  },
  {
   "cell_type": "code",
   "execution_count": 23,
   "id": "c645af9b-dd6b-44bf-93f9-b5607f6de69e",
   "metadata": {},
   "outputs": [
    {
     "name": "stdout",
     "output_type": "stream",
     "text": [
      "        Date    Weekday\n",
      "0 2023-01-01     Sunday\n",
      "1 2023-01-02     Monday\n",
      "2 2023-01-03    Tuesday\n",
      "3 2023-01-04  Wednesday\n",
      "4 2023-01-05   Thursday\n"
     ]
    }
   ],
   "source": [
    "import pandas as pd\n",
    "\n",
    "# Function to add weekday column\n",
    "def add_weekday_column(df):\n",
    "    # Convert 'Date' column to datetime\n",
    "    df['Date'] = pd.to_datetime(df['Date'])  # Add new 'Weekday' column with weekday name\n",
    "    df['Weekday'] = df['Date'].dt.day_name()\n",
    "    return df\n",
    "\n",
    "#Driver Code\n",
    "# Create example DataFrame\n",
    "df = pd.DataFrame({'Date': ['2023-01-01', '2023-01-02', '2023-01-03', '2023-01-04', '2023-01-05']})\n",
    "\n",
    "# Call function to add weekday column to DataFrame\n",
    "df = add_weekday_column(df)\n",
    "\n",
    "# Print modified DataFrame\n",
    "print(df)"
   ]
  },
  {
   "cell_type": "markdown",
   "id": "e8f86f91-c551-4ec6-95f5-4b974ac2b2e4",
   "metadata": {},
   "source": [
    "## Q12. Given a Pandas DataFrame df with a column 'Date' that contains timestamps, write a Python function to select all rows where the date is between '2023-01-01' and '2023-01-31'."
   ]
  },
  {
   "cell_type": "code",
   "execution_count": 25,
   "id": "191daa89-b37f-4170-8828-1494a061578d",
   "metadata": {},
   "outputs": [
    {
     "name": "stdout",
     "output_type": "stream",
     "text": [
      "         Date\n",
      "0  2023-01-01\n",
      "1  2023-01-02\n",
      "2  2023-01-03\n",
      "3  2023-01-04\n",
      "4  2023-01-05\n",
      "5  2023-01-06\n",
      "6  2023-01-07\n",
      "7  2023-01-08\n",
      "8  2023-01-09\n",
      "9  2023-01-10\n",
      "10 2023-01-11\n",
      "11 2023-01-12\n",
      "12 2023-01-13\n",
      "13 2023-01-14\n",
      "14 2023-01-15\n",
      "15 2023-01-16\n",
      "16 2023-01-17\n",
      "17 2023-01-18\n",
      "18 2023-01-19\n",
      "19 2023-01-20\n",
      "20 2023-01-21\n",
      "21 2023-01-22\n",
      "22 2023-01-23\n",
      "23 2023-01-24\n",
      "24 2023-01-25\n",
      "25 2023-01-26\n",
      "26 2023-01-27\n",
      "27 2023-01-28\n",
      "28 2023-01-29\n",
      "29 2023-01-30\n",
      "30 2023-01-31\n"
     ]
    }
   ],
   "source": [
    "import pandas as pd\n",
    "\n",
    "# create function to select rows within date range\n",
    "def select_dates(df, start_date, end_date):\n",
    "    return df[(df['Date'] >= start_date) & (df['Date'] <= end_date)]\n",
    "\n",
    "\n",
    "\n",
    "# Driver Code\n",
    "# create dataframe with date range\n",
    "df = pd.DataFrame({\n",
    "    'Date': pd.date_range(start='2023-01-01', end='2023-02-28', freq='D')\n",
    "})\n",
    "\n",
    "# select rows within date range\n",
    "selected_df = select_dates(df, '2023-01-01', '2023-01-31')\n",
    "print(selected_df)"
   ]
  },
  {
   "cell_type": "markdown",
   "id": "319c8cfe-1e94-4495-b506-f92164f56327",
   "metadata": {},
   "source": [
    "## Q13. To use the basic functions of pandas, what is the first and foremost necessary library that needs tobe imported?"
   ]
  },
  {
   "cell_type": "code",
   "execution_count": 26,
   "id": "b0c720e0-abf5-4212-ac2c-bf4d2246ed81",
   "metadata": {},
   "outputs": [],
   "source": [
    "#To use the basic functions of Pandas, the first and foremost necessary library that needs to be imported is pandas itself.\n",
    "import pandas as pd"
   ]
  },
  {
   "cell_type": "code",
   "execution_count": null,
   "id": "87e13ded-d377-4d07-9bed-3533d06dd5a1",
   "metadata": {},
   "outputs": [],
   "source": []
  }
 ],
 "metadata": {
  "kernelspec": {
   "display_name": "Python 3 (ipykernel)",
   "language": "python",
   "name": "python3"
  },
  "language_info": {
   "codemirror_mode": {
    "name": "ipython",
    "version": 3
   },
   "file_extension": ".py",
   "mimetype": "text/x-python",
   "name": "python",
   "nbconvert_exporter": "python",
   "pygments_lexer": "ipython3",
   "version": "3.10.8"
  }
 },
 "nbformat": 4,
 "nbformat_minor": 5
}
