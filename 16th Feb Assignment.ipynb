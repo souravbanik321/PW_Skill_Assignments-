{
 "cells": [
  {
   "cell_type": "markdown",
   "id": "47bc7710-a244-4dc5-a6ba-83e14135634f",
   "metadata": {},
   "source": [
    "Q1. What is a database? Differentiate between SQL and NoSQL databases."
   ]
  },
  {
   "cell_type": "markdown",
   "id": "00b434be-d697-4811-a746-23739c8585b1",
   "metadata": {},
   "source": [
    "A database is a collection of data that is organized and stored in a way that allows easy access and retrieval of information. It is typically managed by a database management system (DBMS) which provides various functionalities for storing, organizing, and retrieving data.\n",
    "\n",
    "SQL (Structured Query Language) and NoSQL (Not only SQL) are two different types of database management systems.\n",
    "\n",
    "SQL databases are relational databases that store data in tables with predefined schemas. They use SQL for querying and manipulating data. SQL databases are good for complex queries and transactions, and are widely used in enterprise applications where data consistency and ACID (Atomicity, Consistency, Isolation, Durability) compliance are important. Examples of SQL databases include Oracle, MySQL, PostgreSQL, and SQL Server.\n",
    "\n",
    "On the other hand, NoSQL databases are non-relational databases that do not use tables with fixed schemas to store data. They use various data models like key-value, document, graph, and column-family. NoSQL databases are designed for scalability, availability, and high performance, and are typically used in web and mobile applications where data is constantly changing and needs to be accessed quickly. Examples of NoSQL databases include MongoDB, Cassandra, Redis, and Couchbase."
   ]
  },
  {
   "cell_type": "markdown",
   "id": "dfe6ce33-7781-4b9d-ba73-1313ae58ec89",
   "metadata": {},
   "source": [
    "Q2. What is DDL? Explain why CREATE, DROP, ALTER, and TRUNCATE are used with an example."
   ]
  },
  {
   "cell_type": "markdown",
   "id": "36876ef4-bfaa-4bf8-82e4-f84087ee38c7",
   "metadata": {},
   "source": [
    "DDL stands for Data Definition Language. It is a set of SQL commands used to define, modify, and manage the structure of database objects such as tables, indexes, views, and stored procedures.\n",
    "\n",
    "The following are the commonly used DDL commands in SQL:\n",
    "\n",
    "1. CREATE: This command is used to create new database objects such as tables, indexes, views, and stored procedures. \n",
    "2. DROP: This command is used to remove an existing database object such as a table, index, view, or stored procedure. \n",
    "3. ALTER: This command is used to modify the structure of an existing database object such as a table, index, view, or stored procedure. \n",
    "4. TRUNCATE: This command is used to delete all the rows from a table while keeping its structure intact. "
   ]
  },
  {
   "cell_type": "markdown",
   "id": "94f7c713-6759-492f-805e-0078d646b7ec",
   "metadata": {},
   "source": [
    "Q3. What is DML? Explain INSERT, UPDATE, and DELETE with an example."
   ]
  },
  {
   "cell_type": "markdown",
   "id": "7bf435b4-abf1-438c-ae82-f87d33acf7dc",
   "metadata": {},
   "source": [
    "DML stands for Data Manipulation Language. It is a set of SQL commands used to manipulate the data stored in a database.\n",
    "\n",
    "The following are the commonly used DML commands in SQL:\n",
    "\n",
    "1.INSERT: This command is used to add new rows of data to a table.\n",
    "2.UPDATE: This command is used to modify the existing data in a table. \n",
    "3.DELETE: This command is used to remove rows from a table.\n",
    "DML commands are used to manipulate the data stored in a database. The INSERT command is used to add new rows of data to a table, the UPDATE command is used to modify existing data in a table, and the DELETE command is used to remove rows from a table."
   ]
  },
  {
   "cell_type": "markdown",
   "id": "028fb4d4-7ada-4f20-9179-83dacec20fb5",
   "metadata": {},
   "source": [
    "Q4. What is DQL? Explain SELECT with an example."
   ]
  },
  {
   "cell_type": "markdown",
   "id": "a323c5ec-dc88-4f5c-8438-a93a9ba138f0",
   "metadata": {},
   "source": [
    "DQL stands for Data Query Language. It is a set of SQL commands used to retrieve data from a database.\n",
    "\n",
    "The most commonly used DQL command in SQL is SELECT. It is used to select data from one or more tables in a database.\n",
    "We can also select specific columns by listing them in the SELECT statement instead of using the wildcard (*). "
   ]
  },
  {
   "cell_type": "markdown",
   "id": "e1fa321d-c625-41c4-906a-feefb8504843",
   "metadata": {},
   "source": [
    "Q5. Explain Primary Key and Foreign Key."
   ]
  },
  {
   "cell_type": "markdown",
   "id": "d240baf9-b5c4-4915-ac60-17573405a184",
   "metadata": {},
   "source": [
    "In SQL, a primary key is a column or a set of columns that uniquely identifies each row in a table. A primary key constraint is used to ensure that the values in the primary key column(s) are unique and not null. Every table should have a primary key to uniquely identify the rows in the table."
   ]
  },
  {
   "cell_type": "markdown",
   "id": "3293bf24-7a4f-47fb-95db-8e1c88ec1aa2",
   "metadata": {},
   "source": [
    "A foreign key is a column or a set of columns in a table that refers to the primary key of another table. A foreign key constraint is used to ensure that the values in the foreign key column(s) match the values in the primary key column(s) of the other table. This relationship between two tables is known as a referential integrity constraint."
   ]
  },
  {
   "cell_type": "markdown",
   "id": "6a858d80-4404-44a7-81bc-ff12182fccb9",
   "metadata": {},
   "source": [
    "Q6. Write a python code to connect MySQL to python. Explain the cursor() and execute() method."
   ]
  },
  {
   "cell_type": "code",
   "execution_count": null,
   "id": "884fa011-ee5c-4ccd-a100-69a971ed5931",
   "metadata": {},
   "outputs": [],
   "source": [
    "import mysql.connector\n",
    "\n",
    "# Connect to the database\n",
    "mydb = mysql.connector.connect(\n",
    "  host=\"localhost\",\n",
    "  user=\"yourusername\",\n",
    "  password=\"yourpassword\",\n",
    "  database=\"mydatabase\"\n",
    ")\n",
    "\n",
    "# Create a cursor object\n",
    "mycursor = mydb.cursor()\n",
    "\n",
    "# Execute a SQL query\n",
    "mycursor.execute(\"SELECT * FROM customers\")\n",
    "\n",
    "# Fetch the results\n",
    "results = mycursor.fetchall()\n",
    "\n",
    "# Print the results\n",
    "for result in results:\n",
    "  print(result)\n"
   ]
  },
  {
   "cell_type": "markdown",
   "id": "869e0363-3183-490c-8e73-7b8d1e796d4f",
   "metadata": {},
   "source": [
    "The `cursor()` method creates a cursor object that allows us to execute SQL queries and fetch the results. The cursor object maintains the state of the SQL query execution and allows us to fetch the results in a row-by-row manner.\n",
    "\n",
    "The `execute()` method is used to execute a SQL query. The SQL query is passed as a parameter to the method. The method returns `None` if the query does not return any result, or it returns the number of affected rows for a data manipulation query like `INSERT`, `UPDATE`, or `DELETE`."
   ]
  },
  {
   "cell_type": "markdown",
   "id": "f403dd9c-be76-4c05-894f-13b827adba85",
   "metadata": {},
   "source": [
    "Q7. Give the order of execution of SQL clauses in an SQL query."
   ]
  },
  {
   "cell_type": "markdown",
   "id": "20fa0ae2-1352-4807-836f-3e94b78cf10d",
   "metadata": {},
   "source": [
    "The order of execution of SQL clauses in an SQL query is as follows:\n",
    "\n",
    "FROM: This clause specifies the table or tables from which the data will be selected.\n",
    "\n",
    "1.`JOIN`: If the query involves a join between multiple tables, the join is performed next.\n",
    "\n",
    "2.`WHERE`: This clause filters the rows based on the specified conditions.\n",
    "\n",
    "3.`GROUP BY`: This clause groups the rows based on the specified columns.\n",
    "\n",
    "4.`HAVING`: This clause filters the groups based on the specified conditions.\n",
    "\n",
    "5.`SELECT`: This clause selects the columns to be returned in the result set.\n",
    "\n",
    "6.`DISTINCT`: This clause removes duplicate rows from the result set.\n",
    "\n",
    "7.`ORDER BY`: This clause sorts the rows in the result set based on the specified columns.\n",
    "\n",
    "8.`LIMIT`: This clause limits the number of rows returned in the result set.\n",
    "\n",
    "Note that not all SQL queries will have all these clauses, and the order of execution may vary based on the specific query. However, in general, this is the order in which the clauses are executed."
   ]
  },
  {
   "cell_type": "code",
   "execution_count": null,
   "id": "24536f08-c803-4bbc-ba2b-cdaa87dbf738",
   "metadata": {},
   "outputs": [],
   "source": []
  }
 ],
 "metadata": {
  "kernelspec": {
   "display_name": "Python 3 (ipykernel)",
   "language": "python",
   "name": "python3"
  },
  "language_info": {
   "codemirror_mode": {
    "name": "ipython",
    "version": 3
   },
   "file_extension": ".py",
   "mimetype": "text/x-python",
   "name": "python",
   "nbconvert_exporter": "python",
   "pygments_lexer": "ipython3",
   "version": "3.10.8"
  }
 },
 "nbformat": 4,
 "nbformat_minor": 5
}
