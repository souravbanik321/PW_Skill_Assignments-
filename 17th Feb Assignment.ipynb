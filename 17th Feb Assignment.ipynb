{
 "cells": [
  {
   "cell_type": "markdown",
   "id": "2e4c58f6-a017-475d-9e9d-23a102f3d782",
   "metadata": {},
   "source": [
    "Q1. What is MongoDB? Explain non-relational databases in short. In which scenarios it is preferred to use\n",
    "MongoDB over SQL databases?"
   ]
  },
  {
   "cell_type": "markdown",
   "id": "a976004c-fd85-4966-9129-45bf8aa49846",
   "metadata": {},
   "source": [
    "MongoDB is a popular open-source, document-oriented NoSQL database system that allows developers to store, manage and retrieve data in JSON-like documents with dynamic schemas. Unlike traditional relational databases that use tables and rows to store data, MongoDB stores data in collections of JSON documents that can have varying structures, making it more flexible and scalable.\n",
    "\n",
    "Non-relational databases, also known as NoSQL databases, are databases that use a data model that doesn't require a fixed schema, and they are designed to handle large volumes of unstructured, semi-structured, and structured data more efficiently than traditional relational databases. They can handle different types of data like documents, key-value, column-family, and graph data.\n",
    "\n",
    "MongoDB is preferred over SQL databases in scenarios where:\n",
    "\n",
    "a) Flexibility and scalability are essential: MongoDB is designed to handle unstructured and semi-structured data, making it more flexible and scalable than SQL databases. This makes it ideal for     applications where data volumes are expected to grow rapidly or where the data model is likely to change frequently.\n",
    "\n",
    "b) Real-time data processing: MongoDB is designed to handle large volumes of data in real-time, making it an ideal choice for real-time analytics and data processing applications.\n",
    "\n",
    "c) High availability and performance: MongoDB has built-in sharding and replication capabilities that make it highly available and performant, making it an ideal choice for high-traffic web applications.\n",
    "\n",
    "d) Cloud-based applications: MongoDB has extensive support for cloud-based deployments, making it easy to deploy and scale applications in the cloud.\n",
    "\n",
    "Overall, MongoDB is a powerful and flexible NoSQL database system that provides developers with the ability to store and manage large volumes of data efficiently, and is particularly well-suited for applications that require real-time data processing and high scalability."
   ]
  },
  {
   "cell_type": "markdown",
   "id": "6b6e2ba3-5369-4eee-8252-619c44e921ee",
   "metadata": {},
   "source": [
    "Q2. State and Explain the features of MongoDB."
   ]
  },
  {
   "cell_type": "markdown",
   "id": "02718be2-a13a-4512-ab29-30cf6867d891",
   "metadata": {},
   "source": [
    "MongoDB is a popular open-source, document-oriented NoSQL database system that offers a range of features that make it flexible, scalable, and easy to use. Here are some of the key features of MongoDB:\n",
    "\n",
    "a) Document-oriented data model: MongoDB stores data in flexible and dynamic documents, which can contain complex nested structures and arrays. This makes it easy to represent complex relationships between data and avoids the need for complex joins or schema migrations.\n",
    "\n",
    "b) High scalability: MongoDB is designed to scale horizontally by adding more nodes to a cluster. This makes it easy to handle high traffic applications and large data volumes.\n",
    "\n",
    "c) High availability: MongoDB provides automatic failover and replication features that ensure high availability of data in case of server failures.\n",
    "\n",
    "d) Rich querying language: MongoDB's query language supports a wide range of operations, including filtering, sorting, aggregation, and text search. This makes it easy to retrieve and manipulate data in a variety of ways.\n",
    "\n",
    "e) Indexing and aggregation framework: MongoDB provides a powerful indexing and aggregation framework that makes it easy to optimize queries and analyze large datasets.\n",
    "\n",
    "f) Flexible schema: MongoDB's flexible schema allows developers to easily add new fields or change the structure of documents without having to modify the database schema.\n",
    "\n",
    "g) Multi-document transactions: MongoDB supports multi-document transactions, which makes it possible to execute complex transactions across multiple documents.\n",
    "\n",
    "h) Ad hoc queries: MongoDB allows developers to run ad hoc queries on the fly without the need to define a schema or create an index in advance.\n",
    "\n",
    "i) Built-in geospatial capabilities: MongoDB includes support for geospatial data, which makes it easy to work with location-based data.\n",
    "\n",
    "Overall, MongoDB provides a powerful and flexible NoSQL database solution that makes it easy to store, retrieve, and analyze large volumes of data in a variety of ways. Its document-oriented data model, rich querying language, and flexible schema make it an ideal choice for a wide range of applications."
   ]
  },
  {
   "cell_type": "markdown",
   "id": "530f9950-b4c6-48db-8ed7-e4556df4aace",
   "metadata": {},
   "source": [
    "Q3. Write a code to connect MongoDB to Python. Also, create a database and a collection in MongoDB."
   ]
  },
  {
   "cell_type": "markdown",
   "id": "0b50f0b3-cee9-4f21-b0e9-f4a747e603db",
   "metadata": {},
   "source": [
    "To connect MongoDB to Python, you will need to install the PyMongo driver for MongoDB.\n",
    "\n",
    "Once you have installed PyMongo, you can use the following code to connect to MongoDB and create a database and a collection:\n",
    "\n",
    "\n"
   ]
  },
  {
   "cell_type": "code",
   "execution_count": null,
   "id": "c14e61ba-20f8-4f84-abaa-74abcb01c7a1",
   "metadata": {},
   "outputs": [],
   "source": [
    "import pymongo\n",
    "\n",
    "# Connect to MongoDB\n",
    "client = pymongo.MongoClient(\"mongodb://localhost:27017/\")\n",
    "\n",
    "# Create a database\n",
    "mydb = client[\"mydatabase\"]\n",
    "\n",
    "# Create a collection\n",
    "mycol = mydb[\"customers\"]"
   ]
  },
  {
   "cell_type": "markdown",
   "id": "15f427bd-ab47-410d-b5e6-1b3bf0dbf3b3",
   "metadata": {},
   "source": [
    "In this code, we first import the PyMongo module and create a MongoClient object, passing in the connection string for our MongoDB instance. We then create a new database called \"mydatabase\" using the \"client\" object. Finally, we create a collection called \"customers\" within the \"mydatabase\" database."
   ]
  },
  {
   "cell_type": "markdown",
   "id": "dc50bcea-b7d3-4afa-ba5c-bad1e0b31b0a",
   "metadata": {},
   "source": [
    "Q4. Using the database and the collection created in question number 3, write a code to insert one record,and insert many records. Use the find() and find_one() methods to print the inserted record."
   ]
  },
  {
   "cell_type": "markdown",
   "id": "961d2da7-6123-4789-8767-1fd4f3862c31",
   "metadata": {},
   "source": [
    "Example code that inserts one record and multiple records into the \"customers\" collection in the \"mydatabase\" database, and then uses the find() and find_one() methods to print the inserted records:"
   ]
  },
  {
   "cell_type": "code",
   "execution_count": null,
   "id": "669a4676-226d-4594-adb4-7a8583a87c90",
   "metadata": {},
   "outputs": [],
   "source": [
    "import pymongo\n",
    "\n",
    "# Connect to MongoDB\n",
    "client = pymongo.MongoClient(\"mongodb://localhost:27017/\")\n",
    "\n",
    "# Select the database and collection\n",
    "mydb = client[\"mydatabase\"]\n",
    "mycol = mydb[\"customers\"]\n",
    "\n",
    "# Insert one record\n",
    "mydict = { \"name\": \"John Doe\", \"address\": \"123 Main St\", \"age\": 35 }\n",
    "insert_result = mycol.insert_one(mydict)\n",
    "print(\"Inserted record ID:\", insert_result.inserted_id)\n",
    "\n",
    "# Insert many records\n",
    "mylist = [\n",
    "  { \"name\": \"Jane Doe\", \"address\": \"456 Oak St\", \"age\": 28 },\n",
    "  { \"name\": \"Bob Smith\", \"address\": \"789 Elm St\", \"age\": 42 },\n",
    "  { \"name\": \"Alice Johnson\", \"address\": \"321 Maple St\", \"age\": 31 }\n",
    "]\n",
    "insert_result = mycol.insert_many(mylist)\n",
    "print(\"Inserted\", len(insert_result.inserted_ids), \"records\")\n",
    "\n",
    "# Print the inserted records\n",
    "print(\"All records:\")\n",
    "for record in mycol.find():\n",
    "    print(record)\n",
    "    \n",
    "print(\"One record:\")\n",
    "print(mycol.find_one({\"name\": \"John Doe\"}))\n"
   ]
  },
  {
   "cell_type": "markdown",
   "id": "39d04a1f-e2e5-48df-b63d-832b40add485",
   "metadata": {},
   "source": [
    "In this code, we first connect to the MongoDB instance and select the \"mydatabase\" database and \"customers\" collection. We then insert one record into the collection using the `insert_one()` method and print the ID of the inserted record. Next, we insert multiple records using the `insert_many()` method and print the number of inserted records. Finally, we use the `find()` method to print all records in the collection and the `find_one()` method to print a single record based on a query."
   ]
  },
  {
   "cell_type": "markdown",
   "id": "6eaec205-82cf-4a01-828c-c50c3338971a",
   "metadata": {},
   "source": [
    "Q5. Explain how you can use the find() method to query the MongoDB database. Write a simple code to demonstrate this."
   ]
  },
  {
   "cell_type": "markdown",
   "id": "36b4fa5d-d017-4f60-b5e1-f980acbc95cf",
   "metadata": {},
   "source": [
    "The `find()` method in MongoDB is used to retrieve documents from a collection. It takes an optional query parameter that specifies the criteria to use when selecting documents. The method returns a cursor object that can be iterated over to retrieve the matching documents.\n",
    "\n",
    "Here's an example code that demonstrates how to use the `find()` method to query a MongoDB collection:"
   ]
  },
  {
   "cell_type": "code",
   "execution_count": null,
   "id": "cd5f033f-c495-4c5b-b622-db338d8400c1",
   "metadata": {},
   "outputs": [],
   "source": [
    "import pymongo\n",
    "\n",
    "# Connect to MongoDB\n",
    "client = pymongo.MongoClient(\"mongodb://localhost:27017/\")\n",
    "\n",
    "# Select the database and collection\n",
    "mydb = client[\"mydatabase\"]\n",
    "mycol = mydb[\"customers\"]\n",
    "\n",
    "# Query the collection using find()\n",
    "query = { \"age\": { \"$gte\": 30 } }\n",
    "results = mycol.find(query)\n",
    "\n",
    "# Print the matching documents\n",
    "for document in results:\n",
    "    print(document)\n"
   ]
  },
  {
   "cell_type": "markdown",
   "id": "3ff948fc-f0f4-4b90-a1d2-b866856fba01",
   "metadata": {},
   "source": [
    "In this code, we first connect to the MongoDB instance and select the \"mydatabase\" database and \"customers\" collection. We then define a query that selects documents where the \"age\" field is greater than or equal to 30. We use this query as a parameter to the `find()` method to retrieve all matching documents from the collection. Finally, we iterate over the cursor returned by the `find()` method and print each matching document."
   ]
  },
  {
   "cell_type": "markdown",
   "id": "1021b142-1a9c-4f99-b8fd-e61d4df48cff",
   "metadata": {},
   "source": [
    "Q6. Explain the sort() method. Give an example to demonstrate sorting in MongoDB."
   ]
  },
  {
   "cell_type": "markdown",
   "id": "a0896ef4-01b8-4bc4-8091-eaf98e697f04",
   "metadata": {},
   "source": [
    "The `sort()` method in MongoDB is used to sort the results of a query. It takes an optional parameter that specifies the field or fields to sort by, as well as the sort order (ascending or descending).\n",
    "\n",
    "Here's an example code that demonstrates how to use the `sort()` method to sort the results of a query in MongoDB:"
   ]
  },
  {
   "cell_type": "code",
   "execution_count": null,
   "id": "bb972671-c983-4b31-b268-52c529d947fb",
   "metadata": {},
   "outputs": [],
   "source": [
    "import pymongo\n",
    "\n",
    "# Connect to MongoDB\n",
    "client = pymongo.MongoClient(\"mongodb://localhost:27017/\")\n",
    "\n",
    "# Select the database and collection\n",
    "mydb = client[\"mydatabase\"]\n",
    "mycol = mydb[\"customers\"]\n",
    "\n",
    "# Query the collection and sort the results\n",
    "query = { \"age\": { \"$gte\": 30 } }\n",
    "results = mycol.find(query).sort(\"age\")\n",
    "\n",
    "# Print the sorted documents\n",
    "for document in results:\n",
    "    print(document)"
   ]
  },
  {
   "cell_type": "markdown",
   "id": "55522a23-a49d-4333-baa5-b92da5206eee",
   "metadata": {},
   "source": [
    "In this code, we first connect to the MongoDB instance and select the \"mydatabase\" database and \"customers\" collection. We then define a query that selects documents where the \"age\" field is greater than or equal to 30. We use this query as a parameter to the `find()` method to retrieve all matching documents from the collection. We then chain the `sort()` method onto the `find()` method call, specifying that we want to sort the results by the \"age\" field in ascending order.\n",
    "\n",
    "The `sort()` method can also take multiple fields to sort by, as well as the sort order for each field. For example, to sort by age in descending order and name in ascending order, we could use the following code:"
   ]
  },
  {
   "cell_type": "code",
   "execution_count": null,
   "id": "72d3e109-b75e-4d23-8ae1-d5e801850969",
   "metadata": {},
   "outputs": [],
   "source": [
    "results = mycol.find(query).sort([(\"age\", -1), (\"name\", 1)])"
   ]
  },
  {
   "cell_type": "markdown",
   "id": "63e40d0c-a835-49a7-b299-62b1933da260",
   "metadata": {},
   "source": [
    "Q7. Explain why delete_one(), delete_many(), and drop() is used."
   ]
  },
  {
   "cell_type": "markdown",
   "id": "a9c27b96-e45d-49b9-b222-120b80a95b3c",
   "metadata": {},
   "source": [
    "In MongoDB, there are three methods for deleting documents or collections:\n",
    "\n",
    "a) `delete_one():` This method is used to delete a single document that matches the specified filter. If multiple documents match the filter, only the first document will be deleted.\n",
    "\n",
    "b) `delete_many():` This method is used to delete all documents that match the specified filter.\n",
    "\n",
    "c) `drop():` This method is used to delete an entire collection from the database.\n",
    "\n",
    "Here's a brief explanation of when each of these methods might be used:\n",
    "\n",
    "`delete_one():` This method can be useful when you want to delete a specific document from a collection. For example, you might want to delete a user account when the user requests it.\n",
    "\n",
    "`delete_many():` This method can be useful when you want to delete multiple documents from a collection based on a certain criteria. For example, you might want to delete all orders that were cancelled or refunded.\n",
    "\n",
    "`drop():` This method is used to completely remove a collection from the database. This might be necessary if you want to start fresh with a new collection or if you no longer need the data in that collection.\n",
    "\n",
    "It's important to use these methods carefully, as they permanently delete data from the database. It's always a good idea to take a backup of the data before deleting any documents or collections."
   ]
  },
  {
   "cell_type": "code",
   "execution_count": null,
   "id": "f0ec0a49-a7ca-407b-8f57-3a5b8f3acc37",
   "metadata": {},
   "outputs": [],
   "source": []
  }
 ],
 "metadata": {
  "kernelspec": {
   "display_name": "Python 3 (ipykernel)",
   "language": "python",
   "name": "python3"
  },
  "language_info": {
   "codemirror_mode": {
    "name": "ipython",
    "version": 3
   },
   "file_extension": ".py",
   "mimetype": "text/x-python",
   "name": "python",
   "nbconvert_exporter": "python",
   "pygments_lexer": "ipython3",
   "version": "3.10.8"
  }
 },
 "nbformat": 4,
 "nbformat_minor": 5
}
