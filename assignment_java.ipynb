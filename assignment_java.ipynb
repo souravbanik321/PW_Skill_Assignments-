{
 "cells": [
  {
   "cell_type": "markdown",
   "id": "1806b50a-a87c-4196-ac51-9dd7fcf54905",
   "metadata": {},
   "source": [
    "## Q.1 What’s Constructor And Its Purpose?"
   ]
  },
  {
   "cell_type": "markdown",
   "id": "491b3d12-28ce-4390-a2e7-5425e74af714",
   "metadata": {},
   "source": [
    "A constructor is a special method of a class or structure in object-oriented programming that initializes a newly created object of that type. Whenever an object is created, the constructor is called automatically.\n",
    "\n",
    "A constructor is like an instance method that usually has the same name as the class, and can be used to set the values of the members of an object, either to default or to user-defined values. However, although it resembles it, a constructor is not a proper method since it doesn’t have a return type. Instead of performing a task by executing code, the constructor initializes the object, and it cannot be static, final, abstract, and synchronized.\n",
    "\n",
    "Techopedia Explains Constructor\n",
    "Constructors are not called explicitly and are invoked only once during their lifetime. In the case of a hierarchy of classes where a derived class inherits from a parent class, the execution sequence of the constructor is a call to the constructor of the parent class first and then that of the derived class. Constructors cannot be inherited.\n",
    "\n",
    "Users do not need to write constructors for every class. A constructor can be declared using any of the access modifiers. It is mandatory to have a constructor with the right access modifier.\n",
    "\n",
    "However, the compiler supplies a default if an access modifier is not defined in the class and a constructor is not declared. This default constructor cannot be found inside the source code since it’s found in the .class file. Its behavior depends on the language.\n",
    "\n",
    "Although it’s often mistaken for a default constructor, in Java constructors with no arguments also exist and are called “no-arg constructors.” While they share the signature with the default constructor, the body of no-arg constructors isn’t empty and they can have any code. Constructors with arguments, instead, are known as “parameterized constructors.”\n",
    "\n",
    "If a constructor is declared as private, the class cannot be created or derived and hence cannot be instantiated. Such a constructor, however, can be overloaded with different sets of parameters.\n",
    "\n",
    "The following is recommended in constructor design:\n",
    "\n",
    "Logic involving specific operations that need to be executed at a particular event in an application – such as opening a database connection – should not be written in a constructor.\n",
    "\n",
    "When using derived class constructors, the parent class constructor should be passed the correct parameters.\n",
    "\n",
    "Better code maintainability comes from having the initialization and other related logic in one main constructor and cross-calling this constructor from other overloaded constructors.\n",
    "\n",
    "Because a constructor cannot return a value to the calling code, it is a good practice to throw an exception when a failure is encountered.\n",
    "\n",
    "Constructor chaining occurs whenever a base class is extended by a child. The parent class is, therefore, invoked first every time an object of that child class is created."
   ]
  },
  {
   "cell_type": "markdown",
   "id": "799d1a13-3f40-4878-a1d7-5a93fca05eb7",
   "metadata": {},
   "source": [
    "## Q.2 Explain This Keyword and Its Purpose?\n"
   ]
  },
  {
   "cell_type": "markdown",
   "id": "cf31227e-9480-40af-b031-789550869d0b",
   "metadata": {},
   "source": [
    "Definition and Usage\n",
    "The this keyword refers to the current object in a method or constructor.\n",
    "\n",
    "The most common use of the this keyword is to eliminate the confusion between class attributes and parameters with the same name (because a class attribute is shadowed by a method or constructor parameter). If you omit the keyword in the example above, the output would be \"0\" instead of \"5\".\n",
    "\n",
    "this can also be used to:\n",
    "\n",
    "Invoke current class constructor\n",
    "Invoke current class method\n",
    "Return the current class object\n",
    "Pass an argument in the method call\n",
    "Pass an argument in the constructor call\n"
   ]
  },
  {
   "cell_type": "markdown",
   "id": "9a8d7846-c4a7-4e4e-9c25-4429bf037521",
   "metadata": {},
   "source": [
    "## Q.3 What’s Call Apply Bind Method & Difference Between them?"
   ]
  },
  {
   "cell_type": "markdown",
   "id": "e99dff3b-af24-4ad1-b45f-437271b45f55",
   "metadata": {},
   "source": [
    "call\n",
    "The call method binds the this value to the function and executes the function. It takes the this value and a list of arguments as parameters. Then, it returns the value returned by the function, which is called using the call method.\n",
    "\n",
    "function test(arg1, arg2){\n",
    "  console.log(this.num, arg1, arg2); // 100, 10, 20\n",
    "}\n",
    "\n",
    "test.call({num: 100}, 10, 20);\n",
    "In the code above, we have called the test function using the call method. The call method will invoke the test function with the this value as the object passed to the call method.\n",
    "\n",
    "apply\n",
    "The apply method binds the this value to the function and executes the function. It takes the this value and a single array object as parameters, and it returns the value returned by the function, which is called using the apply method.\n",
    "\n",
    "function test(...arguments){\n",
    "  console.log(this.num, arguments);//100, [1,2,3]\n",
    "}\n",
    "\n",
    "test.apply({num: 100}, [1,2,3]); \n",
    "In the code above, we have called the test function using the apply method and with the this value as the object passed to the apply method.\n",
    "\n",
    "call() and apply() are identical in functionality, the only difference is that call() accepts a list of arguments; whereas, apply() accepts a single array of arguments."
   ]
  },
  {
   "cell_type": "markdown",
   "id": "4981401b-c95d-4e7c-b9d7-272f97d6d03c",
   "metadata": {},
   "source": [
    "Q.4 Explain OOPS ? "
   ]
  },
  {
   "cell_type": "markdown",
   "id": "d2cd511a-4e09-4181-b417-b12e38ffe60b",
   "metadata": {},
   "source": [
    "Object-oriented programming (OOP) is a computer programming model that organizes software design around data, or objects, rather than functions and logic. An object can be defined as a data field that has unique attributes and behavior.\n",
    "\n",
    "OOP focuses on the objects that developers want to manipulate rather than the logic required to manipulate them. This approach to programming is well-suited for programs that are large, complex and actively updated or maintained. This includes programs for manufacturing and design, as well as mobile applications; for example, OOP can be used for manufacturing system simulation software.\n",
    "\n",
    "The organization of an object-oriented program also makes the method beneficial to collaborative development, where projects are divided into groups. Additional benefits of OOP include code reusability, scalability and efficiency.\n",
    "\n",
    "The first step in OOP is to collect all of the objects a programmer wants to manipulate and identify how they relate to each other -- an exercise known as data modeling.\n",
    "\n",
    "Examples of an object can range from physical entities, such as a human being who is described by properties like name and address, to small computer programs, such as widgets.\n",
    "\n",
    "Once an object is known, it is labeled with a class of objects that defines the kind of data it contains and any logic sequences that can manipulate it. Each distinct logic sequence is known as a method. Objects can communicate with well-defined interfaces called messages."
   ]
  },
  {
   "cell_type": "markdown",
   "id": "6164ce49-ad22-42c5-bb7c-22382ff72470",
   "metadata": {},
   "source": [
    "Q.5 Whats Abstraction and Its Purpose?"
   ]
  },
  {
   "cell_type": "markdown",
   "id": "de68e98d-d136-4b10-a70d-41986b0cffe1",
   "metadata": {},
   "source": [
    "What Does Abstraction Mean?\n",
    "Abstraction is a fundamental principle in some types of computer science. It is a key design aspect of object-oriented programming languages and application programming interfaces. It's also one of the least understood ideas in programming, partially for semantic reasons.\n",
    "\n",
    "Abstraction is commonly defined as the extraction of relevant information from a larger data set, where utilizing abstraction allows engineers and others to simplify a codebase.\n",
    "\n",
    "Techopedia Explains Abstraction\n",
    "The reason this is confusing to many people is that abstraction doesn't “sound like” what it is, semantically. It sounds like making something more vague, because that's how we use it in general language.\n",
    "\n",
    "However, in computer science, abstraction typically means simplification and separating the signal from the noise in order to make programming more efficient and effective.\n",
    "\n",
    "Object-Oriented Programming\n",
    "Code\n",
    "In one of the most prominent examples of computer science abstraction, in object-oriented programming, abstraction often works by through the use of objects in code. These objects, as portable containers of attributes and repeatable code structures, abstract functionality that might otherwise be programmed in a linear way.\n",
    "\n",
    "In other words, the vehicle for abstraction is the objects in the code, which take a whole bunch of underlying code and make it portable and repeatable."
   ]
  },
  {
   "cell_type": "markdown",
   "id": "fc51a303-338b-4b2b-9ed4-3dcb932e04f4",
   "metadata": {},
   "source": [
    "Q.6 Whats Polymorphism and Purpose of it?"
   ]
  },
  {
   "cell_type": "markdown",
   "id": "4039ea24-f599-41db-a3d3-7b6cd33d8761",
   "metadata": {},
   "source": [
    "Polymorphism is considered one of the important features of Object-Oriented Programming. Polymorphism allows us to perform a single action in different ways. In other words, polymorphism allows you to define one interface and have multiple implementations. The word “poly” means many and “morphs” means forms, So it means many forms.\n",
    "\n",
    "Types of Java polymorphism\n",
    "In Java polymorphism is mainly divided into two types: \n",
    "\n",
    "\n",
    "Compile-time Polymorphism\n",
    "Runtime Polymorphism\n",
    "Compile-Time Polymorphism\n",
    "It is also known as static polymorphism. This type of polymorphism is achieved by function overloading or operator overloading. "
   ]
  },
  {
   "cell_type": "markdown",
   "id": "18577ecb-ebff-49f5-9fda-7eec3010605c",
   "metadata": {},
   "source": [
    "Q.7  Whats Inheritance and Purpose of it?"
   ]
  },
  {
   "cell_type": "markdown",
   "id": "7e2cc131-3e0b-4e4a-9886-1841dca1378b",
   "metadata": {},
   "source": [
    "The term 'Inheritance' is derived from the word \"Inherit\" which means, \"to derive any quality, features or characteristics from family\". Therefore, \"Inheritance is defined as a mechanism where the sub or child class inherits the properties and characteristics of the super class or other derived classes. It also supports additional features of extracting properties from the child class and using it into other derived classes.\"\n",
    "\n",
    "In computer programming, Inheritance is one of the most important concepts followed by Abstraction, Encapsulation and Polymorphism in the Object Oriented Programming (OOPS) Paradigm. This mechanism allows the new objects to take on the properties of existing objects. Inheritance builds relationships within the classes; therefore, relating two or more classes to each other and establishing class hierarchies. Rather than writing the same code, again and again, the programmers can use the code that is already created by inheriting its class.\n",
    "\n",
    "Understanding Inheritance\n",
    "To dig deep more into inheritance, firstly we need to understand the two types of programming classes\n",
    "\n",
    "Sub Class\n",
    "Super Class\n",
    "An inherited class is known as Sub Class or Derived Class. Sub Class inherits the properties or characteristics from Base Class, also popularly known as Super class.\n",
    "\n",
    "In the programming world, Sub Class is also referred to as a child class, whereas the superclass is referred to as parent class."
   ]
  },
  {
   "cell_type": "markdown",
   "id": "43018db7-01e4-4f8b-9fde-dc0d6cc33a3a",
   "metadata": {},
   "source": [
    "Q.8 Whats Encapsulation and Purpose of it ?"
   ]
  },
  {
   "cell_type": "markdown",
   "id": "501173d1-6a8b-42b4-beae-7c34e1fbf114",
   "metadata": {},
   "source": [
    "Encapsulation is a fundamental concept in object-oriented programming (OOP) that refers to the bundling of data and methods that operate on that data within a single unit, which is called a class in Java. Encapsulation is a way of hiding the implementation details of a class from outside access and only exposing a public interface that can be used to interact with the class.\n",
    "\n",
    "In Java, encapsulation is achieved by declaring the instance variables of a class as private, which means they can only be accessed within the class. To allow outside access to the instance variables, public methods called getters and setters are defined, which are used to retrieve and modify the values of the instance variables, respectively. By using getters and setters, the class can enforce its own data validation rules and ensure that its internal state remains consistent.\n",
    "\n",
    "Here’s an example of encapsulation:\n",
    "Java\n",
    "\n",
    "class Person {\n",
    "    private String name;\n",
    "    private int age;\n",
    " \n",
    "    public String getName() { return name; }\n",
    " \n",
    "    public void setName(String name) { this.name = name; }\n",
    " \n",
    "    public int getAge() { return age; }\n",
    " \n",
    "    public void setAge(int age) { this.age = age; }\n",
    "}\n",
    " \n",
    "public class Main {\n",
    "    public static void main(String[] args)\n",
    "    {\n",
    "        Person person = new Person();\n",
    "        person.setName(\"John\");\n",
    "        person.setAge(30);\n",
    " \n",
    "        System.out.println(\"Name: \" + person.getName());\n",
    "        System.out.println(\"Age: \" + person.getAge());\n",
    "    }\n",
    "}\n",
    "\n",
    "Output\n",
    "Name: John\n",
    "Age: 30"
   ]
  },
  {
   "cell_type": "markdown",
   "id": "408eb50b-dcab-49c8-a2ec-3d35720100be",
   "metadata": {},
   "source": [
    "Q.9 Explain Class in JavaScript?"
   ]
  },
  {
   "cell_type": "markdown",
   "id": "1b209c8f-51cb-45aa-8769-08698058e08a",
   "metadata": {},
   "source": [
    "Q.9 Explain Class in JavaScript?"
   ]
  },
  {
   "cell_type": "markdown",
   "id": "b40e1cfd-4ed8-4794-9c62-2a13366e0d55",
   "metadata": {},
   "source": [
    "Classes are a template for creating objects. They encapsulate data with code to work on that data. Classes in JS are built on prototypes but also have some syntax and semantics that are unique to classes."
   ]
  },
  {
   "cell_type": "markdown",
   "id": "3d0da116-5b59-4f4f-a465-bf430fef6e94",
   "metadata": {},
   "source": [
    "Q.10 What’s Super Keyword & What it does?"
   ]
  },
  {
   "cell_type": "markdown",
   "id": "d5eb7337-113e-4b6f-aad6-13a7247bdc3a",
   "metadata": {},
   "source": [
    "The super keyword in Java is a reference variable which is used to refer immediate parent class object.\n",
    "\n",
    "Whenever you create the instance of subclass, an instance of parent class is created implicitly which is referred by super reference variable.\n",
    "\n",
    "Usage of Java super Keyword\n",
    "super can be used to refer immediate parent class instance variable.\n",
    "super can be used to invoke immediate parent class method.\n",
    "super() can be used to invoke immediate parent class constructor."
   ]
  },
  {
   "cell_type": "code",
   "execution_count": null,
   "id": "6fd92a4e-2b76-481c-9680-1c8c9ad4b69c",
   "metadata": {},
   "outputs": [],
   "source": []
  }
 ],
 "metadata": {
  "kernelspec": {
   "display_name": "Python 3 (ipykernel)",
   "language": "python",
   "name": "python3"
  },
  "language_info": {
   "codemirror_mode": {
    "name": "ipython",
    "version": 3
   },
   "file_extension": ".py",
   "mimetype": "text/x-python",
   "name": "python",
   "nbconvert_exporter": "python",
   "pygments_lexer": "ipython3",
   "version": "3.10.8"
  }
 },
 "nbformat": 4,
 "nbformat_minor": 5
}
