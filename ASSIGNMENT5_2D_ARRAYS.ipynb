{
 "cells": [
  {
   "cell_type": "markdown",
   "id": "108c5e44-740d-44f4-ae02-1c793167a7f4",
   "metadata": {},
   "source": [
    "<aside>\n",
    "💡 **Question 3**\n",
    "\n",
    "Given an integer array nums sorted in **non-decreasing** order, return *an array of **the squares of each number** sorted in non-decreasing order*.\n",
    "\n",
    "**Example 1:**\n",
    "\n",
    "**Input:** nums = [-4,-1,0,3,10]\n",
    "\n",
    "**Output:** [0,1,9,16,100]\n",
    "\n",
    "**Explanation:** After squaring, the array becomes [16,1,0,9,100].\n",
    "\n",
    "After sorting, it becomes [0,1,9,16,100].\n",
    "\n",
    "</aside>"
   ]
  },
  {
   "cell_type": "code",
   "execution_count": 1,
   "id": "3a158949-0d87-4c69-b00f-a349079e99d1",
   "metadata": {},
   "outputs": [
    {
     "name": "stdout",
     "output_type": "stream",
     "text": [
      "[0, 1, 9, 16, 100]\n"
     ]
    }
   ],
   "source": [
    "def sortedSquares(nums):\n",
    "    result = []  # Step 1\n",
    "    \n",
    "    for num in nums:  # Step 2\n",
    "        square = num * num  # Step 3\n",
    "        result.append(square)  # Step 4\n",
    "    \n",
    "    result.sort()  # Step 5\n",
    "    \n",
    "    return result  # Step 6\n",
    "nums = [-4, -1, 0, 3, 10]\n",
    "print(sortedSquares(nums))\n"
   ]
  },
  {
   "cell_type": "markdown",
   "id": "14c3c639-aeb2-4d64-a599-840ff67fbdb8",
   "metadata": {},
   "source": [
    "<aside>\n",
    "💡 **Question 4**\n",
    "\n",
    "Given two **0-indexed** integer arrays nums1 and nums2, return *a list* answer *of size* 2 *where:*\n",
    "\n",
    "- answer[0] *is a list of all **distinct** integers in* nums1 *which are **not** present in* nums2*.*\n",
    "- answer[1] *is a list of all **distinct** integers in* nums2 *which are **not** present in* nums1.\n",
    "\n",
    "**Note** that the integers in the lists may be returned in **any** order.\n",
    "\n",
    "**Example 1:**\n",
    "\n",
    "**Input:** nums1 = [1,2,3], nums2 = [2,4,6]\n",
    "\n",
    "**Output:** [[1,3],[4,6]]\n",
    "\n",
    "**Explanation:**\n",
    "\n",
    "For nums1, nums1[1] = 2 is present at index 0 of nums2, whereas nums1[0] = 1 and nums1[2] = 3 are not present in nums2. Therefore, answer[0] = [1,3].\n",
    "\n",
    "For nums2, nums2[0] = 2 is present at index 1 of nums1, whereas nums2[1] = 4 and nums2[2] = 6 are not present in nums2. Therefore, answer[1] = [4,6].\n",
    "\n",
    "</aside>"
   ]
  },
  {
   "cell_type": "code",
   "execution_count": 2,
   "id": "5c6789ab-7bac-43ba-b9ff-647338b52680",
   "metadata": {},
   "outputs": [
    {
     "name": "stdout",
     "output_type": "stream",
     "text": [
      "[[1, 3], [4, 6]]\n"
     ]
    }
   ],
   "source": [
    "def findDisjointArrays(nums1, nums2):\n",
    "    set1 = set(nums1)  # Step 1\n",
    "    set2 = set(nums2)  # Step 1\n",
    "    \n",
    "    diff1 = list(set1 - set2)  # Step 4\n",
    "    diff2 = list(set2 - set1)  # Step 4\n",
    "    \n",
    "    answer = [diff1, diff2]  # Step 5\n",
    "    \n",
    "    return answer  # Step 6\n",
    "nums1 = [1, 2, 3]\n",
    "nums2 = [2, 4, 6]\n",
    "print(findDisjointArrays(nums1, nums2))\n"
   ]
  },
  {
   "cell_type": "markdown",
   "id": "52b7b1dd-7a54-4b34-b982-8bbe3d7df3e2",
   "metadata": {},
   "source": [
    "<aside>\n",
    "💡 **Question 5**\n",
    "\n",
    "Given two integer arrays arr1 and arr2, and the integer d, *return the distance value between the two arrays*.\n",
    "\n",
    "The distance value is defined as the number of elements arr1[i] such that there is not any element arr2[j] where |arr1[i]-arr2[j]| <= d.\n",
    "\n",
    "**Example 1:**\n",
    "\n",
    "**Input:** arr1 = [4,5,8], arr2 = [10,9,1,8], d = 2\n",
    "\n",
    "**Output:** 2\n",
    "\n",
    "**Explanation:**\n",
    "\n",
    "For arr1[0]=4 we have:\n",
    "\n",
    "|4-10|=6 > d=2\n",
    "\n",
    "|4-9|=5 > d=2\n",
    "\n",
    "|4-1|=3 > d=2\n",
    "\n",
    "|4-8|=4 > d=2\n",
    "\n",
    "For arr1[1]=5 we have:\n",
    "\n",
    "|5-10|=5 > d=2\n",
    "\n",
    "|5-9|=4 > d=2\n",
    "\n",
    "|5-1|=4 > d=2\n",
    "\n",
    "|5-8|=3 > d=2\n",
    "\n",
    "For arr1[2]=8 we have:\n",
    "\n",
    "**|8-10|=2 <= d=2**\n",
    "\n",
    "**|8-9|=1 <= d=2**\n",
    "\n",
    "|8-1|=7 > d=2\n",
    "\n",
    "**|8-8|=0 <= d=2**\n",
    "\n",
    "</aside>"
   ]
  },
  {
   "cell_type": "code",
   "execution_count": 3,
   "id": "beccd456-9f44-451d-8d63-582cc376260b",
   "metadata": {},
   "outputs": [
    {
     "name": "stdout",
     "output_type": "stream",
     "text": [
      "2\n"
     ]
    }
   ],
   "source": [
    "def findDistanceValue(arr1, arr2, d):\n",
    "    count = 0  # Step 1\n",
    "    \n",
    "    for num in arr1:  # Step 2\n",
    "        for num2 in arr2:  # Step 3\n",
    "            if abs(num - num2) <= d:  # Step 4\n",
    "                break\n",
    "        else:\n",
    "            count += 1  # Step 5\n",
    "    \n",
    "    return count  # Step 6\n",
    "arr1 = [4, 5, 8]\n",
    "arr2 = [10, 9, 1, 8]\n",
    "d = 2\n",
    "print(findDistanceValue(arr1, arr2, d))\n"
   ]
  },
  {
   "cell_type": "markdown",
   "id": "203a409a-4575-456f-988a-3c922c4e578c",
   "metadata": {},
   "source": [
    "<aside>\n",
    "💡 **Question 6**\n",
    "\n",
    "Given an integer array nums of length n where all the integers of nums are in the range [1, n] and each integer appears **once** or **twice**, return *an array of all the integers that appears **twice***.\n",
    "\n",
    "You must write an algorithm that runs in O(n) time and uses only constant extra space.\n",
    "\n",
    "**Example 1:**\n",
    "\n",
    "**Input:** nums = [4,3,2,7,8,2,3,1]\n",
    "\n",
    "**Output:**\n",
    "\n",
    "[2,3]\n",
    "\n",
    "</aside>"
   ]
  },
  {
   "cell_type": "code",
   "execution_count": 4,
   "id": "687ae8b8-348b-4905-b70f-273c72e96489",
   "metadata": {},
   "outputs": [
    {
     "name": "stdout",
     "output_type": "stream",
     "text": [
      "[4, 3, 2, 7, 8, 1]\n"
     ]
    }
   ],
   "source": [
    "def findDuplicates(nums):\n",
    "    result = []  # Step 1\n",
    "    \n",
    "    for num in nums:  # Step 2\n",
    "        abs_num = abs(num)  # Step 3\n",
    "        if nums[abs_num - 1] > 0:  # Step 4\n",
    "            result.append(abs_num)\n",
    "        nums[abs_num - 1] *= -1  # Step 5\n",
    "    \n",
    "    return result  # Step 6\n",
    "nums = [4, 3, 2, 7, 8, 2, 3, 1]\n",
    "print(findDuplicates(nums))\n"
   ]
  },
  {
   "cell_type": "markdown",
   "id": "af88eed9-c327-4ce9-afaf-80355f75ba69",
   "metadata": {},
   "source": [
    "<aside>\n",
    "💡 **Question 7**\n",
    "\n",
    "Suppose an array of length n sorted in ascending order is **rotated** between 1 and n times. For example, the array nums = [0,1,2,4,5,6,7] might become:\n",
    "\n",
    "- [4,5,6,7,0,1,2] if it was rotated 4 times.\n",
    "- [0,1,2,4,5,6,7] if it was rotated 7 times.\n",
    "\n",
    "Notice that **rotating** an array [a[0], a[1], a[2], ..., a[n-1]] 1 time results in the array [a[n-1], a[0], a[1], a[2], ..., a[n-2]].\n",
    "\n",
    "Given the sorted rotated array nums of **unique** elements, return *the minimum element of this array*.\n",
    "\n",
    "You must write an algorithm that runs in O(log n) time.\n",
    "\n",
    "**Example 1:**\n",
    "\n",
    "**Input:** nums = [3,4,5,1,2]\n",
    "\n",
    "**Output:** 1\n",
    "\n",
    "**Explanation:**\n",
    "\n",
    "The original array was [1,2,3,4,5] rotated 3 times.\n",
    "\n",
    "</aside>"
   ]
  },
  {
   "cell_type": "code",
   "execution_count": 6,
   "id": "cba0e4f8-09be-4c45-866a-67c7bd34268a",
   "metadata": {},
   "outputs": [
    {
     "name": "stdout",
     "output_type": "stream",
     "text": [
      "1\n"
     ]
    }
   ],
   "source": [
    "def findMin(nums):\n",
    "    left = 0  # Step 1\n",
    "    right = len(nums) - 1  # Step 1\n",
    "    \n",
    "    while left < right:  # Step 2\n",
    "        mid = left + (right - left) // 2  # Step 3\n",
    "        \n",
    "        if nums[mid] > nums[right]:  # Step 4\n",
    "            left = mid + 1\n",
    "        else:\n",
    "            right = mid\n",
    "    \n",
    "    return nums[left]  # Step 5\n",
    "nums = [3, 4, 5, 1, 2]\n",
    "print(findMin(nums))\n"
   ]
  },
  {
   "cell_type": "markdown",
   "id": "81137286-e767-4e4c-bfda-3fe15087bc7b",
   "metadata": {},
   "source": [
    "<aside>\n",
    "💡 **Question 8**\n",
    "\n",
    "An integer array original is transformed into a **doubled** array changed by appending **twice the value** of every element in original, and then randomly **shuffling** the resulting array.\n",
    "\n",
    "Given an array changed, return original *if* changed *is a **doubled** array. If* changed *is not a **doubled** array, return an empty array. The elements in* original *may be returned in **any** order*.\n",
    "\n",
    "**Example 1:**\n",
    "\n",
    "**Input:** changed = [1,3,4,2,6,8]\n",
    "\n",
    "**Output:** [1,3,4]\n",
    "\n",
    "**Explanation:** One possible original array could be [1,3,4]:\n",
    "\n",
    "- Twice the value of 1 is 1 * 2 = 2.\n",
    "- Twice the value of 3 is 3 * 2 = 6.\n",
    "- Twice the value of 4 is 4 * 2 = 8.\n",
    "\n",
    "Other original arrays could be [4,3,1] or [3,1,4].\n",
    "\n",
    "</aside>"
   ]
  },
  {
   "cell_type": "code",
   "execution_count": 7,
   "id": "75799678-8788-4832-baf1-a60c807dc290",
   "metadata": {},
   "outputs": [
    {
     "name": "stdout",
     "output_type": "stream",
     "text": [
      "[1, 2, 3, 4, 6, 8]\n"
     ]
    }
   ],
   "source": [
    "from collections import defaultdict\n",
    "\n",
    "def findOriginalArray(changed):\n",
    "    counts = defaultdict(int)  # Step 1\n",
    "    \n",
    "    for num in changed:  # Step 2\n",
    "        counts[num] += 1\n",
    "    \n",
    "    original = sorted(set(changed))  # Step 3\n",
    "    \n",
    "    result = []  # Step 4\n",
    "    \n",
    "    for num in original:  # Step 4\n",
    "        if counts[num] == 0:\n",
    "            return []\n",
    "        counts[num] -= 1\n",
    "        result.append(num)\n",
    "    \n",
    "    return result  # Step 5\n",
    "changed = [1, 3, 4, 2, 6, 8]\n",
    "print(findOriginalArray(changed))\n"
   ]
  },
  {
   "cell_type": "code",
   "execution_count": null,
   "id": "452f7337-dd33-4c8b-ac4c-3c64372444cc",
   "metadata": {},
   "outputs": [],
   "source": []
  }
 ],
 "metadata": {
  "kernelspec": {
   "display_name": "Python 3 (ipykernel)",
   "language": "python",
   "name": "python3"
  },
  "language_info": {
   "codemirror_mode": {
    "name": "ipython",
    "version": 3
   },
   "file_extension": ".py",
   "mimetype": "text/x-python",
   "name": "python",
   "nbconvert_exporter": "python",
   "pygments_lexer": "ipython3",
   "version": "3.10.8"
  }
 },
 "nbformat": 4,
 "nbformat_minor": 5
}
