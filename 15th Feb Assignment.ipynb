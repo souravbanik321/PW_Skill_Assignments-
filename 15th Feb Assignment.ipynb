{
 "cells": [
  {
   "cell_type": "markdown",
   "id": "9b4a535d-3a68-4f10-be04-74bbad569b3e",
   "metadata": {},
   "source": [
    "Q1.What is multiprocessing in python? Why is it useful?"
   ]
  },
  {
   "cell_type": "markdown",
   "id": "100a7e73-ff82-48bd-854e-1a60ae44d6de",
   "metadata": {},
   "source": [
    "Multiprocessing in Python is a technique for running multiple processes in parallel, with each process running in its own independent memory space. Each process can have its own set of variables and resources, and can communicate with other processes through inter-process communication mechanisms such as pipes, queues, and shared memory.\n",
    "\n",
    "Multiprocessing is useful in a number of scenarios, such as:\n",
    "\n",
    "1.Improved performance: By running multiple processes in parallel, multiprocessing can take advantage of the available resources of a system, such as multiple CPU cores, and improve the performance of a program.\n",
    "\n",
    "2.Improved stability: Since each process runs in its own memory space, a crash or error in one process will not affect other processes, making multiprocessing more robust and stable than multithreading in certain cases.\n",
    "\n",
    "3.Better resource utilization: Multiprocessing can help better utilize the available resources of a system, such as CPU, memory, and I/O devices, by allowing multiple processes to run concurrently.\n",
    "\n",
    "4.Simplified programming: Multiprocessing can make code simpler and easier to write and maintain, as each process can be designed to perform a specific task or set of tasks, and communication between processes can be managed through well-defined interfaces.\n",
    "\n",
    "Overall, multiprocessing is a powerful technique for improving the performance and stability of Python programs that need to perform computationally intensive or parallelizable tasks. It is particularly useful in scenarios where multithreading may not be effective, such as when working with CPU-bound tasks or when dealing with shared resources that require more fine-grained control over synchronization and coordination."
   ]
  },
  {
   "cell_type": "markdown",
   "id": "4a01822a-566d-46b2-964b-3b8319b3e66f",
   "metadata": {},
   "source": [
    "Q2. What are the differences between multiprocessing and multithreading?"
   ]
  },
  {
   "cell_type": "markdown",
   "id": "d3548886-5a78-492e-bf4b-12b31ff90d4e",
   "metadata": {},
   "source": [
    "Multiprocessing and multithreading are both techniques used to improve the performance of a program by executing tasks concurrently. However, there are several differences between the two approaches:\n",
    "\n",
    "1.Memory and resource allocation: In multiprocessing, each process has its own independent memory space and resources, whereas in multithreading, all threads share the same memory and resources. This means that multiprocessing can be more memory-intensive than multithreading.\n",
    "\n",
    "2.Communication and synchronization: In multiprocessing, processes communicate and synchronize through inter-process communication mechanisms such as pipes, queues, and shared memory. In multithreading, threads communicate and synchronize through shared memory and synchronization primitives such as locks, semaphores, and condition variables.\n",
    "\n",
    "3.CPU-bound vs I/O-bound tasks: Multiprocessing is generally better suited for CPU-bound tasks, where the bottleneck is the amount of processing power required to complete a task. Multithreading is better suited for I/O-bound tasks, where the bottleneck is the amount of time spent waiting for I/O operations to complete.\n",
    "\n",
    "4.Performance overhead: Multiprocessing can have a higher performance overhead than multithreading due to the additional cost of inter-process communication and context switching between processes. However, multiprocessing can also take better advantage of multiple CPU cores and can be more stable and reliable than multithreading in certain scenarios.\n",
    "\n",
    "Overall, the choice between multiprocessing and multithreading depends on the specific requirements and constraints of a program, such as the nature of the tasks to be performed, the available hardware resources, and the need for communication and synchronization between tasks."
   ]
  },
  {
   "cell_type": "markdown",
   "id": "6039fca6-0015-4094-9040-f0d469dc3eb2",
   "metadata": {},
   "source": [
    "Q3. Write a python code to create a process using the multiprocessing module."
   ]
  },
  {
   "cell_type": "code",
   "execution_count": 3,
   "id": "c31ab23d-c58a-427e-8e9e-062372fcacee",
   "metadata": {},
   "outputs": [
    {
     "name": "stdout",
     "output_type": "stream",
     "text": [
      "Child process executing\n",
      "Parent process executing\n"
     ]
    }
   ],
   "source": [
    "import multiprocessing\n",
    "\n",
    "def worker():\n",
    "\n",
    "    print(\"Child process executing\")\n",
    "\n",
    "if __name__ == '__main__':\n",
    "    # Create a process object\n",
    "    p = multiprocessing.Process(target=worker)\n",
    "\n",
    "    # Start the process\n",
    "    p.start()\n",
    "\n",
    "    # Wait for the process to finish\n",
    "    p.join()\n",
    "\n",
    "    print(\"Parent process executing\")\n"
   ]
  },
  {
   "cell_type": "markdown",
   "id": "acf4e86a-eba0-4a67-874d-b087c6ab1d24",
   "metadata": {},
   "source": [
    "Q4. What is a multiprocessing pool in python? Why is it used?"
   ]
  },
  {
   "cell_type": "markdown",
   "id": "3400b5cc-dde6-4e75-97b0-3dc08d64d897",
   "metadata": {},
   "source": [
    "A multiprocessing pool in Python is a way to create a group of worker processes that can execute tasks in parallel. The `multiprocessing`.Pool class provides a simple interface for creating a pool of worker processes and submitting tasks to them.\n",
    "\n",
    "To create a pool of worker processes, we simply create an instance of the `Pool` class and specify the number of worker processes we want to create. For example, to create a pool with 4 worker processes, we can do:"
   ]
  },
  {
   "cell_type": "code",
   "execution_count": 4,
   "id": "fd2b50b8-db13-466a-9d79-e8d95e4ba356",
   "metadata": {},
   "outputs": [],
   "source": [
    "import multiprocessing\n",
    "\n",
    "pool = multiprocessing.Pool(4)\n"
   ]
  },
  {
   "cell_type": "markdown",
   "id": "74626bbf-bdd4-400d-809c-d3f88930b654",
   "metadata": {},
   "source": [
    "We can then submit tasks to the pool using the `apply()` or `map()` methods. The `apply()` method is used to submit a single task to the pool, while the `map()` method is used to submit multiple tasks to the pool and get the results as a list."
   ]
  },
  {
   "cell_type": "code",
   "execution_count": 5,
   "id": "1655a530-5140-48ec-aa6a-63e38525ff08",
   "metadata": {},
   "outputs": [
    {
     "name": "stdout",
     "output_type": "stream",
     "text": [
      "[1, 4, 9, 16, 25]\n"
     ]
    }
   ],
   "source": [
    "import multiprocessing\n",
    "\n",
    "def square(x):\n",
    "    return x*x\n",
    "\n",
    "if __name__ == '__main__':\n",
    "    # Create a pool of 4 worker processes\n",
    "    pool = multiprocessing.Pool(4)\n",
    "\n",
    "    # Calculate the square of a list of numbers using the map() method\n",
    "    results = pool.map(square, [1, 2, 3, 4, 5])\n",
    "\n",
    "    print(results)\n"
   ]
  },
  {
   "cell_type": "markdown",
   "id": "6a360e8c-2d2c-44e6-9f41-387e58b8dec7",
   "metadata": {},
   "source": [
    "Using a multiprocessing pool can be useful for improving the performance of tasks that can be executed in parallel, such as computationally intensive tasks. By distributing the tasks among multiple worker processes, we can take advantage of the available resources of a system, such as multiple CPU cores, and improve the overall performance of the program."
   ]
  },
  {
   "cell_type": "markdown",
   "id": "c3ebc0ef-7ff8-4f73-8a79-96814489a189",
   "metadata": {},
   "source": [
    "Q5. How can we create a pool of worker processes in python using the multiprocessing module?"
   ]
  },
  {
   "cell_type": "code",
   "execution_count": 6,
   "id": "dc7ea45d-9923-4b74-b8a2-2103a17cdf52",
   "metadata": {},
   "outputs": [
    {
     "name": "stdout",
     "output_type": "stream",
     "text": [
      "Worker 0 executingWorker 1 executing\n",
      "\n",
      "Worker 3 executingWorker 2 executing\n",
      "\n",
      "All tasks completed\n"
     ]
    }
   ],
   "source": [
    "import multiprocessing\n",
    "\n",
    "def worker(num):\n",
    "    \"\"\"Function to be executed by worker process\"\"\"\n",
    "    print(\"Worker %d executing\" % num)\n",
    "\n",
    "if __name__ == '__main__':\n",
    "    # Create a pool of 4 worker processes\n",
    "    pool = multiprocessing.Pool(processes=4)\n",
    "\n",
    "    # Submit tasks to the pool using the apply_async() method\n",
    "    for i in range(4):\n",
    "        pool.apply_async(worker, args=(i,))\n",
    "\n",
    "    # Wait for all tasks to complete\n",
    "    pool.close()\n",
    "    pool.join()\n",
    "\n",
    "    print(\"All tasks completed\")\n"
   ]
  },
  {
   "cell_type": "code",
   "execution_count": null,
   "id": "6fb24743-fbff-4114-b767-e9b9bce8dc0a",
   "metadata": {},
   "outputs": [],
   "source": []
  }
 ],
 "metadata": {
  "kernelspec": {
   "display_name": "Python 3 (ipykernel)",
   "language": "python",
   "name": "python3"
  },
  "language_info": {
   "codemirror_mode": {
    "name": "ipython",
    "version": 3
   },
   "file_extension": ".py",
   "mimetype": "text/x-python",
   "name": "python",
   "nbconvert_exporter": "python",
   "pygments_lexer": "ipython3",
   "version": "3.10.8"
  }
 },
 "nbformat": 4,
 "nbformat_minor": 5
}
