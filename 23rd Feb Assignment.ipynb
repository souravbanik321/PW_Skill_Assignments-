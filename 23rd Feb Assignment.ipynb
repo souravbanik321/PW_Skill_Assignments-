{
 "cells": [
  {
   "cell_type": "markdown",
   "id": "34c77107-3897-47a3-8185-3b4d014fbaab",
   "metadata": {},
   "source": [
    "## Q1. Create a Pandas Series that contains the following data: 4, 8, 15, 16, 23, and 42. Then, print the series."
   ]
  },
  {
   "cell_type": "code",
   "execution_count": 1,
   "id": "9dc93853-7a2d-4345-a82a-9fa8868b5a6d",
   "metadata": {},
   "outputs": [
    {
     "name": "stdout",
     "output_type": "stream",
     "text": [
      "0     4\n",
      "1     8\n",
      "2    15\n",
      "3    16\n",
      "4    23\n",
      "5    42\n",
      "dtype: int64\n"
     ]
    }
   ],
   "source": [
    "import pandas as a\n",
    "\n",
    "data=[4,8,15,16,23,42]\n",
    "df=a.Series(data)\n",
    "print(df)"
   ]
  },
  {
   "cell_type": "markdown",
   "id": "ce3a685b-91cb-4f97-80e9-a39def6d7fbe",
   "metadata": {},
   "source": [
    "## Q2. Create a variable of list type containing 10 elements in it, and apply pandas.Series function on the variable print it."
   ]
  },
  {
   "cell_type": "code",
   "execution_count": 2,
   "id": "50d71d4e-5619-4ee8-89da-50f4ef167b97",
   "metadata": {},
   "outputs": [
    {
     "name": "stdout",
     "output_type": "stream",
     "text": [
      "0     1\n",
      "1     2\n",
      "2     3\n",
      "3     4\n",
      "4     5\n",
      "5     6\n",
      "6     7\n",
      "7     8\n",
      "8     9\n",
      "9    10\n",
      "dtype: int64\n"
     ]
    }
   ],
   "source": [
    "import pandas as b\n",
    "\n",
    "lst=[1,2,3,4,5,6,7,8,9,10]\n",
    "df=b.Series(lst)\n",
    "print(df)"
   ]
  },
  {
   "cell_type": "markdown",
   "id": "c4a0d315-5416-4da6-8b63-a131924aa1d0",
   "metadata": {},
   "source": [
    "## Q3. Create a Pandas DataFrame that contains the following data:"
   ]
  },
  {
   "attachments": {
    "84c36e84-a726-46cd-9398-ddb618134daa.png": {
     "image/png": "[encoded data removed]"
    }
   },
   "cell_type": "markdown",
   "id": "1b600c12-8ec3-4a13-81a9-428b1d14429d",
   "metadata": {},
   "source": [
    "![image.png](attachment:84c36e84-a726-46cd-9398-ddb618134daa.png)"
   ]
  },
  {
   "cell_type": "code",
   "execution_count": 3,
   "id": "993408da-8200-489c-b1f3-9c02da5cd6b0",
   "metadata": {},
   "outputs": [
    {
     "name": "stdout",
     "output_type": "stream",
     "text": [
      "     Name  Age  Gender\n",
      "0   Alice   25  Female\n",
      "1     Bob   30    Male\n",
      "2  Claire   27  Female\n"
     ]
    }
   ],
   "source": [
    "import pandas as c\n",
    "\n",
    "data={\"Name\": [\"Alice\", \"Bob\", \"Claire\"],\n",
    "      \"Age\" : [25,30,27],\n",
    "      \"Gender\" : [\"Female\",\"Male\",\"Female\"]\n",
    "     }\n",
    "df=c.DataFrame(data)\n",
    "print(df)"
   ]
  },
  {
   "cell_type": "markdown",
   "id": "20fa55dd-0f62-483b-aeda-d36318f72179",
   "metadata": {},
   "source": [
    "## Q4. What is ‘DataFrame’ in pandas and how is it different from pandas.series? Explain with an example."
   ]
  },
  {
   "cell_type": "markdown",
   "id": "9822cbb5-7a6f-4cba-84df-34848f6a0478",
   "metadata": {},
   "source": [
    "In pandas, a DataFrame is a two-dimensional labeled data structure that consists of columns of various data types. It is similar to a spreadsheet or a SQL table, where each column can be a different type (e.g., integer, float, string) and has a label. The DataFrame can also have row labels, which are called an index.\n",
    "\n",
    "On the other hand, a pandas Series is a one-dimensional labeled array that can contain any data type, including numeric, character, and even other Python objects. Each element in a Series has a label, which is called an index.\n",
    "\n",
    "The main difference between a DataFrame and a Series is that a DataFrame is a two-dimensional object, while a Series is a one-dimensional object. Additionally, a DataFrame can have multiple columns, while a Series has only one column."
   ]
  },
  {
   "cell_type": "code",
   "execution_count": 5,
   "id": "9dec1eac-3ded-4e0d-9a1d-3043958368fc",
   "metadata": {},
   "outputs": [
    {
     "name": "stdout",
     "output_type": "stream",
     "text": [
      "    name  age gender\n",
      "0   John   25      M\n",
      "1  Alice   30      F\n",
      "2    Bob   35      M\n",
      "3   Lisa   40      F\n"
     ]
    }
   ],
   "source": [
    "import pandas as pd\n",
    "\n",
    "# create a dictionary with data for a DataFrame\n",
    "data = {'name': ['John', 'Alice', 'Bob', 'Lisa'],\n",
    "        'age': [25, 30, 35, 40],\n",
    "        'gender': ['M', 'F', 'M', 'F']}\n",
    "\n",
    "# create a DataFrame\n",
    "df = pd.DataFrame(data)\n",
    "\n",
    "# print the DataFrame\n",
    "print(df)\n"
   ]
  },
  {
   "cell_type": "code",
   "execution_count": 6,
   "id": "e54efaee-eb56-4551-8526-4920decf4904",
   "metadata": {},
   "outputs": [
    {
     "name": "stdout",
     "output_type": "stream",
     "text": [
      "John     25\n",
      "Alice    30\n",
      "Bob      35\n",
      "Lisa     40\n",
      "dtype: int64\n"
     ]
    }
   ],
   "source": [
    "# create a dictionary with data for a Series\n",
    "data = {'John': 25, 'Alice': 30, 'Bob': 35, 'Lisa': 40}\n",
    "\n",
    "# create a Series\n",
    "s = pd.Series(data)\n",
    "\n",
    "# print the Series\n",
    "print(s)"
   ]
  },
  {
   "cell_type": "markdown",
   "id": "464ace1f-a241-4d0e-84e7-e92ca7624402",
   "metadata": {},
   "source": [
    "## Q5. What are some common functions you can use to manipulate data in a Pandas DataFrame? Can you give an example of when you might use one of these functions?"
   ]
  },
  {
   "cell_type": "markdown",
   "id": "ae481256-7bd7-4d9e-90ec-0a61a90ca2ed",
   "metadata": {},
   "source": [
    "Pandas provides a wide range of functions for manipulating data in a DataFrame. Here are some common functions you can use:\n",
    "\n",
    "`head()` and `tail()`: these functions can be used to get the first or last n rows of the DataFrame. For example, `df.head()` returns the first 5 rows of the DataFrame.\n"
   ]
  },
  {
   "cell_type": "code",
   "execution_count": 9,
   "id": "151085cc-04ab-4468-9625-f4f67d661f72",
   "metadata": {},
   "outputs": [
    {
     "name": "stdout",
     "output_type": "stream",
     "text": [
      "    Name  Age  Gender\n",
      "0  Alice   25  Female\n",
      "1    Bob   30    Male\n"
     ]
    }
   ],
   "source": [
    "# Example usage of head() function\n",
    "import pandas as pd\n",
    "\n",
    "# Create a DataFrame\n",
    "data = {'Name': ['Alice', 'Bob', 'Claire'],\n",
    "        'Age': [25, 30, 27],\n",
    "        'Gender': ['Female', 'Male', 'Female']}\n",
    "df = pd.DataFrame(data)\n",
    "\n",
    "# View the first two rows of the DataFrame\n",
    "print(df.head(2))"
   ]
  },
  {
   "cell_type": "markdown",
   "id": "c6b7bdd2-fc8e-469b-8b8f-66b6829533e9",
   "metadata": {},
   "source": [
    "\n",
    "\n",
    "`describe()`: this function provides summary statistics for each column of the DataFrame, including count, mean, standard deviation, minimum, maximum, and quartile values.\n"
   ]
  },
  {
   "cell_type": "code",
   "execution_count": 10,
   "id": "41cefe64-be0b-435a-86e4-b9837664cfd3",
   "metadata": {},
   "outputs": [
    {
     "name": "stdout",
     "output_type": "stream",
     "text": [
      "             Age\n",
      "count   3.000000\n",
      "mean   27.333333\n",
      "std     2.516611\n",
      "min    25.000000\n",
      "25%    26.000000\n",
      "50%    27.000000\n",
      "75%    28.500000\n",
      "max    30.000000\n"
     ]
    }
   ],
   "source": [
    "# Example usage of describe() function\n",
    "import pandas as pd\n",
    "\n",
    "# Create a DataFrame\n",
    "data = {'Name': ['Alice', 'Bob', 'Claire'],\n",
    "        'Age': [25, 30, 27],\n",
    "        'Gender': ['Female', 'Male', 'Female']}\n",
    "df = pd.DataFrame(data)\n",
    "\n",
    "# Compute summary statistics of the DataFrame\n",
    "print(df.describe())"
   ]
  },
  {
   "cell_type": "markdown",
   "id": "5eea89b4-f107-42d1-971e-65ca64eae1a8",
   "metadata": {},
   "source": [
    "`groupby()`: this function allows you to group the DataFrame by one or more columns and perform operations on each group. For example, you can group a DataFrame of sales data by product and compute the total revenue for each product.\n"
   ]
  },
  {
   "cell_type": "code",
   "execution_count": 11,
   "id": "5dcc65d8-ef3a-405d-98f0-48b9a6718607",
   "metadata": {},
   "outputs": [
    {
     "name": "stdout",
     "output_type": "stream",
     "text": [
      "Gender\n",
      "Female    29.0\n",
      "Male      29.0\n",
      "Name: Age, dtype: float64\n"
     ]
    }
   ],
   "source": [
    "# Example usage of groupby() function\n",
    "import pandas as pd\n",
    "\n",
    "# Create a DataFrame\n",
    "data = {'Name': ['Alice', 'Bob', 'Claire', 'David', 'Eva', 'Frank'],\n",
    "        'Age': [25, 30, 27, 25, 35, 32],\n",
    "        'Gender': ['Female', 'Male', 'Female', 'Male', 'Female', 'Male']}\n",
    "df = pd.DataFrame(data)\n",
    "\n",
    "# Group the DataFrame by 'Gender' column and compute the mean of 'Age' column for each group\n",
    "grouped_df = df.groupby('Gender')['Age'].mean()\n",
    "print(grouped_df)"
   ]
  },
  {
   "cell_type": "markdown",
   "id": "55db6284-8aae-4613-b4d2-5ef46376c7f3",
   "metadata": {},
   "source": [
    "\n",
    "\n",
    "`apply()`: this function applies a function to each element of a DataFrame. For example, you can use the apply() function to apply a function to each value in a column to convert it to a different data type.\n"
   ]
  },
  {
   "cell_type": "code",
   "execution_count": 16,
   "id": "9661fa74-5b39-477d-a3c1-63ca4fe6ccf8",
   "metadata": {},
   "outputs": [
    {
     "name": "stdout",
     "output_type": "stream",
     "text": [
      "    name  age gender  age_squared\n",
      "0   John   25      M          625\n",
      "1  Alice   30      F          900\n",
      "2    Bob   35      M         1225\n",
      "3   Lisa   40      F         1600\n"
     ]
    }
   ],
   "source": [
    "import pandas as pd\n",
    "\n",
    "# create a DataFrame\n",
    "data = {'name': ['John', 'Alice', 'Bob', 'Lisa'],\n",
    "        'age': [25, 30, 35, 40],\n",
    "        'gender': ['M', 'F', 'M', 'F']}\n",
    "df = pd.DataFrame(data)\n",
    "\n",
    "# define a function to apply\n",
    "def square(x):\n",
    "    return x**2\n",
    "\n",
    "# apply the function to the 'age' column\n",
    "df['age_squared'] = df['age'].apply(square)\n",
    "\n",
    "# print the modified DataFrame\n",
    "print(df)\n"
   ]
  },
  {
   "cell_type": "markdown",
   "id": "760cbd93-710c-4171-aaca-f6a675816bd2",
   "metadata": {},
   "source": [
    "\n",
    "\n",
    "`merge()`: this function can be used to combine two DataFrames based on a common column. For example, you can merge two DataFrames of customer data and sales data based on a common customer ID column.\n"
   ]
  },
  {
   "cell_type": "code",
   "execution_count": 17,
   "id": "46eb75f9-ff58-4767-a488-ba73d9f58b94",
   "metadata": {},
   "outputs": [
    {
     "name": "stdout",
     "output_type": "stream",
     "text": [
      "  key  value_x  value_y\n",
      "0   B        2        5\n",
      "1   D        4        6\n"
     ]
    }
   ],
   "source": [
    "import pandas as pd\n",
    "\n",
    "# create two DataFrames\n",
    "df1 = pd.DataFrame({'key': ['A', 'B', 'C', 'D'],\n",
    "                   'value': [1, 2, 3, 4]})\n",
    "df2 = pd.DataFrame({'key': ['B', 'D', 'E', 'F'],\n",
    "                   'value': [5, 6, 7, 8]})\n",
    "\n",
    "# merge the two DataFrames\n",
    "merged_df = pd.merge(df1, df2, on='key')\n",
    "\n",
    "# print the merged DataFrame\n",
    "print(merged_df)\n"
   ]
  },
  {
   "cell_type": "markdown",
   "id": "3f5b0168-6b5c-4bf0-8a17-68b09f3dc813",
   "metadata": {},
   "source": [
    "\n",
    "`pivot_table()`: this function creates a spreadsheet-style pivot table based on the data in a DataFrame. For example, you can create a pivot table to show the total sales for each product and each quarter of the year.\n"
   ]
  },
  {
   "cell_type": "code",
   "execution_count": 18,
   "id": "6f2d51f9-f7c8-4f9f-bd52-04ef669f2e71",
   "metadata": {},
   "outputs": [
    {
     "name": "stdout",
     "output_type": "stream",
     "text": [
      "gender     F     M\n",
      "name              \n",
      "Alice   90.0   NaN\n",
      "Bob      NaN  75.0\n",
      "John     NaN  80.0\n",
      "Lisa    85.0   NaN\n"
     ]
    }
   ],
   "source": [
    "import pandas as pd\n",
    "\n",
    "# create a DataFrame\n",
    "data = {'name': ['John', 'Alice', 'Bob', 'Lisa'],\n",
    "        'age': [25, 30, 35, 40],\n",
    "        'gender': ['M', 'F', 'M', 'F'],\n",
    "        'score': [80, 90, 75, 85]}\n",
    "df = pd.DataFrame(data)\n",
    "\n",
    "# create a pivot table\n",
    "pivot = pd.pivot_table(df, values='score', index='name', columns='gender')\n",
    "\n",
    "# print the pivot table\n",
    "print(pivot)\n"
   ]
  },
  {
   "cell_type": "markdown",
   "id": "4263a9c1-b933-4259-a411-082e28a6b293",
   "metadata": {},
   "source": [
    "## Q6. Which of the following is mutable in nature Series, DataFrame, Panel?"
   ]
  },
  {
   "cell_type": "markdown",
   "id": "4e1bfc74-509f-47ec-831d-96f5ed056606",
   "metadata": {},
   "source": [
    "In Pandas, DATA MUTABILITY refers to the ability to change the values within a data structure, while SIZE MUTABILITY refers to the ability to change the size or shape of the data structure itself.\n",
    "\n",
    "All three, that is Series, DataFrame and Panel are DATA MUTABLE, meaning that you can change the values within them, but only DataFrame and Panel are SIZE MUTABLE, meaning that you can change their shape or size."
   ]
  },
  {
   "cell_type": "markdown",
   "id": "0237ef8a-66d0-4c21-a47f-82a9d003ef41",
   "metadata": {},
   "source": [
    "## Q7. Create a DataFrame using multiple Series. Explain with an example.\n",
    "You can create a Pandas DataFrame using multiple Series by passing a dictionary of Series objects to the DataFrame constructor. Each Series represents a column in the resulting DataFrame, and the index of each Series is used to align the data. Here's an example:"
   ]
  },
  {
   "cell_type": "code",
   "execution_count": 13,
   "id": "364b67fa-7095-4402-8a3b-accc8bef6f7f",
   "metadata": {},
   "outputs": [
    {
     "name": "stdout",
     "output_type": "stream",
     "text": [
      "     Name  Age  Gender\n",
      "0   Alice   25  Female\n",
      "1     Bob   30    Male\n",
      "2  Claire   27  Female\n"
     ]
    }
   ],
   "source": [
    "import pandas as pd\n",
    "\n",
    "# create three Series objects\n",
    "names = pd.Series(['Alice', 'Bob', 'Claire'])\n",
    "ages = pd.Series([25, 30, 27])\n",
    "genders = pd.Series(['Female', 'Male', 'Female'])\n",
    "\n",
    "# combine the Series objects into a dictionary\n",
    "data = {'Name': names, 'Age': ages, 'Gender': genders}\n",
    "\n",
    "# create the DataFrame\n",
    "df = pd.DataFrame(data)\n",
    "\n",
    "# print the DataFrame\n",
    "print(df)"
   ]
  },
  {
   "cell_type": "code",
   "execution_count": null,
   "id": "17cbabd5-603b-478e-b541-c0e5da22570c",
   "metadata": {},
   "outputs": [],
   "source": []
  }
 ],
 "metadata": {
  "kernelspec": {
   "display_name": "Python 3 (ipykernel)",
   "language": "python",
   "name": "python3"
  },
  "language_info": {
   "codemirror_mode": {
    "name": "ipython",
    "version": 3
   },
   "file_extension": ".py",
   "mimetype": "text/x-python",
   "name": "python",
   "nbconvert_exporter": "python",
   "pygments_lexer": "ipython3",
   "version": "3.10.8"
  }
 },
 "nbformat": 4,
 "nbformat_minor": 5
}
