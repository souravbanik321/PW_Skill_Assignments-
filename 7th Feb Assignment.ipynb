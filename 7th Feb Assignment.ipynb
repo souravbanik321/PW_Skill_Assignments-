{
 "cells": [
  {
   "cell_type": "markdown",
   "id": "c5b7a005-ce6d-4908-bc2a-b3d1068f8f3b",
   "metadata": {},
   "source": [
    "Q1. You are writing code for a company. The requirement of the company is that you create a python\n",
    "function that will check whether the password entered by the user is correct or not. The function should\n",
    "take the password as input and return the string “Valid Password” if the entered password follows the\n",
    "below-given password guidelines else it should return “Invalid Password”.\n",
    "\n",
    "Note:\n",
    "1. The Password should contain at least two uppercase letters and at least two lowercase letters.\n",
    "2. The Password should contain at least a number and three special characters.\n",
    "3. The length of the password should be 10 characters long."
   ]
  },
  {
   "cell_type": "code",
   "execution_count": 2,
   "id": "d1e3d07f-57b2-401a-84a5-b952ecac6d92",
   "metadata": {},
   "outputs": [],
   "source": [
    "import re\n",
    "\n",
    "def check_password(password):\n",
    "    if len(password) != 10:\n",
    "        return \"Invalid Password\"\n",
    "    if not re.search(\"[a-z].*[a-z]\", password) or not re.search(\"[A-Z].*[A-Z]\", password):\n",
    "        return \"Invalid Password\"\n",
    "    if not re.search(\"[0-9]\", password) or not re.search(\"[!@#$%^&*()_+{}\\\":?><]\", password):\n",
    "        return \"Invalid Password\"\n",
    "    return \"Valid Password\"\n",
    "\n"
   ]
  },
  {
   "cell_type": "code",
   "execution_count": 4,
   "id": "7f08e4a3-1b2c-4e7f-beff-bc92dc4f334e",
   "metadata": {},
   "outputs": [
    {
     "name": "stdout",
     "output_type": "stream",
     "text": [
      "Valid Password\n",
      "Invalid Password\n"
     ]
    }
   ],
   "source": [
    "password = \"ABcd1c#$%2\"\n",
    "result1 = check_password(password)\n",
    "print(result1)  # Output: Valid Password\n",
    "\n",
    "password = \"abcd123456\"\n",
    "result2 = check_password(password)\n",
    "print(result2)  # Output: Invalid Password\n",
    "\n"
   ]
  },
  {
   "cell_type": "markdown",
   "id": "6cdbf7c8-7aef-449d-bdad-b42fe0d53b6f",
   "metadata": {},
   "source": [
    "Q2. Solve the below-given questions using at least one of the following:\n",
    "1. Lambda function\n",
    "2. Filter function\n",
    "3. Zap function\n",
    "4. List Comprehension\n",
    "\n",
    "  Check if the string starts with a particular letter\n",
    "  \n",
    "  Check if the string is numeric\n",
    "  \n",
    " Sort a list of tuples having fruit names and their quantity. [(\"mango\",99),(\"orange\",80), (\"grapes\", 1000)]\n",
    " \n",
    " Find the squares of numbers from 1 to 10\n",
    " \n",
    " Find the cube root of numbers from 1 to 10\n",
    "\n",
    " Check if a given number is even\n",
    " \n",
    " Filter odd numbers from the given list.\n",
    "[1,2,3,4,5,6,7,8,9,10]\n",
    "\n",
    " Sort a list of integers into positive and negative integers lists.\n",
    "[1,2,3,4,5,6,-1,-2,-3,-4,-5,0]\n"
   ]
  },
  {
   "cell_type": "markdown",
   "id": "8e26c27d-caf5-4b17-86f8-2a48aecd007b",
   "metadata": {},
   "source": [
    "Check if the string starts with a particular letter"
   ]
  },
  {
   "cell_type": "code",
   "execution_count": 5,
   "id": "6b4b1ee7-fcf1-4ee6-91ae-1f142cff0733",
   "metadata": {},
   "outputs": [
    {
     "name": "stdout",
     "output_type": "stream",
     "text": [
      "The string starts with 'H'.\n"
     ]
    }
   ],
   "source": [
    "my_string = \"Hello, world!\"\n",
    "if my_string.startswith(\"H\"):\n",
    "    print(\"The string starts with 'H'.\")\n",
    "else:\n",
    "    print(\"The string does not start with 'H'.\")\n"
   ]
  },
  {
   "cell_type": "markdown",
   "id": "5629f2cb-1059-420f-990c-de18b0f34b6c",
   "metadata": {},
   "source": [
    "Check if the string is numeric"
   ]
  },
  {
   "cell_type": "code",
   "execution_count": 44,
   "id": "c09cf604-1753-4c19-ba45-b82c51a70364",
   "metadata": {},
   "outputs": [
    {
     "name": "stdin",
     "output_type": "stream",
     "text": [
      "Enter an string: 123456\n"
     ]
    },
    {
     "name": "stdout",
     "output_type": "stream",
     "text": [
      "The string is numeric.\n"
     ]
    }
   ],
   "source": [
    "my_string =  input(\"Enter an string:\")\n",
    "if my_string.isnumeric():\n",
    "    print(\"The string is numeric.\")\n",
    "else:\n",
    "    print(\"The string is not numeric.\")\n"
   ]
  },
  {
   "cell_type": "markdown",
   "id": "bfdbbb9d-0ab0-4598-b309-9d6a802c9770",
   "metadata": {},
   "source": [
    "Sort a list of tuples having fruit names and their quantity. [(\"mango\",99),(\"orange\",80), (\"grapes\", 1000)]"
   ]
  },
  {
   "cell_type": "code",
   "execution_count": 45,
   "id": "b10a021e-1f4c-473c-ae2d-1cb4056f54ac",
   "metadata": {},
   "outputs": [
    {
     "name": "stdout",
     "output_type": "stream",
     "text": [
      "[('orange', 80), ('mango', 99), ('grapes', 1000)]\n"
     ]
    }
   ],
   "source": [
    "my_list = [(\"mango\", 99), (\"orange\", 80), (\"grapes\", 1000)]\n",
    "sorted_list = sorted(my_list, key=lambda x: x[1])\n",
    "print(sorted_list)\n"
   ]
  },
  {
   "cell_type": "markdown",
   "id": "93073eed-d727-450d-a9ce-fa59fe0e7696",
   "metadata": {},
   "source": [
    "Find the squares of numbers from 1 to 10"
   ]
  },
  {
   "cell_type": "code",
   "execution_count": 46,
   "id": "718683d4-81b3-4b0b-96ae-ec61c6d6175b",
   "metadata": {},
   "outputs": [
    {
     "name": "stdout",
     "output_type": "stream",
     "text": [
      "[1, 4, 9, 16, 25, 36, 49, 64, 81, 100]\n"
     ]
    }
   ],
   "source": [
    "numbers = [1, 2, 3, 4, 5,6,7,8,9,10]\n",
    "\n",
    "for x in range(1, 11):\n",
    "    squares = list(map(lambda x: x ** 2, numbers))\n",
    "print(squares)\n",
    "\n"
   ]
  },
  {
   "cell_type": "code",
   "execution_count": 47,
   "id": "259133f6-0593-40f7-bbff-814c0b9d9aa2",
   "metadata": {},
   "outputs": [
    {
     "name": "stdout",
     "output_type": "stream",
     "text": [
      "[1, 4, 9, 16, 25, 36, 49, 64, 81, 100]\n"
     ]
    }
   ],
   "source": [
    "squares = []\n",
    "for i in range(1, 11):\n",
    "    squares.append(i ** 2)\n",
    "print(squares)\n"
   ]
  },
  {
   "cell_type": "markdown",
   "id": "4443afe3-0184-4ea0-8af8-83a28826bf13",
   "metadata": {},
   "source": [
    "Find the cube root of numbers from 1 to 10"
   ]
  },
  {
   "cell_type": "code",
   "execution_count": 48,
   "id": "985f85be-b613-459d-8547-5f4da5187ca3",
   "metadata": {},
   "outputs": [
    {
     "name": "stdout",
     "output_type": "stream",
     "text": [
      "[1.0, 1.2599210498948732, 1.4422495703074083, 1.5874010519681994, 1.7099759466766968, 1.8171205928321397, 1.912931182772389, 2.0, 2.080083823051904, 2.154434690031884]\n"
     ]
    }
   ],
   "source": [
    "import math\n",
    "cube_roots = [math.pow(x, 1/3) for x in range(1, 11)]\n",
    "print(cube_roots)\n"
   ]
  },
  {
   "cell_type": "markdown",
   "id": "cbae9ee5-1215-42f7-a5d5-dee977172e76",
   "metadata": {},
   "source": [
    "Check if a given number is even"
   ]
  },
  {
   "cell_type": "code",
   "execution_count": 49,
   "id": "1f2fcf83-1e3a-4a5c-80b9-49ebb92a814b",
   "metadata": {},
   "outputs": [
    {
     "name": "stdin",
     "output_type": "stream",
     "text": [
      "Enter an Integer:  4\n"
     ]
    },
    {
     "name": "stdout",
     "output_type": "stream",
     "text": [
      "The number is even.\n"
     ]
    }
   ],
   "source": [
    "my_number = int(input(\"Enter an Integer: \"))\n",
    "if my_number % 2 == 0:\n",
    "    print(\"The number is even.\")\n",
    "else:\n",
    "    print(\"The number is odd.\")\n"
   ]
  },
  {
   "cell_type": "markdown",
   "id": "b30cbee8-ccc0-4661-8e09-e42daf12a4dc",
   "metadata": {},
   "source": [
    "Filter odd numbers from the given list. [1,2,3,4,5,6,7,8,9,10]"
   ]
  },
  {
   "cell_type": "code",
   "execution_count": 50,
   "id": "9d1dbaf8-9c66-4d52-a534-f4176dc3a5b2",
   "metadata": {},
   "outputs": [
    {
     "name": "stdout",
     "output_type": "stream",
     "text": [
      "[1, 3, 5, 7, 9]\n"
     ]
    }
   ],
   "source": [
    "numbers = [1, 2, 3, 4, 5, 6, 7, 8, 9, 10]\n",
    "odd_numbers = list(filter(lambda x: x % 2 != 0, numbers))\n",
    "print(odd_numbers)\n"
   ]
  },
  {
   "cell_type": "markdown",
   "id": "21765eda-b52b-436e-a150-51715fa92de9",
   "metadata": {},
   "source": [
    "Sort a list of integers into positive and negative integers lists. [1,2,3,4,5,6,-1,-2,-3,-4,-5,0]"
   ]
  },
  {
   "cell_type": "code",
   "execution_count": 26,
   "id": "08fdc30e-e791-4b9b-a98e-0d36857c63e6",
   "metadata": {},
   "outputs": [
    {
     "name": "stdout",
     "output_type": "stream",
     "text": [
      "[1, 2, 3, 4, 5, 6]\n",
      "[-1, -2, -3, -4, -5]\n"
     ]
    }
   ],
   "source": [
    "my_list = [1, 2, 3, 4, 5, 6, -1, -2, -3, -4, -5, 0]\n",
    "positive_integers = [x for x in my_list if x > 0]\n",
    "negative_integers = [x for x in my_list if x < 0]\n",
    "print(positive_integers)\n",
    "print(negative_integers)\n",
    "\n"
   ]
  },
  {
   "cell_type": "code",
   "execution_count": null,
   "id": "f6d5ed5a-0528-4325-bdef-021abf066157",
   "metadata": {},
   "outputs": [],
   "source": []
  }
 ],
 "metadata": {
  "kernelspec": {
   "display_name": "Python 3 (ipykernel)",
   "language": "python",
   "name": "python3"
  },
  "language_info": {
   "codemirror_mode": {
    "name": "ipython",
    "version": 3
   },
   "file_extension": ".py",
   "mimetype": "text/x-python",
   "name": "python",
   "nbconvert_exporter": "python",
   "pygments_lexer": "ipython3",
   "version": "3.10.8"
  }
 },
 "nbformat": 4,
 "nbformat_minor": 5
}
