{
 "cells": [
  {
   "cell_type": "markdown",
   "id": "786bec28-f2df-4f13-8ad6-3f5597402ad7",
   "metadata": {},
   "source": [
    "<aside>\n",
    "💡 **Question 1**\n",
    "Given an integer array nums of 2n integers, group these integers into n pairs (a1, b1), (a2, b2),..., (an, bn) such that the sum of min(ai, bi) for all i is maximized. Return the maximized sum.\n",
    "\n",
    "**Example 1:**\n",
    "Input: nums = [1,4,3,2]\n",
    "Output: 4\n",
    "\n",
    "**Explanation:** All possible pairings (ignoring the ordering of elements) are:\n",
    "\n",
    "1. (1, 4), (2, 3) -> min(1, 4) + min(2, 3) = 1 + 2 = 3\n",
    "2. (1, 3), (2, 4) -> min(1, 3) + min(2, 4) = 1 + 2 = 3\n",
    "3. (1, 2), (3, 4) -> min(1, 2) + min(3, 4) = 1 + 3 = 4\n",
    "So the maximum possible sum is 4\n",
    "</aside>"
   ]
  },
  {
   "cell_type": "code",
   "execution_count": 3,
   "id": "cb6c74a1-25bd-4614-a0b9-940dc77457e0",
   "metadata": {},
   "outputs": [
    {
     "name": "stdout",
     "output_type": "stream",
     "text": [
      "4\n"
     ]
    }
   ],
   "source": [
    "def array_pair_sum(nums):\n",
    "    nums.sort()  # Step 1: Sort the array\n",
    "\n",
    "    max_sum = 0  # Step 2: Initialize max_sum\n",
    "\n",
    "    for i in range(0, len(nums), 2):  # Step 3: Iterate over sorted array\n",
    "        max_sum += nums[i]  # Step 4: Add smaller element to max_sum\n",
    "\n",
    "    return max_sum  # Step 6: Return max_sum as the result\n",
    "nums = [1, 4, 3, 2]\n",
    "result = array_pair_sum(nums)\n",
    "print(result)  # Output: 4\n"
   ]
  },
  {
   "cell_type": "markdown",
   "id": "c18b4e07-4b35-44e0-b85e-93662f8444bb",
   "metadata": {},
   "source": [
    "Question 2\n",
    "Alice has n candies, where the ith candy is of type candyType[i]. Alice noticed that she started to gain weight, so she visited a doctor. \n",
    "\n",
    "The doctor advised Alice to only eat n / 2 of the candies she has (n is always even). Alice likes her candies very much, and she wants to eat the maximum number of different types of candies while still following the doctor's advice. \n",
    "\n",
    "Given the integer array candyType of length n, return the maximum number of different types of candies she can eat if she only eats n / 2 of them.\n",
    "\n",
    "Example 1:\n",
    "Input: candyType = [1,1,2,2,3,3]\n",
    "Output: 3\n",
    "\n",
    "Explanation: Alice can only eat 6 / 2 = 3 candies. Since there are only 3 types, she can eat one of each type."
   ]
  },
  {
   "cell_type": "code",
   "execution_count": 4,
   "id": "7da6223f-4339-4759-9a91-e2804f842e91",
   "metadata": {},
   "outputs": [
    {
     "name": "stdout",
     "output_type": "stream",
     "text": [
      "3\n"
     ]
    }
   ],
   "source": [
    "def max_candies(candyType):\n",
    "    unique_candies = set()  # Step 1: Initialize set to store unique candies\n",
    "\n",
    "    for candy in candyType:  # Step 2: Iterate over each candy\n",
    "        unique_candies.add(candy)  # Step 3: Add candy to unique_candies set\n",
    "\n",
    "    max_candies = len(candyType) // 2  # Step 5: Calculate max_candies\n",
    "    max_unique_candies = min(len(unique_candies), max_candies)  # Step 6: Calculate max_unique_candies\n",
    "\n",
    "    return max_unique_candies  # Step 7: Return max_unique_candies as the result\n",
    "candyType = [1, 1, 2, 2, 3, 3]\n",
    "result = max_candies(candyType)\n",
    "print(result)  # Output: 3\n"
   ]
  },
  {
   "cell_type": "markdown",
   "id": "a613280f-f84f-4c09-a065-55f9452f01b9",
   "metadata": {},
   "source": [
    "Question 3\n",
    "We define a harmonious array as an array where the difference between its maximum value\n",
    "and its minimum value is exactly 1.\n",
    "\n",
    "Given an integer array nums, return the length of its longest harmonious subsequence\n",
    "among all its possible subsequences.\n",
    "\n",
    "A subsequence of an array is a sequence that can be derived from the array by deleting some or no elements without changing the order of the remaining elements.\n",
    "\n",
    "Example 1:\n",
    "Input: nums = [1,3,2,2,5,2,3,7]\n",
    "Output: 5\n",
    "\n",
    "Explanation: The longest harmonious subsequence is [3,2,2,2,3]."
   ]
  },
  {
   "cell_type": "code",
   "execution_count": 5,
   "id": "c3b9b040-0086-4c00-98ba-bff07322933f",
   "metadata": {},
   "outputs": [
    {
     "name": "stdout",
     "output_type": "stream",
     "text": [
      "5\n"
     ]
    }
   ],
   "source": [
    "def findLHS(nums):\n",
    "    max_length = 0  # Step 1: Initialize max_length\n",
    "    num_counts = {}  # Step 2: Initialize dictionary to store element counts\n",
    "\n",
    "    for num in nums:  # Step 3: Iterate over each element\n",
    "        if num in num_counts:  # Step 4: Update element count\n",
    "            num_counts[num] += 1\n",
    "        else:\n",
    "            num_counts[num] = 1\n",
    "\n",
    "    for num in num_counts:  # Step 5: Check adjacent element counts\n",
    "        if num + 1 in num_counts:\n",
    "            length = num_counts[num] + num_counts[num + 1]\n",
    "            if length > max_length:  # Update max_length\n",
    "                max_length = length\n",
    "\n",
    "    return max_length  # Step 6: Return max_length as the result\n",
    "nums = [1, 3, 2, 2, 5, 2, 3, 7]\n",
    "result = findLHS(nums)\n",
    "print(result)  # Output: 5\n"
   ]
  },
  {
   "cell_type": "markdown",
   "id": "2b4f982f-4809-47ab-9e61-1acbb26442e6",
   "metadata": {},
   "source": [
    "Question 4\n",
    "You have a long flowerbed in which some of the plots are planted, and some are not.\n",
    "However, flowers cannot be planted in adjacent plots.\n",
    "Given an integer array flowerbed containing 0's and 1's, where 0 means empty and 1 means not empty, and an integer n, return true if n new flowers can be planted in the flowerbed without violating the no-adjacent-flowers rule and false otherwise.\n",
    "\n",
    "Example 1:\n",
    "Input: flowerbed = [1,0,0,0,1], n = 1\n",
    "Output: true"
   ]
  },
  {
   "cell_type": "code",
   "execution_count": 6,
   "id": "68db77a1-fa9b-49b1-b807-175f7f3a382b",
   "metadata": {},
   "outputs": [
    {
     "name": "stdout",
     "output_type": "stream",
     "text": [
      "True\n"
     ]
    }
   ],
   "source": [
    "def canPlaceFlowers(flowerbed, n):\n",
    "    count = 0  # Step 1: Initialize count of new flowers planted\n",
    "\n",
    "    for i in range(len(flowerbed)):  # Step 2: Iterate over each plot\n",
    "        if flowerbed[i] == 0 and (i == 0 or flowerbed[i - 1] == 0) and (i == len(flowerbed) - 1 or flowerbed[i + 1] == 0):\n",
    "            # Step 3: Check if plot and adjacent plots are empty\n",
    "            flowerbed[i] = 1  # Plant a flower\n",
    "            count += 1  # Increment count of new flowers planted\n",
    "\n",
    "            if count == n:  # Step 5: Check if n new flowers have been planted\n",
    "                return True\n",
    "\n",
    "    return count == n  # Step 6: Return True if n new flowers have been planted, otherwise False\n",
    "flowerbed = [1, 0, 0, 0, 1]\n",
    "n = 1\n",
    "result = canPlaceFlowers(flowerbed, n)\n",
    "print(result)  # Output: True\n"
   ]
  },
  {
   "cell_type": "markdown",
   "id": "d70bda55-bb45-4e26-8af2-52f2f7ffaec0",
   "metadata": {},
   "source": [
    "Question 5\n",
    "Given an integer array nums, find three numbers whose product is maximum and return the maximum product.\n",
    "\n",
    "Example 1:\n",
    "Input: nums = [1,2,3]\n",
    "Output: 6"
   ]
  },
  {
   "cell_type": "code",
   "execution_count": 7,
   "id": "94466b41-760b-4828-95e7-d0ae1c257b9e",
   "metadata": {},
   "outputs": [
    {
     "name": "stdout",
     "output_type": "stream",
     "text": [
      "6\n"
     ]
    }
   ],
   "source": [
    "def maximumProduct(nums):\n",
    "    nums.sort(reverse=True)  # Step 1: Sort the array in descending order\n",
    "    return nums[0] * nums[1] * nums[2]  # Step 2: Return the product of the three largest elements\n",
    "nums = [1, 2, 3]\n",
    "result = maximumProduct(nums)\n",
    "print(result)  # Output: 6\n"
   ]
  },
  {
   "cell_type": "markdown",
   "id": "56f01fa0-6f77-43e3-bd96-cd8bb2baca71",
   "metadata": {},
   "source": [
    "Question 6\n",
    "Given an array of integers nums which is sorted in ascending order, and an integer target,\n",
    "write a function to search target in nums. If target exists, then return its index. Otherwise,\n",
    "return -1.\n",
    "\n",
    "You must write an algorithm with O(log n) runtime complexity.\n",
    "\n",
    "Input: nums = [-1,0,3,5,9,12], target = 9\n",
    "Output: 4\n",
    "\n",
    "Explanation: 9 exists in nums and its index is 4"
   ]
  },
  {
   "cell_type": "code",
   "execution_count": 8,
   "id": "06ee9c95-ae9c-485b-936e-e9206e6286c4",
   "metadata": {},
   "outputs": [
    {
     "name": "stdout",
     "output_type": "stream",
     "text": [
      "4\n"
     ]
    }
   ],
   "source": [
    "def search(nums, target):\n",
    "    left = 0  # Step 1: Initialize left pointer\n",
    "    right = len(nums) - 1  # Step 1: Initialize right pointer\n",
    "\n",
    "    while left <= right:  # Step 2: Binary search\n",
    "        mid = (left + right) // 2  # Calculate middle index\n",
    "\n",
    "        if nums[mid] == target:  # Target found\n",
    "            return mid\n",
    "        elif nums[mid] > target:  # Search in the left half\n",
    "            right = mid - 1\n",
    "        else:  # Search in the right half\n",
    "            left = mid + 1\n",
    "\n",
    "    return -1  # Step 3: Target not found\n",
    "nums = [-1, 0, 3, 5, 9, 12]\n",
    "target = 9\n",
    "result = search(nums, target)\n",
    "print(result)  # Output: 4\n",
    "\n"
   ]
  },
  {
   "cell_type": "markdown",
   "id": "22c0e0f6-7dd4-4b6e-83d1-c26b3095e4a0",
   "metadata": {},
   "source": [
    "Question 7\n",
    "An array is monotonic if it is either monotone increasing or monotone decreasing.\n",
    "\n",
    "An array nums is monotone increasing if for all i <= j, nums[i] <= nums[j]. An array nums is\n",
    "monotone decreasing if for all i <= j, nums[i] >= nums[j].\n",
    "\n",
    "Given an integer array nums, return true if the given array is monotonic, or false otherwise.\n",
    "\n",
    "Example 1:\n",
    "Input: nums = [1,2,2,3]\n",
    "Output: true"
   ]
  },
  {
   "cell_type": "code",
   "execution_count": 9,
   "id": "dbf2e243-b73d-476e-acb7-760e02713a25",
   "metadata": {},
   "outputs": [
    {
     "name": "stdout",
     "output_type": "stream",
     "text": [
      "True\n"
     ]
    }
   ],
   "source": [
    "def isMonotonic(nums):\n",
    "    isIncreasing = True  # Step 1: Initialize isIncreasing to True\n",
    "    isDecreasing = True  # Step 1: Initialize isDecreasing to True\n",
    "\n",
    "    for i in range(len(nums) - 1):  # Step 2: Iterate over each pair of adjacent elements\n",
    "        if nums[i] > nums[i + 1]:  # Check for decrease in value\n",
    "            isIncreasing = False\n",
    "        if nums[i] < nums[i + 1]:  # Check for increase in value\n",
    "            isDecreasing = False\n",
    "        if not isIncreasing and not isDecreasing:  # Check if neither increasing nor decreasing\n",
    "            return False\n",
    "\n",
    "    return True  # Step 3: Return True if array is monotonic\n",
    "nums = [1, 2, 2, 3]\n",
    "result = isMonotonic(nums)\n",
    "print(result)  # Output: True\n"
   ]
  },
  {
   "cell_type": "markdown",
   "id": "94ecb73d-adb0-4914-afa0-d06fd0efec7f",
   "metadata": {},
   "source": [
    "Question 8\n",
    "You are given an integer array nums and an integer k.\n",
    "\n",
    "In one operation, you can choose any index i where 0 <= i < nums.length and change nums[i] to nums[i] + x where x is an integer from the range [-k, k]. You can apply this operation at most once for each index i.\n",
    "\n",
    "The score of nums is the difference between the maximum and minimum elements in nums.\n",
    "\n",
    "Return the minimum score of nums after applying the mentioned operation at most once for each index in it.\n",
    "\n",
    "Example 1:\n",
    "Input: nums = [1], k = 0\n",
    "Output: 0\n",
    "\n",
    "Explanation: The score is max(nums) - min(nums) = 1 - 1 = 0."
   ]
  },
  {
   "cell_type": "code",
   "execution_count": 10,
   "id": "788d50cd-c234-45b1-bf7a-0daf6f3c22f6",
   "metadata": {},
   "outputs": [
    {
     "name": "stdout",
     "output_type": "stream",
     "text": [
      "0\n"
     ]
    }
   ],
   "source": [
    "def minimumScore(nums, k):\n",
    "    min_val = min(nums)  # Step 1: Find minimum element\n",
    "    max_val = max(nums)  # Step 1: Find maximum element\n",
    "\n",
    "    initial_score = max_val - min_val  # Step 2: Calculate initial score\n",
    "\n",
    "    if initial_score <= 2 * k:  # Step 3: Check if no further operations are needed\n",
    "        return initial_score\n",
    "\n",
    "    new_min = min_val + k  # Step 4: Adjust minimum element\n",
    "    new_max = max_val - k  # Step 4: Adjust maximum element\n",
    "\n",
    "    new_score = new_max - new_min  # Step 5: Calculate new score\n",
    "\n",
    "    return new_score\n",
    "nums = [1]\n",
    "k = 0\n",
    "result = minimumScore(nums, k)\n",
    "print(result)  # Output: 0\n"
   ]
  },
  {
   "cell_type": "code",
   "execution_count": null,
   "id": "4e7960d7-f457-4a3c-88ca-3079e7b622f3",
   "metadata": {},
   "outputs": [],
   "source": []
  }
 ],
 "metadata": {
  "kernelspec": {
   "display_name": "Python 3 (ipykernel)",
   "language": "python",
   "name": "python3"
  },
  "language_info": {
   "codemirror_mode": {
    "name": "ipython",
    "version": 3
   },
   "file_extension": ".py",
   "mimetype": "text/x-python",
   "name": "python",
   "nbconvert_exporter": "python",
   "pygments_lexer": "ipython3",
   "version": "3.10.8"
  }
 },
 "nbformat": 4,
 "nbformat_minor": 5
}
