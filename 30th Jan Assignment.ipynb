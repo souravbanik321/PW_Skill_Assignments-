{
 "cells": [
  {
   "cell_type": "markdown",
   "id": "6060e5c8-8724-46c1-b1e3-a0a065e77b49",
   "metadata": {},
   "source": [
    "1. Write a program to accept percentage from the user and display the grade according to the following \n",
    "criteria: \n",
    "Marks \n",
    "Grade \n",
    ">90 \n",
    "A \n",
    ">80 and <=90 \n",
    "B \n",
    ">=60 and <=80 \n",
    "C \n",
    "below 60 \n",
    "D "
   ]
  },
  {
   "cell_type": "code",
   "execution_count": null,
   "id": "87bffa1f-00a9-4056-810e-ad9ba3cb61a2",
   "metadata": {},
   "outputs": [
    {
     "name": "stdin",
     "output_type": "stream",
     "text": [
      "Enter the marks: 65\n"
     ]
    },
    {
     "name": "stdout",
     "output_type": "stream",
     "text": [
      "Grade: C\n"
     ]
    }
   ],
   "source": [
    "marks = float(input(\"Enter the marks:\"))\n",
    "\n",
    "if marks > 90:\n",
    "    grade = \"A\"\n",
    "elif marks > 80 and marks <= 90:\n",
    "    grade = \"B\"\n",
    "elif marks >= 60 and marks <= 80:\n",
    "    grade = \"C\"\n",
    "else:\n",
    "    grade = \"D\"\n",
    "\n",
    "print(\"Grade: \" + grade)"
   ]
  },
  {
   "cell_type": "markdown",
   "id": "cc1131fc-a469-43fe-b418-4bdc280e4554",
   "metadata": {},
   "source": [
    "2. Write a program to accept the cost price of a bike and display the road tax to be paid according to the \n",
    "following criteria: \n",
    "Tax      Cost Price(in Rs)\n",
    "15%         >100000\n",
    "10%        50000 and <= 100000\n",
    "5%           <= 50000 \n",
    " \n",
    " \n",
    " \n"
   ]
  },
  {
   "cell_type": "code",
   "execution_count": 5,
   "id": "14089183-d8fc-46dd-ba1b-531a8974dfbb",
   "metadata": {},
   "outputs": [
    {
     "name": "stdin",
     "output_type": "stream",
     "text": [
      "Enter cost price of bike (in Rs):  50001\n"
     ]
    },
    {
     "name": "stdout",
     "output_type": "stream",
     "text": [
      "Road tax to be paid (in Rs): 5000.1\n"
     ]
    }
   ],
   "source": [
    "cost_price = float(input(\"Enter cost price of bike (in Rs): \"))\n",
    "\n",
    "if cost_price > 100000:\n",
    "    road_tax = cost_price * 0.15\n",
    "elif cost_price > 50000 and cost_price <= 100000:\n",
    "    road_tax = cost_price * 0.10\n",
    "else:\n",
    "    road_tax = cost_price * 0.05\n",
    "\n",
    "print(\"Road tax to be paid (in Rs): \" + str(road_tax))\n"
   ]
  },
  {
   "cell_type": "markdown",
   "id": "23c0d2ac-adf2-40ac-98e0-f71037b95e8a",
   "metadata": {},
   "source": [
    "3. Accept any city from the user and display monuments of that city. \n",
    "City :Delhi ,Agra,Jaipur \n",
    "Monument :Red Fort ,Taj Mahal ,Jal Mahal"
   ]
  },
  {
   "cell_type": "code",
   "execution_count": 1,
   "id": "ea031e73-fb20-42a0-97da-b5d66b8e7464",
   "metadata": {},
   "outputs": [
    {
     "name": "stdin",
     "output_type": "stream",
     "text": [
      "Enter a city:  KOLKATA\n"
     ]
    },
    {
     "name": "stdout",
     "output_type": "stream",
     "text": [
      "Sorry, we do not have information about the monuments in that city.\n"
     ]
    }
   ],
   "source": [
    "city = input(\"Enter a city: \")\n",
    "\n",
    "if city.lower() == \"delhi\":\n",
    "    print(\"Monuments in Delhi:\")\n",
    "    print(\"Red Fort\")\n",
    "elif city.lower() == \"agra\":\n",
    "    print(\"Monuments in Agra:\")\n",
    "    print(\"Taj Mahal\")\n",
    "elif city.lower() == \"jaipur\":\n",
    "    print(\"Monuments in Jaipur:\")\n",
    "    print(\"Jal Mahal\")\n",
    "\n",
    "else:\n",
    "    print(\"Sorry, we do not have information about the monuments in that city.\")"
   ]
  },
  {
   "cell_type": "code",
   "execution_count": null,
   "id": "4ccc1eae-8c4f-4090-845e-762ea4fb4707",
   "metadata": {},
   "outputs": [],
   "source": []
  },
  {
   "cell_type": "code",
   "execution_count": 3,
   "id": "ae9fa951-c3f2-45f3-bd6f-0b87c1c42801",
   "metadata": {},
   "outputs": [
    {
     "name": "stdin",
     "output_type": "stream",
     "text": [
      "Enter a number:  9\n"
     ]
    },
    {
     "name": "stdout",
     "output_type": "stream",
     "text": [
      "The given number can be divided by 3 0 times before it is less than or equal to 10.\n"
     ]
    }
   ],
   "source": [
    "num = int(input(\"Enter a number: \"))\n",
    "\n",
    "count = 0\n",
    "while num > 10:\n",
    "    num /= 3\n",
    "    count += 1\n",
    "\n",
    "print(\"The given number can be divided by 3\", count, \"times before it is less than or equal to 10.\")"
   ]
  },
  {
   "cell_type": "markdown",
   "id": "a1b9acb8-9b69-40ad-a5ea-d8276a8cd1bd",
   "metadata": {},
   "source": [
    "4. Check how many times a given number can be divided by 3 before it is less than or equal to 10. \n"
   ]
  },
  {
   "cell_type": "code",
   "execution_count": 2,
   "id": "0e3381c1-bd7b-49ea-98bc-08e9e3135e83",
   "metadata": {},
   "outputs": [
    {
     "name": "stdin",
     "output_type": "stream",
     "text": [
      "enter a number 30\n"
     ]
    },
    {
     "name": "stdout",
     "output_type": "stream",
     "text": [
      "1\n"
     ]
    }
   ],
   "source": [
    "def count_divisions(number, divisor):\n",
    "    count = 0\n",
    "    while number % divisor == 0:\n",
    "        number //= divisor\n",
    "        count += 1\n",
    "    return count\n",
    "n=int(input(\"enter a number\"))\n",
    "result = count_divisions(n, 3)\n",
    "print(result)  "
   ]
  },
  {
   "cell_type": "markdown",
   "id": "4ec659ec-6d2e-4b63-aed5-76de09358e54",
   "metadata": {},
   "source": [
    "5. Why and When to Use while Loop in Python give a detailed description with example"
   ]
  },
  {
   "cell_type": "markdown",
   "id": "73cc3d27-21be-4aa5-ad52-aaa6989acf49",
   "metadata": {},
   "source": [
    "A while loop in Python is used to execute a block of code repeatedly as long as a certain condition is true. It is a type of loop that continues to run as long as the condition is true and stops running \n",
    "when the condition becomes false. The syntax for a while loop is:\n",
    "    while condition:\n",
    "    # code to execute\n",
    "    \n",
    "Here are some situations when you might use a while loop in Python:\n",
    "1. When you want to repeat a block of code until a certain condition is met. For example, you might use a while loop to keep prompting the user for input until they provide a valid response.\n",
    "    \n",
    "\n",
    "\n",
    "\n",
    "\n"
   ]
  },
  {
   "cell_type": "code",
   "execution_count": 5,
   "id": "abfd769f-65b4-4801-ae7e-db4ba2ecaf4c",
   "metadata": {},
   "outputs": [
    {
     "name": "stdin",
     "output_type": "stream",
     "text": [
      "Enter a number:  10\n"
     ]
    }
   ],
   "source": [
    "valid_input = False\n",
    "while not valid_input:\n",
    "    user_input = input(\"Enter a number: \")\n",
    "    if user_input.isdigit():\n",
    "        valid_input = True\n",
    "        num = int(user_input)\n",
    "    else:\n",
    "        print(\"Invalid input. Please enter a number.\")\n",
    "        \n"
   ]
  },
  {
   "cell_type": "markdown",
   "id": "ae8dcc92-10fb-4698-97e9-a068ff908e95",
   "metadata": {},
   "source": [
    "2. When you want to perform a task a specific number of times. For example, you might use a while loop to iterate through a list until a certain condition is met.\n",
    "    "
   ]
  },
  {
   "cell_type": "code",
   "execution_count": 6,
   "id": "0f0bdab2-7910-47d3-bf30-44ebfa446c32",
   "metadata": {},
   "outputs": [
    {
     "name": "stdout",
     "output_type": "stream",
     "text": [
      "1\n",
      "2\n",
      "3\n",
      "4\n",
      "5\n"
     ]
    }
   ],
   "source": [
    "my_list = [1, 2, 3, 4, 5]\n",
    "index = 0\n",
    "while index < len(my_list):\n",
    "    print(my_list[index])\n",
    "    index += 1\n"
   ]
  },
  {
   "cell_type": "markdown",
   "id": "0b9f2477-7ea9-4c29-ae75-fdc84bfba054",
   "metadata": {},
   "source": [
    "        \n",
    "3. When you want to continuously perform a task until the program is interrupted or stopped. For example, you might use a while loop to run a game loop that updates the game state and redraws the screen.\n",
    "   "
   ]
  },
  {
   "cell_type": "markdown",
   "id": "a334e415-955f-4d31-a318-3a13b810a14c",
   "metadata": {},
   "source": [
    "6.Use nested while loop to print 3 different pattern."
   ]
  },
  {
   "cell_type": "markdown",
   "id": "fde6b448-0964-4c36-b35f-df1f2cb86450",
   "metadata": {},
   "source": [
    "Pattern 1: A right triangle made of asterisks"
   ]
  },
  {
   "cell_type": "code",
   "execution_count": 8,
   "id": "eb64a3f5-f335-4831-a880-05397f4b3073",
   "metadata": {},
   "outputs": [
    {
     "name": "stdout",
     "output_type": "stream",
     "text": [
      "*\n",
      "**\n",
      "***\n",
      "****\n",
      "*****\n"
     ]
    }
   ],
   "source": [
    "i = 1\n",
    "while i <= 5:\n",
    "    j = 1\n",
    "    while j <= i:\n",
    "        print(\"*\", end=\"\")\n",
    "        j += 1\n",
    "    print()\n",
    "    i += 1\n"
   ]
  },
  {
   "cell_type": "markdown",
   "id": "99e0024f-74af-4375-9ef2-f68fa4c26ec1",
   "metadata": {},
   "source": [
    "Pattern 2: A square made of asterisks"
   ]
  },
  {
   "cell_type": "code",
   "execution_count": 9,
   "id": "877baaee-7a43-4fd5-af77-dd9a329a3b5a",
   "metadata": {},
   "outputs": [
    {
     "name": "stdout",
     "output_type": "stream",
     "text": [
      "*****\n",
      "*****\n",
      "*****\n",
      "*****\n",
      "*****\n"
     ]
    }
   ],
   "source": [
    "i = 1\n",
    "while i <= 5:\n",
    "    j = 1\n",
    "    while j <= 5:\n",
    "        print(\"*\", end=\"\")\n",
    "        j += 1\n",
    "    print()\n",
    "    i += 1\n"
   ]
  },
  {
   "cell_type": "markdown",
   "id": "9e27a4d4-06c7-4d45-b322-cc1e84a1882e",
   "metadata": {},
   "source": [
    "Pattern 3: A reverse right triangle made of asterisks"
   ]
  },
  {
   "cell_type": "code",
   "execution_count": 11,
   "id": "d8500976-6c9c-4af2-8eb2-0016424c03a7",
   "metadata": {},
   "outputs": [
    {
     "name": "stdout",
     "output_type": "stream",
     "text": [
      "*****\n",
      "****\n",
      "***\n",
      "**\n",
      "*\n"
     ]
    }
   ],
   "source": [
    "i = 5\n",
    "while i >= 1:\n",
    "    j = 1\n",
    "    while j <= i:\n",
    "        print(\"*\", end=\"\")\n",
    "        j += 1\n",
    "    print()\n",
    "    i -= 1\n"
   ]
  },
  {
   "cell_type": "markdown",
   "id": "66342b45-531e-4b90-8cd7-1317692e5de5",
   "metadata": {},
   "source": [
    "7. Reverse a while loop to display numbers from 10 to 1. "
   ]
  },
  {
   "cell_type": "code",
   "execution_count": 12,
   "id": "1923f305-d058-48d6-9f34-700b257c8240",
   "metadata": {},
   "outputs": [
    {
     "name": "stdout",
     "output_type": "stream",
     "text": [
      "10\n",
      "9\n",
      "8\n",
      "7\n",
      "6\n",
      "5\n",
      "4\n",
      "3\n",
      "2\n",
      "1\n"
     ]
    }
   ],
   "source": [
    "i = 10\n",
    "while i >= 1:\n",
    "    print(i)\n",
    "    i -= 1\n"
   ]
  },
  {
   "cell_type": "code",
   "execution_count": 13,
   "id": "3457d605-3152-4650-a04c-12589e327924",
   "metadata": {},
   "outputs": [
    {
     "name": "stdout",
     "output_type": "stream",
     "text": [
      "*****\n",
      "****\n",
      "***\n",
      "**\n",
      "*\n"
     ]
    }
   ],
   "source": [
    "i = 5\n",
    "while i >= 1:\n",
    "    j = 1\n",
    "    while j <= i:\n",
    "        print(\"*\", end=\"\")\n",
    "        j += 1\n",
    "    print()\n",
    "    i -= 1"
   ]
  },
  {
   "cell_type": "code",
   "execution_count": null,
   "id": "8fa0af4f-2fda-44ed-aaf1-a78372dc9a66",
   "metadata": {},
   "outputs": [],
   "source": [
    "i = 8\n",
    "result = 0\n",
    "while i > 1:\n",
    "    i = i >> 1\n",
    "    result = result + 1\n",
    "print resul"
   ]
  },
  {
   "cell_type": "code",
   "execution_count": null,
   "id": "8bcd5f5c-94ab-429e-a664-a0830372feea",
   "metadata": {},
   "outputs": [],
   "source": []
  }
 ],
 "metadata": {
  "kernelspec": {
   "display_name": "Python 3 (ipykernel)",
   "language": "python",
   "name": "python3"
  },
  "language_info": {
   "codemirror_mode": {
    "name": "ipython",
    "version": 3
   },
   "file_extension": ".py",
   "mimetype": "text/x-python",
   "name": "python",
   "nbconvert_exporter": "python",
   "pygments_lexer": "ipython3",
   "version": "3.10.8"
  }
 },
 "nbformat": 4,
 "nbformat_minor": 5
}
