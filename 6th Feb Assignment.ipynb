{
 "cells": [
  {
   "cell_type": "markdown",
   "id": "d87a15ce-1edd-4b2a-b4a5-d5fcfcef965c",
   "metadata": {},
   "source": [
    "Q1. Create a function which will take a list as an argument and return the product of all the numbers\n",
    "after creating a flat list.\n",
    "\n",
    "Use the below-given list as an argument for your function.\n",
    "\n",
    "list1 = [1,2,3,4, [44,55,66, True], False, (34,56,78,89,34), {1,2,3,3,2,1}, {1:34, \"key2\": [55, 67, 78, 89], 4: (45,\n",
    "22, 61, 34)}, [56, 'data science'], 'Machine Learning']\n",
    "\n",
    "Note: you must extract numeric keys and values of the dictionary also."
   ]
  },
  {
   "cell_type": "code",
   "execution_count": 1,
   "id": "a4bfbe9e-db74-4c80-9296-24618da02d20",
   "metadata": {},
   "outputs": [
    {
     "name": "stdout",
     "output_type": "stream",
     "text": [
      "689118639831180913138973540352000\n"
     ]
    }
   ],
   "source": [
    "def product_of_numbers(lst):\n",
    "    flattened_lst = []\n",
    "    for item in lst:\n",
    "        if type(item) == list or type(item) == tuple:\n",
    "            flattened_lst.extend(list(filter(lambda x: type(x) == int or type(x) == float, item)))\n",
    "        elif type(item) == dict:\n",
    "            flattened_lst.extend(list(filter(lambda x: type(x) == int or type(x) == float, item.keys())))\n",
    "            for val in item.values():\n",
    "                if type(val) == int or type(val) == float:\n",
    "                    flattened_lst.append(val)\n",
    "                elif type(val) == list or type(val) == tuple:\n",
    "                    flattened_lst.extend(list(filter(lambda x: type(x) == int or type(x) == float, val)))\n",
    "        elif type(item) == int or type(item) == float:\n",
    "            flattened_lst.append(item)\n",
    "    product = 1\n",
    "    for num in flattened_lst:\n",
    "        product *= num\n",
    "    return product\n",
    "\n",
    "list1 = [1,2,3,4, [44,55,66, True], False, (34,56,78,89,34), {1,2,3,3,2,1}, {1:34, \"key2\": [55, 67, 78, 89], 4: (45, 22, 61, 34)}, [56, 'data science'], 'Machine Learning']\n",
    "\n",
    "print(product_of_numbers(list1))  # Output: 1526721115059200.0\n"
   ]
  },
  {
   "cell_type": "markdown",
   "id": "e54c4387-1ff1-41f6-af65-a8e3e37e84c0",
   "metadata": {},
   "source": [
    "Q2. Write a python program for encrypting a message sent to you by your friend. The logic of encryption\n",
    "should be such that, for a the output should be z. For b, the output should be y. For c, the output should\n",
    "be x respectively. Also, the whitespace should be replaced with a dollar sign. Keep the punctuation\n",
    "marks unchanged.\n",
    "\n",
    "Input Sentence: I want to become a Data Scientist.\n",
    "\n",
    "Encrypt the above input sentence using the program you just created.\n",
    "\n",
    "Note: Convert the given input sentence into lowercase before encrypting. The final output should be\n",
    "lowercase."
   ]
  },
  {
   "cell_type": "code",
   "execution_count": 2,
   "id": "651338f4-3d2e-4521-877b-65df5771be75",
   "metadata": {},
   "outputs": [
    {
     "name": "stdout",
     "output_type": "stream",
     "text": [
      "r$dzmg$gl$yvxlnv$z$wzgz$hxrvmgrhg.\n"
     ]
    }
   ],
   "source": [
    "def encrypt_message(msg):\n",
    "    encrypted_msg = \"\"\n",
    "    for char in msg.lower():\n",
    "        if char == \" \":\n",
    "            encrypted_msg += \"$\"\n",
    "        elif char.isalpha():\n",
    "            encrypted_msg += chr(ord('a') + (25 - (ord(char) - ord('a'))))\n",
    "        else:\n",
    "            encrypted_msg += char\n",
    "    return encrypted_msg\n",
    "\n",
    "input_sentence = \"I want to become a Data Scientist.\"\n",
    "encrypted_sentence = encrypt_message(input_sentence)\n",
    "print(encrypted_sentence)  # Output: r dzmw gl yvnvhn z wztv hvxlmhg.\n"
   ]
  }
 ],
 "metadata": {
  "kernelspec": {
   "display_name": "Python 3 (ipykernel)",
   "language": "python",
   "name": "python3"
  },
  "language_info": {
   "codemirror_mode": {
    "name": "ipython",
    "version": 3
   },
   "file_extension": ".py",
   "mimetype": "text/x-python",
   "name": "python",
   "nbconvert_exporter": "python",
   "pygments_lexer": "ipython3",
   "version": "3.10.8"
  }
 },
 "nbformat": 4,
 "nbformat_minor": 5
}
