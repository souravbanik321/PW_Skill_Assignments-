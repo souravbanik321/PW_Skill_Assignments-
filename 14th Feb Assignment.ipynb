{
 "cells": [
  {
   "cell_type": "markdown",
   "id": "f515a84d-c30e-46ee-98c2-2e72e4310d7b",
   "metadata": {},
   "source": [
    "Q1.What is multithreading in python? hy is it used? Name the module used to handle threads in python?"
   ]
  },
  {
   "cell_type": "markdown",
   "id": "8cc08bdf-4406-4972-b7d2-3178353a7e5d",
   "metadata": {},
   "source": [
    "Multithreading in Python refers to a programming technique that allows a program to execute multiple threads of execution concurrently. A thread is a lightweight process that can run in parallel with other threads within the same program.\n",
    "\n",
    "Multithreading is used in Python to improve the performance of programs that perform multiple tasks simultaneously. For example, a web server that needs to handle multiple requests simultaneously can use multithreading to ensure that each request is handled by a separate thread.\n",
    "\n",
    "The `threading` module is used to handle threads in Python. This module provides a simple and efficient way to create and manage threads in a Python program. The `threading` module provides a `Thread` class that can be used to create new threads, as well as functions for synchronizing threads and for managing thread-local data.\n",
    "\n",
    "Here's an example of using the `threading` module to create a simple multithreaded program in Python:"
   ]
  },
  {
   "cell_type": "code",
   "execution_count": 1,
   "id": "8199e349-d73c-4e53-a518-bd7a0c7bc479",
   "metadata": {},
   "outputs": [
    {
     "name": "stdout",
     "output_type": "stream",
     "text": [
      "Worker thread running\n",
      "Main thread exiting\n"
     ]
    }
   ],
   "source": [
    "import threading\n",
    "\n",
    "def worker():\n",
    "    \"\"\"Thread worker function\"\"\"\n",
    "    print('Worker thread running')\n",
    "\n",
    "# Create a new thread\n",
    "t = threading.Thread(target=worker)\n",
    "\n",
    "# Start the thread\n",
    "t.start()\n",
    "\n",
    "# Wait for the thread to finish\n",
    "t.join()\n",
    "\n",
    "print('Main thread exiting')\n"
   ]
  },
  {
   "cell_type": "markdown",
   "id": "8580cafa-dba5-4d27-bca9-99b226272a6e",
   "metadata": {},
   "source": [
    "In this example, a new thread is created using the `Thread` class, and the `worker` function is passed as the target of the thread. The `start` method is called on the thread to begin execution, and the `join` method is called to wait for the thread to finish before the program exits."
   ]
  },
  {
   "cell_type": "markdown",
   "id": "deaafd80-2e0d-4846-a83d-cc890b5c3796",
   "metadata": {},
   "source": [
    " Q2.Why threading module used ?Write the use of the following functions:\n",
    " \n",
    "        1.activeCount()\n",
    "        2.currentThread()\n",
    "        3. enumerate()"
   ]
  },
  {
   "cell_type": "markdown",
   "id": "e91de571-4315-4787-9c64-6a08dd60c2c3",
   "metadata": {},
   "source": [
    "The `threading` module in Python is used to create and manage threads in a program. A thread is a separate flow of execution within a program, allowing a program to perform multiple tasks concurrently.\n",
    "The `threading` module provides a simple way to create threads by wrapping the underlying operating system thread implementation. It allows a programmer to easily create, start, and stop threads, and provides several synchronization mechanisms for coordinating access to shared data.\n",
    "\n",
    "Using threads can improve the performance of a program by allowing multiple tasks to be executed simultaneously.\n",
    "Using threads also introduces some complexity to a program, as multiple threads can potentially access the same data at the same time, leading to race conditions and other synchronization issues. Therefore, it's important to use the synchronization mechanisms provided by the `threading` module to ensure thread safety and avoid data corruption.\n",
    "\n",
    "Overall, the `threading` module is a useful tool for Python programmers who need to create multithreaded applications, but it requires careful use and consideration to avoid potential issues."
   ]
  },
  {
   "cell_type": "markdown",
   "id": "794ef787-f450-4c94-a068-a0e18f84b32b",
   "metadata": {},
   "source": [
    "1.`activeCount()`: This method returns the number of Thread objects that are currently running in the current Python interpreter. It does not include the main thread or any daemon threads. It's a class method of the `threading` module and can be called directly from it\n",
    "\n"
   ]
  },
  {
   "cell_type": "code",
   "execution_count": 7,
   "id": "d7938975-cf45-4dfb-966b-66496259058a",
   "metadata": {},
   "outputs": [
    {
     "name": "stdout",
     "output_type": "stream",
     "text": [
      "Worker thread started\n",
      "9\n"
     ]
    },
    {
     "name": "stderr",
     "output_type": "stream",
     "text": [
      "Exception in thread Thread-10 (worker):\n",
      "Traceback (most recent call last):\n",
      "  File \"/opt/conda/lib/python3.10/threading.py\", line 1016, in _bootstrap_inner\n",
      "/tmp/ipykernel_91/762144151.py:11: DeprecationWarning: activeCount() is deprecated, use active_count() instead\n",
      "  print(threading.activeCount())  # Output: 2\n",
      "    self.run()\n",
      "  File \"/opt/conda/lib/python3.10/threading.py\", line 953, in run\n",
      "    self._target(*self._args, **self._kwargs)\n",
      "  File \"/tmp/ipykernel_91/762144151.py\", line 5, in worker\n",
      "NameError: name 'time' is not defined\n"
     ]
    }
   ],
   "source": [
    "import threading\n",
    "\n",
    "def worker():\n",
    "    print('Worker thread started')\n",
    "    time.sleep(5)\n",
    "    print('Worker thread finished')\n",
    "\n",
    "thread1 = threading.Thread(target=worker)\n",
    "thread1.start()\n",
    "\n",
    "print(threading.activeCount())  # Output: 2\n"
   ]
  },
  {
   "cell_type": "markdown",
   "id": "036297ca-93fa-4f80-a035-d4acae02011f",
   "metadata": {},
   "source": [
    "\n",
    "2.`currentThread()`: This method returns a reference to the current Thread object. It's a static method of the `threading` module and can be called directly from it.\n",
    "\n"
   ]
  },
  {
   "cell_type": "code",
   "execution_count": 6,
   "id": "fbfece6e-9085-4063-bd69-0ec0cf916b86",
   "metadata": {},
   "outputs": [
    {
     "name": "stdout",
     "output_type": "stream",
     "text": [
      "WorkerThread1 started\n"
     ]
    },
    {
     "name": "stderr",
     "output_type": "stream",
     "text": [
      "/tmp/ipykernel_91/162256902.py:4: DeprecationWarning: currentThread() is deprecated, use current_thread() instead\n",
      "  print(threading.currentThread().getName(), 'started')\n",
      "/tmp/ipykernel_91/162256902.py:4: DeprecationWarning: getName() is deprecated, get the name attribute instead\n",
      "  print(threading.currentThread().getName(), 'started')\n",
      "Exception in thread WorkerThread1:\n",
      "Traceback (most recent call last):\n",
      "  File \"/opt/conda/lib/python3.10/threading.py\", line 1016, in _bootstrap_inner\n",
      "    self.run()\n",
      "  File \"/opt/conda/lib/python3.10/threading.py\", line 953, in run\n",
      "    self._target(*self._args, **self._kwargs)\n",
      "  File \"/tmp/ipykernel_91/162256902.py\", line 5, in worker\n",
      "NameError: name 'time' is not defined\n"
     ]
    }
   ],
   "source": [
    "import threading\n",
    "\n",
    "def worker():\n",
    "    print(threading.currentThread().getName(), 'started')\n",
    "    time.sleep(5)\n",
    "    print(threading.currentThread().getName(), 'finished')\n",
    "\n",
    "thread1 = threading.Thread(target=worker, name='WorkerThread1')\n",
    "thread1.start()\n"
   ]
  },
  {
   "cell_type": "markdown",
   "id": "b53e5507-7993-474e-8a79-3e79439830d7",
   "metadata": {},
   "source": [
    "3.`enumerate()`: This method returns a list of all Thread objects that are currently active in the current Python interpreter. It includes the main thread and all daemon threads. It's a class method of the threading module and can be called directly from it.\n"
   ]
  },
  {
   "cell_type": "code",
   "execution_count": 8,
   "id": "d3ba0fd7-9732-4ba5-a3a0-433b62cd8b0a",
   "metadata": {},
   "outputs": [
    {
     "name": "stdout",
     "output_type": "stream",
     "text": [
      "Worker thread started\n",
      "MainThread\n",
      "IOPub\n",
      "Heartbeat\n",
      "Thread-3 (_watch_pipe_fd)\n",
      "Thread-4 (_watch_pipe_fd)\n",
      "Control\n",
      "IPythonHistorySavingThread\n",
      "Thread-2\n",
      "Thread-11 (worker)\n"
     ]
    },
    {
     "name": "stderr",
     "output_type": "stream",
     "text": [
      "Exception in thread Thread-11 (worker):\n",
      "Traceback (most recent call last):\n",
      "  File \"/opt/conda/lib/python3.10/threading.py\", line 1016, in _bootstrap_inner\n",
      "/tmp/ipykernel_91/348461436.py:12: DeprecationWarning: getName() is deprecated, get the name attribute instead\n",
      "  print(thread.getName())\n",
      "    self.run()\n",
      "  File \"/opt/conda/lib/python3.10/threading.py\", line 953, in run\n",
      "    self._target(*self._args, **self._kwargs)\n",
      "  File \"/tmp/ipykernel_91/348461436.py\", line 5, in worker\n",
      "NameError: name 'time' is not defined\n"
     ]
    }
   ],
   "source": [
    "import threading\n",
    "\n",
    "def worker():\n",
    "    print('Worker thread started')\n",
    "    time.sleep(5)\n",
    "    print('Worker thread finished')\n",
    "\n",
    "thread1 = threading.Thread(target=worker)\n",
    "thread1.start()\n",
    "\n",
    "for thread in threading.enumerate():\n",
    "    print(thread.getName())\n",
    "\n",
    "# Output:\n",
    "# MainThread\n",
    "# Thread-1\n"
   ]
  },
  {
   "cell_type": "markdown",
   "id": "a889603c-6710-4ff3-bb0a-065c453923e0",
   "metadata": {},
   "source": [
    "Q3. Explain the following functions:\n",
    " 1. run()\n",
    " 2. start()\n",
    " 3. join()\n",
    " 4. isAlive()\n",
    " "
   ]
  },
  {
   "cell_type": "markdown",
   "id": "a416b312-00b3-4989-872f-2d70586c0569",
   "metadata": {},
   "source": [
    "1.`run()`: This method is the entry point for a Thread object once it's started. When a new thread is created with a target function, the `run()` method of the new thread is invoked to execute the target function. You should not call the `run()` method directly. Instead, call the `start()` method to start the thread and begin executing its `run()` method."
   ]
  },
  {
   "cell_type": "code",
   "execution_count": 2,
   "id": "36c2ea98-0833-4290-9221-dbd56264a432",
   "metadata": {},
   "outputs": [
    {
     "name": "stdout",
     "output_type": "stream",
     "text": [
      "Worker thread started\n"
     ]
    },
    {
     "name": "stderr",
     "output_type": "stream",
     "text": [
      "Exception in thread Thread-6 (worker):\n",
      "Traceback (most recent call last):\n",
      "  File \"/opt/conda/lib/python3.10/threading.py\", line 1016, in _bootstrap_inner\n",
      "    self.run()\n",
      "  File \"/opt/conda/lib/python3.10/threading.py\", line 953, in run\n",
      "    self._target(*self._args, **self._kwargs)\n",
      "  File \"/tmp/ipykernel_91/194385849.py\", line 5, in worker\n",
      "NameError: name 'time' is not defined\n"
     ]
    }
   ],
   "source": [
    "import threading\n",
    "\n",
    "def worker():\n",
    "    print('Worker thread started')\n",
    "    time.sleep(5)\n",
    "    print('Worker thread finished')\n",
    "\n",
    "thread1 = threading.Thread(target=worker)\n",
    "thread1.start()\n"
   ]
  },
  {
   "cell_type": "markdown",
   "id": "cd8fcede-62e7-4bbf-ba05-dda63fb62f34",
   "metadata": {},
   "source": [
    "2.`start()`: This method starts a new thread by calling its `run()` method in a separate thread of execution. The new thread begins executing immediately, and the calling thread continues to execute in parallel with it. If the `start()` method is called more than once on the same Thread object, a `RuntimeError` is raised."
   ]
  },
  {
   "cell_type": "code",
   "execution_count": 3,
   "id": "ef136c65-7f88-43a5-8a8b-b4bf12b18f38",
   "metadata": {},
   "outputs": [
    {
     "name": "stdout",
     "output_type": "stream",
     "text": [
      "Worker thread started\n"
     ]
    },
    {
     "name": "stderr",
     "output_type": "stream",
     "text": [
      "Exception in thread Thread-7 (worker):\n",
      "Traceback (most recent call last):\n",
      "  File \"/opt/conda/lib/python3.10/threading.py\", line 1016, in _bootstrap_inner\n",
      "    self.run()\n",
      "  File \"/opt/conda/lib/python3.10/threading.py\", line 953, in run\n",
      "    self._target(*self._args, **self._kwargs)\n",
      "  File \"/tmp/ipykernel_91/194385849.py\", line 5, in worker\n",
      "NameError: name 'time' is not defined\n"
     ]
    }
   ],
   "source": [
    "import threading\n",
    "\n",
    "def worker():\n",
    "    print('Worker thread started')\n",
    "    time.sleep(5)\n",
    "    print('Worker thread finished')\n",
    "\n",
    "thread1 = threading.Thread(target=worker)\n",
    "thread1.start()\n"
   ]
  },
  {
   "cell_type": "markdown",
   "id": "4b436081-b622-4a97-8967-fe9d2732eac5",
   "metadata": {},
   "source": [
    "3.`join()`: This method blocks the calling thread until the thread it's called on completes its execution. If the optional timeout argument is provided, the calling thread blocks for at most that many seconds before continuing execution. If the thread is not finished within the timeout period, a `TimeoutError` is raised."
   ]
  },
  {
   "cell_type": "code",
   "execution_count": 4,
   "id": "ae29af62-64cf-4363-b161-5073b356fe5d",
   "metadata": {},
   "outputs": [
    {
     "name": "stderr",
     "output_type": "stream",
     "text": [
      "Exception in thread Thread-8 (worker):\n",
      "Traceback (most recent call last):\n",
      "  File \"/opt/conda/lib/python3.10/threading.py\", line 1016, in _bootstrap_inner\n",
      "    self.run()\n",
      "  File \"/opt/conda/lib/python3.10/threading.py\", line 953, in run\n",
      "    self._target(*self._args, **self._kwargs)\n",
      "  File \"/tmp/ipykernel_91/1220099065.py\", line 5, in worker\n",
      "NameError: name 'time' is not defined\n"
     ]
    },
    {
     "name": "stdout",
     "output_type": "stream",
     "text": [
      "Worker thread started\n",
      "Main thread finished\n"
     ]
    }
   ],
   "source": [
    "import threading\n",
    "\n",
    "def worker():\n",
    "    print('Worker thread started')\n",
    "    time.sleep(5)\n",
    "    print('Worker thread finished')\n",
    "\n",
    "thread1 = threading.Thread(target=worker)\n",
    "thread1.start()\n",
    "thread1.join()\n",
    "\n",
    "print('Main thread finished')\n"
   ]
  },
  {
   "cell_type": "markdown",
   "id": "a06553de-88eb-47d7-bfe0-81bfd7b38436",
   "metadata": {},
   "source": [
    "4.`isAlive()`: This method returns a Boolean value indicating whether the thread is currently executing. It returns `True` if the thread is executing, and `False` otherwise."
   ]
  },
  {
   "cell_type": "code",
   "execution_count": 5,
   "id": "cf28bd7a-fd31-4296-99cf-5da242872619",
   "metadata": {},
   "outputs": [
    {
     "ename": "AttributeError",
     "evalue": "'Thread' object has no attribute 'isAlive'",
     "output_type": "error",
     "traceback": [
      "\u001b[0;31m---------------------------------------------------------------------------\u001b[0m",
      "\u001b[0;31mAttributeError\u001b[0m                            Traceback (most recent call last)",
      "Cell \u001b[0;32mIn[5], line 9\u001b[0m\n\u001b[1;32m      6\u001b[0m     \u001b[38;5;28mprint\u001b[39m(\u001b[38;5;124m'\u001b[39m\u001b[38;5;124mWorker thread finished\u001b[39m\u001b[38;5;124m'\u001b[39m)\n\u001b[1;32m      8\u001b[0m thread1 \u001b[38;5;241m=\u001b[39m threading\u001b[38;5;241m.\u001b[39mThread(target\u001b[38;5;241m=\u001b[39mworker)\n\u001b[0;32m----> 9\u001b[0m \u001b[38;5;28mprint\u001b[39m(\u001b[43mthread1\u001b[49m\u001b[38;5;241;43m.\u001b[39;49m\u001b[43misAlive\u001b[49m())  \u001b[38;5;66;03m# Output: False\u001b[39;00m\n\u001b[1;32m     10\u001b[0m thread1\u001b[38;5;241m.\u001b[39mstart()\n\u001b[1;32m     11\u001b[0m \u001b[38;5;28mprint\u001b[39m(thread1\u001b[38;5;241m.\u001b[39misAlive())  \u001b[38;5;66;03m# Output: True\u001b[39;00m\n",
      "\u001b[0;31mAttributeError\u001b[0m: 'Thread' object has no attribute 'isAlive'"
     ]
    }
   ],
   "source": [
    "import threading\n",
    "\n",
    "def worker():\n",
    "    print('Worker thread started')\n",
    "    time.sleep(5)\n",
    "    print('Worker thread finished')\n",
    "\n",
    "thread1 = threading.Thread(target=worker)\n",
    "print(thread1.isAlive())  # Output: False\n",
    "thread1.start()\n",
    "print(thread1.isAlive())  # Output: True\n",
    "thread1.join()\n",
    "print(thread1.isAlive())  # Output: False\n"
   ]
  },
  {
   "cell_type": "markdown",
   "id": "67d25823-30a2-45b7-83da-39a32703def1",
   "metadata": {},
   "source": [
    "Q4.write a python program to create two threads. Thread one must print the list of squares and thread\n",
    "two must print the list of cubes"
   ]
  },
  {
   "cell_type": "code",
   "execution_count": 9,
   "id": "f7f623db-ed3b-463d-8dcd-a1daf765924b",
   "metadata": {},
   "outputs": [
    {
     "name": "stdout",
     "output_type": "stream",
     "text": [
      "List of squares: [1, 4, 9, 16, 25]\n",
      "List of cubes: [1, 8, 27, 64, 125]\n",
      "Done\n"
     ]
    }
   ],
   "source": [
    "import threading\n",
    "\n",
    "def print_squares():\n",
    "    squares = [num ** 2 for num in range(1, 6)]\n",
    "    print(\"List of squares:\", squares)\n",
    "\n",
    "def print_cubes():\n",
    "    cubes = [num ** 3 for num in range(1, 6)]\n",
    "    print(\"List of cubes:\", cubes)\n",
    "\n",
    "# create two threads\n",
    "thread1 = threading.Thread(target=print_squares)\n",
    "thread2 = threading.Thread(target=print_cubes)\n",
    "\n",
    "# start the threads\n",
    "thread1.start()\n",
    "thread2.start()\n",
    "\n",
    "# wait for the threads to complete\n",
    "thread1.join()\n",
    "thread2.join()\n",
    "\n",
    "print(\"Done\")\n"
   ]
  },
  {
   "cell_type": "markdown",
   "id": "879bb44e-d5e9-4702-a245-0285fdef2504",
   "metadata": {},
   "source": [
    "Q5.State advantages and disadvantages of multithreading"
   ]
  },
  {
   "cell_type": "markdown",
   "id": "aeb22deb-160a-48a8-bcbe-add3bc8cc2bc",
   "metadata": {},
   "source": [
    "Advantages:\n",
    "\n",
    "1.Improved performance: By running multiple threads concurrently, you can take advantage of the available resources of your system and improve the performance of your program.\n",
    "\n",
    "2.Increased responsiveness: Multithreading can also help improve the responsiveness of your program by allowing it to continue running and responding to user input while performing long-running tasks in the background.\n",
    "\n",
    "3.Better resource utilization: Multithreading allows you to better utilize the available resources of your system, such as the CPU, memory, and I/O devices.\n",
    "\n",
    "4.Simplified programming: Multithreading can make your code simpler and easier to write and maintain, as it allows you to break complex tasks into smaller, more manageable pieces.\n",
    "\n",
    "Disadvantages:\n",
    "\n",
    "1.Increased complexity: Multithreading can increase the complexity of your code, as it requires careful coordination and synchronization between threads to avoid race conditions and other concurrency issues.\n",
    "\n",
    "2.Synchronization overhead: Synchronization between threads can also introduce overhead and slow down your program, as threads must coordinate and communicate with each other to avoid conflicts.\n",
    "\n",
    "3.Increased memory usage: Multithreading can also increase the memory usage of your program, as each thread requires its own stack and resources.\n",
    "\n",
    "4.Debugging difficulty: Debugging multithreaded programs can be more difficult than debugging single-threaded programs, as concurrency issues can be hard to reproduce and diagnose.\n",
    "\n",
    "\n",
    "Overall, multithreading can provide significant benefits in terms of performance, responsiveness, and resource utilization, but it also requires careful management to avoid issues such as race conditions, deadlocks, and synchronization overhead. It is important to consider the specific requirements and constraints of your application when deciding whether to use multithreading or not."
   ]
  },
  {
   "cell_type": "markdown",
   "id": "2e4a9834-fc8d-4501-818f-ac4498e73f7d",
   "metadata": {},
   "source": [
    "Q6.Explain deadlocks and race conditions."
   ]
  },
  {
   "cell_type": "markdown",
   "id": "95d6b324-7850-4477-84c1-55a07e0845d9",
   "metadata": {},
   "source": [
    "Deadlocks and race conditions are two common issues that can occur when working with multithreaded programs. Here's an explanation of each:\n",
    "\n",
    "1. Deadlocks: A deadlock occurs when two or more threads are waiting for each other to release a resource, resulting in a situation where none of the threads can make progress. This can happen when two or more threads acquire resources in a different order, or when a thread holds a resource while waiting for another resource to be released."
   ]
  },
  {
   "cell_type": "markdown",
   "id": "16f0d252-acb7-4599-bcbd-56a3e1654cbd",
   "metadata": {},
   "source": [
    "Deadlocks can be difficult to detect and resolve, as they often require careful analysis and coordination between threads to avoid.\n",
    "\n",
    "2.Race conditions: A race condition occurs when the behavior of a program depends on the relative timing or ordering of events between two or more threads. This can happen when multiple threads access and modify shared resources without proper synchronization or coordination."
   ]
  },
  {
   "cell_type": "markdown",
   "id": "0f4f6e2b-0807-4f4c-b913-90e4a5f972c7",
   "metadata": {},
   "source": [
    "Race conditions can lead to unpredictable or incorrect behavior in a program, as the behavior of the program can depend on the timing of events that are not guaranteed to occur in a particular order.\n",
    "\n",
    "To avoid deadlocks and race conditions, it is important to use proper synchronization and coordination mechanisms such as locks, semaphores, and condition variables to ensure that shared resources are accessed and modified in a safe and controlled manner."
   ]
  },
  {
   "cell_type": "code",
   "execution_count": null,
   "id": "e01a423d-897c-434e-b804-11986e7e7618",
   "metadata": {},
   "outputs": [],
   "source": []
  }
 ],
 "metadata": {
  "kernelspec": {
   "display_name": "Python 3 (ipykernel)",
   "language": "python",
   "name": "python3"
  },
  "language_info": {
   "codemirror_mode": {
    "name": "ipython",
    "version": 3
   },
   "file_extension": ".py",
   "mimetype": "text/x-python",
   "name": "python",
   "nbconvert_exporter": "python",
   "pygments_lexer": "ipython3",
   "version": "3.10.8"
  }
 },
 "nbformat": 4,
 "nbformat_minor": 5
}
