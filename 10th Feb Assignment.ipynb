{
 "cells": [
  {
   "cell_type": "markdown",
   "id": "45492682-42c5-47db-9806-517289451010",
   "metadata": {},
   "source": [
    "Q1. Which function is used to open a file? What are the different modes of opening a file? Explain each mode\n",
    "of file opening."
   ]
  },
  {
   "cell_type": "markdown",
   "id": "f124a87e-53b3-4e03-bef3-261f69787e39",
   "metadata": {},
   "source": [
    "In Python, the open() function is used to open a file. The open() function takes two parameters, the name of the file and the mode in which the file is to be opened. The basic syntax for opening a file is:\n",
    "\n",
    "file_object = open(filename, mode)\n"
   ]
  },
  {
   "cell_type": "markdown",
   "id": "14f12fa0-ae96-4dc1-928a-7b18ff24df83",
   "metadata": {},
   "source": [
    "There are several modes in which a file can be opened, including:\n",
    "\n",
    "'r' (read mode): This mode is used to open a file for reading. It is the default mode if no mode is specified. In this mode, you can only read the contents of the file.\n",
    "\n",
    "'w' (write mode): This mode is used to open a file for writing. If the file already exists, it will be truncated to zero length. If the file does not exist, a new file will be created. In this mode, you can write to the file.\n",
    "\n",
    "'a' (append mode): This mode is used to open a file for writing, but it does not truncate the file. If the file already exists, the new data will be written at the end of the file. If the file does not exist, a new file will be created. In this mode, you can write to the file.\n",
    "\n",
    "'x' (exclusive creation mode): This mode is used to create a new file, but it will fail if the file already exists.\n",
    "\n",
    "'b' (binary mode): This mode is used to open a file in binary mode, which is used to read and write non-text files like images, audio, and video.\n",
    "\n",
    "'t' (text mode): This mode is used to open a file in text mode, which is used to read and write text files.\n",
    "\n",
    "'+' (update mode): This mode is used to open a file for updating, which means that you can read and write to the file.\n",
    "\n"
   ]
  },
  {
   "cell_type": "markdown",
   "id": "848a9982-1cac-45b4-866d-edc87a5a01b5",
   "metadata": {},
   "source": [
    "Q2. Why close() function is used? Why is it important to close a file?\n"
   ]
  },
  {
   "cell_type": "markdown",
   "id": "818cc91f-d440-4af5-820a-5a48235c8ac5",
   "metadata": {},
   "source": [
    "The close() function is used to close an opened file in Python. It is important to close a file because it ensures that all the data that was written to the file is properly saved and that the resources used by the file are released back to the system.\n",
    "\n",
    "When a file is opened in Python, it creates a file object that is used to interact with the file. This file object contains a buffer that stores the data that is being read from or written to the file. When you call the close() function on the file object, it flushes the buffer and writes any remaining data to the file. It also releases any system resources that were being used by the file, such as memory and file descriptors.\n",
    "\n",
    "If you do not close a file after you are finished with it, it can lead to problems like:\n",
    "\n",
    "Data loss: Any data that was not properly flushed to the file will be lost.\n",
    "\n",
    "Resource leaks: The resources used by the file, such as memory and file descriptors, will not be released back to the system, which can lead to performance problems and crashes.\n",
    "\n",
    "File locking: If you do not close a file properly, it may remain locked and inaccessible to other programs or processes that need to access it."
   ]
  },
  {
   "cell_type": "markdown",
   "id": "11a11b9e-7c97-4d1a-84bb-5c0dc806555d",
   "metadata": {},
   "source": [
    "Q3. Write a python program to create a text file. Write ‘I want to become a Data Scientist’ in that file. Then\n",
    "close the file. Open this file and read the content of the file."
   ]
  },
  {
   "cell_type": "code",
   "execution_count": 1,
   "id": "f61f2a64-87d5-4a3f-a4ee-3ee7774c69ef",
   "metadata": {},
   "outputs": [
    {
     "name": "stdout",
     "output_type": "stream",
     "text": [
      "I want to become a Data Scientist\n"
     ]
    }
   ],
   "source": [
    "# Open the file in write mode\n",
    "file = open(\"sample.txt\", \"w\")\n",
    "\n",
    "# Write some text to the file\n",
    "file.write(\"I want to become a Data Scientist\")\n",
    "\n",
    "# Close the file\n",
    "file.close()\n",
    "\n",
    "# Open the file in read mode\n",
    "file = open(\"sample.txt\", \"r\")\n",
    "\n",
    "# Read the content of the file\n",
    "content = file.read()\n",
    "\n",
    "# Print the content of the file\n",
    "print(content)\n",
    "\n",
    "# Close the file\n",
    "file.close()\n",
    "\n"
   ]
  },
  {
   "cell_type": "markdown",
   "id": "3d6fee5e-aa53-4655-8296-93a3ca754b9f",
   "metadata": {},
   "source": [
    "Q4. Explain the following with python code: read(), readline() and readlines()."
   ]
  },
  {
   "cell_type": "markdown",
   "id": "92e24556-b19e-43a1-b1ac-831091585e2a",
   "metadata": {},
   "source": [
    "In Python, there are several methods that can be used to read the contents of a file. Here is an explanation of three commonly used methods: read(), readline(), and readlines(), along with Python code examples.\n",
    "\n",
    "\n",
    "read() method: This method reads the entire contents of a file into a single string."
   ]
  },
  {
   "cell_type": "code",
   "execution_count": 4,
   "id": "9674ff6b-44a7-44b3-8001-7f47bbf1a3a2",
   "metadata": {},
   "outputs": [
    {
     "name": "stdout",
     "output_type": "stream",
     "text": [
      "I want to become a Data Scientist\n"
     ]
    }
   ],
   "source": [
    "# Open the file in read mode\n",
    "file = open(\"sample.txt\", \"r\")\n",
    "\n",
    "# Read the entire contents of the file into a string\n",
    "content = file.read()\n",
    "\n",
    "# Print the contents of the file\n",
    "print(content)\n",
    "\n",
    "# Close the file\n",
    "file.close()\n"
   ]
  },
  {
   "cell_type": "markdown",
   "id": "2bd75e1e-5ac1-43e6-b255-0308e97f54cc",
   "metadata": {},
   "source": [
    "readline() method: This method reads a single line from a file at a time."
   ]
  },
  {
   "cell_type": "code",
   "execution_count": 5,
   "id": "d0781272-cee3-4ded-a9ca-8c11fa6c2d7b",
   "metadata": {},
   "outputs": [
    {
     "name": "stdout",
     "output_type": "stream",
     "text": [
      "I want to become a Data Scientist\n",
      "\n"
     ]
    }
   ],
   "source": [
    "# Open the file in read mode\n",
    "file = open(\"sample.txt\", \"r\")\n",
    "\n",
    "# Read the first line of the file\n",
    "line1 = file.readline()\n",
    "\n",
    "# Read the second line of the file\n",
    "line2 = file.readline()\n",
    "\n",
    "# Print the contents of the first two lines of the file\n",
    "print(line1)\n",
    "print(line2)\n",
    "\n",
    "# Close the file\n",
    "file.close()\n"
   ]
  },
  {
   "cell_type": "markdown",
   "id": "0a7e128d-c25b-484d-bbe1-efa18b2fc236",
   "metadata": {},
   "source": [
    "readlines() method: This method reads all the lines of a file into a list. Each line of the file is a separate element in the list."
   ]
  },
  {
   "cell_type": "code",
   "execution_count": 6,
   "id": "5d6c835d-1d4e-40db-ac3c-0ef7b82c47e6",
   "metadata": {},
   "outputs": [
    {
     "name": "stdout",
     "output_type": "stream",
     "text": [
      "['I want to become a Data Scientist']\n"
     ]
    }
   ],
   "source": [
    "# Open the file in read mode\n",
    "file = open(\"sample.txt\", \"r\")\n",
    "\n",
    "# Read all the lines of the file into a list\n",
    "lines = file.readlines()\n",
    "\n",
    "# Print the contents of the list\n",
    "print(lines)\n",
    "\n",
    "# Close the file\n",
    "file.close()\n"
   ]
  },
  {
   "cell_type": "markdown",
   "id": "f5da55b6-0055-4b51-ad11-3e86ab5786af",
   "metadata": {},
   "source": [
    "Q5. Explain why with statement is used with open(). What is the advantage of using with statement and\n",
    "open() together?"
   ]
  },
  {
   "cell_type": "markdown",
   "id": "73b5402a-4dda-4ec0-b879-50bd72351b67",
   "metadata": {},
   "source": [
    "The with statement is used with open() in Python to ensure that a file is closed properly after its operations are completed. The open() function is used to open a file and create a file object, which can then be used to read, write or append data to the file.\n",
    "\n",
    "\n",
    "The advantage of using with statement and open() together is that the file is automatically closed as soon as the block of code under the with statement finishes executing. This is accomplished through the use of a context manager, which ensures that the __exit__() method of the file object is called when the block exits. This guarantees that any changes made to the file are saved, and that system resources are released.\n",
    "\n",
    "For example, here's how you can use the with statement and open() together to read a file:\n"
   ]
  },
  {
   "cell_type": "code",
   "execution_count": 8,
   "id": "2b81804d-8b1c-4490-b44a-db321e6a7216",
   "metadata": {},
   "outputs": [
    {
     "name": "stdout",
     "output_type": "stream",
     "text": [
      "I want to become a Data Scientist\n"
     ]
    }
   ],
   "source": [
    "with open(\"sample.txt\", \"r\") as file:\n",
    "    data = file.read()\n",
    "    print(data)\n"
   ]
  },
  {
   "cell_type": "markdown",
   "id": "6cd21c8c-3c55-46ab-9ef3-aa76d445508e",
   "metadata": {},
   "source": [
    "Q6. Explain the write() and writelines() functions. Give a suitable example."
   ]
  },
  {
   "cell_type": "markdown",
   "id": "c0127d2d-b0d7-45a1-b6c1-62898700534d",
   "metadata": {},
   "source": [
    "The write() and writelines() functions are used to write data to a file in Python.\n",
    "\n",
    "The write() function is used to write a single string of data to a file. If the file already exists, the data will be written at the end of the file. If the file does not exist, it will be created. \n",
    "\n",
    "The general syntax of the write() function is as follows:"
   ]
  },
  {
   "cell_type": "code",
   "execution_count": 9,
   "id": "9550d2b1-7a52-4a68-8c3a-2c2b14d570c3",
   "metadata": {},
   "outputs": [],
   "source": [
    "with open(\"example.txt\", \"w\") as file:\n",
    "    file.write(\"Hello, World!\")\n"
   ]
  },
  {
   "cell_type": "markdown",
   "id": "d3cf7c46-966b-4e70-b8ee-2c65e37e7f8a",
   "metadata": {},
   "source": [
    "The writelines() function is used to write a list of strings to a file. Each string in the list is written as a separate line in the file. \n",
    "\n",
    "The general syntax of the writelines() function is as follows:\n",
    "\n",
    "file.writelines(list_of_strings)\n"
   ]
  },
  {
   "cell_type": "code",
   "execution_count": 12,
   "id": "0d680629-c066-43a2-b79d-338d6b48c71a",
   "metadata": {},
   "outputs": [],
   "source": [
    "with open(\"example.txt\", \"w\") as file:\n",
    "    lines = [\"Line 1\\n\", \"Line 2\\n\", \"Line 3\\n\"]\n",
    "    file.writelines(lines)\n"
   ]
  },
  {
   "cell_type": "code",
   "execution_count": null,
   "id": "1b07a5c5-fb65-4178-b361-cb88845be4f8",
   "metadata": {},
   "outputs": [],
   "source": []
  }
 ],
 "metadata": {
  "kernelspec": {
   "display_name": "Python 3 (ipykernel)",
   "language": "python",
   "name": "python3"
  },
  "language_info": {
   "codemirror_mode": {
    "name": "ipython",
    "version": 3
   },
   "file_extension": ".py",
   "mimetype": "text/x-python",
   "name": "python",
   "nbconvert_exporter": "python",
   "pygments_lexer": "ipython3",
   "version": "3.10.8"
  }
 },
 "nbformat": 4,
 "nbformat_minor": 5
}
