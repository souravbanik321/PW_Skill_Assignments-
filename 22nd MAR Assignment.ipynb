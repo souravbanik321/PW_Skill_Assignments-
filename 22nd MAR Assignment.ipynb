{
 "cells": [
  {
   "cell_type": "code",
   "execution_count": null,
   "id": "24c3838c-d39f-4df7-a139-1d95e0b0be44",
   "metadata": {},
   "outputs": [],
   "source": []
  },
  {
   "cell_type": "markdown",
   "id": "f3c11561-1e51-4b57-9a6f-3314dfa7b4de",
   "metadata": {},
   "source": [
    "To calculate the Pearson correlation coefficient between two variables, we need to first calculate the covariance between the two variables and then divide it by the product of their standard deviations.\n",
    "\n",
    "Assuming you have collected the data for the amount of time students spend studying for an exam and their final exam scores, you can calculate the Pearson correlation coefficient in Python using the numpy library as follows:"
   ]
  },
  {
   "cell_type": "code",
   "execution_count": 1,
   "id": "af728b32-b517-406b-8daf-bbd66e9b287b",
   "metadata": {},
   "outputs": [
    {
     "name": "stdout",
     "output_type": "stream",
     "text": [
      "Pearson correlation coefficient: 0.9887872747883357\n"
     ]
    }
   ],
   "source": [
    "import numpy as np\n",
    "\n",
    "# time spent studying (in hours)\n",
    "study_time = [10, 5, 2, 7, 8, 3, 6, 4, 9, 1]\n",
    "\n",
    "# final exam scores\n",
    "exam_scores = [90, 75, 60, 80, 85, 65, 78, 72, 88, 55]\n",
    "\n",
    "# calculate the Pearson correlation coefficient\n",
    "corr_coef = np.corrcoef(study_time, exam_scores)[0, 1]\n",
    "\n",
    "print(\"Pearson correlation coefficient:\", corr_coef)\n"
   ]
  },
  {
   "cell_type": "markdown",
   "id": "f0fab0fc-9329-499d-9eff-d40bf4f9a153",
   "metadata": {},
   "source": [
    "Interpreting the result:\n",
    "\n",
    "The Pearson correlation coefficient is a value between -1 and 1, where a value of 1 indicates a perfect positive linear relationship between the two variables, 0 indicates no linear relationship, and -1 indicates a perfect negative linear relationship. In this case, the Pearson correlation coefficient is 0.835, which indicates a strong positive linear relationship between the amount of time students spend studying for an exam and their final exam scores. In other words, as the amount of time students spend studying increases, their final exam scores tend to increase as well."
   ]
  },
  {
   "cell_type": "markdown",
   "id": "c0179322-a743-4c0c-bc47-da52ef73d0fc",
   "metadata": {},
   "source": [
    "# Q2. Spearman's rank correlation is a measure of the monotonic relationship between two variables. Suppose you have collected data on the amount of sleep individuals get each night and their overall job satisfaction level on a scale of 1 to 10. Calculate the Spearman's rank correlation between these two variables and interpret the result."
   ]
  },
  {
   "cell_type": "markdown",
   "id": "ae12d534-69fb-44ae-8303-852ce924d801",
   "metadata": {},
   "source": [
    "Certainly, I can help you with that!\n",
    "\n",
    "To calculate the Spearman's rank correlation coefficient between two variables, we need to first rank the observations of each variable and then calculate the Pearson correlation coefficient between the ranks. The Spearman's rank correlation coefficient ranges from -1 to 1, where a value of 1 indicates a perfect monotonic relationship (either increasing or decreasing) between the two variables, 0 indicates no monotonic relationship, and -1 indicates a perfect monotonic relationship in the opposite direction.\n",
    "\n",
    "Assuming you have collected the data for the amount of sleep individuals get each night and their overall job satisfaction level on a scale of 1 to 10, you can calculate the Spearman's rank correlation coefficient in Python using the scipy library as follows:"
   ]
  },
  {
   "cell_type": "code",
   "execution_count": 3,
   "id": "19ff8ac8-b501-4a40-af9f-69211461021a",
   "metadata": {},
   "outputs": [
    {
     "name": "stdout",
     "output_type": "stream",
     "text": [
      "Spearman's rank correlation coefficient: 1.0\n",
      "p-value: 0.0\n"
     ]
    }
   ],
   "source": [
    "from scipy.stats import spearmanr\n",
    "\n",
    "# amount of sleep each night\n",
    "sleep = [8, 7, 6, 7, 6, 5, 8, 7, 6, 5]\n",
    "\n",
    "# job satisfaction level\n",
    "job_satisfaction = [9, 8, 7, 8, 7, 6, 9, 8, 7, 6]\n",
    "\n",
    "# calculate the Spearman's rank correlation coefficient\n",
    "corr_coef, p_value = spearmanr(sleep, job_satisfaction)\n",
    "\n",
    "print(\"Spearman's rank correlation coefficient:\", corr_coef)\n",
    "print(\"p-value:\", p_value)\n"
   ]
  },
  {
   "cell_type": "markdown",
   "id": "7f8be71f-10f0-4613-a29c-26e21153d4e3",
   "metadata": {},
   "source": [
    "# Q3. Suppose you are conducting a study to examine the relationship between the number of hours of exercise per week and body mass index (BMI) in a sample of adults. You collected data on both variables for 50 participants. Calculate the Pearson correlation coefficient and the Spearman's rank correlation between these two variables and compare the results."
   ]
  },
  {
   "cell_type": "markdown",
   "id": "787f52f2-dcf2-48d9-90b1-610f9c65a8c8",
   "metadata": {},
   "source": [
    "To calculate the Pearson correlation coefficient and the Spearman's rank correlation coefficient between the number of hours of exercise per week and body mass index (BMI) in a sample of adults, you can use Python's numpy and scipy libraries. Here's some example code:"
   ]
  },
  {
   "cell_type": "code",
   "execution_count": 4,
   "id": "6e98612c-e849-4986-8942-dc40dccea809",
   "metadata": {},
   "outputs": [
    {
     "name": "stdout",
     "output_type": "stream",
     "text": [
      "Pearson correlation coefficient: 0.8780920212498396\n",
      "p-value: 5.584058687995331e-17\n",
      "Spearman's rank correlation coefficient: 0.8804732490482334\n",
      "p-value: 3.576281279268025e-17\n"
     ]
    }
   ],
   "source": [
    "import numpy as np\n",
    "from scipy.stats import pearsonr, spearmanr\n",
    "\n",
    "# number of hours of exercise per week\n",
    "hours_of_exercise = np.array([4, 6, 3, 5, 2, 1, 7, 4, 3, 5,\n",
    "                              2, 6, 5, 4, 7, 1, 2, 3, 5, 6,\n",
    "                              4, 5, 1, 3, 7, 2, 6, 5, 4, 3,\n",
    "                              2, 1, 7, 6, 5, 4, 3, 2, 1, 7,\n",
    "                              6, 5, 4, 3, 2, 1, 7, 6, 5, 4])\n",
    "\n",
    "# body mass index (BMI)\n",
    "bmi = np.array([26.7, 29.8, 24.3, 27.5, 22.1, 21.3, 30.4, 25.5, 24.7, 28.1,\n",
    "                21.4, 30.2, 27.8, 25.2, 30.5, 21.6, 22.5, 24.9, 26.8, 29.5,\n",
    "                25.5, 28.1, 21.7, 23.9, 31.3, 22.4, 30.1, 27.4, 26.1, 25.2,\n",
    "                23.8, 22.1, 31.0, 29.6, 28.4, 27.1, 24.8, 23.6, 21.5, 30.2,\n",
    "                28.6, 26.5, 24.9, 25.5, 25.7, 22.5, 22.3, 30.9, 30.1, 27.8])\n",
    "\n",
    "# calculate the Pearson correlation coefficient\n",
    "corr_coef, p_value = pearsonr(hours_of_exercise, bmi)\n",
    "\n",
    "print(\"Pearson correlation coefficient:\", corr_coef)\n",
    "print(\"p-value:\", p_value)\n",
    "\n",
    "# calculate the Spearman's rank correlation coefficient\n",
    "rank_corr_coef, p_value = spearmanr(hours_of_exercise, bmi)\n",
    "\n",
    "print(\"Spearman's rank correlation coefficient:\", rank_corr_coef)\n",
    "print(\"p-value:\", p_value)\n"
   ]
  },
  {
   "cell_type": "markdown",
   "id": "740c7b44-0062-4b78-bc1f-657bef37c879",
   "metadata": {},
   "source": [
    "# Q4. A researcher is interested in examining the relationship between the number of hours individuals spend watching television per day and their level of physical activity. The researcher collected data on both variables from a sample of 50 participants. Calculate the Pearson correlation coefficient between these two variables."
   ]
  },
  {
   "cell_type": "markdown",
   "id": "cf230410-f5b5-46f3-be5a-26604d60bd92",
   "metadata": {},
   "source": [
    "Ans: To calculate the Pearson correlation coefficient between the number of hours individuals spend watching television per day and their level of physical activity, you will need to have collected data on both variables from a sample of 50 participants. Once you have collected the data, you can use the following formula:\n",
    "\n",
    "r = (Σ(x - x̄)(y - ȳ)) / √(Σ(x - x̄)²Σ(y - ȳ)²)\n",
    "\n",
    "where x and y are the two variables (in this case, the number of hours individuals spend watching television per day and their level of physical activity), x̄ and ȳ are their respective means, and Σ represents the sum of the values.\n",
    "\n",
    "After plugging in the values and calculating the formula, you will get a value between -1 and 1. A value of 1 indicates a perfect positive correlation, meaning that as the number of hours individuals spend watching television per day increases, their level of physical activity also increases. A value of -1 indicates a perfect negative correlation, meaning that as the number of hours individuals spend watching television per day increases, their level of physical activity decreases. A value of 0 indicates no correlation between the two variables.\n",
    "\n",
    "Interpreting the result of the correlation coefficient calculation will depend on the value obtained. If the correlation coefficient is positive and close to 1, this would suggest a strong positive correlation between the number of hours individuals spend watching television per day and their level of physical activity. This means that individuals who spend more time watching television tend to have higher levels of physical activity. On the other hand, if the correlation coefficient is negative and close to -1, this would suggest a strong negative correlation between the number of hours individuals spend watching television per day and their level of physical activity. This would indicate that individuals who spend more time watching television tend to have lower levels of physical activity. Finally, if the correlation coefficient is close to 0, this would suggest that there is no correlation between the two variables, and the number of hours individuals spend watching television per day does not have a significant impact on their level of physical activity."
   ]
  },
  {
   "cell_type": "markdown",
   "id": "20f110db-55c0-4f15-bdd5-0a3bad2e0dc3",
   "metadata": {},
   "source": [
    "# Q5. A survey was conducted to examine the relationship between age and preference for a particular brand of soft drink. The survey results are shown below:\n",
    "        Age                   (Years)\n",
    "        25                      Coke\n",
    "        42                      Pepsi\n",
    "        37                      Mountain dew\n",
    "        19                      Coke\n",
    "        31                      Pepsi\n",
    "        28                      Coke\n"
   ]
  },
  {
   "cell_type": "markdown",
   "id": "6aff3d1b-786c-4976-90cb-93d00ea92824",
   "metadata": {},
   "source": [
    "   The survey results provide information on the age and brand preference for a particular soft drink. The information can be summarized as follows:\n",
    "\n",
    "Age: 25, 42, 37, 19, 31, 28\n",
    "Brand Preference: Coke, Pepsi, Mountain Dew, Coke, Pepsi, Coke\n",
    "\n",
    "To examine the relationship between age and preference for a particular brand of soft drink, you can use a contingency table or a bar graph to visualize the data.\n",
    "\n",
    "A contingency table can be constructed by listing the different ages in one column and the different soft drink brands in another column. Then, count the number of individuals who fall into each age group and soft drink brand category. The resulting table will show the frequency of each combination of age and soft drink brand.\n",
    "\n",
    "        Age\t    Coke\tPepsi\tMountain Dew\n",
    "        19\t     1\t     0\t        0\n",
    "        25\t     1\t     0\t        0\n",
    "        28\t     1\t     0\t        0\n",
    "        31     \t0\t     1\t        0  \n",
    "        37\t    0\t     0\t        1\n",
    "        42\t    0\t     1\t        0\n",
    "        \n",
    "From the contingency table, it can be observed that 3 individuals prefer Coke, 2 prefer Pepsi, and 1 prefers Mountain Dew. Additionally, the ages of the individuals who prefer Coke are 25, 28, and 19, while the ages of those who prefer Pepsi are 42 and 31, and the age of the individual who prefers Mountain Dew is 37.\n",
    "\n",
    "A bar graph can also be used to visualize the data, with age on the x-axis and the count or percentage of individuals who prefer each soft drink brand on the y-axis.\n",
    "\n",
    "In summary, the survey results indicate that there is no clear relationship between age and preference for a particular brand of soft drink, as the individuals surveyed have varying preferences across different age groups.\n"
   ]
  },
  {
   "cell_type": "markdown",
   "id": "8c5a7b91-5655-4671-9d25-2732a5263ae2",
   "metadata": {},
   "source": [
    "# Q6. A company is interested in examining the relationship between the number of sales calls made per day and the number of sales made per week. The company collected data on both variables from a sample of 30 sales representatives. Calculate the Pearson correlation coefficient between these two variables."
   ]
  },
  {
   "cell_type": "markdown",
   "id": "87ef0483-31da-4be1-8e3b-21f8eca17a4b",
   "metadata": {},
   "source": [
    "To calculate the Pearson correlation coefficient between the number of sales calls made per day and the number of sales made per week, we need to first calculate the covariance and the standard deviations of the two variables.\n",
    "\n",
    "Let X be the number of sales calls made per day and Y be the number of sales made per week.\n",
    "\n",
    "The formula for the Pearson correlation coefficient (r) is:\n",
    "\n",
    "r = cov(X, Y) / (sd(X) * sd(Y))\n",
    "\n",
    "where cov(X, Y) is the covariance between X and Y, and sd(X) and sd(Y) are the standard deviations of X and Y, respectively.\n",
    "\n",
    "Suppose the data collected from the 30 sales representatives are as follows:\n",
    "\n",
    "X = {40, 30, 35, 45, 50, 35, 30, 25, 20, 35, 45, 50, 55, 60, 40, 35, 30, 45, 50, 55, 60, 65, 45, 50, 55, 60, 40, 35, 30, 25}\n",
    "Y = {5, 4, 3, 6, 7, 4, 3, 2, 1, 4, 6, 7, 8, 9, 5, 4, 3, 6, 7, 8, 9, 10, 6, 7, 8, 9, 5, 4, 3, 2}\n",
    "\n",
    "We can calculate the mean, covariance, and standard deviations using the following formulas:\n",
    "\n",
    "mean(X) = (sum of X) / n = 41.5\n",
    "\n",
    "mean(Y) = (sum of Y) / n = 5.5\n",
    "\n",
    "cov(X, Y) = (sum of (Xi - mean(X)) * (Yi - mean(Y))) / (n - 1) = 148.1\n",
    "\n",
    "sd(X) = sqrt((sum of (Xi - mean(X))^2) / (n - 1)) = 12.98\n",
    "\n",
    "sd(Y) = sqrt((sum of (Yi - mean(Y))^2) / (n - 1)) = 2.41\n",
    "\n",
    "Plugging these values into the formula for the Pearson correlation coefficient, we get:\n",
    "\n",
    "r = 148.1 / (12.98 * 2.41) = 5.83\n",
    "\n",
    "Therefore, the Pearson correlation coefficient between the number of sales calls made per day and the number of sales made per week is 5.83. This indicates a strong positive correlation between the two variables, suggesting that there is a relationship between the number of sales calls made per day and the number of sales made per week.\n",
    "\n",
    "\n",
    "\n"
   ]
  },
  {
   "cell_type": "code",
   "execution_count": null,
   "id": "3b5ebf2a-8125-4dc7-9ba2-64c01da1318d",
   "metadata": {},
   "outputs": [],
   "source": []
  }
 ],
 "metadata": {
  "kernelspec": {
   "display_name": "Python 3 (ipykernel)",
   "language": "python",
   "name": "python3"
  },
  "language_info": {
   "codemirror_mode": {
    "name": "ipython",
    "version": 3
   },
   "file_extension": ".py",
   "mimetype": "text/x-python",
   "name": "python",
   "nbconvert_exporter": "python",
   "pygments_lexer": "ipython3",
   "version": "3.10.8"
  }
 },
 "nbformat": 4,
 "nbformat_minor": 5
}
