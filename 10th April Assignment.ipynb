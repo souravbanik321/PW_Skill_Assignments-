{
 "cells": [
  {
   "cell_type": "markdown",
   "id": "32eeaf39-6e54-401b-9452-706f5a0a8c74",
   "metadata": {},
   "source": [
    "## Q1. A company conducted a survey of its employees and found that 70% of the employees use the company's health insurance plan, while 40% of the employees who use the plan are smokers. What is the probability that an employee is a smoker given that he/she uses the health insurance plan?"
   ]
  },
  {
   "cell_type": "markdown",
   "id": "58a8d767-7a62-44e9-8146-470b817e817e",
   "metadata": {},
   "source": [
    "To find the probability that an employee is a smoker given that they use the health insurance plan, we can use conditional probability.\n",
    "\n",
    "Let's define the following events:\n",
    "A: Employee uses the health insurance plan.\n",
    "B: Employee is a smoker.\n",
    "\n",
    "We are given the following probabilities:\n",
    "P(A) = 70% = 0.70 (probability that an employee uses the health insurance plan)\n",
    "P(B | A) = 40% = 0.40 (probability that an employee is a smoker given that they use the health insurance plan)\n",
    "\n",
    "We want to find P(B | A), which represents the probability of an employee being a smoker given that they use the health insurance plan.\n",
    "\n",
    "Using the definition of conditional probability, we have:\n",
    "\n",
    "P(B | A) = P(A and B) / P(A)\n",
    "\n",
    "From the information provided, we can see that P(A and B) represents the probability that an employee both uses the health insurance plan and is a smoker. However, we don't have this value directly.\n",
    "\n",
    "To find P(A and B), we can use the fact that the probability of two independent events occurring is the product of their individual probabilities:\n",
    "\n",
    "P(A and B) = P(B) * P(A | B)\n",
    "\n",
    "Since P(A and B) is not directly given, we can rewrite it as:\n",
    "\n",
    "P(A and B) = P(B) * P(A | B) = P(A) * P(B | A)\n",
    "\n",
    "Now, substituting this into the conditional probability formula, we have:\n",
    "\n",
    "P(B | A) = (P(A) * P(B | A)) / P(A)\n",
    "\n",
    "Plugging in the given values:\n",
    "\n",
    "P(B | A) = (0.70 * 0.40) / 0.70\n",
    "\n",
    "Simplifying:\n",
    "\n",
    "P(B | A) = 0.40\n",
    "\n",
    "Therefore, the probability that an employee is a smoker given that they use the health insurance plan is 0.40 or 40%."
   ]
  },
  {
   "cell_type": "markdown",
   "id": "4ac2fc24-1f9f-45ac-9cb0-dfed6a959278",
   "metadata": {},
   "source": [
    "## Q2. What is the difference between Bernoulli Naive Bayes and Multinomial Naive Bayes?"
   ]
  },
  {
   "cell_type": "markdown",
   "id": "dcad426e-d9a7-4fb2-b5fe-20fa473f7f84",
   "metadata": {},
   "source": [
    "Bernoulli Naive Bayes and Multinomial Naive Bayes are both variants of the Naive Bayes algorithm, but they have some differences in their assumptions and handling of feature vectors. Here are the key differences:\n",
    "\n",
    "1. Nature of Features:\n",
    "\n",
    "- `Bernoulli Naive Bayes:` It assumes that features are binary variables, where each feature can be present (1) or absent (0). It is suitable for text classification tasks where the presence or absence of words in a document is considered.\n",
    "- `Multinomial Naive Bayes:` It assumes that features represent discrete counts or frequencies. It is commonly used in text classification, where the features can be the frequency of words or term frequencies-inverse document frequencies (TF-IDF) of words.\n",
    "2. Feature Independence:\n",
    "\n",
    "Both algorithms assume feature independence given the class variable, which is a characteristic of the Naive Bayes algorithm. However, the way they model this independence differs.\n",
    "- `Bernoulli Naive Bayes:` It models feature independence using the presence or absence of features in the input vector. It considers only whether a feature is present (1) or absent (0) and ignores the frequency or count of the features.\n",
    "- `Multinomial Naive Bayes:` It models feature independence using the frequencies or counts of features in the input vector. It takes into account the actual counts or frequencies of features and uses them to estimate the probabilities.\n",
    "3. Handling of Zero Counts:\n",
    "\n",
    "- `Bernoulli Naive Bayes:` It handles zero counts by adding a smoothing factor (usually Laplace smoothing) to avoid zero probabilities. This helps prevent the model from assigning zero probabilities to unseen features.\n",
    "- `Multinomial Naive Bayes:` It handles zero counts by adding a smoothing factor as well. It is common to use Laplace smoothing or other smoothing techniques to handle zero probabilities.\n",
    "In summary, Bernoulli Naive Bayes is suitable for binary feature vectors, whereas Multinomial Naive Bayes is appropriate for discrete count or frequency-based features. They differ in how they model feature independence and handle zero counts in their probability estimations.\n",
    "\n",
    "\n",
    "\n",
    "\n"
   ]
  },
  {
   "cell_type": "markdown",
   "id": "601e63d9-fe1d-4296-b7d2-5558e7f89ea3",
   "metadata": {},
   "source": [
    "## Q3. How does Bernoulli Naive Bayes handle missing values?"
   ]
  },
  {
   "cell_type": "markdown",
   "id": "09450e31-e89c-4179-b79e-97b736c0e03d",
   "metadata": {},
   "source": [
    "Bernoulli Naive Bayes assumes that features are binary variables, where each feature can be present (1) or absent (0). When dealing with missing values in Bernoulli Naive Bayes, the approach typically depends on the specific implementation or library used. However, there are a few common strategies for handling missing values:\n",
    "\n",
    "1. `Ignoring Instances:` One approach is to simply ignore instances or samples that have missing values. This means that if a feature value is missing for a particular instance, that instance is excluded from the training and prediction process.\n",
    "\n",
    "2. `Filling Missing Values:` Another strategy is to fill in missing values with a default value or imputation technique. For Bernoulli Naive Bayes, the most common approach is to assign a default value (such as 0 or 1) to represent the missing value. The choice of the default value may depend on the specific problem or dataset.\n",
    "\n",
    "3. `Incorporating Missingness as a Separate Category:` In some cases, missing values can be considered as a separate category or feature state. This means that instead of imputing or ignoring missing values, a new category or feature level can be created to represent the missingness of a feature.\n",
    "\n",
    "It's important to note that the handling of missing values in Bernoulli Naive Bayes can have an impact on the performance and accuracy of the model. The chosen strategy should align with the specific characteristics of the dataset and the objectives of the analysis. Additionally, preprocessing steps, such as data imputation or cleaning, may be required before applying the Bernoulli Naive Bayes algorithm to handle missing values effectively.\n",
    "\n",
    "\n",
    "\n",
    "\n"
   ]
  },
  {
   "cell_type": "markdown",
   "id": "8f5f3895-713b-4b31-8930-5d66da8b1063",
   "metadata": {},
   "source": [
    "## Q4. Can Gaussian Naive Bayes be used for multi-class classification?"
   ]
  },
  {
   "cell_type": "markdown",
   "id": "65342446-46a1-4cf4-8977-27f56e5b49fd",
   "metadata": {},
   "source": [
    "Yes, Gaussian Naive Bayes can be used for multi-class classification. The Gaussian Naive Bayes algorithm is a variant of the Naive Bayes algorithm that assumes that the features follow a Gaussian (normal) distribution. It is commonly used for continuous numerical features.\n",
    "\n",
    "In the case of multi-class classification, where there are more than two classes to be predicted, Gaussian Naive Bayes can be extended to handle multiple classes. The algorithm calculates the probability of each class given the feature values and predicts the class with the highest probability.\n",
    "\n",
    "The general steps for using Gaussian Naive Bayes for multi-class classification are as follows:\n",
    "\n",
    "1. `Data Preparation:` Prepare the dataset with features and corresponding class labels. Ensure that the features are continuous numerical variables.\n",
    "\n",
    "2. `Training:` Estimate the parameters of the Gaussian distribution (mean and variance) for each feature in the training set for each class. This involves calculating the mean and variance of each feature for each class.\n",
    "\n",
    "3. `Class Prior Probabilities:` Calculate the prior probability of each class, which is the probability of each class occurring in the training data.\n",
    "\n",
    "4. `Prediction:` Given a new instance with feature values, calculate the conditional probability of the instance belonging to each class using the Gaussian probability density function. Multiply the prior probability of each class with the conditional probability, and then select the class with the highest resulting probability as the predicted class.\n",
    "\n",
    "5. `Model Evaluation:` Evaluate the performance of the Gaussian Naive Bayes model using appropriate evaluation metrics such as accuracy, precision, recall, or F1 score.\n",
    "\n",
    "It's important to note that Gaussian Naive Bayes assumes that the features are independent given the class variable. However, this assumption may not hold in some real-world datasets. Therefore, it's advisable to assess the independence assumption and consider other algorithms if the independence assumption is violated.\n",
    "\n",
    "Overall, Gaussian Naive Bayes can be extended to handle multi-class classification problems and is particularly useful when dealing with continuous numerical features.\n",
    "\n",
    "\n",
    "\n",
    "\n",
    "\n"
   ]
  },
  {
   "cell_type": "markdown",
   "id": "d944980c-d353-4ae7-ae68-9617c1e049a5",
   "metadata": {},
   "source": [
    "## Q5. Assignment:\n",
    "Data preparation:\n",
    "Download the \"Spambase Data Set\" from the UCI Machine Learning Repository \n",
    "(https://archive.ics.uci.edu/ml/datasets/Spambase). This dataset contains email messages, where the goal is to predict whether a message\n",
    "is spam or not based on several input features.\n",
    "Implementation:\n",
    "Implement Bernoulli Naive Bayes, Multinomial Naive Bayes, and Gaussian Naive Bayes classifiers using the\n",
    "scikit-learn library in Python. Use 10-fold cross-validation to evaluate the performance of each classifier on the\n",
    "dataset. You should use the default hyperparameters for each classifier.\n",
    "Results:\n",
    "Report the following performance metrics for each classifier:\n",
    "Accuracy\n",
    "Precision\n",
    "Recall\n",
    "F1 score\n",
    "Discussion:\n",
    "Discuss the results you obtained. Which variant of Naive Bayes performed the best? Why do you think that is\n",
    "the case? Are there any limitations of Naive Bayes that you observed?\n",
    "Conclusion:\n",
    "Summarise your findings and provide some suggestions for future work.\n",
    "\n"
   ]
  },
  {
   "cell_type": "code",
   "execution_count": 1,
   "id": "d7d64303-2861-4d34-bcae-3f53bb7b7c25",
   "metadata": {},
   "outputs": [],
   "source": [
    "import pandas as pd\n",
    "import numpy as np\n",
    "df = pd.read_csv(\"https://archive.ics.uci.edu/ml/machine-learning-databases/spambase/spambase.data\")"
   ]
  },
  {
   "cell_type": "code",
   "execution_count": 2,
   "id": "1673f419-96d1-4933-ae2c-8ef04f521eee",
   "metadata": {},
   "outputs": [
    {
     "data": {
      "text/html": [
       "<div>\n",
       "<style scoped>\n",
       "    .dataframe tbody tr th:only-of-type {\n",
       "        vertical-align: middle;\n",
       "    }\n",
       "\n",
       "    .dataframe tbody tr th {\n",
       "        vertical-align: top;\n",
       "    }\n",
       "\n",
       "    .dataframe thead th {\n",
       "        text-align: right;\n",
       "    }\n",
       "</style>\n",
       "<table border=\"1\" class=\"dataframe\">\n",
       "  <thead>\n",
       "    <tr style=\"text-align: right;\">\n",
       "      <th></th>\n",
       "      <th>0</th>\n",
       "      <th>0.64</th>\n",
       "      <th>0.64.1</th>\n",
       "      <th>0.1</th>\n",
       "      <th>0.32</th>\n",
       "      <th>0.2</th>\n",
       "      <th>0.3</th>\n",
       "      <th>0.4</th>\n",
       "      <th>0.5</th>\n",
       "      <th>0.6</th>\n",
       "      <th>...</th>\n",
       "      <th>0.41</th>\n",
       "      <th>0.42</th>\n",
       "      <th>0.43</th>\n",
       "      <th>0.778</th>\n",
       "      <th>0.44</th>\n",
       "      <th>0.45</th>\n",
       "      <th>3.756</th>\n",
       "      <th>61</th>\n",
       "      <th>278</th>\n",
       "      <th>1</th>\n",
       "    </tr>\n",
       "  </thead>\n",
       "  <tbody>\n",
       "    <tr>\n",
       "      <th>0</th>\n",
       "      <td>0.21</td>\n",
       "      <td>0.28</td>\n",
       "      <td>0.50</td>\n",
       "      <td>0.0</td>\n",
       "      <td>0.14</td>\n",
       "      <td>0.28</td>\n",
       "      <td>0.21</td>\n",
       "      <td>0.07</td>\n",
       "      <td>0.00</td>\n",
       "      <td>0.94</td>\n",
       "      <td>...</td>\n",
       "      <td>0.00</td>\n",
       "      <td>0.132</td>\n",
       "      <td>0.0</td>\n",
       "      <td>0.372</td>\n",
       "      <td>0.180</td>\n",
       "      <td>0.048</td>\n",
       "      <td>5.114</td>\n",
       "      <td>101</td>\n",
       "      <td>1028</td>\n",
       "      <td>1</td>\n",
       "    </tr>\n",
       "    <tr>\n",
       "      <th>1</th>\n",
       "      <td>0.06</td>\n",
       "      <td>0.00</td>\n",
       "      <td>0.71</td>\n",
       "      <td>0.0</td>\n",
       "      <td>1.23</td>\n",
       "      <td>0.19</td>\n",
       "      <td>0.19</td>\n",
       "      <td>0.12</td>\n",
       "      <td>0.64</td>\n",
       "      <td>0.25</td>\n",
       "      <td>...</td>\n",
       "      <td>0.01</td>\n",
       "      <td>0.143</td>\n",
       "      <td>0.0</td>\n",
       "      <td>0.276</td>\n",
       "      <td>0.184</td>\n",
       "      <td>0.010</td>\n",
       "      <td>9.821</td>\n",
       "      <td>485</td>\n",
       "      <td>2259</td>\n",
       "      <td>1</td>\n",
       "    </tr>\n",
       "    <tr>\n",
       "      <th>2</th>\n",
       "      <td>0.00</td>\n",
       "      <td>0.00</td>\n",
       "      <td>0.00</td>\n",
       "      <td>0.0</td>\n",
       "      <td>0.63</td>\n",
       "      <td>0.00</td>\n",
       "      <td>0.31</td>\n",
       "      <td>0.63</td>\n",
       "      <td>0.31</td>\n",
       "      <td>0.63</td>\n",
       "      <td>...</td>\n",
       "      <td>0.00</td>\n",
       "      <td>0.137</td>\n",
       "      <td>0.0</td>\n",
       "      <td>0.137</td>\n",
       "      <td>0.000</td>\n",
       "      <td>0.000</td>\n",
       "      <td>3.537</td>\n",
       "      <td>40</td>\n",
       "      <td>191</td>\n",
       "      <td>1</td>\n",
       "    </tr>\n",
       "    <tr>\n",
       "      <th>3</th>\n",
       "      <td>0.00</td>\n",
       "      <td>0.00</td>\n",
       "      <td>0.00</td>\n",
       "      <td>0.0</td>\n",
       "      <td>0.63</td>\n",
       "      <td>0.00</td>\n",
       "      <td>0.31</td>\n",
       "      <td>0.63</td>\n",
       "      <td>0.31</td>\n",
       "      <td>0.63</td>\n",
       "      <td>...</td>\n",
       "      <td>0.00</td>\n",
       "      <td>0.135</td>\n",
       "      <td>0.0</td>\n",
       "      <td>0.135</td>\n",
       "      <td>0.000</td>\n",
       "      <td>0.000</td>\n",
       "      <td>3.537</td>\n",
       "      <td>40</td>\n",
       "      <td>191</td>\n",
       "      <td>1</td>\n",
       "    </tr>\n",
       "    <tr>\n",
       "      <th>4</th>\n",
       "      <td>0.00</td>\n",
       "      <td>0.00</td>\n",
       "      <td>0.00</td>\n",
       "      <td>0.0</td>\n",
       "      <td>1.85</td>\n",
       "      <td>0.00</td>\n",
       "      <td>0.00</td>\n",
       "      <td>1.85</td>\n",
       "      <td>0.00</td>\n",
       "      <td>0.00</td>\n",
       "      <td>...</td>\n",
       "      <td>0.00</td>\n",
       "      <td>0.223</td>\n",
       "      <td>0.0</td>\n",
       "      <td>0.000</td>\n",
       "      <td>0.000</td>\n",
       "      <td>0.000</td>\n",
       "      <td>3.000</td>\n",
       "      <td>15</td>\n",
       "      <td>54</td>\n",
       "      <td>1</td>\n",
       "    </tr>\n",
       "  </tbody>\n",
       "</table>\n",
       "<p>5 rows × 58 columns</p>\n",
       "</div>"
      ],
      "text/plain": [
       "      0  0.64  0.64.1  0.1  0.32   0.2   0.3   0.4   0.5   0.6  ...  0.41  \\\n",
       "0  0.21  0.28    0.50  0.0  0.14  0.28  0.21  0.07  0.00  0.94  ...  0.00   \n",
       "1  0.06  0.00    0.71  0.0  1.23  0.19  0.19  0.12  0.64  0.25  ...  0.01   \n",
       "2  0.00  0.00    0.00  0.0  0.63  0.00  0.31  0.63  0.31  0.63  ...  0.00   \n",
       "3  0.00  0.00    0.00  0.0  0.63  0.00  0.31  0.63  0.31  0.63  ...  0.00   \n",
       "4  0.00  0.00    0.00  0.0  1.85  0.00  0.00  1.85  0.00  0.00  ...  0.00   \n",
       "\n",
       "    0.42  0.43  0.778   0.44   0.45  3.756   61   278  1  \n",
       "0  0.132   0.0  0.372  0.180  0.048  5.114  101  1028  1  \n",
       "1  0.143   0.0  0.276  0.184  0.010  9.821  485  2259  1  \n",
       "2  0.137   0.0  0.137  0.000  0.000  3.537   40   191  1  \n",
       "3  0.135   0.0  0.135  0.000  0.000  3.537   40   191  1  \n",
       "4  0.223   0.0  0.000  0.000  0.000  3.000   15    54  1  \n",
       "\n",
       "[5 rows x 58 columns]"
      ]
     },
     "execution_count": 2,
     "metadata": {},
     "output_type": "execute_result"
    }
   ],
   "source": [
    "df.head()"
   ]
  },
  {
   "cell_type": "code",
   "execution_count": 3,
   "id": "b37cb5ba-feef-4299-bb89-2fe32da272fd",
   "metadata": {},
   "outputs": [
    {
     "name": "stdout",
     "output_type": "stream",
     "text": [
      "<class 'pandas.core.frame.DataFrame'>\n",
      "RangeIndex: 4600 entries, 0 to 4599\n",
      "Data columns (total 58 columns):\n",
      " #   Column  Non-Null Count  Dtype  \n",
      "---  ------  --------------  -----  \n",
      " 0   0       4600 non-null   float64\n",
      " 1   0.64    4600 non-null   float64\n",
      " 2   0.64.1  4600 non-null   float64\n",
      " 3   0.1     4600 non-null   float64\n",
      " 4   0.32    4600 non-null   float64\n",
      " 5   0.2     4600 non-null   float64\n",
      " 6   0.3     4600 non-null   float64\n",
      " 7   0.4     4600 non-null   float64\n",
      " 8   0.5     4600 non-null   float64\n",
      " 9   0.6     4600 non-null   float64\n",
      " 10  0.7     4600 non-null   float64\n",
      " 11  0.64.2  4600 non-null   float64\n",
      " 12  0.8     4600 non-null   float64\n",
      " 13  0.9     4600 non-null   float64\n",
      " 14  0.10    4600 non-null   float64\n",
      " 15  0.32.1  4600 non-null   float64\n",
      " 16  0.11    4600 non-null   float64\n",
      " 17  1.29    4600 non-null   float64\n",
      " 18  1.93    4600 non-null   float64\n",
      " 19  0.12    4600 non-null   float64\n",
      " 20  0.96    4600 non-null   float64\n",
      " 21  0.13    4600 non-null   float64\n",
      " 22  0.14    4600 non-null   float64\n",
      " 23  0.15    4600 non-null   float64\n",
      " 24  0.16    4600 non-null   float64\n",
      " 25  0.17    4600 non-null   float64\n",
      " 26  0.18    4600 non-null   float64\n",
      " 27  0.19    4600 non-null   float64\n",
      " 28  0.20    4600 non-null   float64\n",
      " 29  0.21    4600 non-null   float64\n",
      " 30  0.22    4600 non-null   float64\n",
      " 31  0.23    4600 non-null   float64\n",
      " 32  0.24    4600 non-null   float64\n",
      " 33  0.25    4600 non-null   float64\n",
      " 34  0.26    4600 non-null   float64\n",
      " 35  0.27    4600 non-null   float64\n",
      " 36  0.28    4600 non-null   float64\n",
      " 37  0.29    4600 non-null   float64\n",
      " 38  0.30    4600 non-null   float64\n",
      " 39  0.31    4600 non-null   float64\n",
      " 40  0.33    4600 non-null   float64\n",
      " 41  0.34    4600 non-null   float64\n",
      " 42  0.35    4600 non-null   float64\n",
      " 43  0.36    4600 non-null   float64\n",
      " 44  0.37    4600 non-null   float64\n",
      " 45  0.38    4600 non-null   float64\n",
      " 46  0.39    4600 non-null   float64\n",
      " 47  0.40    4600 non-null   float64\n",
      " 48  0.41    4600 non-null   float64\n",
      " 49  0.42    4600 non-null   float64\n",
      " 50  0.43    4600 non-null   float64\n",
      " 51  0.778   4600 non-null   float64\n",
      " 52  0.44    4600 non-null   float64\n",
      " 53  0.45    4600 non-null   float64\n",
      " 54  3.756   4600 non-null   float64\n",
      " 55  61      4600 non-null   int64  \n",
      " 56  278     4600 non-null   int64  \n",
      " 57  1       4600 non-null   int64  \n",
      "dtypes: float64(55), int64(3)\n",
      "memory usage: 2.0 MB\n"
     ]
    }
   ],
   "source": [
    "df.info()"
   ]
  },
  {
   "cell_type": "code",
   "execution_count": 4,
   "id": "182d9dab-04cf-4424-94db-03ecc85a9878",
   "metadata": {},
   "outputs": [],
   "source": [
    "#splitting the dataset into independent and dependent features\n",
    "X = df.iloc[:,:-1]\n",
    "y = df.iloc[:,-1]"
   ]
  },
  {
   "cell_type": "code",
   "execution_count": 5,
   "id": "866be0d2-2eab-4c8e-8b2b-4ec2ed8e29e3",
   "metadata": {},
   "outputs": [
    {
     "data": {
      "text/plain": [
       "((4600, 57), (4600,))"
      ]
     },
     "execution_count": 5,
     "metadata": {},
     "output_type": "execute_result"
    }
   ],
   "source": [
    "#confirming the split\n",
    "X.shape,y.shape"
   ]
  },
  {
   "cell_type": "code",
   "execution_count": 6,
   "id": "3ac5dd48-ee41-4c9e-9484-4cb83784ab5b",
   "metadata": {},
   "outputs": [],
   "source": [
    "#train test splitting the data\n",
    "from sklearn.model_selection import train_test_split\n",
    "X_train , X_test , y_train , y_test = train_test_split(X,y , test_size=0.2, random_state=42)"
   ]
  },
  {
   "cell_type": "code",
   "execution_count": 7,
   "id": "48a6e5a7-10ef-4578-877a-276dd39a8210",
   "metadata": {},
   "outputs": [
    {
     "data": {
      "text/plain": [
       "((3680, 57), (920, 57))"
      ]
     },
     "execution_count": 7,
     "metadata": {},
     "output_type": "execute_result"
    }
   ],
   "source": [
    "X_train.shape , X_test.shape"
   ]
  },
  {
   "cell_type": "code",
   "execution_count": 8,
   "id": "7cd86c2e-729e-4d30-b17c-de61f4f4494c",
   "metadata": {},
   "outputs": [],
   "source": [
    "#BernoulliNB\n",
    "from sklearn.naive_bayes import BernoulliNB\n",
    "classifier = BernoulliNB()"
   ]
  },
  {
   "cell_type": "code",
   "execution_count": 9,
   "id": "12bf22f8-e46c-42bf-b179-93357b77ee75",
   "metadata": {},
   "outputs": [],
   "source": [
    "##Cross validation\n",
    "parameters = {\n",
    "    \"alpha\" : [1.0],\n",
    "    \"force_alpha\" : [False] ,\n",
    "    \"binarize\" : [0],\n",
    "    \"fit_prior\" : [True ],\n",
    "    \"class_prior\" : [None]\n",
    "}"
   ]
  },
  {
   "cell_type": "code",
   "execution_count": 10,
   "id": "fe340011-8898-42f8-8a1a-731f56226fca",
   "metadata": {},
   "outputs": [],
   "source": [
    "from sklearn.model_selection import GridSearchCV\n",
    "clf = GridSearchCV(classifier ,param_grid=parameters,scoring=\"accuracy\" , cv = 10 , verbose= 3)"
   ]
  },
  {
   "cell_type": "code",
   "execution_count": 11,
   "id": "2468db86-89fb-4823-8565-fbf5c5d0ed03",
   "metadata": {},
   "outputs": [
    {
     "name": "stdout",
     "output_type": "stream",
     "text": [
      "Fitting 10 folds for each of 1 candidates, totalling 10 fits\n",
      "[CV 1/10] END alpha=1.0, binarize=0, class_prior=None, fit_prior=True, force_alpha=False;, score=0.883 total time=   0.0s\n",
      "[CV 2/10] END alpha=1.0, binarize=0, class_prior=None, fit_prior=True, force_alpha=False;, score=0.856 total time=   0.0s\n",
      "[CV 3/10] END alpha=1.0, binarize=0, class_prior=None, fit_prior=True, force_alpha=False;, score=0.913 total time=   0.0s\n",
      "[CV 4/10] END alpha=1.0, binarize=0, class_prior=None, fit_prior=True, force_alpha=False;, score=0.870 total time=   0.0s\n",
      "[CV 5/10] END alpha=1.0, binarize=0, class_prior=None, fit_prior=True, force_alpha=False;, score=0.902 total time=   0.0s\n",
      "[CV 6/10] END alpha=1.0, binarize=0, class_prior=None, fit_prior=True, force_alpha=False;, score=0.880 total time=   0.0s\n",
      "[CV 7/10] END alpha=1.0, binarize=0, class_prior=None, fit_prior=True, force_alpha=False;, score=0.897 total time=   0.0s\n",
      "[CV 8/10] END alpha=1.0, binarize=0, class_prior=None, fit_prior=True, force_alpha=False;, score=0.889 total time=   0.0s\n",
      "[CV 9/10] END alpha=1.0, binarize=0, class_prior=None, fit_prior=True, force_alpha=False;, score=0.889 total time=   0.0s\n",
      "[CV 10/10] END alpha=1.0, binarize=0, class_prior=None, fit_prior=True, force_alpha=False;, score=0.913 total time=   0.0s\n"
     ]
    },
    {
     "data": {
      "text/html": [
       "<style>#sk-container-id-1 {color: black;background-color: white;}#sk-container-id-1 pre{padding: 0;}#sk-container-id-1 div.sk-toggleable {background-color: white;}#sk-container-id-1 label.sk-toggleable__label {cursor: pointer;display: block;width: 100%;margin-bottom: 0;padding: 0.3em;box-sizing: border-box;text-align: center;}#sk-container-id-1 label.sk-toggleable__label-arrow:before {content: \"▸\";float: left;margin-right: 0.25em;color: #696969;}#sk-container-id-1 label.sk-toggleable__label-arrow:hover:before {color: black;}#sk-container-id-1 div.sk-estimator:hover label.sk-toggleable__label-arrow:before {color: black;}#sk-container-id-1 div.sk-toggleable__content {max-height: 0;max-width: 0;overflow: hidden;text-align: left;background-color: #f0f8ff;}#sk-container-id-1 div.sk-toggleable__content pre {margin: 0.2em;color: black;border-radius: 0.25em;background-color: #f0f8ff;}#sk-container-id-1 input.sk-toggleable__control:checked~div.sk-toggleable__content {max-height: 200px;max-width: 100%;overflow: auto;}#sk-container-id-1 input.sk-toggleable__control:checked~label.sk-toggleable__label-arrow:before {content: \"▾\";}#sk-container-id-1 div.sk-estimator input.sk-toggleable__control:checked~label.sk-toggleable__label {background-color: #d4ebff;}#sk-container-id-1 div.sk-label input.sk-toggleable__control:checked~label.sk-toggleable__label {background-color: #d4ebff;}#sk-container-id-1 input.sk-hidden--visually {border: 0;clip: rect(1px 1px 1px 1px);clip: rect(1px, 1px, 1px, 1px);height: 1px;margin: -1px;overflow: hidden;padding: 0;position: absolute;width: 1px;}#sk-container-id-1 div.sk-estimator {font-family: monospace;background-color: #f0f8ff;border: 1px dotted black;border-radius: 0.25em;box-sizing: border-box;margin-bottom: 0.5em;}#sk-container-id-1 div.sk-estimator:hover {background-color: #d4ebff;}#sk-container-id-1 div.sk-parallel-item::after {content: \"\";width: 100%;border-bottom: 1px solid gray;flex-grow: 1;}#sk-container-id-1 div.sk-label:hover label.sk-toggleable__label {background-color: #d4ebff;}#sk-container-id-1 div.sk-serial::before {content: \"\";position: absolute;border-left: 1px solid gray;box-sizing: border-box;top: 0;bottom: 0;left: 50%;z-index: 0;}#sk-container-id-1 div.sk-serial {display: flex;flex-direction: column;align-items: center;background-color: white;padding-right: 0.2em;padding-left: 0.2em;position: relative;}#sk-container-id-1 div.sk-item {position: relative;z-index: 1;}#sk-container-id-1 div.sk-parallel {display: flex;align-items: stretch;justify-content: center;background-color: white;position: relative;}#sk-container-id-1 div.sk-item::before, #sk-container-id-1 div.sk-parallel-item::before {content: \"\";position: absolute;border-left: 1px solid gray;box-sizing: border-box;top: 0;bottom: 0;left: 50%;z-index: -1;}#sk-container-id-1 div.sk-parallel-item {display: flex;flex-direction: column;z-index: 1;position: relative;background-color: white;}#sk-container-id-1 div.sk-parallel-item:first-child::after {align-self: flex-end;width: 50%;}#sk-container-id-1 div.sk-parallel-item:last-child::after {align-self: flex-start;width: 50%;}#sk-container-id-1 div.sk-parallel-item:only-child::after {width: 0;}#sk-container-id-1 div.sk-dashed-wrapped {border: 1px dashed gray;margin: 0 0.4em 0.5em 0.4em;box-sizing: border-box;padding-bottom: 0.4em;background-color: white;}#sk-container-id-1 div.sk-label label {font-family: monospace;font-weight: bold;display: inline-block;line-height: 1.2em;}#sk-container-id-1 div.sk-label-container {text-align: center;}#sk-container-id-1 div.sk-container {/* jupyter's `normalize.less` sets `[hidden] { display: none; }` but bootstrap.min.css set `[hidden] { display: none !important; }` so we also need the `!important` here to be able to override the default hidden behavior on the sphinx rendered scikit-learn.org. See: https://github.com/scikit-learn/scikit-learn/issues/21755 */display: inline-block !important;position: relative;}#sk-container-id-1 div.sk-text-repr-fallback {display: none;}</style><div id=\"sk-container-id-1\" class=\"sk-top-container\"><div class=\"sk-text-repr-fallback\"><pre>GridSearchCV(cv=10, estimator=BernoulliNB(),\n",
       "             param_grid={&#x27;alpha&#x27;: [1.0], &#x27;binarize&#x27;: [0], &#x27;class_prior&#x27;: [None],\n",
       "                         &#x27;fit_prior&#x27;: [True], &#x27;force_alpha&#x27;: [False]},\n",
       "             scoring=&#x27;accuracy&#x27;, verbose=3)</pre><b>In a Jupyter environment, please rerun this cell to show the HTML representation or trust the notebook. <br />On GitHub, the HTML representation is unable to render, please try loading this page with nbviewer.org.</b></div><div class=\"sk-container\" hidden><div class=\"sk-item sk-dashed-wrapped\"><div class=\"sk-label-container\"><div class=\"sk-label sk-toggleable\"><input class=\"sk-toggleable__control sk-hidden--visually\" id=\"sk-estimator-id-1\" type=\"checkbox\" ><label for=\"sk-estimator-id-1\" class=\"sk-toggleable__label sk-toggleable__label-arrow\">GridSearchCV</label><div class=\"sk-toggleable__content\"><pre>GridSearchCV(cv=10, estimator=BernoulliNB(),\n",
       "             param_grid={&#x27;alpha&#x27;: [1.0], &#x27;binarize&#x27;: [0], &#x27;class_prior&#x27;: [None],\n",
       "                         &#x27;fit_prior&#x27;: [True], &#x27;force_alpha&#x27;: [False]},\n",
       "             scoring=&#x27;accuracy&#x27;, verbose=3)</pre></div></div></div><div class=\"sk-parallel\"><div class=\"sk-parallel-item\"><div class=\"sk-item\"><div class=\"sk-label-container\"><div class=\"sk-label sk-toggleable\"><input class=\"sk-toggleable__control sk-hidden--visually\" id=\"sk-estimator-id-2\" type=\"checkbox\" ><label for=\"sk-estimator-id-2\" class=\"sk-toggleable__label sk-toggleable__label-arrow\">estimator: BernoulliNB</label><div class=\"sk-toggleable__content\"><pre>BernoulliNB()</pre></div></div></div><div class=\"sk-serial\"><div class=\"sk-item\"><div class=\"sk-estimator sk-toggleable\"><input class=\"sk-toggleable__control sk-hidden--visually\" id=\"sk-estimator-id-3\" type=\"checkbox\" ><label for=\"sk-estimator-id-3\" class=\"sk-toggleable__label sk-toggleable__label-arrow\">BernoulliNB</label><div class=\"sk-toggleable__content\"><pre>BernoulliNB()</pre></div></div></div></div></div></div></div></div></div></div>"
      ],
      "text/plain": [
       "GridSearchCV(cv=10, estimator=BernoulliNB(),\n",
       "             param_grid={'alpha': [1.0], 'binarize': [0], 'class_prior': [None],\n",
       "                         'fit_prior': [True], 'force_alpha': [False]},\n",
       "             scoring='accuracy', verbose=3)"
      ]
     },
     "execution_count": 11,
     "metadata": {},
     "output_type": "execute_result"
    }
   ],
   "source": [
    "clf.fit(X_train,y_train)"
   ]
  },
  {
   "cell_type": "code",
   "execution_count": 12,
   "id": "02c4c47c-106a-423e-a906-f319cbf72019",
   "metadata": {},
   "outputs": [
    {
     "name": "stdout",
     "output_type": "stream",
     "text": [
      "Fitting 10 folds for each of 1 candidates, totalling 10 fits\n",
      "[CV 1/10] END alpha=1.0, binarize=0, class_prior=None, fit_prior=True, force_alpha=False;, score=0.883 total time=   0.0s\n",
      "[CV 2/10] END alpha=1.0, binarize=0, class_prior=None, fit_prior=True, force_alpha=False;, score=0.856 total time=   0.0s\n",
      "[CV 3/10] END alpha=1.0, binarize=0, class_prior=None, fit_prior=True, force_alpha=False;, score=0.913 total time=   0.0s\n",
      "[CV 4/10] END alpha=1.0, binarize=0, class_prior=None, fit_prior=True, force_alpha=False;, score=0.870 total time=   0.0s\n",
      "[CV 5/10] END alpha=1.0, binarize=0, class_prior=None, fit_prior=True, force_alpha=False;, score=0.902 total time=   0.0s\n",
      "[CV 6/10] END alpha=1.0, binarize=0, class_prior=None, fit_prior=True, force_alpha=False;, score=0.880 total time=   0.0s\n",
      "[CV 7/10] END alpha=1.0, binarize=0, class_prior=None, fit_prior=True, force_alpha=False;, score=0.897 total time=   0.0s\n",
      "[CV 8/10] END alpha=1.0, binarize=0, class_prior=None, fit_prior=True, force_alpha=False;, score=0.889 total time=   0.0s\n",
      "[CV 9/10] END alpha=1.0, binarize=0, class_prior=None, fit_prior=True, force_alpha=False;, score=0.889 total time=   0.0s\n",
      "[CV 10/10] END alpha=1.0, binarize=0, class_prior=None, fit_prior=True, force_alpha=False;, score=0.913 total time=   0.0s\n"
     ]
    },
    {
     "data": {
      "text/html": [
       "<style>#sk-container-id-2 {color: black;background-color: white;}#sk-container-id-2 pre{padding: 0;}#sk-container-id-2 div.sk-toggleable {background-color: white;}#sk-container-id-2 label.sk-toggleable__label {cursor: pointer;display: block;width: 100%;margin-bottom: 0;padding: 0.3em;box-sizing: border-box;text-align: center;}#sk-container-id-2 label.sk-toggleable__label-arrow:before {content: \"▸\";float: left;margin-right: 0.25em;color: #696969;}#sk-container-id-2 label.sk-toggleable__label-arrow:hover:before {color: black;}#sk-container-id-2 div.sk-estimator:hover label.sk-toggleable__label-arrow:before {color: black;}#sk-container-id-2 div.sk-toggleable__content {max-height: 0;max-width: 0;overflow: hidden;text-align: left;background-color: #f0f8ff;}#sk-container-id-2 div.sk-toggleable__content pre {margin: 0.2em;color: black;border-radius: 0.25em;background-color: #f0f8ff;}#sk-container-id-2 input.sk-toggleable__control:checked~div.sk-toggleable__content {max-height: 200px;max-width: 100%;overflow: auto;}#sk-container-id-2 input.sk-toggleable__control:checked~label.sk-toggleable__label-arrow:before {content: \"▾\";}#sk-container-id-2 div.sk-estimator input.sk-toggleable__control:checked~label.sk-toggleable__label {background-color: #d4ebff;}#sk-container-id-2 div.sk-label input.sk-toggleable__control:checked~label.sk-toggleable__label {background-color: #d4ebff;}#sk-container-id-2 input.sk-hidden--visually {border: 0;clip: rect(1px 1px 1px 1px);clip: rect(1px, 1px, 1px, 1px);height: 1px;margin: -1px;overflow: hidden;padding: 0;position: absolute;width: 1px;}#sk-container-id-2 div.sk-estimator {font-family: monospace;background-color: #f0f8ff;border: 1px dotted black;border-radius: 0.25em;box-sizing: border-box;margin-bottom: 0.5em;}#sk-container-id-2 div.sk-estimator:hover {background-color: #d4ebff;}#sk-container-id-2 div.sk-parallel-item::after {content: \"\";width: 100%;border-bottom: 1px solid gray;flex-grow: 1;}#sk-container-id-2 div.sk-label:hover label.sk-toggleable__label {background-color: #d4ebff;}#sk-container-id-2 div.sk-serial::before {content: \"\";position: absolute;border-left: 1px solid gray;box-sizing: border-box;top: 0;bottom: 0;left: 50%;z-index: 0;}#sk-container-id-2 div.sk-serial {display: flex;flex-direction: column;align-items: center;background-color: white;padding-right: 0.2em;padding-left: 0.2em;position: relative;}#sk-container-id-2 div.sk-item {position: relative;z-index: 1;}#sk-container-id-2 div.sk-parallel {display: flex;align-items: stretch;justify-content: center;background-color: white;position: relative;}#sk-container-id-2 div.sk-item::before, #sk-container-id-2 div.sk-parallel-item::before {content: \"\";position: absolute;border-left: 1px solid gray;box-sizing: border-box;top: 0;bottom: 0;left: 50%;z-index: -1;}#sk-container-id-2 div.sk-parallel-item {display: flex;flex-direction: column;z-index: 1;position: relative;background-color: white;}#sk-container-id-2 div.sk-parallel-item:first-child::after {align-self: flex-end;width: 50%;}#sk-container-id-2 div.sk-parallel-item:last-child::after {align-self: flex-start;width: 50%;}#sk-container-id-2 div.sk-parallel-item:only-child::after {width: 0;}#sk-container-id-2 div.sk-dashed-wrapped {border: 1px dashed gray;margin: 0 0.4em 0.5em 0.4em;box-sizing: border-box;padding-bottom: 0.4em;background-color: white;}#sk-container-id-2 div.sk-label label {font-family: monospace;font-weight: bold;display: inline-block;line-height: 1.2em;}#sk-container-id-2 div.sk-label-container {text-align: center;}#sk-container-id-2 div.sk-container {/* jupyter's `normalize.less` sets `[hidden] { display: none; }` but bootstrap.min.css set `[hidden] { display: none !important; }` so we also need the `!important` here to be able to override the default hidden behavior on the sphinx rendered scikit-learn.org. See: https://github.com/scikit-learn/scikit-learn/issues/21755 */display: inline-block !important;position: relative;}#sk-container-id-2 div.sk-text-repr-fallback {display: none;}</style><div id=\"sk-container-id-2\" class=\"sk-top-container\"><div class=\"sk-text-repr-fallback\"><pre>GridSearchCV(cv=10, estimator=BernoulliNB(),\n",
       "             param_grid={&#x27;alpha&#x27;: [1.0], &#x27;binarize&#x27;: [0], &#x27;class_prior&#x27;: [None],\n",
       "                         &#x27;fit_prior&#x27;: [True], &#x27;force_alpha&#x27;: [False]},\n",
       "             scoring=&#x27;accuracy&#x27;, verbose=3)</pre><b>In a Jupyter environment, please rerun this cell to show the HTML representation or trust the notebook. <br />On GitHub, the HTML representation is unable to render, please try loading this page with nbviewer.org.</b></div><div class=\"sk-container\" hidden><div class=\"sk-item sk-dashed-wrapped\"><div class=\"sk-label-container\"><div class=\"sk-label sk-toggleable\"><input class=\"sk-toggleable__control sk-hidden--visually\" id=\"sk-estimator-id-4\" type=\"checkbox\" ><label for=\"sk-estimator-id-4\" class=\"sk-toggleable__label sk-toggleable__label-arrow\">GridSearchCV</label><div class=\"sk-toggleable__content\"><pre>GridSearchCV(cv=10, estimator=BernoulliNB(),\n",
       "             param_grid={&#x27;alpha&#x27;: [1.0], &#x27;binarize&#x27;: [0], &#x27;class_prior&#x27;: [None],\n",
       "                         &#x27;fit_prior&#x27;: [True], &#x27;force_alpha&#x27;: [False]},\n",
       "             scoring=&#x27;accuracy&#x27;, verbose=3)</pre></div></div></div><div class=\"sk-parallel\"><div class=\"sk-parallel-item\"><div class=\"sk-item\"><div class=\"sk-label-container\"><div class=\"sk-label sk-toggleable\"><input class=\"sk-toggleable__control sk-hidden--visually\" id=\"sk-estimator-id-5\" type=\"checkbox\" ><label for=\"sk-estimator-id-5\" class=\"sk-toggleable__label sk-toggleable__label-arrow\">estimator: BernoulliNB</label><div class=\"sk-toggleable__content\"><pre>BernoulliNB()</pre></div></div></div><div class=\"sk-serial\"><div class=\"sk-item\"><div class=\"sk-estimator sk-toggleable\"><input class=\"sk-toggleable__control sk-hidden--visually\" id=\"sk-estimator-id-6\" type=\"checkbox\" ><label for=\"sk-estimator-id-6\" class=\"sk-toggleable__label sk-toggleable__label-arrow\">BernoulliNB</label><div class=\"sk-toggleable__content\"><pre>BernoulliNB()</pre></div></div></div></div></div></div></div></div></div></div>"
      ],
      "text/plain": [
       "GridSearchCV(cv=10, estimator=BernoulliNB(),\n",
       "             param_grid={'alpha': [1.0], 'binarize': [0], 'class_prior': [None],\n",
       "                         'fit_prior': [True], 'force_alpha': [False]},\n",
       "             scoring='accuracy', verbose=3)"
      ]
     },
     "execution_count": 12,
     "metadata": {},
     "output_type": "execute_result"
    }
   ],
   "source": [
    "clf.fit(X_train,y_train)"
   ]
  },
  {
   "cell_type": "code",
   "execution_count": 13,
   "id": "cae17bf0-cf46-4c50-844a-8a72d997e648",
   "metadata": {},
   "outputs": [],
   "source": [
    "y_pred_BNB = clf.predict(X_test)"
   ]
  },
  {
   "cell_type": "code",
   "execution_count": 14,
   "id": "74af65eb-5e89-427d-876d-e31f6f78a9cf",
   "metadata": {},
   "outputs": [
    {
     "name": "stdout",
     "output_type": "stream",
     "text": [
      "BernoulliNB classification reprot\n",
      "              precision    recall  f1-score   support\n",
      "\n",
      "           0       0.86      0.93      0.89       530\n",
      "           1       0.89      0.79      0.84       390\n",
      "\n",
      "    accuracy                           0.87       920\n",
      "   macro avg       0.88      0.86      0.87       920\n",
      "weighted avg       0.87      0.87      0.87       920\n",
      "\n"
     ]
    }
   ],
   "source": [
    "from sklearn.metrics import classification_report\n",
    "print(\"BernoulliNB classification reprot\")\n",
    "print(classification_report(y_test , y_pred_BNB))"
   ]
  },
  {
   "cell_type": "code",
   "execution_count": 15,
   "id": "6de6a48a-d087-4f98-9a4c-cb99eda6957c",
   "metadata": {},
   "outputs": [],
   "source": [
    "#Multinomial\n",
    "from sklearn.naive_bayes import MultinomialNB\n",
    "classifier = MultinomialNB()"
   ]
  },
  {
   "cell_type": "code",
   "execution_count": 16,
   "id": "f3ba45d8-d2c0-40da-a833-fa0b9e571f8a",
   "metadata": {},
   "outputs": [],
   "source": [
    "##Cross validation\n",
    "parameters = {\n",
    "    \"alpha\" : [1.0],\n",
    "    \"force_alpha\" : [False],\n",
    "    \"fit_prior\" : [True ],\n",
    "    \"class_prior\" : [None]\n",
    "}"
   ]
  },
  {
   "cell_type": "code",
   "execution_count": 17,
   "id": "6a0af904-44ae-4802-a8cf-8d57fc6c3969",
   "metadata": {},
   "outputs": [],
   "source": [
    "clf = GridSearchCV(classifier ,param_grid=parameters,scoring=\"accuracy\" , cv = 10 , verbose= 3)"
   ]
  },
  {
   "cell_type": "code",
   "execution_count": 18,
   "id": "2349bb84-12b6-4430-9719-b997325b6532",
   "metadata": {},
   "outputs": [
    {
     "name": "stdout",
     "output_type": "stream",
     "text": [
      "Fitting 10 folds for each of 1 candidates, totalling 10 fits\n",
      "[CV 1/10] END alpha=1.0, class_prior=None, fit_prior=True, force_alpha=False;, score=0.777 total time=   0.0s\n",
      "[CV 2/10] END alpha=1.0, class_prior=None, fit_prior=True, force_alpha=False;, score=0.818 total time=   0.0s\n",
      "[CV 3/10] END alpha=1.0, class_prior=None, fit_prior=True, force_alpha=False;, score=0.818 total time=   0.0s\n",
      "[CV 4/10] END alpha=1.0, class_prior=None, fit_prior=True, force_alpha=False;, score=0.802 total time=   0.0s\n",
      "[CV 5/10] END alpha=1.0, class_prior=None, fit_prior=True, force_alpha=False;, score=0.818 total time=   0.0s\n",
      "[CV 6/10] END alpha=1.0, class_prior=None, fit_prior=True, force_alpha=False;, score=0.799 total time=   0.0s\n",
      "[CV 7/10] END alpha=1.0, class_prior=None, fit_prior=True, force_alpha=False;, score=0.818 total time=   0.0s\n",
      "[CV 8/10] END alpha=1.0, class_prior=None, fit_prior=True, force_alpha=False;, score=0.739 total time=   0.0s\n",
      "[CV 9/10] END alpha=1.0, class_prior=None, fit_prior=True, force_alpha=False;, score=0.791 total time=   0.0s\n",
      "[CV 10/10] END alpha=1.0, class_prior=None, fit_prior=True, force_alpha=False;, score=0.774 total time=   0.0s\n"
     ]
    },
    {
     "data": {
      "text/html": [
       "<style>#sk-container-id-3 {color: black;background-color: white;}#sk-container-id-3 pre{padding: 0;}#sk-container-id-3 div.sk-toggleable {background-color: white;}#sk-container-id-3 label.sk-toggleable__label {cursor: pointer;display: block;width: 100%;margin-bottom: 0;padding: 0.3em;box-sizing: border-box;text-align: center;}#sk-container-id-3 label.sk-toggleable__label-arrow:before {content: \"▸\";float: left;margin-right: 0.25em;color: #696969;}#sk-container-id-3 label.sk-toggleable__label-arrow:hover:before {color: black;}#sk-container-id-3 div.sk-estimator:hover label.sk-toggleable__label-arrow:before {color: black;}#sk-container-id-3 div.sk-toggleable__content {max-height: 0;max-width: 0;overflow: hidden;text-align: left;background-color: #f0f8ff;}#sk-container-id-3 div.sk-toggleable__content pre {margin: 0.2em;color: black;border-radius: 0.25em;background-color: #f0f8ff;}#sk-container-id-3 input.sk-toggleable__control:checked~div.sk-toggleable__content {max-height: 200px;max-width: 100%;overflow: auto;}#sk-container-id-3 input.sk-toggleable__control:checked~label.sk-toggleable__label-arrow:before {content: \"▾\";}#sk-container-id-3 div.sk-estimator input.sk-toggleable__control:checked~label.sk-toggleable__label {background-color: #d4ebff;}#sk-container-id-3 div.sk-label input.sk-toggleable__control:checked~label.sk-toggleable__label {background-color: #d4ebff;}#sk-container-id-3 input.sk-hidden--visually {border: 0;clip: rect(1px 1px 1px 1px);clip: rect(1px, 1px, 1px, 1px);height: 1px;margin: -1px;overflow: hidden;padding: 0;position: absolute;width: 1px;}#sk-container-id-3 div.sk-estimator {font-family: monospace;background-color: #f0f8ff;border: 1px dotted black;border-radius: 0.25em;box-sizing: border-box;margin-bottom: 0.5em;}#sk-container-id-3 div.sk-estimator:hover {background-color: #d4ebff;}#sk-container-id-3 div.sk-parallel-item::after {content: \"\";width: 100%;border-bottom: 1px solid gray;flex-grow: 1;}#sk-container-id-3 div.sk-label:hover label.sk-toggleable__label {background-color: #d4ebff;}#sk-container-id-3 div.sk-serial::before {content: \"\";position: absolute;border-left: 1px solid gray;box-sizing: border-box;top: 0;bottom: 0;left: 50%;z-index: 0;}#sk-container-id-3 div.sk-serial {display: flex;flex-direction: column;align-items: center;background-color: white;padding-right: 0.2em;padding-left: 0.2em;position: relative;}#sk-container-id-3 div.sk-item {position: relative;z-index: 1;}#sk-container-id-3 div.sk-parallel {display: flex;align-items: stretch;justify-content: center;background-color: white;position: relative;}#sk-container-id-3 div.sk-item::before, #sk-container-id-3 div.sk-parallel-item::before {content: \"\";position: absolute;border-left: 1px solid gray;box-sizing: border-box;top: 0;bottom: 0;left: 50%;z-index: -1;}#sk-container-id-3 div.sk-parallel-item {display: flex;flex-direction: column;z-index: 1;position: relative;background-color: white;}#sk-container-id-3 div.sk-parallel-item:first-child::after {align-self: flex-end;width: 50%;}#sk-container-id-3 div.sk-parallel-item:last-child::after {align-self: flex-start;width: 50%;}#sk-container-id-3 div.sk-parallel-item:only-child::after {width: 0;}#sk-container-id-3 div.sk-dashed-wrapped {border: 1px dashed gray;margin: 0 0.4em 0.5em 0.4em;box-sizing: border-box;padding-bottom: 0.4em;background-color: white;}#sk-container-id-3 div.sk-label label {font-family: monospace;font-weight: bold;display: inline-block;line-height: 1.2em;}#sk-container-id-3 div.sk-label-container {text-align: center;}#sk-container-id-3 div.sk-container {/* jupyter's `normalize.less` sets `[hidden] { display: none; }` but bootstrap.min.css set `[hidden] { display: none !important; }` so we also need the `!important` here to be able to override the default hidden behavior on the sphinx rendered scikit-learn.org. See: https://github.com/scikit-learn/scikit-learn/issues/21755 */display: inline-block !important;position: relative;}#sk-container-id-3 div.sk-text-repr-fallback {display: none;}</style><div id=\"sk-container-id-3\" class=\"sk-top-container\"><div class=\"sk-text-repr-fallback\"><pre>GridSearchCV(cv=10, estimator=MultinomialNB(),\n",
       "             param_grid={&#x27;alpha&#x27;: [1.0], &#x27;class_prior&#x27;: [None],\n",
       "                         &#x27;fit_prior&#x27;: [True], &#x27;force_alpha&#x27;: [False]},\n",
       "             scoring=&#x27;accuracy&#x27;, verbose=3)</pre><b>In a Jupyter environment, please rerun this cell to show the HTML representation or trust the notebook. <br />On GitHub, the HTML representation is unable to render, please try loading this page with nbviewer.org.</b></div><div class=\"sk-container\" hidden><div class=\"sk-item sk-dashed-wrapped\"><div class=\"sk-label-container\"><div class=\"sk-label sk-toggleable\"><input class=\"sk-toggleable__control sk-hidden--visually\" id=\"sk-estimator-id-7\" type=\"checkbox\" ><label for=\"sk-estimator-id-7\" class=\"sk-toggleable__label sk-toggleable__label-arrow\">GridSearchCV</label><div class=\"sk-toggleable__content\"><pre>GridSearchCV(cv=10, estimator=MultinomialNB(),\n",
       "             param_grid={&#x27;alpha&#x27;: [1.0], &#x27;class_prior&#x27;: [None],\n",
       "                         &#x27;fit_prior&#x27;: [True], &#x27;force_alpha&#x27;: [False]},\n",
       "             scoring=&#x27;accuracy&#x27;, verbose=3)</pre></div></div></div><div class=\"sk-parallel\"><div class=\"sk-parallel-item\"><div class=\"sk-item\"><div class=\"sk-label-container\"><div class=\"sk-label sk-toggleable\"><input class=\"sk-toggleable__control sk-hidden--visually\" id=\"sk-estimator-id-8\" type=\"checkbox\" ><label for=\"sk-estimator-id-8\" class=\"sk-toggleable__label sk-toggleable__label-arrow\">estimator: MultinomialNB</label><div class=\"sk-toggleable__content\"><pre>MultinomialNB()</pre></div></div></div><div class=\"sk-serial\"><div class=\"sk-item\"><div class=\"sk-estimator sk-toggleable\"><input class=\"sk-toggleable__control sk-hidden--visually\" id=\"sk-estimator-id-9\" type=\"checkbox\" ><label for=\"sk-estimator-id-9\" class=\"sk-toggleable__label sk-toggleable__label-arrow\">MultinomialNB</label><div class=\"sk-toggleable__content\"><pre>MultinomialNB()</pre></div></div></div></div></div></div></div></div></div></div>"
      ],
      "text/plain": [
       "GridSearchCV(cv=10, estimator=MultinomialNB(),\n",
       "             param_grid={'alpha': [1.0], 'class_prior': [None],\n",
       "                         'fit_prior': [True], 'force_alpha': [False]},\n",
       "             scoring='accuracy', verbose=3)"
      ]
     },
     "execution_count": 18,
     "metadata": {},
     "output_type": "execute_result"
    }
   ],
   "source": [
    "clf.fit(X_train,y_train)"
   ]
  },
  {
   "cell_type": "code",
   "execution_count": 19,
   "id": "bb6b4d6f-d3a3-4d79-a5bc-0885df27fc84",
   "metadata": {},
   "outputs": [],
   "source": [
    "y_pred_MNB = clf.predict(X_test)"
   ]
  },
  {
   "cell_type": "code",
   "execution_count": 20,
   "id": "c3bd96b6-151b-4f51-9fd1-8e734328983e",
   "metadata": {},
   "outputs": [
    {
     "name": "stdout",
     "output_type": "stream",
     "text": [
      "Multinomial classification reprot\n",
      "              precision    recall  f1-score   support\n",
      "\n",
      "           0       0.78      0.83      0.80       530\n",
      "           1       0.75      0.68      0.71       390\n",
      "\n",
      "    accuracy                           0.77       920\n",
      "   macro avg       0.76      0.76      0.76       920\n",
      "weighted avg       0.77      0.77      0.76       920\n",
      "\n"
     ]
    }
   ],
   "source": [
    "print(\"Multinomial classification reprot\")\n",
    "print(classification_report(y_test , y_pred_MNB))"
   ]
  },
  {
   "cell_type": "code",
   "execution_count": 21,
   "id": "b75d4c82-4dbe-4c2c-bc91-973445922c09",
   "metadata": {},
   "outputs": [],
   "source": [
    "#Gaussian NB\n",
    "from sklearn.naive_bayes import GaussianNB\n",
    "classifier = GaussianNB()"
   ]
  },
  {
   "cell_type": "code",
   "execution_count": 22,
   "id": "5968a2e7-f6f3-4eee-aa01-7610fbb19c62",
   "metadata": {},
   "outputs": [],
   "source": [
    "##Cross validation\n",
    "parameters = {\n",
    "    \"priors\" : [None],\n",
    "    \"var_smoothing\" :[np.e**(-9)]\n",
    "}"
   ]
  },
  {
   "cell_type": "code",
   "execution_count": 23,
   "id": "c4267611-b7b2-4e1f-b6d9-2ab7ce270cec",
   "metadata": {},
   "outputs": [],
   "source": [
    "clf = GridSearchCV(classifier ,param_grid=parameters,scoring=\"accuracy\" , cv = 10 , verbose= 3)"
   ]
  },
  {
   "cell_type": "code",
   "execution_count": 24,
   "id": "e7ef3d92-9c35-4595-8758-ee724f8fcc05",
   "metadata": {},
   "outputs": [
    {
     "name": "stdout",
     "output_type": "stream",
     "text": [
      "Fitting 10 folds for each of 1 candidates, totalling 10 fits\n",
      "[CV 1/10] END priors=None, var_smoothing=0.00012340980408667962;, score=0.658 total time=   0.0s\n",
      "[CV 2/10] END priors=None, var_smoothing=0.00012340980408667962;, score=0.666 total time=   0.0s\n",
      "[CV 3/10] END priors=None, var_smoothing=0.00012340980408667962;, score=0.688 total time=   0.0s\n",
      "[CV 4/10] END priors=None, var_smoothing=0.00012340980408667962;, score=0.688 total time=   0.0s\n",
      "[CV 5/10] END priors=None, var_smoothing=0.00012340980408667962;, score=0.668 total time=   0.0s\n",
      "[CV 6/10] END priors=None, var_smoothing=0.00012340980408667962;, score=0.707 total time=   0.0s\n",
      "[CV 7/10] END priors=None, var_smoothing=0.00012340980408667962;, score=0.666 total time=   0.0s\n",
      "[CV 8/10] END priors=None, var_smoothing=0.00012340980408667962;, score=0.663 total time=   0.0s\n",
      "[CV 9/10] END priors=None, var_smoothing=0.00012340980408667962;, score=0.652 total time=   0.0s\n",
      "[CV 10/10] END priors=None, var_smoothing=0.00012340980408667962;, score=0.658 total time=   0.0s\n"
     ]
    },
    {
     "data": {
      "text/html": [
       "<style>#sk-container-id-4 {color: black;background-color: white;}#sk-container-id-4 pre{padding: 0;}#sk-container-id-4 div.sk-toggleable {background-color: white;}#sk-container-id-4 label.sk-toggleable__label {cursor: pointer;display: block;width: 100%;margin-bottom: 0;padding: 0.3em;box-sizing: border-box;text-align: center;}#sk-container-id-4 label.sk-toggleable__label-arrow:before {content: \"▸\";float: left;margin-right: 0.25em;color: #696969;}#sk-container-id-4 label.sk-toggleable__label-arrow:hover:before {color: black;}#sk-container-id-4 div.sk-estimator:hover label.sk-toggleable__label-arrow:before {color: black;}#sk-container-id-4 div.sk-toggleable__content {max-height: 0;max-width: 0;overflow: hidden;text-align: left;background-color: #f0f8ff;}#sk-container-id-4 div.sk-toggleable__content pre {margin: 0.2em;color: black;border-radius: 0.25em;background-color: #f0f8ff;}#sk-container-id-4 input.sk-toggleable__control:checked~div.sk-toggleable__content {max-height: 200px;max-width: 100%;overflow: auto;}#sk-container-id-4 input.sk-toggleable__control:checked~label.sk-toggleable__label-arrow:before {content: \"▾\";}#sk-container-id-4 div.sk-estimator input.sk-toggleable__control:checked~label.sk-toggleable__label {background-color: #d4ebff;}#sk-container-id-4 div.sk-label input.sk-toggleable__control:checked~label.sk-toggleable__label {background-color: #d4ebff;}#sk-container-id-4 input.sk-hidden--visually {border: 0;clip: rect(1px 1px 1px 1px);clip: rect(1px, 1px, 1px, 1px);height: 1px;margin: -1px;overflow: hidden;padding: 0;position: absolute;width: 1px;}#sk-container-id-4 div.sk-estimator {font-family: monospace;background-color: #f0f8ff;border: 1px dotted black;border-radius: 0.25em;box-sizing: border-box;margin-bottom: 0.5em;}#sk-container-id-4 div.sk-estimator:hover {background-color: #d4ebff;}#sk-container-id-4 div.sk-parallel-item::after {content: \"\";width: 100%;border-bottom: 1px solid gray;flex-grow: 1;}#sk-container-id-4 div.sk-label:hover label.sk-toggleable__label {background-color: #d4ebff;}#sk-container-id-4 div.sk-serial::before {content: \"\";position: absolute;border-left: 1px solid gray;box-sizing: border-box;top: 0;bottom: 0;left: 50%;z-index: 0;}#sk-container-id-4 div.sk-serial {display: flex;flex-direction: column;align-items: center;background-color: white;padding-right: 0.2em;padding-left: 0.2em;position: relative;}#sk-container-id-4 div.sk-item {position: relative;z-index: 1;}#sk-container-id-4 div.sk-parallel {display: flex;align-items: stretch;justify-content: center;background-color: white;position: relative;}#sk-container-id-4 div.sk-item::before, #sk-container-id-4 div.sk-parallel-item::before {content: \"\";position: absolute;border-left: 1px solid gray;box-sizing: border-box;top: 0;bottom: 0;left: 50%;z-index: -1;}#sk-container-id-4 div.sk-parallel-item {display: flex;flex-direction: column;z-index: 1;position: relative;background-color: white;}#sk-container-id-4 div.sk-parallel-item:first-child::after {align-self: flex-end;width: 50%;}#sk-container-id-4 div.sk-parallel-item:last-child::after {align-self: flex-start;width: 50%;}#sk-container-id-4 div.sk-parallel-item:only-child::after {width: 0;}#sk-container-id-4 div.sk-dashed-wrapped {border: 1px dashed gray;margin: 0 0.4em 0.5em 0.4em;box-sizing: border-box;padding-bottom: 0.4em;background-color: white;}#sk-container-id-4 div.sk-label label {font-family: monospace;font-weight: bold;display: inline-block;line-height: 1.2em;}#sk-container-id-4 div.sk-label-container {text-align: center;}#sk-container-id-4 div.sk-container {/* jupyter's `normalize.less` sets `[hidden] { display: none; }` but bootstrap.min.css set `[hidden] { display: none !important; }` so we also need the `!important` here to be able to override the default hidden behavior on the sphinx rendered scikit-learn.org. See: https://github.com/scikit-learn/scikit-learn/issues/21755 */display: inline-block !important;position: relative;}#sk-container-id-4 div.sk-text-repr-fallback {display: none;}</style><div id=\"sk-container-id-4\" class=\"sk-top-container\"><div class=\"sk-text-repr-fallback\"><pre>GridSearchCV(cv=10, estimator=GaussianNB(),\n",
       "             param_grid={&#x27;priors&#x27;: [None],\n",
       "                         &#x27;var_smoothing&#x27;: [0.00012340980408667962]},\n",
       "             scoring=&#x27;accuracy&#x27;, verbose=3)</pre><b>In a Jupyter environment, please rerun this cell to show the HTML representation or trust the notebook. <br />On GitHub, the HTML representation is unable to render, please try loading this page with nbviewer.org.</b></div><div class=\"sk-container\" hidden><div class=\"sk-item sk-dashed-wrapped\"><div class=\"sk-label-container\"><div class=\"sk-label sk-toggleable\"><input class=\"sk-toggleable__control sk-hidden--visually\" id=\"sk-estimator-id-10\" type=\"checkbox\" ><label for=\"sk-estimator-id-10\" class=\"sk-toggleable__label sk-toggleable__label-arrow\">GridSearchCV</label><div class=\"sk-toggleable__content\"><pre>GridSearchCV(cv=10, estimator=GaussianNB(),\n",
       "             param_grid={&#x27;priors&#x27;: [None],\n",
       "                         &#x27;var_smoothing&#x27;: [0.00012340980408667962]},\n",
       "             scoring=&#x27;accuracy&#x27;, verbose=3)</pre></div></div></div><div class=\"sk-parallel\"><div class=\"sk-parallel-item\"><div class=\"sk-item\"><div class=\"sk-label-container\"><div class=\"sk-label sk-toggleable\"><input class=\"sk-toggleable__control sk-hidden--visually\" id=\"sk-estimator-id-11\" type=\"checkbox\" ><label for=\"sk-estimator-id-11\" class=\"sk-toggleable__label sk-toggleable__label-arrow\">estimator: GaussianNB</label><div class=\"sk-toggleable__content\"><pre>GaussianNB()</pre></div></div></div><div class=\"sk-serial\"><div class=\"sk-item\"><div class=\"sk-estimator sk-toggleable\"><input class=\"sk-toggleable__control sk-hidden--visually\" id=\"sk-estimator-id-12\" type=\"checkbox\" ><label for=\"sk-estimator-id-12\" class=\"sk-toggleable__label sk-toggleable__label-arrow\">GaussianNB</label><div class=\"sk-toggleable__content\"><pre>GaussianNB()</pre></div></div></div></div></div></div></div></div></div></div>"
      ],
      "text/plain": [
       "GridSearchCV(cv=10, estimator=GaussianNB(),\n",
       "             param_grid={'priors': [None],\n",
       "                         'var_smoothing': [0.00012340980408667962]},\n",
       "             scoring='accuracy', verbose=3)"
      ]
     },
     "execution_count": 24,
     "metadata": {},
     "output_type": "execute_result"
    }
   ],
   "source": [
    "clf.fit(X_train,y_train)"
   ]
  },
  {
   "cell_type": "code",
   "execution_count": 25,
   "id": "a529fd41-0df5-4590-8004-8e0bdd522580",
   "metadata": {},
   "outputs": [],
   "source": [
    "y_pred_GNB = clf.predict(X_test)"
   ]
  },
  {
   "cell_type": "code",
   "execution_count": 26,
   "id": "677797c7-c693-41e5-b8f3-613741e26fbe",
   "metadata": {},
   "outputs": [
    {
     "name": "stdout",
     "output_type": "stream",
     "text": [
      "GaussianNB classification reprot\n",
      "              precision    recall  f1-score   support\n",
      "\n",
      "           0       0.78      0.83      0.80       530\n",
      "           1       0.75      0.68      0.71       390\n",
      "\n",
      "    accuracy                           0.77       920\n",
      "   macro avg       0.76      0.76      0.76       920\n",
      "weighted avg       0.77      0.77      0.76       920\n",
      "\n"
     ]
    }
   ],
   "source": [
    "print(\"GaussianNB classification reprot\")\n",
    "print(classification_report(y_test , y_pred_MNB))"
   ]
  },
  {
   "cell_type": "markdown",
   "id": "85768d3d-da3f-4aaf-8ed7-dc78a9fbd2d7",
   "metadata": {},
   "source": [
    "`Discussion:` The Bernoulli Naive Bayes model had the highest accuracy compared to all and it had the highest precision , recall and f1 scores compared to Multinomial or Gaussian NB classifier. This is because bernoulli NB classifier is good for binary classification problem statement as Bernoulli Naive Bayes is very good if the predictor variable has binary outcomes like whether the outcome is spam (1) or not spam(0). Therefore it has fared better compared to other methods. On the other hand multinomial classfication is more suitable when the predictor variable has mutiple categorical outcomes and Gaussain NB suits data which follows Guassian distribution.\n",
    "\n",
    "While Naive Bayes is a powerful and widely used classification algorithm, it also has some limitations:\n",
    "\n",
    "Strong independence assumption: Naive Bayes assumes that all features are independent, which is often not the case in real-world data. This can lead to suboptimal performance if there are correlations or dependencies between features.\n",
    "\n",
    "Sensitivity to irrelevant features: Naive Bayes can be sensitive to irrelevant features, which can have a negative impact on its performance. This is because the algorithm treats all features equally and assigns equal weight to each feature, regardless of its relevance to the classification task.\n",
    "\n",
    "Limited expressive power: Naive Bayes can only model linear decision boundaries, which can be a limitation when dealing with complex or nonlinear datasets.\n",
    "\n",
    "Limited data: Naive Bayes requires a sufficient amount of data to accurately estimate the class-conditional probabilities. If the amount of training data is limited, the algorithm may suffer from overfitting or underfitting.\n",
    "\n",
    "Handling of continuous data: The standard implementation of Naive Bayes assumes that the input features are categorical or binary. Handling continuous data requires discretization or modeling the features as continuous variables, which can be computationally expensive.\n",
    "\n",
    "Despite these limitations, Naive Bayes remains a popular and effective classification algorithm, particularly for high-dimensional datasets with sparse features. Its simplicity, efficiency, and ease of implementation make it a good choice for many real-world applications."
   ]
  },
  {
   "cell_type": "markdown",
   "id": "6a174147-5da6-4126-b186-3acff9990c51",
   "metadata": {},
   "source": [
    "`Conclusion:`\n",
    "\n",
    "Bernoulli NB had the highest scores interms of all parameters when compared to other methods like polynomial or guassian NB because the target varaible had binary outcomes.\n",
    "Bernoulli NB assumes that the features are categorical / binary in nature therefore applying it to continous data may not yield best results.\n",
    "Since the dataset has limited number of observations the bernoulli Nb does not attain very high accuracy scores and more data may be required to develop better models\n",
    "The model was trained with default parameters therefore to improve accuracy we can try out different parameters for our models during cross valdation\n",
    "Logistic regression is very good in situations where features are continous in nature and outcome is binary and this can be tested out in future\n",
    "Randome forest classifier may also be suitable for our problem statement and this can also be tried out in the future\n",
    "\n",
    "Despite these limitations, Naive Bayes remains a popular and effective classification algorithm, particularly for high-dimensional datasets with sparse features. Its simplicity, efficiency, and ease of implementation make it a good choice for many real-world applications."
   ]
  },
  {
   "cell_type": "code",
   "execution_count": null,
   "id": "baf0a451-c530-4d59-928b-a1b6a9e815ae",
   "metadata": {},
   "outputs": [],
   "source": []
  }
 ],
 "metadata": {
  "kernelspec": {
   "display_name": "Python 3 (ipykernel)",
   "language": "python",
   "name": "python3"
  },
  "language_info": {
   "codemirror_mode": {
    "name": "ipython",
    "version": 3
   },
   "file_extension": ".py",
   "mimetype": "text/x-python",
   "name": "python",
   "nbconvert_exporter": "python",
   "pygments_lexer": "ipython3",
   "version": "3.10.8"
  }
 },
 "nbformat": 4,
 "nbformat_minor": 5
}
